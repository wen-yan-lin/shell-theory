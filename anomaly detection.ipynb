{
 "cells": [
  {
   "cell_type": "code",
   "execution_count": 6,
   "metadata": {},
   "outputs": [
    {
     "name": "stdout",
     "output_type": "stream",
     "text": [
      "Outlier percentage: 0.5\n",
      "Data-set: STL-10\n",
      "\n",
      "Shell Basic, normalized with Flickr11k mean\n",
      "auroc: 0.9781386514719849\n",
      "\n",
      "Shell Re-normalized, initialized with Flickr11k mean\n",
      "auroc: 0.9927433523266856\n",
      "\n",
      "Re-normalization refines the global-mean used for normalization.\n"
     ]
    }
   ],
   "source": [
    "! python3 shell_code_release/shell_anomaly.py"
   ]
  },
  {
   "cell_type": "code",
   "execution_count": 5,
   "metadata": {},
   "outputs": [
    {
     "name": "stdout",
     "output_type": "stream",
     "text": [
      "2021-06-03 14:06:01.094542: I tensorflow/stream_executor/platform/default/dso_loader.cc:48] Successfully opened dynamic library libcudart.so.10.1\n",
      "outlier percentage: 0.5\n",
      "Data-set: STL-10\n",
      "\n",
      "OCSVM, normalized with Flickr11k\n",
      "auroc:  0.8807431149097815\n"
     ]
    }
   ],
   "source": [
    "! python3 shell_code_release/ocsvm_anomaly.py"
   ]
  }
 ],
 "metadata": {
  "kernelspec": {
   "display_name": "Python 3",
   "language": "python",
   "name": "python3"
  },
  "language_info": {
   "codemirror_mode": {
    "name": "ipython",
    "version": 3
   },
   "file_extension": ".py",
   "mimetype": "text/x-python",
   "name": "python",
   "nbconvert_exporter": "python",
   "pygments_lexer": "ipython3",
   "version": "3.8.5"
  }
 },
 "nbformat": 4,
 "nbformat_minor": 4
}
