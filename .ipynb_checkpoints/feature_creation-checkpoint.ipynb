{
 "cells": [
  {
   "cell_type": "code",
   "execution_count": 5,
   "metadata": {},
   "outputs": [],
   "source": [
    "import numpy as np\n",
    "import sys\n",
    "\n",
    "sys.path.append('shell_code_release/')\n",
    "from dirUtil import dir2feat    \n",
    "from dataLoader import trainTestSplit_multiClass, unstackFeat   \n",
    "from shell_one_class import evalOneClassShell   \n"
   ]
  },
  {
   "cell_type": "code",
   "execution_count": null,
   "metadata": {},
   "outputs": [
    {
     "name": "stdout",
     "output_type": "stream",
     "text": [
      "Processing: images/STL-10/0\n",
      "Processing: images/STL-10/1\n",
      "Processing: images/STL-10/2\n"
     ]
    }
   ],
   "source": [
    "\n",
    "# note: feature creation is slow because it assumes use of cpu; \n",
    "# for faster feature creation, use gpu batches\n",
    "dir = 'images/STL-10/'\n",
    "featType = 'resNet50'\n",
    "feat, gt = dir2feat(dir, featType=featType)"
   ]
  },
  {
   "cell_type": "code",
   "execution_count": null,
   "metadata": {},
   "outputs": [],
   "source": [
    "\n",
    "trainFeat_, testFeat, testGt = trainTestSplit_multiClass(feat, gt, 500)\n",
    "trainFeat, trainGt = unstackFeat(trainFeat_)\n"
   ]
  },
  {
   "cell_type": "code",
   "execution_count": null,
   "metadata": {},
   "outputs": [],
   "source": [
    "\n",
    "mVec = np.mean(testFeat, axis=0, keepdims=True) # estimate mean of test features\n",
    "\n",
    "evalOneClassShell(testFeat, testGt, trainFeat, trainGt, verboise=True, \n",
    "                    withShellNorm=True, norm_vec=mVec);\n"
   ]
  },
  {
   "cell_type": "code",
   "execution_count": null,
   "metadata": {},
   "outputs": [],
   "source": []
  }
 ],
 "metadata": {
  "kernelspec": {
   "display_name": "Python 3",
   "language": "python",
   "name": "python3"
  },
  "language_info": {
   "codemirror_mode": {
    "name": "ipython",
    "version": 3
   },
   "file_extension": ".py",
   "mimetype": "text/x-python",
   "name": "python",
   "nbconvert_exporter": "python",
   "pygments_lexer": "ipython3",
   "version": "3.8.5"
  }
 },
 "nbformat": 4,
 "nbformat_minor": 4
}
