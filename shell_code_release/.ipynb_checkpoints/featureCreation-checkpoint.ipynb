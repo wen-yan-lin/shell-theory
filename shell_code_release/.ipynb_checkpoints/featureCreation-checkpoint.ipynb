{
 "cells": [
  {
   "cell_type": "code",
   "execution_count": 2,
   "metadata": {},
   "outputs": [
    {
     "name": "stdout",
     "output_type": "stream",
     "text": [
      "Processing: ../people/child boy\n",
      "Downloading data from https://github.com/keras-team/keras-applications/releases/download/resnet/resnet50_weights_tf_dim_ordering_tf_kernels_notop.h5\n",
      "94773248/94765736 [==============================] - 24s 0us/step\n",
      "../people/child boy/329.Thumbnail-Last-Minute-Tips-for-PSLE.jpg is not an image. Skip.\n",
      "Processing: ../people/child girl\n",
      "../people/child girl/117.7030420-mood-girl-child-smile-wreath-flowers.jpg is not an image. Skip.\n",
      "../people/child girl/38.6958174-girl-child-autumn.jpg is not an image. Skip.\n",
      "../people/child girl/4.4e8a9e4eaead.jpg is not an image. Skip.\n",
      "Processing: ../people/man african\n",
      "../people/man african/123.Originals-keyteaser.jpg is not an image. Skip.\n"
     ]
    },
    {
     "name": "stderr",
     "output_type": "stream",
     "text": [
      "/usr/local/lib/python3.6/dist-packages/PIL/Image.py:960: UserWarning: Palette images with Transparency expressed in bytes should be converted to RGBA images\n",
      "  \"Palette images with Transparency expressed in bytes should be \"\n"
     ]
    },
    {
     "name": "stdout",
     "output_type": "stream",
     "text": [
      "Processing: ../people/man asian\n",
      "Processing: ../people/man european\n",
      "../people/man european/607.508x344_cmsv2_bf124c39-3c00-57db-b2ff-5bd2585beaa9-4226976.jpg is not an image. Skip.\n",
      "Processing: ../people/people dancing\n",
      "Processing: ../people/people reading\n",
      "../people/people reading/573.1280715.png is not an image. Skip.\n",
      "Processing: ../people/people running\n",
      "Processing: ../people/people singing\n",
      "../people/people singing/345.762461.png is not an image. Skip.\n",
      "Processing: ../people/people sleeping\n",
      "Processing: ../people/people standing\n",
      "../people/people standing/155.1146521.jpg is not an image. Skip.\n",
      "Processing: ../people/people talking\n",
      "../people/people talking/193.24031-two-people-talking-about-business-at-the-office.jpg is not an image. Skip.\n",
      "../people/people talking/418.people-talking-bubbles.jpg is not an image. Skip.\n",
      "Processing: ../people/woman african\n",
      "../people/woman african/103.martina_big_black_woman_african_hair.jpg is not an image. Skip.\n"
     ]
    },
    {
     "name": "stderr",
     "output_type": "stream",
     "text": [
      "/usr/local/lib/python3.6/dist-packages/PIL/TiffImagePlugin.py:770: UserWarning: Possibly corrupt EXIF data.  Expecting to read 9 bytes but only got 8. Skipping tag 33432\n",
      "  \" Skipping tag %s\" % (size, len(data), tag)\n"
     ]
    },
    {
     "name": "stdout",
     "output_type": "stream",
     "text": [
      "../people/woman african/478.1350078187Rwandan-girls.jpg is not an image. Skip.\n",
      "Processing: ../people/woman asian\n",
      "Processing: ../people/woman european\n",
      "../people/woman european/205.madeleine-mccann-police-eastern-european-woman.jpg is not an image. Skip.\n",
      "../people/woman european/383.Michelle_620x349.jpg is not an image. Skip.\n"
     ]
    }
   ],
   "source": [
    "from dirUtil import folder2feat    \n",
    "from dirUtil import dir2feat    \n",
    "    \n",
    "dir = '../fake-stl10_/'\n",
    "featType = 'resNet50'\n",
    "    \n",
    "feat, gt = dir2feat(dir, featType=featType)\n",
    "\n"
   ]
  },
  {
   "cell_type": "code",
   "execution_count": 3,
   "metadata": {},
   "outputs": [],
   "source": [
    "import numpy as np\n",
    "\n",
    "np.save(dir + featType, feat)\n",
    "np.save(dir + 'gt', gt)\n"
   ]
  },
  {
   "cell_type": "code",
   "execution_count": 3,
   "metadata": {},
   "outputs": [],
   "source": [
    "# import numpy as np\n",
    "np.save('../internetData/human/resNet50', f)\n",
    "\n"
   ]
  },
  {
   "cell_type": "code",
   "execution_count": 2,
   "metadata": {},
   "outputs": [
    {
     "name": "stdout",
     "output_type": "stream",
     "text": [
      "Processing: ../MIT-Places/quickTest/abbey\n",
      "Downloading data from https://github.com/keras-team/keras-applications/releases/download/resnet/resnet50_weights_tf_dim_ordering_tf_kernels_notop.h5\n",
      "94773248/94765736 [==============================] - 21s 0us/step\n",
      "Processing: ../MIT-Places/quickTest/airport\n",
      "Processing: ../MIT-Places/quickTest/alley\n",
      "Processing: ../MIT-Places/quickTest/ammusement_park\n",
      "Processing: ../MIT-Places/quickTest/aquariam\n",
      "Processing: ../MIT-Places/quickTest/arch\n"
     ]
    }
   ],
   "source": [
    "from dirUtil import dir2feat    \n",
    "\n",
    "dir = '../MIT-Places/quickTest/'\n",
    "\n",
    "feat, gt = dir2feat(dir)"
   ]
  },
  {
   "cell_type": "code",
   "execution_count": 4,
   "metadata": {},
   "outputs": [],
   "source": [
    "import numpy as np \n",
    "\n",
    "np.save(dir + 'resNet50', feat)\n",
    "np.save(dir + 'gt', gt)\n"
   ]
  },
  {
   "cell_type": "code",
   "execution_count": 10,
   "metadata": {},
   "outputs": [
    {
     "name": "stdout",
     "output_type": "stream",
     "text": [
      "(11282, 2048)\n"
     ]
    }
   ],
   "source": [
    "import numpy as np\n",
    "from shellUtil import normIt\n",
    "feat = np.load(\"../Flickr11K/resNet50.npy\")\n",
    "feat = np.squeeze(feat)\n",
    "_, m = normIt(feat)\n",
    "np.save(\"../Flickr11K/mean.npy\", m)"
   ]
  }
 ],
 "metadata": {
  "kernelspec": {
   "display_name": "Python 3",
   "language": "python",
   "name": "python3"
  },
  "language_info": {
   "codemirror_mode": {
    "name": "ipython",
    "version": 3
   },
   "file_extension": ".py",
   "mimetype": "text/x-python",
   "name": "python",
   "nbconvert_exporter": "python",
   "pygments_lexer": "ipython3",
   "version": "3.6.9"
  }
 },
 "nbformat": 4,
 "nbformat_minor": 4
}
