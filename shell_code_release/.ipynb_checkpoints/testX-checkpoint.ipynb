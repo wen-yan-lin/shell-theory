{
 "cells": [
  {
   "cell_type": "code",
   "execution_count": 1,
   "metadata": {},
   "outputs": [],
   "source": [
    "from dataLoader import importData\n",
    "import numpy as np"
   ]
  },
  {
   "cell_type": "code",
   "execution_count": 3,
   "metadata": {},
   "outputs": [
    {
     "name": "stdout",
     "output_type": "stream",
     "text": [
      "The autoreload extension is already loaded. To reload it, use:\n",
      "  %reload_ext autoreload\n"
     ]
    }
   ],
   "source": [
    "%load_ext autoreload\n",
    "%autoreload\n",
    "\n",
    "\n",
    "trainFeat, trainGt, testFeat, testGt, _ = importData(4)"
   ]
  },
  {
   "cell_type": "code",
   "execution_count": 4,
   "metadata": {},
   "outputs": [],
   "source": [
    "from sklearn.svm import OneClassSVM\n",
    "from shellUtil import normIt\n",
    "normalization = 0\n",
    "if normalization == 0:\n",
    "    trainFeat, m = normIt(trainFeat)\n",
    "    testFeat,_  = normIt(testFeat, m)\n",
    "elif normalization == 1:\n",
    "    trainFeat = trainFeat/np.linalg.norm(trainFeat, axis=1, keepdims=True)\n",
    "    testFeat = testFeat/np.linalg.norm(testFeat, axis=1, keepdims=True)\n",
    "elif normalization == 2:\n",
    "    print('raw features, do nothing')\n"
   ]
  },
  {
   "cell_type": "code",
   "execution_count": 26,
   "metadata": {},
   "outputs": [
    {
     "name": "stdout",
     "output_type": "stream",
     "text": [
      "The autoreload extension is already loaded. To reload it, use:\n",
      "  %reload_ext autoreload\n",
      "Train Time:  0.02647801450075349\n",
      "Test Time:  0.06258386649278691\n",
      "Mean: 0.9852\n",
      "MAP: 0.9994536595362165\n",
      "AUROC: 0.99862248\n",
      "ROC: [0.99847632 0.99876864]\n",
      "TopX: [1000. 1000.]\n"
     ]
    }
   ],
   "source": [
    "%load_ext autoreload\n",
    "%autoreload\n",
    "\n",
    "import random\n",
    "from stackedOneClassMean import evalOneClassMean_listOut\n",
    "mask = np.zeros(trainGt.size, dtype=bool)\n",
    "ind = random.sample(list(range(mask.size)), 10000)    \n",
    "mask[ind] = 1\n",
    "#mask[:] = 1\n",
    "evalOneClassMean_listOut(testFeat, testGt, trainFeat[mask], trainGt[mask], verboise=True);\n"
   ]
  },
  {
   "cell_type": "code",
   "execution_count": 53,
   "metadata": {},
   "outputs": [
    {
     "name": "stdout",
     "output_type": "stream",
     "text": [
      "Train Time:  0.00043156000901944935\n",
      "Test Time:  0.06187066149141174\n",
      "Mean: 0.9818\n",
      "MAP: 0.9994944007029991\n",
      "AUROC: 0.99876312\n",
      "ROC: [0.99896128 0.99856496]\n",
      "TopX: [1000. 1000.]\n",
      "Train Time:  0.005011114000808448\n",
      "Test Time:  0.055703288002405316\n",
      "Mean: 0.9848\n",
      "MAP: 0.9994432247228416\n",
      "AUROC: 0.9985696\n",
      "ROC: [0.99839536 0.99874384]\n",
      "TopX: [1000. 1000.]\n",
      "Train Time:  0.011514422498294152\n",
      "Test Time:  0.07181994199345354\n",
      "Mean: 0.9846\n",
      "MAP: 0.9994904567374996\n",
      "AUROC: 0.9986240000000001\n",
      "ROC: [0.99842256 0.99882544]\n",
      "TopX: [1000. 1000.]\n",
      "Train Time:  0.01500257701263763\n",
      "Test Time:  0.05826946049637627\n",
      "Mean: 0.9846\n",
      "MAP: 0.9994993571923099\n",
      "AUROC: 0.998652\n",
      "ROC: [0.9985016 0.9988024]\n",
      "TopX: [1000. 1000.]\n",
      "Train Time:  0.02010587749828119\n",
      "Test Time:  0.056482260013581254\n",
      "Mean: 0.985\n",
      "MAP: 0.9994613814090532\n",
      "AUROC: 0.99863832\n",
      "ROC: [0.9984568  0.99881984]\n",
      "TopX: [1000. 1000.]\n",
      "Train Time:  0.027172711997991428\n",
      "Test Time:  0.06939655549649615\n",
      "Mean: 0.985\n",
      "MAP: 0.9994633608393463\n",
      "AUROC: 0.99860536\n",
      "ROC: [0.99844288 0.99876784]\n",
      "TopX: [1000. 1000.]\n",
      "Train Time:  0.031820552991121076\n",
      "Test Time:  0.06976152598508634\n",
      "Mean: 0.9844\n",
      "MAP: 0.9994524026364913\n",
      "AUROC: 0.99860912\n",
      "ROC: [0.99846704 0.9987512 ]\n",
      "TopX: [1000. 1000.]\n",
      "Train Time:  0.038733901499654166\n",
      "Test Time:  0.06810438352113124\n",
      "Mean: 0.9848\n",
      "MAP: 0.9994629575090658\n",
      "AUROC: 0.99860944\n",
      "ROC: [0.99843552 0.99878336]\n",
      "TopX: [1000. 1000.]\n",
      "Train Time:  0.04442890400241595\n",
      "Test Time:  0.06694572400010657\n",
      "Mean: 0.9848\n",
      "MAP: 0.9994564999781508\n",
      "AUROC: 0.9986052000000001\n",
      "ROC: [0.99844704 0.99876336]\n",
      "TopX: [1000. 1000.]\n",
      "Train Time:  0.04912044199591037\n",
      "Test Time:  0.06518396650790237\n",
      "Mean: 0.9848\n",
      "MAP: 0.999468752711723\n",
      "AUROC: 0.9986268\n",
      "ROC: [0.99845952 0.99879408]\n",
      "TopX: [1000. 1000.]\n"
     ]
    }
   ],
   "source": [
    "step = int(trainGt.size/10)\n",
    "\n",
    "s_trainTimes = []\n",
    "s_testTimes = []\n",
    "s_trainingSetSize = []\n",
    "\n",
    "for i in range(100,  trainGt.size, step):\n",
    "    mask = np.zeros(trainGt.size, dtype=bool)\n",
    "    ind = random.sample(list(range(mask.size)), i)    \n",
    "    mask[ind] = 1\n",
    "    stat = evalOneClassMean_listOut(testFeat, testGt, trainFeat[mask], trainGt[mask], verboise=True);\n",
    "    s_trainingSetSize.append(i)\n",
    "    s_trainTimes.append(stat[3][0])\n",
    "    s_testTimes.append(stat[3][1])\n"
   ]
  },
  {
   "cell_type": "code",
   "execution_count": 42,
   "metadata": {},
   "outputs": [
    {
     "data": {
      "text/plain": [
       "[<matplotlib.lines.Line2D at 0x7f9f107ace10>]"
      ]
     },
     "execution_count": 42,
     "metadata": {},
     "output_type": "execute_result"
    },
    {
     "data": {
      "image/png": "[encoded data removed]",
      "text/plain": [
       "<Figure size 432x288 with 1 Axes>"
      ]
     },
     "metadata": {
      "needs_background": "light"
     },
     "output_type": "display_data"
    }
   ],
   "source": [
    "import matplotlib.pyplot as plt\n",
    "\n",
    "plt.plot(np.array(trainingSetSize), np.array(s_trainTimes))\n",
    "plt.plot(np.array(trainingSetSize), np.array(s_testTimes))"
   ]
  },
  {
   "cell_type": "code",
   "execution_count": 49,
   "metadata": {},
   "outputs": [
    {
     "name": "stdout",
     "output_type": "stream",
     "text": [
      "Train Time:  0.006088680514949374\n",
      "Test Time:  0.2688270314974943\n",
      "Mean: 0.5\n",
      "MAP: 0.9975684466444776\n",
      "AUROC: 0.99797544\n",
      "ROC: [0.998224   0.99772688]\n",
      "TopX: [1000. 1000.]\n",
      "Train Time:  1.4839737149886787\n",
      "Test Time:  4.65536441700533\n",
      "Mean: 0.5\n",
      "MAP: 0.9990329079162121\n",
      "AUROC: 0.9989492799999999\n",
      "ROC: [0.99895504 0.99894352]\n",
      "TopX: [1000. 1000.]\n",
      "Train Time:  5.744485112503753\n",
      "Test Time:  9.434643205502653\n",
      "Mean: 0.5\n",
      "MAP: 0.9989863980474185\n",
      "AUROC: 0.9989904000000001\n",
      "ROC: [0.99895568 0.99902512]\n",
      "TopX: [1000. 1000.]\n",
      "Train Time:  12.464445226010866\n",
      "Test Time:  13.72429413300415\n",
      "Mean: 0.5\n",
      "MAP: 0.9988877033018537\n",
      "AUROC: 0.99890704\n",
      "ROC: [0.99888112 0.99893296]\n",
      "TopX: [1000. 1000.]\n",
      "Train Time:  22.27408434750396\n",
      "Test Time:  18.559586553979898\n",
      "Mean: 0.5\n",
      "MAP: 0.9989680225515868\n",
      "AUROC: 0.99896512\n",
      "ROC: [0.99892112 0.99900912]\n",
      "TopX: [1000. 1000.]\n",
      "Train Time:  33.9111466389877\n",
      "Test Time:  23.587001096006134\n",
      "Mean: 0.5\n",
      "MAP: 0.9989833159617886\n",
      "AUROC: 0.9989654400000001\n",
      "ROC: [0.998908   0.99902288]\n",
      "TopX: [1000. 1000.]\n",
      "Train Time:  53.78204876150994\n",
      "Test Time:  29.298024264498963\n",
      "Mean: 0.5\n",
      "MAP: 0.9989513344297005\n",
      "AUROC: 0.99895136\n",
      "ROC: [0.99890848 0.99899424]\n",
      "TopX: [1000. 1000.]\n",
      "Train Time:  72.7135250330175\n",
      "Test Time:  33.66912044149649\n",
      "Mean: 0.5\n",
      "MAP: 0.9990150413345542\n",
      "AUROC: 0.99897184\n",
      "ROC: [0.99894192 0.99900176]\n",
      "TopX: [1000. 1000.]\n",
      "Train Time:  94.12050340701535\n",
      "Test Time:  38.46413949750422\n",
      "Mean: 0.5\n",
      "MAP: 0.9989567801660995\n",
      "AUROC: 0.9989652\n",
      "ROC: [0.9989328 0.9989976]\n",
      "TopX: [1000. 1000.]\n",
      "Train Time:  118.99912717350526\n",
      "Test Time:  40.32988262898289\n",
      "Mean: 0.5\n",
      "MAP: 0.9989557472823981\n",
      "AUROC: 0.998964\n",
      "ROC: [0.99893088 0.99899712]\n",
      "TopX: [1000. 1000.]\n"
     ]
    }
   ],
   "source": [
    "from stackedOneClassSVM import evalOneClassSVM_listOut\n",
    "\n",
    "step = int(trainGt.size/10)\n",
    "\n",
    "o_trainTimes = []\n",
    "o_testTimes = []\n",
    "o_trainingSetSize = []\n",
    "\n",
    "for i in range(100,  trainGt.size, step):\n",
    "    mask = np.zeros(trainGt.size, dtype=bool)\n",
    "    ind = random.sample(list(range(mask.size)), i)    \n",
    "    mask[ind] = 1\n",
    "    stat = evalOneClassSVM_listOut(testFeat, testGt, trainFeat[mask], trainGt[mask], verboise=True);\n",
    "    o_trainingSetSize.append(i)\n",
    "    o_trainTimes.append(stat[3][0])\n",
    "    o_testTimes.append(stat[3][1])\n"
   ]
  },
  {
   "cell_type": "code",
   "execution_count": 54,
   "metadata": {},
   "outputs": [
    {
     "data": {
      "text/plain": [
       "[<matplotlib.lines.Line2D at 0x7f9f107bea20>]"
      ]
     },
     "execution_count": 54,
     "metadata": {},
     "output_type": "execute_result"
    },
    {
     "data": {
      "image/png": "[encoded data removed]",
      "text/plain": [
       "<Figure size 432x288 with 1 Axes>"
      ]
     },
     "metadata": {
      "needs_background": "light"
     },
     "output_type": "display_data"
    }
   ],
   "source": [
    "plt.plot(np.array(o_trainingSetSize), np.array(o_trainTimes))\n",
    "plt.plot(np.array(o_trainingSetSize), np.array(s_trainTimes))"
   ]
  },
  {
   "cell_type": "code",
   "execution_count": 56,
   "metadata": {},
   "outputs": [
    {
     "data": {
      "text/plain": [
       "[<matplotlib.lines.Line2D at 0x7f9efe026ba8>]"
      ]
     },
     "execution_count": 56,
     "metadata": {},
     "output_type": "execute_result"
    },
    {
     "data": {
      "image/png": "[encoded data removed]",
      "text/plain": [
       "<Figure size 432x288 with 1 Axes>"
      ]
     },
     "metadata": {
      "needs_background": "light"
     },
     "output_type": "display_data"
    }
   ],
   "source": [
    "plt.rcParams[\"font.weight\"] = \"bold\"\n",
    "plt.rcParams[\"font.size\"] = 15\n",
    "plt.rcParams[\"axes.labelweight\"] = \"bold\"\n",
    "\n",
    "\n",
    "plt.plot(np.array(o_trainingSetSize), np.array(o_testTimes))\n",
    "plt.plot(np.array(o_trainingSetSize), np.array(s_testTimes))\n",
    "\n",
    "plt.legend(['Shelll Anomaly Simple', 'Shelll Anomaly Complex', 'One-Class SVM', 'Ground-Truth'])\n"
   ]
  }
 ],
 "metadata": {
  "kernelspec": {
   "display_name": "Python 3",
   "language": "python",
   "name": "python3"
  },
  "language_info": {
   "codemirror_mode": {
    "name": "ipython",
    "version": 3
   },
   "file_extension": ".py",
   "mimetype": "text/x-python",
   "name": "python",
   "nbconvert_exporter": "python",
   "pygments_lexer": "ipython3",
   "version": "3.6.9"
  }
 },
 "nbformat": 4,
 "nbformat_minor": 4
}
