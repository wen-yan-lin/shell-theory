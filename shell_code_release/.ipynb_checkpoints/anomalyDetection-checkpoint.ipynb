{
 "cells": [
  {
   "cell_type": "code",
   "execution_count": 1,
   "metadata": {},
   "outputs": [],
   "source": [
    "import numpy as np\n",
    "import tensorflow as tf\n",
    "import matplotlib.pyplot as plt\n",
    "import random\n",
    "import copy\n"
   ]
  },
  {
   "cell_type": "code",
   "execution_count": 2,
   "metadata": {},
   "outputs": [],
   "source": [
    "from sklearn.metrics import roc_auc_score\n",
    "from sklearn.metrics import average_precision_score\n",
    "\n",
    "savePath = '../results/outlierDetection/'\n",
    "\n",
    "folderNames = ['STL-10', \n",
    "               'fake-stl10', \n",
    "               'MIT-Places-Small',  \n",
    "               'internetData']\n",
    "\n",
    "folderName = folderNames[0]\n",
    "\n",
    "featString = '../' + folderName + '/resNet50.npy'\n",
    "gtString = '../' + folderName + '/gt.npy'\n",
    "\n",
    "\n",
    "allFeat = np.load(featString)\n",
    "gtAll = np.load(gtString)\n",
    "\n",
    "if folderName == 'MIT-Places-Small':\n",
    "    # deletes the ambiguous arches class\n",
    "    mask = gtAll<5\n",
    "    allFeat = allFeat[mask]\n",
    "    gtAll = gtAll[mask]\n",
    "\n",
    "\n",
    "# mnist = tf.keras.datasets.mnist\n",
    "\n",
    "# (x_train, y_train), (x_test, y_test) = mnist.load_data()\n",
    "# allFeat = x_train.reshape(x_train.shape[0], 28*28)\n",
    "# gtAll = y_train"
   ]
  },
  {
   "cell_type": "code",
   "execution_count": 3,
   "metadata": {},
   "outputs": [],
   "source": [
    "from sklearn.svm import OneClassSVM\n",
    "from shellUtil import normIt\n",
    "\n",
    "# different normalization schemes\n",
    "\n",
    "allFeat = allFeat/np.linalg.norm(allFeat, axis =1, keepdims=True)\n",
    "\n",
    "#allFeat, _ = normIt(allFeat)\n",
    "\n",
    "#m = np.load('/tf/notebooks/Flickr11K/mean.npy')\n",
    "#allFeat, _ = normIt(allFeat, m)\n",
    "\n"
   ]
  },
  {
   "cell_type": "code",
   "execution_count": 10,
   "metadata": {
    "scrolled": true
   },
   "outputs": [
    {
     "name": "stdout",
     "output_type": "stream",
     "text": [
      "The autoreload extension is already loaded. To reload it, use:\n",
      "  %reload_ext autoreload\n",
      "Percentage Noise: 0.1  of  1.0\n",
      "Percentage Noise: 0.15000000000000002  of  1.0\n"
     ]
    },
    {
     "ename": "KeyboardInterrupt",
     "evalue": "",
     "output_type": "error",
     "traceback": [
      "\u001b[0;31m---------------------------------------------------------------------------\u001b[0m",
      "\u001b[0;31mKeyboardInterrupt\u001b[0m                         Traceback (most recent call last)",
      "\u001b[0;32m<ipython-input-10-f07b4af6eda1>\u001b[0m in \u001b[0;36m<module>\u001b[0;34m\u001b[0m\n\u001b[1;32m      4\u001b[0m \u001b[0;32mfrom\u001b[0m \u001b[0manomalyDetectionMeanShellTmp\u001b[0m \u001b[0;32mimport\u001b[0m \u001b[0mevalShellMeanOutlierDetect\u001b[0m\u001b[0;34m\u001b[0m\u001b[0;34m\u001b[0m\u001b[0m\n\u001b[1;32m      5\u001b[0m statsRobust, statsNaive, statsRenorm = evalShellMeanOutlierDetect(allFeat, gtAll,\n\u001b[0;32m----> 6\u001b[0;31m                                                                  minOutlier=0.1, maxOutlier=1.0, steps=0.05)\n\u001b[0m\u001b[1;32m      7\u001b[0m \u001b[0mnp\u001b[0m\u001b[0;34m.\u001b[0m\u001b[0msave\u001b[0m\u001b[0;34m(\u001b[0m\u001b[0msavePath\u001b[0m\u001b[0;34m+\u001b[0m\u001b[0mfolderName\u001b[0m\u001b[0;34m+\u001b[0m\u001b[0;34m'StatsRobust1'\u001b[0m\u001b[0;34m,\u001b[0m \u001b[0mstatsRobust\u001b[0m\u001b[0;34m)\u001b[0m\u001b[0;34m\u001b[0m\u001b[0;34m\u001b[0m\u001b[0m\n\u001b[1;32m      8\u001b[0m \u001b[0mnp\u001b[0m\u001b[0;34m.\u001b[0m\u001b[0msave\u001b[0m\u001b[0;34m(\u001b[0m\u001b[0msavePath\u001b[0m\u001b[0;34m+\u001b[0m\u001b[0mfolderName\u001b[0m\u001b[0;34m+\u001b[0m\u001b[0;34m'StatsNaive1'\u001b[0m\u001b[0;34m,\u001b[0m \u001b[0mstatsNaive\u001b[0m\u001b[0;34m)\u001b[0m\u001b[0;34m\u001b[0m\u001b[0;34m\u001b[0m\u001b[0m\n",
      "\u001b[0;32m/tf/notebooks/media/daniel/E4/shellMeanClean/anomalyDetectionMeanShellTmp.py\u001b[0m in \u001b[0;36mevalShellMeanOutlierDetect\u001b[0;34m(data, gt, numIter, thres, minOutlier, maxOutlier, steps, repsPerStep)\u001b[0m\n\u001b[1;32m     38\u001b[0m                 \u001b[0mstatsNaive\u001b[0m \u001b[0;34m=\u001b[0m \u001b[0mstatsNaive\u001b[0m \u001b[0;34m+\u001b[0m \u001b[0mstats\u001b[0m\u001b[0;34m\u001b[0m\u001b[0;34m\u001b[0m\u001b[0m\n\u001b[1;32m     39\u001b[0m \u001b[0;34m\u001b[0m\u001b[0m\n\u001b[0;32m---> 40\u001b[0;31m                 \u001b[0mstats\u001b[0m \u001b[0;34m=\u001b[0m \u001b[0mevalEstInliers\u001b[0m\u001b[0;34m(\u001b[0m\u001b[0mf_\u001b[0m\u001b[0;34m,\u001b[0m \u001b[0mgt_\u001b[0m\u001b[0;34m,\u001b[0m \u001b[0mnumIter\u001b[0m\u001b[0;34m=\u001b[0m\u001b[0mnumIter\u001b[0m\u001b[0;34m,\u001b[0m \u001b[0mthres\u001b[0m\u001b[0;34m=\u001b[0m\u001b[0mthres\u001b[0m\u001b[0;34m,\u001b[0m \u001b[0mtype_\u001b[0m \u001b[0;34m=\u001b[0m \u001b[0;34m'reNorm'\u001b[0m\u001b[0;34m)\u001b[0m\u001b[0;34m\u001b[0m\u001b[0;34m\u001b[0m\u001b[0m\n\u001b[0m\u001b[1;32m     41\u001b[0m                 \u001b[0mstatsReNorm\u001b[0m \u001b[0;34m=\u001b[0m \u001b[0mstatsReNorm\u001b[0m \u001b[0;34m+\u001b[0m \u001b[0mstats\u001b[0m\u001b[0;34m\u001b[0m\u001b[0;34m\u001b[0m\u001b[0m\n\u001b[1;32m     42\u001b[0m \u001b[0;34m\u001b[0m\u001b[0m\n",
      "\u001b[0;32m/tf/notebooks/media/daniel/E4/shellMeanClean/anomalyDetectionMeanShellTmp.py\u001b[0m in \u001b[0;36mevalEstInliers\u001b[0;34m(data, gt, numIter, thres, type_)\u001b[0m\n\u001b[1;32m     57\u001b[0m \u001b[0;34m\u001b[0m\u001b[0m\n\u001b[1;32m     58\u001b[0m \u001b[0;32mdef\u001b[0m \u001b[0mevalEstInliers\u001b[0m\u001b[0;34m(\u001b[0m\u001b[0mdata\u001b[0m\u001b[0;34m,\u001b[0m \u001b[0mgt\u001b[0m\u001b[0;34m,\u001b[0m \u001b[0mnumIter\u001b[0m\u001b[0;34m,\u001b[0m \u001b[0mthres\u001b[0m\u001b[0;34m,\u001b[0m \u001b[0mtype_\u001b[0m\u001b[0;34m=\u001b[0m\u001b[0;34m'reNorm'\u001b[0m\u001b[0;34m)\u001b[0m\u001b[0;34m:\u001b[0m\u001b[0;34m\u001b[0m\u001b[0;34m\u001b[0m\u001b[0m\n\u001b[0;32m---> 59\u001b[0;31m     \u001b[0mm_\u001b[0m\u001b[0;34m,\u001b[0m \u001b[0mvar\u001b[0m\u001b[0;34m,\u001b[0m \u001b[0meSig\u001b[0m\u001b[0;34m,\u001b[0m \u001b[0minliers\u001b[0m\u001b[0;34m,\u001b[0m \u001b[0mf\u001b[0m \u001b[0;34m=\u001b[0m \u001b[0mestInliers\u001b[0m\u001b[0;34m(\u001b[0m\u001b[0mdata\u001b[0m\u001b[0;34m,\u001b[0m \u001b[0mnumIter\u001b[0m\u001b[0;34m=\u001b[0m\u001b[0mnumIter\u001b[0m\u001b[0;34m,\u001b[0m \u001b[0mthres\u001b[0m\u001b[0;34m=\u001b[0m\u001b[0mthres\u001b[0m\u001b[0;34m,\u001b[0m \u001b[0mtype_\u001b[0m\u001b[0;34m=\u001b[0m\u001b[0mtype_\u001b[0m\u001b[0;34m)\u001b[0m\u001b[0;34m\u001b[0m\u001b[0;34m\u001b[0m\u001b[0m\n\u001b[0m\u001b[1;32m     60\u001b[0m \u001b[0;34m\u001b[0m\u001b[0m\n\u001b[1;32m     61\u001b[0m     \u001b[0merr\u001b[0m \u001b[0;34m=\u001b[0m \u001b[0mprojectMean\u001b[0m\u001b[0;34m(\u001b[0m\u001b[0mf\u001b[0m\u001b[0;34m,\u001b[0m \u001b[0mm_\u001b[0m\u001b[0;34m,\u001b[0m \u001b[0mvar\u001b[0m\u001b[0;34m)\u001b[0m\u001b[0;34m\u001b[0m\u001b[0;34m\u001b[0m\u001b[0m\n",
      "\u001b[0;32m/tf/notebooks/media/daniel/E4/shellMeanClean/anomalyDetectionMeanShellTmp.py\u001b[0m in \u001b[0;36mestInliers\u001b[0;34m(data, numIter, thres, type_)\u001b[0m\n\u001b[1;32m     81\u001b[0m \u001b[0;32mdef\u001b[0m \u001b[0mestInliers\u001b[0m\u001b[0;34m(\u001b[0m\u001b[0mdata\u001b[0m\u001b[0;34m,\u001b[0m \u001b[0mnumIter\u001b[0m\u001b[0;34m=\u001b[0m\u001b[0;36m10\u001b[0m\u001b[0;34m,\u001b[0m \u001b[0mthres\u001b[0m\u001b[0;34m=\u001b[0m\u001b[0;36m2\u001b[0m\u001b[0;34m,\u001b[0m \u001b[0mtype_\u001b[0m\u001b[0;34m=\u001b[0m\u001b[0;34m'reNorm'\u001b[0m\u001b[0;34m)\u001b[0m\u001b[0;34m:\u001b[0m\u001b[0;34m\u001b[0m\u001b[0;34m\u001b[0m\u001b[0m\n\u001b[1;32m     82\u001b[0m     \u001b[0;32mif\u001b[0m \u001b[0mtype_\u001b[0m \u001b[0;34m==\u001b[0m \u001b[0;34m'reNorm'\u001b[0m\u001b[0;34m:\u001b[0m\u001b[0;34m\u001b[0m\u001b[0;34m\u001b[0m\u001b[0m\n\u001b[0;32m---> 83\u001b[0;31m         \u001b[0mm_\u001b[0m\u001b[0;34m,\u001b[0m \u001b[0mvar\u001b[0m\u001b[0;34m,\u001b[0m \u001b[0meSig\u001b[0m\u001b[0;34m,\u001b[0m \u001b[0mf\u001b[0m \u001b[0;34m=\u001b[0m \u001b[0mrobustMean2\u001b[0m\u001b[0;34m(\u001b[0m\u001b[0mdata\u001b[0m\u001b[0;34m,\u001b[0m \u001b[0mthres\u001b[0m\u001b[0;34m=\u001b[0m\u001b[0mthres\u001b[0m\u001b[0;34m,\u001b[0m \u001b[0mnumIter\u001b[0m\u001b[0;34m=\u001b[0m\u001b[0mnumIter\u001b[0m\u001b[0;34m)\u001b[0m\u001b[0;34m\u001b[0m\u001b[0;34m\u001b[0m\u001b[0m\n\u001b[0m\u001b[1;32m     84\u001b[0m     \u001b[0;32melif\u001b[0m \u001b[0mtype_\u001b[0m \u001b[0;34m==\u001b[0m \u001b[0;34m'threshold'\u001b[0m\u001b[0;34m:\u001b[0m\u001b[0;34m\u001b[0m\u001b[0;34m\u001b[0m\u001b[0m\n\u001b[1;32m     85\u001b[0m         \u001b[0mm_\u001b[0m\u001b[0;34m,\u001b[0m \u001b[0mvar\u001b[0m\u001b[0;34m,\u001b[0m \u001b[0meSig\u001b[0m \u001b[0;34m=\u001b[0m \u001b[0mrobustMean\u001b[0m\u001b[0;34m(\u001b[0m\u001b[0mdata\u001b[0m\u001b[0;34m,\u001b[0m \u001b[0mnumIter\u001b[0m\u001b[0;34m=\u001b[0m\u001b[0mnumIter\u001b[0m\u001b[0;34m,\u001b[0m \u001b[0mthres\u001b[0m\u001b[0;34m=\u001b[0m\u001b[0mthres\u001b[0m\u001b[0;34m)\u001b[0m\u001b[0;34m\u001b[0m\u001b[0;34m\u001b[0m\u001b[0m\n",
      "\u001b[0;32m/tf/notebooks/media/daniel/E4/shellMeanClean/anomalyDetectionMeanShellTmp.py\u001b[0m in \u001b[0;36mrobustMean2\u001b[0;34m(featTrain, thres, numIter)\u001b[0m\n\u001b[1;32m    135\u001b[0m \u001b[0;34m\u001b[0m\u001b[0m\n\u001b[1;32m    136\u001b[0m     \u001b[0;32mfor\u001b[0m \u001b[0mi\u001b[0m \u001b[0;32min\u001b[0m \u001b[0mrange\u001b[0m\u001b[0;34m(\u001b[0m\u001b[0mnumIter\u001b[0m\u001b[0;34m)\u001b[0m\u001b[0;34m:\u001b[0m\u001b[0;34m\u001b[0m\u001b[0;34m\u001b[0m\u001b[0m\n\u001b[0;32m--> 137\u001b[0;31m         \u001b[0mfeat\u001b[0m\u001b[0;34m,\u001b[0m \u001b[0m_\u001b[0m \u001b[0;34m=\u001b[0m \u001b[0mnormIt\u001b[0m\u001b[0;34m(\u001b[0m\u001b[0mfeatTrain\u001b[0m\u001b[0;34m,\u001b[0m \u001b[0mnewMean\u001b[0m\u001b[0;34m)\u001b[0m\u001b[0;34m\u001b[0m\u001b[0;34m\u001b[0m\u001b[0m\n\u001b[0m\u001b[1;32m    138\u001b[0m         \u001b[0mm_\u001b[0m\u001b[0;34m,\u001b[0m \u001b[0mvar\u001b[0m\u001b[0;34m,\u001b[0m \u001b[0meSig\u001b[0m \u001b[0;34m=\u001b[0m \u001b[0mestShell\u001b[0m\u001b[0;34m(\u001b[0m\u001b[0mfeat\u001b[0m\u001b[0;34m[\u001b[0m\u001b[0mmask\u001b[0m\u001b[0;34m]\u001b[0m\u001b[0;34m)\u001b[0m\u001b[0;34m\u001b[0m\u001b[0;34m\u001b[0m\u001b[0m\n\u001b[1;32m    139\u001b[0m         \u001b[0merr\u001b[0m \u001b[0;34m=\u001b[0m \u001b[0mprojectMean\u001b[0m\u001b[0;34m(\u001b[0m\u001b[0mfeat\u001b[0m\u001b[0;34m,\u001b[0m \u001b[0mm_\u001b[0m\u001b[0;34m,\u001b[0m \u001b[0mvar\u001b[0m\u001b[0;34m)\u001b[0m\u001b[0;34m\u001b[0m\u001b[0;34m\u001b[0m\u001b[0m\n",
      "\u001b[0;32m/tf/notebooks/media/daniel/E4/shellMeanClean/shellUtil.py\u001b[0m in \u001b[0;36mnormIt\u001b[0;34m(data, m)\u001b[0m\n\u001b[1;32m     34\u001b[0m \u001b[0;34m\u001b[0m\u001b[0m\n\u001b[1;32m     35\u001b[0m \u001b[0;32mdef\u001b[0m \u001b[0mnormIt\u001b[0m\u001b[0;34m(\u001b[0m\u001b[0mdata\u001b[0m\u001b[0;34m,\u001b[0m \u001b[0mm\u001b[0m\u001b[0;34m=\u001b[0m\u001b[0;32mNone\u001b[0m\u001b[0;34m)\u001b[0m\u001b[0;34m:\u001b[0m\u001b[0;34m\u001b[0m\u001b[0;34m\u001b[0m\u001b[0m\n\u001b[0;32m---> 36\u001b[0;31m     \u001b[0mnData\u001b[0m \u001b[0;34m=\u001b[0m \u001b[0mdata\u001b[0m\u001b[0;34m/\u001b[0m\u001b[0mnp\u001b[0m\u001b[0;34m.\u001b[0m\u001b[0mlinalg\u001b[0m\u001b[0;34m.\u001b[0m\u001b[0mnorm\u001b[0m\u001b[0;34m(\u001b[0m\u001b[0mdata\u001b[0m\u001b[0;34m,\u001b[0m \u001b[0maxis\u001b[0m \u001b[0;34m=\u001b[0m\u001b[0;36m1\u001b[0m\u001b[0;34m,\u001b[0m \u001b[0mkeepdims\u001b[0m\u001b[0;34m=\u001b[0m\u001b[0;32mTrue\u001b[0m\u001b[0;34m)\u001b[0m\u001b[0;34m\u001b[0m\u001b[0;34m\u001b[0m\u001b[0m\n\u001b[0m\u001b[1;32m     37\u001b[0m     \u001b[0;32mif\u001b[0m \u001b[0mm\u001b[0m \u001b[0;32mis\u001b[0m \u001b[0;32mNone\u001b[0m\u001b[0;34m:\u001b[0m\u001b[0;34m\u001b[0m\u001b[0;34m\u001b[0m\u001b[0m\n\u001b[1;32m     38\u001b[0m         \u001b[0mm\u001b[0m \u001b[0;34m=\u001b[0m \u001b[0mnp\u001b[0m\u001b[0;34m.\u001b[0m\u001b[0mmean\u001b[0m\u001b[0;34m(\u001b[0m\u001b[0mnData\u001b[0m\u001b[0;34m,\u001b[0m \u001b[0maxis\u001b[0m \u001b[0;34m=\u001b[0m\u001b[0;36m0\u001b[0m\u001b[0;34m,\u001b[0m \u001b[0mkeepdims\u001b[0m\u001b[0;34m=\u001b[0m\u001b[0;32mTrue\u001b[0m\u001b[0;34m)\u001b[0m\u001b[0;34m\u001b[0m\u001b[0;34m\u001b[0m\u001b[0m\n",
      "\u001b[0;31mKeyboardInterrupt\u001b[0m: "
     ]
    }
   ],
   "source": [
    "%load_ext autoreload\n",
    "%autoreload\n",
    "\n",
    "from anomalyDetectionMeanShellTmp import evalShellMeanOutlierDetect\n",
    "statsRobust, statsNaive, statsRenorm = evalShellMeanOutlierDetect(allFeat, gtAll,\n",
    "                                                                 minOutlier=0.1, maxOutlier=0.4, steps=0.05)\n",
    "np.save(savePath+folderName+'StatsRobust1', statsRobust)\n",
    "np.save(savePath+folderName+'StatsNaive1', statsNaive)\n",
    "np.save(savePath+folderName+'StatsReNorm1', statsRenorm)\n"
   ]
  },
  {
   "cell_type": "code",
   "execution_count": null,
   "metadata": {},
   "outputs": [],
   "source": [
    "from anomalyDetectionOCSVM import evalOCSVMOutlierDetect\n",
    "statsOCSVM = evalOCSVMOutlierDetect(allFeat, gtAll, minOutlier=0, steps=0.01)\n",
    "np.save(savePath+folderName+'StatsOcsvm1', statsOCSVM)\n",
    "\n"
   ]
  },
  {
   "cell_type": "code",
   "execution_count": null,
   "metadata": {},
   "outputs": [],
   "source": [
    "from anomalyDetectionHDBSCAN import evalHDBOutlierDetect\n",
    "statsHDB = evalHDBOutlierDetect(allFeat, gtAll, minOutlier=0, steps=0.01)\n",
    "np.save(savePath+folderName+'StatsHDB1', statsHDB)\n"
   ]
  },
  {
   "cell_type": "code",
   "execution_count": null,
   "metadata": {},
   "outputs": [],
   "source": [
    "statsRobust = np.load(savePath+folderName+'StatsRobust1.npy', allow_pickle=True)\n",
    "statsNaive = np.load(savePath+folderName+'StatsNaive1.npy', allow_pickle=True)\n",
    "statsHDB = np.load(savePath+folderName+'StatsHDB1.npy', allow_pickle=True)\n",
    "statsOCSVM = np.load(savePath+folderName+'StatsOcsvm1.npy', allow_pickle=True)\n",
    "\n"
   ]
  },
  {
   "cell_type": "code",
   "execution_count": null,
   "metadata": {},
   "outputs": [],
   "source": [
    "#from matplotlib import rc,rcParams\n",
    "#from pylab import *\n",
    "# activate latex text rendering\n",
    "# matplotlib.use(\"pgf\")\n",
    "# matplotlib.rcParams.update({\n",
    "#     \"pgf.texsystem\": \"pdflatex\",\n",
    "#     'font.family': 'serif',\n",
    "#     'text.usetex': True,\n",
    "#     'pgf.rcfonts': True,\n",
    "#     'font.weight': \"bold\",\n",
    "#     'axes.labelweight': 'bold'\n",
    "# })\n",
    "\n",
    "\n",
    "plt.rcParams[\"font.weight\"] = \"bold\"\n",
    "plt.rcParams[\"axes.labelweight\"] = \"bold\"\n",
    "\n",
    "def pltAxis(stats,xaxis=-1, yaxis=2, marker = '*'):\n",
    "    axisNames = ['Precision', 'Recall', 'F1', 'F2', 'Num Outliers', 'Detected Outliers']\n",
    "    numPoints = len(stats)\n",
    "    curValueX = 0\n",
    "    curValueY = 0\n",
    "    curNum = 0\n",
    "    curNoise = stats[0]['noise']\n",
    "    valuesX = []\n",
    "    valuesY = []\n",
    "    for i in range(numPoints):\n",
    "        if np.absolute(stats[i]['noise'] - curNoise)<0.00001 and i<numPoints-1:\n",
    "            if xaxis>=0:\n",
    "                curValueX = curValueX + stats[i]['stats'][xaxis]\n",
    "            curValueY = curValueY + stats[i]['stats'][yaxis]\n",
    "            curNum = curNum+1\n",
    "        else:\n",
    "            if xaxis>=0:\n",
    "                valuesX.append(curValueX/curNum)\n",
    "                curValueX = stats[i]['stats'][xaxis]\n",
    "            else:\n",
    "                valuesX.append(curNoise)\n",
    "                \n",
    "            valuesY.append(curValueY/curNum)            \n",
    "            curValueY = stats[i]['stats'][yaxis]\n",
    "            \n",
    "            curNoise = stats[i]['noise']\n",
    "            curNum = 1\n",
    "\n",
    "    valuesX = np.array(valuesX)\n",
    "    valuesY = np.array(valuesY)\n",
    "    plt.scatter(valuesX, valuesY, marker=marker)\n",
    "    if xaxis<0:\n",
    "        plt.xlabel('Noise Percentage', weight='bold')\n",
    "    else:\n",
    "        plt.xlabel(axisNames[xaxis], weight='bold')\n",
    "\n",
    "    plt.ylabel(axisNames[yaxis], weight='bold')\n",
    "\n",
    "yaxis = 3\n",
    "name = 'cur.pdf'\n",
    "pltAxis(statsRobust, yaxis=yaxis, marker='o')   \n",
    "#pltAxis(statsNaive, yaxis=yaxis, marker='o')    \n",
    "pltAxis(statsOCSVM, yaxis=yaxis, marker='+')   \n",
    "pltAxis(statsHDB, yaxis=yaxis, marker='x')    \n",
    "plt.savefig(savePath+name)\n"
   ]
  }
 ],
 "metadata": {
  "kernelspec": {
   "display_name": "Python 3",
   "language": "python",
   "name": "python3"
  },
  "language_info": {
   "codemirror_mode": {
    "name": "ipython",
    "version": 3
   },
   "file_extension": ".py",
   "mimetype": "text/x-python",
   "name": "python",
   "nbconvert_exporter": "python",
   "pygments_lexer": "ipython3",
   "version": "3.6.9"
  }
 },
 "nbformat": 4,
 "nbformat_minor": 4
}
