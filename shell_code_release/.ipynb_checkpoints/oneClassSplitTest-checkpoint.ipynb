{
 "cells": [
  {
   "cell_type": "code",
   "execution_count": 22,
   "metadata": {},
   "outputs": [],
   "source": [
    "import numpy as np\n",
    "import tensorflow as tf\n",
    "import matplotlib.pyplot as plt\n",
    "import random\n",
    "import copy\n",
    "\n",
    "from sklearn.metrics import roc_auc_score\n",
    "from sklearn.metrics import average_precision_score\n"
   ]
  },
  {
   "cell_type": "code",
   "execution_count": 6,
   "metadata": {},
   "outputs": [],
   "source": [
    "from sklearn.metrics import roc_auc_score\n",
    "\n",
    "allFeatTest = np.load('/tf/notebooks/STL-10/danielFeat.npy')\n",
    "gtAllTest = np.load('/tf/notebooks/STL-10/danielGt.npy')\n",
    "\n",
    "# allFeat = np.load('../MIT-Places/quickTest/resNet50.npy')\n",
    "# gtAll = np.load('../MIT-Places/quickTest/gt.npy')\n",
    "\n",
    "allFeatTrain = np.load('../fake-stl10/resNet50.npy')\n",
    "gtAllTrain = np.load('../fake-stl10/gt.npy')\n",
    "\n",
    "\n",
    "# mask = gtAll<5\n",
    "# allFeat = allFeat[mask]\n",
    "# gtAll = gtAll[mask]\n",
    "\n",
    "\n",
    "# allFeat = np.load('/tf/notebooks/clusteringTree/stl_feat/feats_2048.npy')\n",
    "# gtAll = np.load('/tf/notebooks/clusteringTree/stl_feat/labels_2048.npy')-1\n",
    "\n",
    "\n",
    "\n",
    "#m = np.load('/tf/notebooks/Flickr11K/resNet50Mean.npy')\n"
   ]
  },
  {
   "cell_type": "code",
   "execution_count": 4,
   "metadata": {},
   "outputs": [],
   "source": [
    "from sklearn.svm import OneClassSVM\n",
    "from clusteringX2 import normIt\n",
    "\n",
    "#allFeat = allFeat/np.linalg.norm(allFeat, axis =1, keepdims=True)\n",
    "trainFeat, m = normIt(allFeatTrain)\n",
    "testFeat, _ = normIt(allFeatTest, m)\n",
    "\n",
    "\n",
    "testGt = gtAllTest\n",
    "trainGt = gtAllTrain"
   ]
  },
  {
   "cell_type": "code",
   "execution_count": null,
   "metadata": {},
   "outputs": [
    {
     "name": "stdout",
     "output_type": "stream",
     "text": [
      "The autoreload extension is already loaded. To reload it, use:\n",
      "  %reload_ext autoreload\n",
      "One Class SVM with normalization\n"
     ]
    }
   ],
   "source": [
    "%load_ext autoreload\n",
    "%autoreload\n",
    "\n",
    "from stackedOneClassSVM import evalOneClassSVM\n",
    "print('One Class SVM with normalization')\n",
    "evalOneClassSVM(testFeat, gtAllTest, trainFeat, gtAllTrain, verboise=True, divideByNum=True);\n"
   ]
  },
  {
   "cell_type": "code",
   "execution_count": 8,
   "metadata": {},
   "outputs": [
    {
     "name": "stdout",
     "output_type": "stream",
     "text": [
      "Stacked One Class SVM with normalization\n",
      "Mean: 0.1\n",
      "MAP: 0.9604316465521814\n",
      "AUROC: 0.9896078040762657\n"
     ]
    }
   ],
   "source": [
    "from stackedOneClassSVM import evalStackedOneClassSVM\n",
    "print('Stacked One Class SVM with normalization')\n",
    "evalStackedOneClassSVM(testFeat, gtAllTest, trainFeat, gtAllTrain, verboise=True, divideByNum=True);\n"
   ]
  },
  {
   "cell_type": "code",
   "execution_count": 11,
   "metadata": {},
   "outputs": [
    {
     "name": "stdout",
     "output_type": "stream",
     "text": [
      "One Class MEAN with normalization\n",
      "Mean: 0.875\n",
      "MAP: 0.9702643849726371\n",
      "AUROC: 0.9869627876397107\n"
     ]
    }
   ],
   "source": [
    "from stackedOneClassMean import evalOneClassMean\n",
    "print('One Class MEAN with normalization')\n",
    "evalOneClassMean(testFeat, testGt, trainFeat, gtAllTrain, verboise=True);\n"
   ]
  },
  {
   "cell_type": "code",
   "execution_count": 18,
   "metadata": {},
   "outputs": [
    {
     "name": "stdout",
     "output_type": "stream",
     "text": [
      "The autoreload extension is already loaded. To reload it, use:\n",
      "  %reload_ext autoreload\n",
      "Stacked One Class MEAN with normalization\n",
      "Mean: 0.8780769230769231\n",
      "MAP: 0.9707386696962017\n",
      "AUROC: 0.9872019329388559\n"
     ]
    }
   ],
   "source": [
    "%load_ext autoreload\n",
    "%autoreload\n",
    "\n",
    "\n",
    "\n",
    "from stackedOneClassMean import evalStackedOneClassMean\n",
    "print('Stacked One Class MEAN with normalization')\n",
    "evalStackedOneClassMean(testFeat, testGt, trainFeat, gtAllTrain, verboise=True);\n"
   ]
  },
  {
   "cell_type": "code",
   "execution_count": 23,
   "metadata": {},
   "outputs": [
    {
     "data": {
      "text/plain": [
       "LinearSVC(C=1.0, class_weight=None, dual=True, fit_intercept=True,\n",
       "          intercept_scaling=1, loss='squared_hinge', max_iter=1000,\n",
       "          multi_class='ovr', penalty='l2', random_state=0, tol=1e-05,\n",
       "          verbose=0)"
      ]
     },
     "execution_count": 23,
     "metadata": {},
     "output_type": "execute_result"
    }
   ],
   "source": [
    "from sklearn.svm import LinearSVC\n",
    "\n",
    "def listToFeat(feat):\n",
    "    newFeat = np.concatenate(feat, axis =0)\n",
    "    newGt = np.zeros(newFeat.shape[0], dtype = int)\n",
    "    cur = 0\n",
    "    for i in range(len(feat)):\n",
    "        newGt[cur:cur+feat[i].shape[0]] = i\n",
    "        cur = cur + feat[i].shape[0]\n",
    "    return newFeat, newGt\n",
    "\n",
    "clf = LinearSVC(random_state=0, tol=1e-5)\n",
    "clf.fit(trainFeat, trainGt)\n"
   ]
  },
  {
   "cell_type": "code",
   "execution_count": 24,
   "metadata": {},
   "outputs": [
    {
     "name": "stdout",
     "output_type": "stream",
     "text": [
      "svm\n",
      "mean: 0.9122307692307692\n",
      "map: 0.9859641688360334\n"
     ]
    }
   ],
   "source": [
    "print('svm')\n",
    "labelEst = clf.predict(testFeat)\n",
    "scoreSVM = clf.decision_function(testFeat)\n",
    "print('mean:', np.mean(labelEst==testGt))\n",
    "print('map:', average_precision_score(labelEst==testGt, np.max(scoreSVM, axis=1)))"
   ]
  }
 ],
 "metadata": {
  "kernelspec": {
   "display_name": "Python 3",
   "language": "python",
   "name": "python3"
  },
  "language_info": {
   "codemirror_mode": {
    "name": "ipython",
    "version": 3
   },
   "file_extension": ".py",
   "mimetype": "text/x-python",
   "name": "python",
   "nbconvert_exporter": "python",
   "pygments_lexer": "ipython3",
   "version": "3.6.9"
  }
 },
 "nbformat": 4,
 "nbformat_minor": 4
}
