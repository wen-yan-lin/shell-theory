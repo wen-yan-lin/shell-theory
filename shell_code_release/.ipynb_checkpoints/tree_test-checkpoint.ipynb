{
 "cells": [
  {
   "cell_type": "code",
   "execution_count": 1,
   "metadata": {},
   "outputs": [],
   "source": [
    "import numpy as np\n",
    "import tensorflow as tf\n",
    "import matplotlib.pyplot as plt\n",
    "\n",
    "allFeat = np.load('/tf/notebooks/stl_feat/feats_2048.npy')\n",
    "gtAll = np.load('/tf/notebooks/stl_feat/labels_2048.npy')-1\n",
    "\n"
   ]
  },
  {
   "cell_type": "code",
   "execution_count": 2,
   "metadata": {},
   "outputs": [],
   "source": [
    "%load_ext autoreload\n",
    "%autoreload\n",
    "\n",
    "from sklearn.cluster import KMeans\n",
    "from clusteringX2 import normIt\n",
    "from clusteringX2 import clusterModel\n",
    "from clusteringX2 import train_step3\n",
    "\n",
    "\n",
    "def clustering(feat, numClass=2):\n",
    "    feat, m = normIt(feat)\n",
    "    \n",
    "    # initilization\n",
    "    kmeans = KMeans(n_clusters=numClass, random_state=0).fit(feat)\n",
    "    labelK = kmeans.predict(feat)\n",
    "    means =np.zeros([numClass, feat.shape[1]])\n",
    "\n",
    "    for i in range(numClass):\n",
    "        mask = labelK == i\n",
    "        means[i,:] = np.mean(feat[mask,:], axis =0)\n",
    "\n",
    "    sigInit = np.zeros([numClass])\n",
    "    for i in range(numClass):\n",
    "        mask = np.logical_not(labelK == i)\n",
    "        sigInit[i] = np.mean(np.matmul(feat[mask,:], np.transpose(means[i,:])))\n",
    "    model = clusterModel(means.transpose(), sigInit)\n",
    "    train_step3(model, feat.astype(\"float32\"), iter =100)\n",
    "    return model.w.numpy(), model.sig.numpy(), m \n",
    "\n"
   ]
  },
  {
   "cell_type": "code",
   "execution_count": 3,
   "metadata": {},
   "outputs": [],
   "source": [
    "class Node:\n",
    "    def __init__(self, mask=None, w=None, sig=None, m=None):\n",
    "        self.mask = mask\n",
    "        self.w = w\n",
    "        self.sig = sig\n",
    "        self.m = m\n",
    "        \n",
    "\n",
    "    \n",
    "class Layer:\n",
    "    def __init__(self):\n",
    "        self.nodeList = []\n",
    "        \n",
    "class Tree:\n",
    "    def __init__(self):\n",
    "        self.numLayers = 0\n",
    "        self.listOfLayers = []\n",
    "        self.numNodes = 0\n",
    "        self.listOfNodes = []\n",
    "        \n",
    "    def addNode(self, c):\n",
    "        self.listOfNodes.append(c)\n",
    "        self.numNodes = self.numNodes + 1\n",
    "        \n",
    "    def addLayer(self, c):\n",
    "        self.listOfLayers.append(c)\n",
    "        self.numLayers = self.numLayers + 1\n",
    "\n",
    "    \n",
    "def startTree(allFeat, numClass=2, numLayer=2):\n",
    "    tree = Tree()    \n",
    "    w, sig, m = clustering(allFeat, numClass)\n",
    "    mask = np.ones(allFeat.shape[0], dtype=bool)\n",
    "    n = Node(mask, w, sig, m)\n",
    "\n",
    "    tree.addNode(n)\n",
    "    newLayer = Layer()\n",
    "    newLayer.nodeList.append(tree.numNodes-1)\n",
    "    tree.addLayer(newLayer)\n",
    "    \n",
    "    return tree\n",
    "\n",
    "    \n",
    "feat = allFeat[gtAll<4,:]#[np.logical_or(gtAll==0,  gtAll==1),:]\n",
    "    \n",
    "tree = startTree(feat)\n",
    "    "
   ]
  },
  {
   "cell_type": "code",
   "execution_count": 4,
   "metadata": {},
   "outputs": [],
   "source": [
    "def dataProjection(feat, node):\n",
    "    x, _ = normIt(feat, node.m) \n",
    "    return np.matmul(x, node.w) - node.sig\n",
    "\n",
    "\n",
    "    \n",
    "\n",
    "def extendTree(tree, allFeat, numClass=2, clusteringThreshold=100):\n",
    "    newLayer = Layer()\n",
    "    lastLayer = tree.listOfLayers[-1]\n",
    "    for nodeIndex in lastLayer.nodeList:\n",
    "        node = tree.listOfNodes[nodeIndex]\n",
    "        curFeat = allFeat[node.mask,:]\n",
    "        score = dataProjection(curFeat, node)\n",
    "        plt.scatter(score[:,0], score[:,1], alpha=0.1)\n",
    "        \n",
    "        clusterInd = np.argmax(score, axis =1)\n",
    "        curInd = np.where(node.mask)[0]\n",
    "\n",
    "        for i in range(score.shape[1]):\n",
    "            subMask = clusterInd == i\n",
    "            if sum(subMask) > clusteringThreshold:\n",
    "                \n",
    "                newMask =  np.zeros(allFeat.shape[0], dtype=bool)\n",
    "                newMask[curInd[subMask]] = 1\n",
    "                \n",
    "\n",
    "                w, sig, m = clustering(allFeat[newMask,:], numClass)\n",
    "                n = Node(newMask, w, sig, m)\n",
    "                \n",
    "                tree.addNode(n)\n",
    "                newLayer.nodeList.append(tree.numNodes-1)\n",
    "        tree.addLayer(newLayer)\n",
    "\n",
    "\n",
    "\n",
    "\n",
    "\n",
    "                \n",
    "            \n",
    "        \n",
    "        \n",
    "\n",
    "#extendTree(tree, feat)\n",
    "#extendTree(tree, feat)\n",
    "\n",
    "# something seems wrong with the hierachy, the error increases too sharply"
   ]
  },
  {
   "cell_type": "code",
   "execution_count": 5,
   "metadata": {},
   "outputs": [
    {
     "name": "stdout",
     "output_type": "stream",
     "text": [
      "0 <__main__.Node object at 0x7f26fc0605f8>\n"
     ]
    }
   ],
   "source": [
    "def projectTree(feat, tree, numClus=2):\n",
    "    \n",
    "    projectionSpace = np.zeros([feat.shape[0], tree.numNodes*numClus])\n",
    "    \n",
    "    for i, n in enumerate(tree.listOfNodes):\n",
    "        f = dataProjection(feat, n)\n",
    "        f = f/np.linalg.norm(f, axis =1, keepdims=True)\n",
    "        projectionSpace[:, i*2:i*2+2] = f\n",
    "        print(i, n)\n",
    "    return projectionSpace\n",
    "        \n",
    "projectionSpace = projectTree(feat, tree)\n",
    "    "
   ]
  },
  {
   "cell_type": "code",
   "execution_count": 6,
   "metadata": {},
   "outputs": [
    {
     "ename": "IndexError",
     "evalue": "index 5 is out of bounds for axis 1 with size 2",
     "output_type": "error",
     "traceback": [
      "\u001b[0;31m---------------------------------------------------------------------------\u001b[0m",
      "\u001b[0;31mIndexError\u001b[0m                                Traceback (most recent call last)",
      "\u001b[0;32m<ipython-input-6-5e30d457e27b>\u001b[0m in \u001b[0;36m<module>\u001b[0;34m\u001b[0m\n\u001b[1;32m      1\u001b[0m \u001b[0mmask\u001b[0m \u001b[0;34m=\u001b[0m \u001b[0mgtAll\u001b[0m\u001b[0;34m<\u001b[0m\u001b[0;36m4\u001b[0m\u001b[0;34m\u001b[0m\u001b[0;34m\u001b[0m\u001b[0m\n\u001b[1;32m      2\u001b[0m \u001b[0mind\u001b[0m \u001b[0;34m=\u001b[0m \u001b[0;36m5\u001b[0m\u001b[0;34m\u001b[0m\u001b[0;34m\u001b[0m\u001b[0m\n\u001b[0;32m----> 3\u001b[0;31m \u001b[0mplt\u001b[0m\u001b[0;34m.\u001b[0m\u001b[0mscatter\u001b[0m\u001b[0;34m(\u001b[0m\u001b[0mprojectionSpace\u001b[0m\u001b[0;34m[\u001b[0m\u001b[0;34m:\u001b[0m\u001b[0;34m,\u001b[0m\u001b[0mind\u001b[0m\u001b[0;34m]\u001b[0m\u001b[0;34m,\u001b[0m \u001b[0mprojectionSpace\u001b[0m\u001b[0;34m[\u001b[0m\u001b[0;34m:\u001b[0m\u001b[0;34m,\u001b[0m\u001b[0mind\u001b[0m\u001b[0;34m+\u001b[0m\u001b[0;36m1\u001b[0m\u001b[0;34m]\u001b[0m\u001b[0;34m,\u001b[0m \u001b[0mc\u001b[0m\u001b[0;34m=\u001b[0m \u001b[0mgtAll\u001b[0m\u001b[0;34m[\u001b[0m\u001b[0mmask\u001b[0m\u001b[0;34m]\u001b[0m\u001b[0;34m,\u001b[0m \u001b[0malpha\u001b[0m \u001b[0;34m=\u001b[0m\u001b[0;36m0.1\u001b[0m\u001b[0;34m)\u001b[0m\u001b[0;34m\u001b[0m\u001b[0;34m\u001b[0m\u001b[0m\n\u001b[0m",
      "\u001b[0;31mIndexError\u001b[0m: index 5 is out of bounds for axis 1 with size 2"
     ]
    }
   ],
   "source": [
    "mask = gtAll<4\n",
    "ind = 5\n",
    "plt.scatter(projectionSpace[:,ind], projectionSpace[:,ind+1], c= gtAll[mask], alpha =0.1)"
   ]
  },
  {
   "cell_type": "code",
   "execution_count": null,
   "metadata": {},
   "outputs": [],
   "source": [
    "from sklearn.metrics import pairwise_distances\n",
    "\n",
    "d_ori = pairwise_distances(feat, feat)\n",
    "d = pairwise_distances(projectionSpace, projectionSpace)\n"
   ]
  },
  {
   "cell_type": "code",
   "execution_count": null,
   "metadata": {},
   "outputs": [],
   "source": [
    "print('ours')\n",
    "print(np.argsort(d, axis =1)[:,:1300])\n",
    "print('ori')\n",
    "print(np.argsort(d_ori, axis =1)[:,:1300])"
   ]
  },
  {
   "cell_type": "code",
   "execution_count": null,
   "metadata": {},
   "outputs": [],
   "source": [
    "from sklearn.decomposition import PCA\n",
    "pca = PCA(n_components=14)\n",
    "\n",
    "pca_feat = feat - np.mean(feat, axis=0, keepdims=True)\n",
    "pca_feat = pca_feat/np.linalg.norm(pca_feat, axis =1, keepdims=True)\n",
    "pca_feat = pca.fit_transform(pca_feat)\n",
    "\n",
    "d_pca = pairwise_distances(pca_feat, pca_feat)\n",
    "print(np.argsort(d_pca, axis =1)[:,:1300])"
   ]
  },
  {
   "cell_type": "code",
   "execution_count": null,
   "metadata": {},
   "outputs": [],
   "source": [
    "import copy\n",
    "oldTree = copy.deepcopy(tree)"
   ]
  },
  {
   "cell_type": "code",
   "execution_count": 131,
   "metadata": {},
   "outputs": [
    {
     "data": {
      "image/png": "[encoded data removed]",
      "text/plain": [
       "<Figure size 432x288 with 1 Axes>"
      ]
     },
     "metadata": {
      "needs_background": "light"
     },
     "output_type": "display_data"
    }
   ],
   "source": [
    "extendTree(tree, feat)\n"
   ]
  },
  {
   "cell_type": "code",
   "execution_count": null,
   "metadata": {},
   "outputs": [],
   "source": [
    "#tree = oldTree\n",
    "\n",
    "k = donk"
   ]
  },
  {
   "cell_type": "code",
   "execution_count": 132,
   "metadata": {},
   "outputs": [],
   "source": [
    "projectX = np.zeros([feat.shape[0], tree.numNodes])\n",
    "\n",
    "\n",
    "\n",
    "for i, n in enumerate(tree.listOfNodes):\n",
    "    m = n.mask\n",
    "    projectX[m,i] = 1\n",
    "\n",
    "# nn = 2\n",
    "# start = 1000\n",
    "# for i in range(start, start+100):#range(nnOri.shape[0]):\n",
    "#     print(np.sum(np.absolute(projectX[i,:]-projectX[nnOri[i,nn],:])))\n",
    "#     print(projectX[i,:])\n",
    "#     print(projectX[nnOri[i,nn],:])"
   ]
  },
  {
   "cell_type": "code",
   "execution_count": 133,
   "metadata": {},
   "outputs": [
    {
     "name": "stdout",
     "output_type": "stream",
     "text": [
      "0.018714801110982282\n",
      "327.37115384615385\n"
     ]
    }
   ],
   "source": [
    "feat1_, _ = normIt(feat)\n",
    "d_ori = pairwise_distances(feat1_, feat1_)\n",
    "nnOri = np.argsort(d_ori, axis =1)\n",
    "\n",
    "\n",
    "clusNeigbours = np.zeros([feat.shape[0],feat.shape[0]], dtype=bool )\n",
    "\n",
    "for i in range(feat.shape[0]):\n",
    "    sameClus = np.sum(np.absolute(projectX - projectX[i,:]), axis =1)\n",
    "    mask = sameClus == 0\n",
    "    clusNeigbours[i,:] = mask\n",
    "    clusNeigbours[i,i] = 0\n",
    "\n",
    "    \n",
    "sorted_dist = np.sort(d_ori, axis =1)\n",
    "\n",
    "err_store = np.zeros(clusNeigbours.shape[0])\n",
    "err = 0\n",
    "num_neigbours = 0\n",
    "for i in range(nnOri.shape[0]):\n",
    "    #val = np.min(d_ori[clusNeigbours[i,:], :])    \n",
    "    val1 = np.min(d_ori[clusNeigbours[i,:], i])  \n",
    "    val2 = sorted_dist[i, 1]\n",
    "    err = err + (val1-val2)/val2\n",
    "    err_store[i] = (val1-val2)/val2\n",
    "    num_neigbours = num_neigbours + sum(clusNeigbours[i,:])\n",
    "    #print((val1-val2)/val2, val1-val2, sum(clusNeigbours[i,:]))\n",
    "print(err/nnOri.shape[0])\n",
    "print(num_neigbours/nnOri.shape[0])"
   ]
  },
  {
   "cell_type": "code",
   "execution_count": 134,
   "metadata": {},
   "outputs": [
    {
     "name": "stdout",
     "output_type": "stream",
     "text": [
      "0.0\n",
      "[0.12299373 0.1232982  0.12331556 0.12341097 0.12397067 0.12431014\n",
      " 0.12488146 0.12490009 0.12518215 0.12532035 0.12559507 0.12587965\n",
      " 0.12589644 0.12601971 0.12654877 0.1265856  0.12697038 0.12728546\n",
      " 0.12765489 0.12806333 0.1289207  0.12927868 0.12931718 0.12950775\n",
      " 0.13036386 0.13057769 0.13093021 0.13169649 0.13175269 0.13255686\n",
      " 0.13267018 0.13283919 0.1329289  0.13299299 0.13307803 0.13356648\n",
      " 0.13390001 0.13433533 0.13590425 0.13596256 0.13697046 0.13767859\n",
      " 0.1388089  0.13910582 0.13922635 0.13985717 0.140051   0.14054816\n",
      " 0.14142896 0.14225348 0.14228071 0.1422991  0.14266765 0.1444188\n",
      " 0.14448398 0.1445864  0.14573764 0.14602745 0.14747974 0.14770966\n",
      " 0.14793699 0.14834042 0.14882373 0.14966266 0.15139057 0.15164909\n",
      " 0.15190402 0.15233411 0.15297382 0.15355601 0.15371368 0.15371649\n",
      " 0.15392485 0.15472458 0.15538113 0.15658092 0.15681192 0.15754772\n",
      " 0.15791066 0.15970876 0.16016011 0.16149795 0.16159483 0.16162877\n",
      " 0.16181917 0.16287256 0.1640883  0.16448984 0.16449492 0.16551004\n",
      " 0.16593741 0.16703098 0.16774245 0.16815552 0.16919157 0.16936286\n",
      " 0.16980872 0.17106445 0.17194864 0.17206048 0.17280864 0.17340287\n",
      " 0.17466823 0.17533598 0.17981705 0.18002795 0.18021402 0.18026812\n",
      " 0.18122618 0.18138373 0.18221699 0.18521158 0.18560183 0.18584081\n",
      " 0.1901782  0.19085573 0.19106501 0.19179377 0.19213773 0.19218713\n",
      " 0.19224169 0.19224664 0.19257144 0.19375294 0.19571263 0.19581309\n",
      " 0.20053862 0.20054837 0.20097313 0.20303812 0.20380988 0.20747241\n",
      " 0.20967244 0.21057489 0.21213579 0.21487952 0.21702879 0.21894489\n",
      " 0.22116077 0.22270879 0.22271699 0.22690174 0.22708002 0.23410967\n",
      " 0.23697937 0.23766132 0.23768307 0.23850218 0.24644895 0.24740146\n",
      " 0.25074115 0.25666895 0.25710802 0.25878332 0.25941923 0.26114077\n",
      " 0.26538305 0.26858232 0.2721722  0.27508524 0.28108379 0.28169689\n",
      " 0.28435723 0.2916274  0.29452152 0.29853959 0.30048238 0.30101236\n",
      " 0.30213057 0.30870298 0.31903926 0.31909648 0.32400452 0.32737173\n",
      " 0.33674575 0.33884447 0.3541969  0.3602799  0.36547558 0.36743309\n",
      " 0.37431429 0.37723598 0.39071563 0.40887306 0.42623656 0.43249357\n",
      " 0.45773689 0.46990827 0.49191988 0.51711989 0.56449234 0.57214175\n",
      " 0.63838454 0.65636191 0.95574591 1.22907254 1.58228347 2.00920738\n",
      " 4.52088841 4.97121632]\n",
      "[0.         0.         0.         ... 2.00920738 4.52088841 4.97121632]\n"
     ]
    }
   ],
   "source": [
    "e = np.sort(err_store)\n",
    "\n",
    "print(np.median(e))\n",
    "print(e[5000:])\n",
    "print(np.sort(err_store))"
   ]
  },
  {
   "cell_type": "code",
   "execution_count": 111,
   "metadata": {},
   "outputs": [
    {
     "name": "stdout",
     "output_type": "stream",
     "text": [
      "0 <__main__.Node object at 0x7f26fc0605f8>\n",
      "1 <__main__.Node object at 0x7f261ef99d68>\n",
      "2 <__main__.Node object at 0x7f261c6b8be0>\n",
      "3 <__main__.Node object at 0x7f261e151240>\n",
      "4 <__main__.Node object at 0x7f261e15dcf8>\n",
      "5 <__main__.Node object at 0x7f261d8ba278>\n",
      "6 <__main__.Node object at 0x7f261da6eac8>\n"
     ]
    }
   ],
   "source": [
    "projectionSpace = projectTree(feat, tree)\n"
   ]
  },
  {
   "cell_type": "code",
   "execution_count": 112,
   "metadata": {},
   "outputs": [
    {
     "name": "stdout",
     "output_type": "stream",
     "text": [
      "[-0.16441711  0.9863909   0.70126876  0.712897    0.99725648 -0.07402369\n",
      "  0.28062623  0.95981713  0.75650323  0.65398995  0.02269473  0.99974244\n",
      "  0.08015006  0.99678281]\n"
     ]
    }
   ],
   "source": [
    "print(projectionSpace[1000,:])"
   ]
  },
  {
   "cell_type": "code",
   "execution_count": 119,
   "metadata": {},
   "outputs": [
    {
     "data": {
      "text/plain": [
       "(array([ 993., 2230., 1668.,    0.,  305.,    0.,    0.,    0.,    0.,\n",
       "           4.]),\n",
       " array([1. , 1.7, 2.4, 3.1, 3.8, 4.5, 5.2, 5.9, 6.6, 7.3, 8. ]),\n",
       " <a list of 10 Patch objects>)"
      ]
     },
     "execution_count": 119,
     "metadata": {},
     "output_type": "execute_result"
    },
    {
     "data": {
      "image/png": "[encoded data removed]",
      "text/plain": [
       "<Figure size 432x288 with 1 Axes>"
      ]
     },
     "metadata": {
      "needs_background": "light"
     },
     "output_type": "display_data"
    }
   ],
   "source": [
    "#f = projectionSpace[:,2:6]\n",
    "f = projectionSpace[:,6:]\n",
    "\n",
    "class_ = f>0.98\n",
    "\n",
    "t = np.sum(class_, axis =1)\n",
    "\n",
    "class_[t==0,:] = 1\n",
    "\n",
    "\n",
    "t = np.sum(class_, axis =1)\n",
    "plt.hist(t)"
   ]
  },
  {
   "cell_type": "code",
   "execution_count": 114,
   "metadata": {},
   "outputs": [
    {
     "name": "stdout",
     "output_type": "stream",
     "text": [
      "0.9038261197026367 0.660965516952819 2121\n",
      "0.7961119516823694 0.5760542795229383 2227\n",
      "0.749453735846619 0.5760542795229383 2256\n",
      "0.8306148423108771 0.660965516952819 2312\n",
      "0.9679817622266209 0.7825367063511066 2399\n",
      "0.8819920338072258 0.647560502671846 2447\n",
      "0.982426915590352 0.647560502671846 2464\n",
      "0.9345543491931985 0.7725681105220672 2556\n",
      "1.054475494483256 0.8783353407893106 4141\n",
      "1.0670716163004386 0.8783353407893106 5129\n",
      "0.0022092870507350103\n",
      "3117.887307692308\n"
     ]
    }
   ],
   "source": [
    "from sklearn.metrics import pairwise_distances\n",
    "\n",
    "feat1_, _ = normIt(feat)\n",
    "\n",
    "d_ori = pairwise_distances(feat1_, feat1_)\n",
    "nnOri = np.argsort(d_ori, axis =1)\n",
    "sorted_dist = np.sort(d_ori, axis =1)\n",
    "\n",
    "\n",
    "clusNeigbours = np.zeros([feat.shape[0],feat.shape[0]], dtype=bool )\n",
    "\n",
    "for i in range(clusNeigbours.shape[0]):\n",
    "    for j in range(class_.shape[1]):\n",
    "        if class_[i,j] ==1:\n",
    "            clusNeigbours[i,:] = clusNeigbours[i,:] + class_[:, j]\n",
    "\n",
    "for i in range(clusNeigbours.shape[0]):\n",
    "    clusNeigbours[i,i] = 0\n",
    "\n",
    "\n",
    "\n",
    "    \n",
    "err_store = np.zeros(clusNeigbours.shape[0])\n",
    "err = 0\n",
    "num_neigbours = 0\n",
    "for i in range(nnOri.shape[0]):\n",
    "    #val = np.min(d_ori[clusNeigbours[i,:], :])    \n",
    "    val1 = np.min(d_ori[clusNeigbours[i,:], i])  \n",
    "    val2 = sorted_dist[i, 1]\n",
    "    if (val1-val2)/val2 > 0.2:\n",
    "        print(val1, val2, i)\n",
    "    err = err + (val1-val2)/val2\n",
    "    err_store[i] = (val1-val2)/val2\n",
    "    num_neigbours = num_neigbours + sum(clusNeigbours[i,:])\n",
    "    #print((val1-val2)/val2, val1-val2, sum(clusNeigbours[i,:]))\n",
    "print(err/nnOri.shape[0])\n",
    "print(num_neigbours/nnOri.shape[0])\n"
   ]
  },
  {
   "cell_type": "code",
   "execution_count": 86,
   "metadata": {},
   "outputs": [
    {
     "name": "stdout",
     "output_type": "stream",
     "text": [
      "[0.         0.77424648 0.77593132 0.77686742 0.83108107 0.83982675\n",
      " 0.85471909 0.86203273 0.87582891 0.87595223]\n"
     ]
    }
   ],
   "source": [
    "print(np.sort(d_ori[5129,:])[:10])"
   ]
  },
  {
   "cell_type": "code",
   "execution_count": 97,
   "metadata": {},
   "outputs": [
    {
     "name": "stdout",
     "output_type": "stream",
     "text": [
      "[0.99927787 0.03799662 0.99851058 0.05455848 0.91109958 0.4121863 ]\n",
      "[ 0.98756601 -0.15720487  0.12307001  0.99239799  0.98555008  0.16938432]\n"
     ]
    }
   ],
   "source": [
    "print(projectionSpace[5129,:])\n",
    "print(projectionSpace[4141,:])"
   ]
  },
  {
   "cell_type": "code",
   "execution_count": 138,
   "metadata": {},
   "outputs": [
    {
     "name": "stdout",
     "output_type": "stream",
     "text": [
      "0 <__main__.Node object at 0x7f26fc0605f8>\n",
      "1 <__main__.Node object at 0x7f261ef99d68>\n",
      "2 <__main__.Node object at 0x7f261c6b8be0>\n",
      "3 <__main__.Node object at 0x7f261e151240>\n",
      "4 <__main__.Node object at 0x7f261e15dcf8>\n",
      "5 <__main__.Node object at 0x7f261d8ba278>\n",
      "6 <__main__.Node object at 0x7f261da6eac8>\n",
      "7 <__main__.Node object at 0x7f261d3ab320>\n",
      "8 <__main__.Node object at 0x7f261d3abb70>\n",
      "9 <__main__.Node object at 0x7f261d3b1550>\n",
      "10 <__main__.Node object at 0x7f261d382ef0>\n",
      "11 <__main__.Node object at 0x7f261d32bc18>\n",
      "12 <__main__.Node object at 0x7f261d2f2780>\n",
      "13 <__main__.Node object at 0x7f261d346be0>\n",
      "14 <__main__.Node object at 0x7f261d32b940>\n",
      "15 <__main__.Node object at 0x7f261d166ac8>\n",
      "16 <__main__.Node object at 0x7f261d1d4f28>\n",
      "17 <__main__.Node object at 0x7f261d1c1be0>\n",
      "18 <__main__.Node object at 0x7f261d13f748>\n",
      "19 <__main__.Node object at 0x7f261d191ba8>\n",
      "20 <__main__.Node object at 0x7f261d1c1e80>\n",
      "21 <__main__.Node object at 0x7f261d070710>\n",
      "22 <__main__.Node object at 0x7f261d07bcf8>\n",
      "23 <__main__.Node object at 0x7f261cfe6cf8>\n",
      "24 <__main__.Node object at 0x7f261cff4da0>\n",
      "25 <__main__.Node object at 0x7f261d01ceb8>\n",
      "26 <__main__.Node object at 0x7f261cfdb048>\n",
      "27 <__main__.Node object at 0x7f261cf54908>\n",
      "28 <__main__.Node object at 0x7f261cf60320>\n",
      "29 <__main__.Node object at 0x7f261cee19e8>\n",
      "30 <__main__.Node object at 0x7f261cf4c6d8>\n",
      "[ 0.09390184  3.61185613  0.62750851  3.43639593  4.84275427 -0.47150165\n",
      "  0.95075923  2.23568397  1.42942549  1.08083894  0.26159251  2.41965239\n",
      "  1.71336407  3.70417888  2.74912344  1.89538801  3.73426261 -0.75228848\n",
      "  3.30760299  0.88488029  0.95640079  1.4644507   2.28918056  0.79484864\n",
      "  3.16664598  0.02977441  0.16394164  4.01201613  1.46010478  3.0388379\n",
      "  1.55310902  2.68226276  2.76633637  1.84781913  1.48391445  1.93908876\n",
      "  3.26100304  1.83676052  1.12425721  3.33135173  2.85685421  0.94948783\n",
      "  3.4809359   1.24572098  3.79808535  0.48151322  2.96235926  0.66649292\n",
      "  4.10869878 -1.26480014  4.45147904 -0.09811454  0.80596283  2.60976858\n",
      "  4.14940124 -0.30667309  1.10518545  1.22464593  1.05757113  2.21158107\n",
      " -0.03911938  3.88212967]\n",
      "[ 2.90471998 -0.46238541  0.19894039  1.60419299  2.28079888  0.39199589\n",
      "  0.65234768  1.02230916  3.24384192 -0.02543932  0.91492334  2.31313483\n",
      "  1.91330875  2.35851615  1.1596125   3.62604634  5.04390753 -0.58835109\n",
      "  5.81787818 -0.35539484  1.17898033  2.04786379  0.15825582  3.57177705\n",
      "  3.01375515  1.39479633  2.56060123  0.3564929   2.55577857  2.35163753\n",
      "  0.43816304  3.84471039  4.57078845 -0.38286613  3.28064719  0.60581737\n",
      "  3.94176584 -0.0541634   3.33953525 -0.02099763  3.43994151 -0.5570899\n",
      "  0.75358495  1.8624895   1.70217165  2.43019321  2.61638147  2.00225515\n",
      "  1.21966011  1.11722883  1.88589309  1.84994412 -0.250125    3.31924539\n",
      "  4.88150311 -0.37977096  0.18201488  3.0080478  -2.06942221  4.9818897\n",
      "  0.62775181  2.30190703]\n"
     ]
    }
   ],
   "source": [
    "def projectTree2(feat, tree, numClus=2):\n",
    "    \n",
    "    projectionSpace = np.zeros([feat.shape[0], tree.numNodes*numClus])\n",
    "    \n",
    "    for i, n in enumerate(tree.listOfNodes):\n",
    "        f = dataProjection(feat, n)\n",
    "        f = f\n",
    "        projectionSpace[:, i*2:i*2+2] = f\n",
    "        print(i, n)\n",
    "    return projectionSpace\n",
    "\n",
    "projectionSpace2 = projectTree2(feat, tree, numClus=2)\n",
    "thres = np.median(projectionSpace2, axis =0)\n",
    "print(projectionSpace2[100,:])\n",
    "print(projectionSpace2[4141,:])"
   ]
  },
  {
   "cell_type": "code",
   "execution_count": 147,
   "metadata": {},
   "outputs": [
    {
     "name": "stdout",
     "output_type": "stream",
     "text": [
      "[ 0.98756601 -0.15720487  0.12307001  0.99239799  0.98555008  0.16938432\n",
      "  0.53792408  0.84299329  0.99996925 -0.0078421   0.36780775  0.92990186\n",
      "  0.63000028  0.77659491]\n"
     ]
    }
   ],
   "source": [
    "print(projectionSpace[4141,:])"
   ]
  },
  {
   "cell_type": "code",
   "execution_count": 156,
   "metadata": {},
   "outputs": [
    {
     "data": {
      "text/plain": [
       "<matplotlib.collections.PathCollection at 0x7f261c7875c0>"
      ]
     },
     "execution_count": 156,
     "metadata": {},
     "output_type": "execute_result"
    },
    {
     "data": {
      "image/png": "[encoded data removed]",
      "text/plain": [
       "<Figure size 432x288 with 1 Axes>"
      ]
     },
     "metadata": {
      "needs_background": "light"
     },
     "output_type": "display_data"
    }
   ],
   "source": [
    "ind1 = 2\n",
    "ind2 = 3\n",
    "pt = 2556 #4141\n",
    "plt.scatter(projectionSpace2[:, ind1], projectionSpace2[:, ind2], alpha = 0.01)\n",
    "plt.scatter(projectionSpace2[pt, ind1], projectionSpace2[pt, ind2], alpha = 1)"
   ]
  },
  {
   "cell_type": "code",
   "execution_count": 115,
   "metadata": {},
   "outputs": [
    {
     "name": "stdout",
     "output_type": "stream",
     "text": [
      "0.0\n",
      "[0.00000000e+00 1.18393573e-04 3.34363631e-04 5.50171235e-04\n",
      " 9.63714506e-04 1.27079430e-03 1.44008749e-03 2.17611389e-03\n",
      " 2.33062295e-03 2.61904832e-03 3.15240935e-03 3.25999011e-03\n",
      " 3.60488723e-03 3.65311059e-03 3.75540494e-03 4.04802625e-03\n",
      " 4.69213832e-03 4.99105025e-03 6.09711761e-03 6.13279885e-03\n",
      " 6.36485639e-03 6.39673546e-03 7.20282367e-03 7.20296807e-03\n",
      " 7.35392977e-03 7.38339823e-03 7.78478874e-03 8.09009341e-03\n",
      " 8.54877187e-03 8.94475054e-03 9.91623289e-03 9.99289712e-03\n",
      " 1.01010510e-02 1.02404635e-02 1.06005876e-02 1.11578140e-02\n",
      " 1.11746114e-02 1.17924292e-02 1.20040378e-02 1.20327959e-02\n",
      " 1.22457049e-02 1.25457901e-02 1.25709604e-02 1.29139615e-02\n",
      " 1.30648159e-02 1.38700806e-02 1.41006101e-02 1.41816260e-02\n",
      " 1.46118554e-02 1.47286412e-02 1.55177272e-02 1.56991661e-02\n",
      " 1.59785497e-02 1.63716880e-02 1.68370278e-02 1.69885210e-02\n",
      " 1.71670026e-02 1.74791848e-02 1.81676039e-02 1.83549858e-02\n",
      " 1.84045186e-02 1.89892783e-02 1.90246005e-02 2.01926255e-02\n",
      " 2.01934323e-02 2.04780170e-02 2.07170044e-02 2.08452212e-02\n",
      " 2.19085169e-02 2.22226834e-02 2.26024069e-02 2.26571074e-02\n",
      " 2.31350976e-02 2.31568828e-02 2.37309874e-02 2.41229382e-02\n",
      " 2.46262946e-02 2.52577005e-02 2.56730772e-02 2.58083024e-02\n",
      " 2.62519862e-02 2.67366317e-02 2.72699873e-02 2.78987440e-02\n",
      " 2.80208530e-02 2.82750617e-02 2.89872636e-02 2.90519745e-02\n",
      " 2.91883469e-02 2.92061173e-02 3.01962079e-02 3.06541721e-02\n",
      " 3.11834198e-02 3.12394328e-02 3.18154086e-02 3.19760925e-02\n",
      " 3.22153930e-02 3.22328053e-02 3.41772331e-02 3.49099772e-02\n",
      " 3.51624494e-02 3.56511055e-02 3.57650511e-02 3.66851593e-02\n",
      " 3.68062209e-02 3.81257236e-02 3.88036963e-02 3.95067784e-02\n",
      " 4.00423737e-02 4.06946814e-02 4.21492556e-02 4.23787660e-02\n",
      " 4.26117020e-02 4.35495234e-02 4.50649290e-02 4.51405532e-02\n",
      " 4.51799539e-02 4.54284336e-02 4.56211479e-02 4.56256287e-02\n",
      " 4.57038250e-02 4.89115957e-02 4.93832932e-02 4.95683792e-02\n",
      " 5.06750687e-02 5.09692837e-02 5.14163931e-02 5.15690494e-02\n",
      " 5.17476898e-02 5.19572920e-02 5.25798888e-02 5.43463662e-02\n",
      " 5.47267479e-02 5.53149602e-02 5.75009127e-02 5.79888193e-02\n",
      " 5.82574801e-02 5.93265486e-02 6.03430512e-02 6.12978519e-02\n",
      " 6.21435266e-02 6.23480888e-02 6.41169974e-02 6.43917756e-02\n",
      " 6.54023082e-02 6.65449580e-02 6.69846455e-02 6.72635643e-02\n",
      " 6.81202442e-02 6.91441793e-02 7.30242615e-02 7.35024019e-02\n",
      " 7.50467836e-02 7.62595045e-02 7.64127971e-02 7.74825920e-02\n",
      " 7.99349112e-02 8.03773539e-02 8.17522808e-02 8.28907388e-02\n",
      " 8.33847656e-02 8.46649679e-02 8.52725885e-02 9.11106887e-02\n",
      " 9.26760623e-02 9.36701599e-02 9.68769245e-02 1.00361724e-01\n",
      " 1.01640880e-01 1.03481171e-01 1.04409415e-01 1.04707899e-01\n",
      " 1.05613810e-01 1.05969516e-01 1.07261721e-01 1.07377627e-01\n",
      " 1.07639211e-01 1.09818643e-01 1.15168193e-01 1.24878517e-01\n",
      " 1.24900088e-01 1.26548770e-01 1.26585595e-01 1.28219379e-01\n",
      " 1.31752690e-01 1.48340422e-01 1.57701654e-01 1.71894318e-01\n",
      " 1.91065015e-01 1.92137732e-01 2.00538616e-01 2.09672437e-01\n",
      " 2.14879519e-01 2.36979370e-01 2.56668950e-01 3.01012357e-01\n",
      " 3.62022591e-01 3.67433091e-01 3.82008571e-01 5.17119885e-01]\n",
      "[0.         0.         0.         ... 0.36743309 0.38200857 0.51711989]\n"
     ]
    }
   ],
   "source": [
    "e = np.sort(err_store)\n",
    "\n",
    "print(np.median(e))\n",
    "print(e[5000:])\n",
    "print(np.sort(err_store))"
   ]
  },
  {
   "cell_type": "code",
   "execution_count": null,
   "metadata": {},
   "outputs": [],
   "source": [
    "print(tree.listOfLayers[-1].nodeList)\n",
    "\n",
    "scores = np.zeros(len(tree.listOfLayers[-1].nodeList))\n",
    "for i in range(tree.listOfLayers[-1].nodeList):"
   ]
  }
 ],
 "metadata": {
  "kernelspec": {
   "display_name": "Python 3",
   "language": "python",
   "name": "python3"
  },
  "language_info": {
   "codemirror_mode": {
    "name": "ipython",
    "version": 3
   },
   "file_extension": ".py",
   "mimetype": "text/x-python",
   "name": "python",
   "nbconvert_exporter": "python",
   "pygments_lexer": "ipython3",
   "version": "3.6.9"
  }
 },
 "nbformat": 4,
 "nbformat_minor": 4
}
