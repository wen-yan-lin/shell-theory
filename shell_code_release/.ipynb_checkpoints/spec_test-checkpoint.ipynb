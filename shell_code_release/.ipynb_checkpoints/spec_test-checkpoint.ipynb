{
 "cells": [
  {
   "cell_type": "code",
   "execution_count": 278,
   "metadata": {},
   "outputs": [],
   "source": [
    "from keras.preprocessing import image\n",
    "from keras.applications.vgg16 import VGG16\n",
    "from keras.applications.vgg16 import preprocess_input\n",
    "from keras import backend as K\n",
    "import numpy as np\n",
    "\n",
    "import dirUtil \n",
    "from highDimLearning import vgg2feat\n",
    "\n",
    "import tensorflow as tf\n",
    "\n",
    "from sklearn.metrics.pairwise import euclidean_distances\n",
    "\n",
    "import matplotlib.pyplot as plt\n",
    "\n",
    "\n",
    "import os\n",
    "import random \n",
    "    \n",
    "\n",
    "def feat2labels(feat):\n",
    "    numClass = len(feat)\n",
    "    numDim = feat[0].shape[1]\n",
    "    numPts = 0\n",
    "    for i in range(numClass):\n",
    "        numPts = numPts + feat[i].shape[0]\n",
    "\n",
    "    allFeat = np.zeros([numPts, numDim])\n",
    "    allLabels = np.zeros(numPts, dtype = int)\n",
    "    cur = 0\n",
    "    for i in range(numClass):\n",
    "        allFeat[cur:cur+feat[i].shape[0],:] = feat[i]\n",
    "        allLabels[cur:cur+feat[i].shape[0]] = i\n",
    "        cur = cur + feat[i].shape[0]\n",
    "    return allFeat, allLabels\n",
    "        \n",
    "    \n",
    "def readNetVlad(folder, numDim =4096):\n",
    "    folderName = os.path.basename(os.path.normpath(folder))\n",
    "    print(folderName)\n",
    "    file = folder +'/vd16_pitts30k_conv5_3_vlad_preL2_intra_white_' +folderName + '_db.bin'    \n",
    "    data = np.fromfile(file, '<f4')\n",
    "    numPts = int(len(data)/numDim)\n",
    "    return np.reshape(data, [numPts, numDim])\n",
    "\n",
    "from scipy.optimize import linear_sum_assignment\n",
    "\n",
    "def cluster_acc(Y_pred, Y):\n",
    "    assert Y_pred.size == Y.size\n",
    "    D = max(Y_pred.max(), Y.max())+1\n",
    "    w = np.zeros((D,D), dtype=np.int64)\n",
    "    for i in range(Y_pred.size):\n",
    "        w[Y_pred[i], Y[i]] += 1\n",
    "    \n",
    "    row_ind, col_ind = linear_sum_assignment(w.max() - w)\n",
    "    \n",
    "    print(w[row_ind,col_ind])\n",
    "    return w[row_ind,col_ind].sum()/Y_pred.size, w\n",
    "\n",
    "\n",
    "\n",
    "feat = np.load('/media/daniel/D/Data/STL-10/feats_2048.npy')\n",
    "gt = np.load('/media/daniel/D/Data/STL-10/labels_2048.npy')-1\n",
    "\n",
    "mask = gt<10#np.logical_or(gt==0, gt==1)\n",
    "feat = feat[mask,:]\n",
    "gt = gt[mask]"
   ]
  },
  {
   "cell_type": "code",
   "execution_count": 279,
   "metadata": {},
   "outputs": [],
   "source": [
    "from sklearn.metrics import pairwise_distances\n",
    "new_feat = feat/np.linalg.norm(feat, axis =1, keepdims=True)\n",
    "\n"
   ]
  },
  {
   "cell_type": "code",
   "execution_count": 312,
   "metadata": {},
   "outputs": [],
   "source": [
    "from PIL import Image\n",
    "import copy\n",
    "from sklearn.cluster import spectral_clustering\n",
    "from sklearn.metrics import pairwise_distances\n",
    "\n",
    "def high_dim_spectrum(feat, sig =0.1, max_val=None, labels=None):\n",
    "    new_feat = copy.copy(feat)\n",
    "    if labels is not None:\n",
    "        num_clus = np.max(labels)+1\n",
    "        num_cur = 0\n",
    "        for i in range(num_clus):\n",
    "            mask = labels == i\n",
    "            num_new = sum(mask)\n",
    "            new_feat[num_cur:num_cur+num_new,:] = feat[mask,:]\n",
    "            num_cur = num_cur + num_new\n",
    "\n",
    "    mat = pairwise_distances(new_feat)\n",
    "    \n",
    "    if max_val is None:\n",
    "        max_val = np.percentile(mat[:], 75)\n",
    "        max_val = max_val #-0.15*max_val\n",
    "        print(max_val)\n",
    "        \n",
    "    mat[mat>max_val] = max_val\n",
    "    \n",
    "    mat = 1-np.exp(-np.square(mat -max_val)/(sig*sig))\n",
    "    return mat\n",
    "    \n",
    "\n",
    "def normal_spectrum(feat, sig =0.1, max_val=1.2, labels=None):\n",
    "    new_feat = copy.copy(feat)\n",
    "    if labels is not None:\n",
    "        num_clus = np.max(labels)+1\n",
    "        num_cur = 0\n",
    "        for i in range(num_clus):\n",
    "            mask = labels == i\n",
    "            num_new = sum(mask)\n",
    "            new_feat[num_cur:num_cur+num_new,:] = new_feat[mask,:]\n",
    "            num_cur = num_cur + num_new\n",
    "\n",
    "    mat = pairwise_distances(new_feat)\n",
    "    mat = np.exp( -(mat*mat)/sig*sig)\n",
    "    return mat\n",
    "    \n",
    "      \n",
    "    \n",
    "    \n",
    "\n",
    "# def arrange_by_labels(mat, labels):\n",
    "#     num_clus = np.max(labels)+1\n",
    "#     new_mat = np.zeros(mat.shape)\n",
    "#     num_cur = 0\n",
    "#     for i in range(num_clus):\n",
    "#         mask = labels == i\n",
    "#         num_new = sum(mask)\n",
    "#         new_mat[num_cur:num_cur+num_new,num_cur:num_cur+num_new] = mat[mask,mask] \n",
    "#         num_cur = num_cur + num_new\n",
    "#     return new_mat\n",
    "\n",
    "def mat2image(mat):\n",
    "    img = Image.fromarray(255*mat/np.max(mat))\n",
    "    img = img.resize((700,700))\n",
    "    img.show()\n",
    "    return img\n",
    "\n"
   ]
  },
  {
   "cell_type": "code",
   "execution_count": 317,
   "metadata": {},
   "outputs": [
    {
     "name": "stdout",
     "output_type": "stream",
     "text": [
      "1.3092960591223124\n",
      "1.3092960591223124\n"
     ]
    }
   ],
   "source": [
    "aff = high_dim_spectrum(new_feat, sig=1)\n",
    "labels = spectral_clustering(aff, n_clusters=2,n_components=2)\n",
    "aff_test = high_dim_spectrum(new_feat, labels=labels, sig=1)\n"
   ]
  },
  {
   "cell_type": "code",
   "execution_count": 318,
   "metadata": {},
   "outputs": [
    {
     "name": "stdout",
     "output_type": "stream",
     "text": [
      "0.9925384615384616\n"
     ]
    }
   ],
   "source": [
    "from cluster_eval import eval_labels\n",
    "image = mat2image(aff_test)\n",
    "purity, mean_average_precision = eval_labels(labels, gt.astype(int), np.zeros(labels.size))\n",
    "print(purity)"
   ]
  },
  {
   "cell_type": "code",
   "execution_count": 269,
   "metadata": {},
   "outputs": [
    {
     "data": {
      "text/plain": [
       "(array([3882.,    0.,    0.,    0.,    0.,    0.,    0.,    0.,    0.,\n",
       "        2618.]),\n",
       " array([0. , 0.1, 0.2, 0.3, 0.4, 0.5, 0.6, 0.7, 0.8, 0.9, 1. ]),\n",
       " <a list of 10 Patch objects>)"
      ]
     },
     "execution_count": 269,
     "metadata": {},
     "output_type": "execute_result"
    },
    {
     "data": {
      "image/png": "[encoded data removed]",
      "text/plain": [
       "<Figure size 432x288 with 1 Axes>"
      ]
     },
     "metadata": {
      "needs_background": "light"
     },
     "output_type": "display_data"
    }
   ],
   "source": [
    "plt.hist(labels)"
   ]
  },
  {
   "cell_type": "code",
   "execution_count": 321,
   "metadata": {},
   "outputs": [
    {
     "name": "stdout",
     "output_type": "stream",
     "text": [
      "1.2780368686693666\n",
      "1.2780368686693666\n"
     ]
    }
   ],
   "source": [
    "# second layer\n",
    "mask = labels ==1\n",
    "\n",
    "aff = high_dim_spectrum(new_feat[mask,:],sig=1)\n",
    "labels2 = spectral_clustering(aff, n_clusters=2, n_components=2)\n",
    "aff_test = high_dim_spectrum(new_feat[mask,:], labels=labels2, sig=1)\n"
   ]
  },
  {
   "cell_type": "code",
   "execution_count": 322,
   "metadata": {},
   "outputs": [
    {
     "name": "stdout",
     "output_type": "stream",
     "text": [
      "0.8786305058665128\n"
     ]
    }
   ],
   "source": [
    "purity, mean_average_precision = eval_labels(labels2, gt[mask].astype(int), np.zeros(labels2.size))\n",
    "print(purity)\n",
    "image = mat2image(aff_test)"
   ]
  },
  {
   "cell_type": "code",
   "execution_count": 311,
   "metadata": {},
   "outputs": [
    {
     "data": {
      "text/plain": [
       "(array([4501.,    0.,    0.,    0.,    0.,    0.,    0.,    0.,    0.,\n",
       "         739.]),\n",
       " array([0. , 0.1, 0.2, 0.3, 0.4, 0.5, 0.6, 0.7, 0.8, 0.9, 1. ]),\n",
       " <a list of 10 Patch objects>)"
      ]
     },
     "execution_count": 311,
     "metadata": {},
     "output_type": "execute_result"
    },
    {
     "data": {
      "image/png": "[encoded data removed]",
      "text/plain": [
       "<Figure size 432x288 with 1 Axes>"
      ]
     },
     "metadata": {
      "needs_background": "light"
     },
     "output_type": "display_data"
    }
   ],
   "source": [
    "#np.sum(np.logical_and(labels2==1, gt[mask]==9) )\n",
    "plt.hist(labels2)"
   ]
  },
  {
   "cell_type": "code",
   "execution_count": 149,
   "metadata": {},
   "outputs": [],
   "source": [
    "from sklearn.cluster import SpectralClustering\n",
    "\n",
    "trad_spec = SpectralClustering(n_clusters=10)\n",
    "trad_spec.fit(new_feat)\n",
    "labels = trad_spec.labels_\n"
   ]
  },
  {
   "cell_type": "code",
   "execution_count": 150,
   "metadata": {},
   "outputs": [
    {
     "name": "stdout",
     "output_type": "stream",
     "text": [
      "0.7620769230769231\n"
     ]
    }
   ],
   "source": [
    "from cluster_eval import eval_labels\n",
    "\n",
    "purity, mean_average_precision = eval_labels(labels, gt.astype(int), np.zeros(labels.size))\n",
    "print(purity)"
   ]
  },
  {
   "cell_type": "code",
   "execution_count": 139,
   "metadata": {},
   "outputs": [
    {
     "name": "stdout",
     "output_type": "stream",
     "text": [
      "1.1712020409586874\n",
      "1360\n",
      "[1 1 1 ... 0 0 0]\n",
      "[0. 0. 0. ... 9. 9. 9.]\n"
     ]
    }
   ],
   "source": [
    "aff_test = high_dim_spectrum(new_feat[mask,:], labels=gt[mask].astype(int))\n",
    "#aff_test = high_dim_spectrum(new_feat[mask,:], labels=gt[mask].astype(int))\n",
    "\n",
    "print(sum(labels2==1))\n",
    "\n",
    "print(labels2)\n",
    "print(gt[mask])\n",
    "image = mat2image(aff_test)"
   ]
  },
  {
   "cell_type": "code",
   "execution_count": 167,
   "metadata": {},
   "outputs": [
    {
     "data": {
      "text/plain": [
       "<matplotlib.collections.PathCollection at 0x7f081e88e940>"
      ]
     },
     "execution_count": 167,
     "metadata": {},
     "output_type": "execute_result"
    },
    {
     "data": {
      "image/png": "[encoded data removed]",
      "text/plain": [
       "<Figure size 432x288 with 1 Axes>"
      ]
     },
     "metadata": {
      "needs_background": "light"
     },
     "output_type": "display_data"
    }
   ],
   "source": [
    "plt.scatter(labels2, gt[mask], alpha =0.002)"
   ]
  },
  {
   "cell_type": "code",
   "execution_count": 27,
   "metadata": {},
   "outputs": [],
   "source": [
    "\n",
    "\n",
    "new_mat = arrange_by_labels(mat, labels)\n",
    "image = mat2image(new_mat)"
   ]
  },
  {
   "cell_type": "code",
   "execution_count": 9,
   "metadata": {},
   "outputs": [
    {
     "name": "stdout",
     "output_type": "stream",
     "text": [
      "<PIL.Image.Image image mode=F size=700x700 at 0x7FA5DC5EFFD0>\n"
     ]
    }
   ],
   "source": [
    "from PIL import Image\n",
    "\n",
    "img = Image.fromarray(255*mat/np.max(mat))\n",
    "img = img.resize((700,700))\n",
    "img.show()\n",
    "print(img)\n"
   ]
  },
  {
   "cell_type": "code",
   "execution_count": 102,
   "metadata": {},
   "outputs": [
    {
     "data": {
      "text/plain": [
       "MSTClustering(approximate=False, cutoff=None, cutoff_scale=0.85,\n",
       "              metric='euclidean', metric_params=None, min_cluster_size=500,\n",
       "              n_neighbors=10)"
      ]
     },
     "execution_count": 102,
     "metadata": {},
     "output_type": "execute_result"
    }
   ],
   "source": [
    "from mst_clustering import MSTClustering\n",
    "\n",
    "\n",
    "new_feat = feat/np.linalg.norm(feat, axis =1, keepdims=True)\n",
    "noisy_model = MSTClustering(cutoff_scale=0.85, n_neighbors=10, min_cluster_size=500,  approximate=False)\n",
    "noisy_model.fit(new_feat)\n",
    "#plot_mst(noisy_model)\n"
   ]
  },
  {
   "cell_type": "code",
   "execution_count": 103,
   "metadata": {},
   "outputs": [],
   "source": [
    "labels = noisy_model.fit_predict(new_feat)\n"
   ]
  },
  {
   "cell_type": "code",
   "execution_count": 104,
   "metadata": {},
   "outputs": [
    {
     "name": "stdout",
     "output_type": "stream",
     "text": [
      "3359\n",
      "0 3359\n"
     ]
    }
   ],
   "source": [
    "for i in range(max(labels)+1):\n",
    "    num = sum(labels==i)\n",
    "    print(num)\n",
    "    if num> 100:\n",
    "        print(i,num)\n",
    "\n"
   ]
  },
  {
   "cell_type": "code",
   "execution_count": 105,
   "metadata": {},
   "outputs": [
    {
     "name": "stdout",
     "output_type": "stream",
     "text": [
      "[ 0 -1 -1  0 -1  0  0  0  0  0  0 -1 -1  0  0  0  0  0  0 -1  0  0  0  0\n",
      "  0  0 -1  0 -1  0  0  0 -1  0  0  0  0  0  0  0  0 -1  0  0  0  0  0  0\n",
      "  0  0  0  0  0 -1  0  0  0  0  0  0  0  0  0  0  0  0  0  0  0  0 -1 -1\n",
      "  0  0 -1  0  0  0  0  0  0 -1  0  0 -1  0  0  0  0  0  0  0  0  0  0  0\n",
      "  0  0  0  0  0  0 -1 -1  0  0  0  0 -1  0  0  0  0  0  0 -1  0  0  0  0\n",
      "  0 -1  0  0  0  0  0  0  0  0  0  0  0  0 -1  0  0  0  0  0  0  0  0  0\n",
      "  0  0  0  0 -1  0  0  0  0 -1  0  0  0  0  0  0  0  0  0  0 -1  0  0 -1\n",
      "  0  0  0 -1  0  0  0  0 -1  0  0  0  0  0 -1  0  0  0  0  0  0 -1 -1 -1\n",
      "  0  0  0  0  0  0  0 -1  0  0  0  0  0  0  0  0  0  0  0  0  0  0  0  0\n",
      "  0  0  0  0  0  0  0  0  0  0  0  0  0  0  0  0  0  0 -1  0  0  0  0  0\n",
      "  0  0  0 -1  0  0 -1 -1  0  0  0  0  0  0  0  0  0  0 -1  0 -1  0 -1  0\n",
      "  0  0  0  0  0  0  0  0  0  0  0 -1  0  0  0  0 -1  0  0  0  0  0  0  0\n",
      "  0  0  0  0  0  0  0  0  0 -1  0  0  0  0  0  0  0  0  0  0  0  0  0  0\n",
      "  0  0  0  0  0  0  0  0  0  0  0  0  0  0  0  0  0 -1  0  0  0  0  0  0\n",
      " -1 -1  0 -1 -1  0  0  0  0  0  0  0  0  0  0  0  0  0  0  0  0  0  0 -1\n",
      "  0  0  0  0  0  0  0 -1 -1  0  0  0  0 -1  0  0  0  0  0  0  0  0 -1  0\n",
      " -1  0 -1  0  0  0 -1  0 -1  0  0  0 -1  0  0  0  0  0 -1 -1  0  0  0 -1\n",
      "  0  0  0  0  0  0  0  0  0  0  0  0  0  0  0 -1 -1  0  0  0  0  0 -1  0\n",
      " -1  0  0  0  0  0  0  0  0  0  0  0  0  0  0  0  0 -1  0  0  0  0  0  0\n",
      "  0  0  0  0  0 -1  0  0  0  0  0  0  0  0  0  0 -1  0  0  0  0  0  0 -1\n",
      " -1  0  0  0 -1  0  0  0  0  0  0  0  0  0  0  0  0  0 -1  0]\n"
     ]
    }
   ],
   "source": [
    "print(labels[:500])"
   ]
  },
  {
   "cell_type": "code",
   "execution_count": null,
   "metadata": {},
   "outputs": [],
   "source": []
  },
  {
   "cell_type": "code",
   "execution_count": 106,
   "metadata": {},
   "outputs": [
    {
     "name": "stdout",
     "output_type": "stream",
     "text": [
      "[-1  0 -1 ...  0 -1 -1]\n"
     ]
    }
   ],
   "source": [
    "print(labels[1300:])"
   ]
  },
  {
   "cell_type": "code",
   "execution_count": 100,
   "metadata": {},
   "outputs": [
    {
     "ename": "ValueError",
     "evalue": "graph should be a square array",
     "output_type": "error",
     "traceback": [
      "\u001b[0;31m---------------------------------------------------------------------------\u001b[0m",
      "\u001b[0;31mValueError\u001b[0m                                Traceback (most recent call last)",
      "\u001b[0;32m<ipython-input-100-5ff421902dbb>\u001b[0m in \u001b[0;36m<module>\u001b[0;34m\u001b[0m\n\u001b[1;32m      5\u001b[0m                 \u001b[0;34m[\u001b[0m\u001b[0;36m0\u001b[0m\u001b[0;34m,\u001b[0m \u001b[0;36m0\u001b[0m\u001b[0;34m,\u001b[0m \u001b[0;36m0\u001b[0m\u001b[0;34m,\u001b[0m \u001b[0;36m6\u001b[0m\u001b[0;34m]\u001b[0m\u001b[0;34m,\u001b[0m\u001b[0;34m\u001b[0m\u001b[0;34m\u001b[0m\u001b[0m\n\u001b[1;32m      6\u001b[0m                 [0, 0, 0, 0]])\n\u001b[0;32m----> 7\u001b[0;31m \u001b[0mTcsr\u001b[0m \u001b[0;34m=\u001b[0m \u001b[0mminimum_spanning_tree\u001b[0m\u001b[0;34m(\u001b[0m\u001b[0mnew_feat\u001b[0m\u001b[0;34m)\u001b[0m\u001b[0;34m\u001b[0m\u001b[0;34m\u001b[0m\u001b[0m\n\u001b[0m\u001b[1;32m      8\u001b[0m \u001b[0mTcsr\u001b[0m\u001b[0;34m.\u001b[0m\u001b[0mtoarray\u001b[0m\u001b[0;34m(\u001b[0m\u001b[0;34m)\u001b[0m\u001b[0;34m.\u001b[0m\u001b[0mastype\u001b[0m\u001b[0;34m(\u001b[0m\u001b[0mint\u001b[0m\u001b[0;34m)\u001b[0m\u001b[0;34m\u001b[0m\u001b[0;34m\u001b[0m\u001b[0m\n",
      "\u001b[0;32m_min_spanning_tree.pyx\u001b[0m in \u001b[0;36mscipy.sparse.csgraph._min_spanning_tree.minimum_spanning_tree\u001b[0;34m()\u001b[0m\n",
      "\u001b[0;32m~/.local/lib/python3.6/site-packages/scipy/sparse/csgraph/_validation.py\u001b[0m in \u001b[0;36mvalidate_graph\u001b[0;34m(csgraph, directed, dtype, csr_output, dense_output, copy_if_dense, copy_if_sparse, null_value_in, null_value_out, infinity_null, nan_null)\u001b[0m\n\u001b[1;32m     48\u001b[0m             csgraph = csgraph_from_dense(csgraph, null_value=null_value_in,\n\u001b[1;32m     49\u001b[0m                                          \u001b[0minfinity_null\u001b[0m\u001b[0;34m=\u001b[0m\u001b[0minfinity_null\u001b[0m\u001b[0;34m,\u001b[0m\u001b[0;34m\u001b[0m\u001b[0;34m\u001b[0m\u001b[0m\n\u001b[0;32m---> 50\u001b[0;31m                                          nan_null=nan_null)\n\u001b[0m\u001b[1;32m     51\u001b[0m \u001b[0;34m\u001b[0m\u001b[0m\n\u001b[1;32m     52\u001b[0m     \u001b[0;32mif\u001b[0m \u001b[0mcsgraph\u001b[0m\u001b[0;34m.\u001b[0m\u001b[0mndim\u001b[0m \u001b[0;34m!=\u001b[0m \u001b[0;36m2\u001b[0m\u001b[0;34m:\u001b[0m\u001b[0;34m\u001b[0m\u001b[0;34m\u001b[0m\u001b[0m\n",
      "\u001b[0;32m_tools.pyx\u001b[0m in \u001b[0;36mscipy.sparse.csgraph._tools.csgraph_from_dense\u001b[0;34m()\u001b[0m\n",
      "\u001b[0;32m_tools.pyx\u001b[0m in \u001b[0;36mscipy.sparse.csgraph._tools.csgraph_masked_from_dense\u001b[0;34m()\u001b[0m\n",
      "\u001b[0;31mValueError\u001b[0m: graph should be a square array"
     ]
    }
   ],
   "source": [
    "from scipy.sparse import csr_matrix\n",
    "from scipy.sparse.csgraph import minimum_spanning_tree\n",
    "X = csr_matrix([[0, 8, 0, 3],\n",
    "                [0, 0, 2, 5],\n",
    "                [0, 0, 0, 6],\n",
    "                [0, 0, 0, 0]])\n",
    "Tcsr = minimum_spanning_tree(new_feat)\n",
    "Tcsr.toarray().astype(int)\n"
   ]
  }
 ],
 "metadata": {
  "kernelspec": {
   "display_name": "Python 3",
   "language": "python",
   "name": "python3"
  },
  "language_info": {
   "codemirror_mode": {
    "name": "ipython",
    "version": 3
   },
   "file_extension": ".py",
   "mimetype": "text/x-python",
   "name": "python",
   "nbconvert_exporter": "python",
   "pygments_lexer": "ipython3",
   "version": "3.6.8"
  }
 },
 "nbformat": 4,
 "nbformat_minor": 4
}
