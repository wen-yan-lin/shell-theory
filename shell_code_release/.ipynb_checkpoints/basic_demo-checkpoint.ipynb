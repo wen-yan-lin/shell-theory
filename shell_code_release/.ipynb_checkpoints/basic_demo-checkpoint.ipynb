{
 "cells": [
  {
   "cell_type": "code",
   "execution_count": 1,
   "metadata": {},
   "outputs": [
    {
     "name": "stdout",
     "output_type": "stream",
     "text": [
      "2021-06-02 16:25:47.652328: I tensorflow/stream_executor/platform/default/dso_loader.cc:48] Successfully opened dynamic library libcudart.so.10.1\n",
      "\n",
      "Demonstrating shell learning on STL-10 data-set with resNet features.\n",
      "\n",
      "Shell Learning  with Raw Features\n",
      "\n",
      "Train time per class:  0.0037471876996278295\n",
      "Test time per class:  0.05177844419959001\n",
      "Mean Accuracy: 0.84925\n",
      "MAP: 0.9156324417249309\n",
      "AUROC: 0.8737882118055555\n",
      "\n",
      "Shell Learning  with Shell Normalization\n",
      "\n",
      "Train time per class:  0.0034250431996042606\n",
      "Test time per class:  0.049756330699892715\n",
      "Mean Accuracy: 0.94625\n",
      "MAP: 0.9909306064883824\n",
      "AUROC: 0.9925069965277779\n",
      "\n",
      "Shell normalization significantly increases accuracy.\n",
      "Shell learning significantly faster than ocsvm (see ocsvm_basic).\n",
      "\n"
     ]
    }
   ],
   "source": [
    "! python3 shell_basic.py"
   ]
  },
  {
   "cell_type": "code",
   "execution_count": null,
   "metadata": {},
   "outputs": [
    {
     "name": "stdout",
     "output_type": "stream",
     "text": [
      "2021-06-02 16:26:09.425632: I tensorflow/stream_executor/platform/default/dso_loader.cc:48] Successfully opened dynamic library libcudart.so.10.1\n",
      "Demonstrating OCSVM on STL-10 data-set with resNet features.\n",
      "\n",
      "Default One Class SVM\n",
      "\n",
      "Train Time:  0.3495492074998765\n",
      "Test Time:  3.395030882500214\n",
      "Mean Accuracy: 0.718375\n",
      "MAP: 0.8369926416697742\n",
      "AUROC: 0.8887877256944444\n",
      "\n",
      "One Class SVM with Shell Normalization and scaling by number of features\n",
      "\n"
     ]
    }
   ],
   "source": [
    "! python3 ocsvm_basic.py"
   ]
  }
 ],
 "metadata": {
  "kernelspec": {
   "display_name": "Python 3",
   "language": "python",
   "name": "python3"
  },
  "language_info": {
   "codemirror_mode": {
    "name": "ipython",
    "version": 3
   },
   "file_extension": ".py",
   "mimetype": "text/x-python",
   "name": "python",
   "nbconvert_exporter": "python",
   "pygments_lexer": "ipython3",
   "version": "3.8.5"
  }
 },
 "nbformat": 4,
 "nbformat_minor": 4
}
