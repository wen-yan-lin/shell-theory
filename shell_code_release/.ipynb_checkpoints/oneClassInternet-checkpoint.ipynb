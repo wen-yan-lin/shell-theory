{
 "cells": [
  {
   "cell_type": "code",
   "execution_count": 5,
   "metadata": {},
   "outputs": [],
   "source": [
    "import numpy as np\n",
    "import tensorflow as tf\n",
    "import matplotlib.pyplot as plt\n",
    "import random\n",
    "import copy\n"
   ]
  },
  {
   "cell_type": "code",
   "execution_count": 9,
   "metadata": {},
   "outputs": [],
   "source": [
    "from sklearn.metrics import roc_auc_score\n",
    "from sklearn.metrics import average_precision_score\n",
    "\n",
    "testFeat = np.load('../STL-10/resNet50.npy')\n",
    "testGt = np.load('../STL-10/gt.npy')\n",
    "\n",
    "\n",
    "\n",
    "trainFeat = np.load('../fake-stl10/resNet50.npy')\n",
    "trainGt = np.load('../fake-stl10/gt.npy')\n",
    "\n",
    "\n"
   ]
  },
  {
   "cell_type": "code",
   "execution_count": 11,
   "metadata": {},
   "outputs": [],
   "source": [
    "from sklearn.svm import OneClassSVM\n",
    "from shellUtil import normIt\n",
    "\n",
    "trainFeat, m = normIt(trainFeat)\n",
    "testFeat,_  = normIt(testFeat, m)\n",
    "\n",
    "# trainFeat = trainFeat/np.linalg.norm(trainFeat, axis=1, keepdims=True)\n",
    "# testFeat = testFeat/np.linalg.norm(testFeat, axis=1, keepdims=True)\n"
   ]
  },
  {
   "cell_type": "code",
   "execution_count": 12,
   "metadata": {},
   "outputs": [
    {
     "name": "stdout",
     "output_type": "stream",
     "text": [
      "The autoreload extension is already loaded. To reload it, use:\n",
      "  %reload_ext autoreload\n",
      "One Class MEAN\n",
      "Mean: 0.875\n",
      "MAP: 0.970654556827957\n",
      "AUROC: 0.9869648356344511\n",
      "ROC: [0.99280874 0.99494609 0.99630276 0.97155782 0.98842515 0.98324622\n",
      " 0.97001065 0.99685191 0.99413491 0.9813641 ]\n",
      "Stacked One Class MEAN\n",
      "Mean: 0.8779230769230769\n",
      "MAP: 0.9710595990994657\n",
      "AUROC: 0.9872145627876397\n",
      "ROC: [0.99249185 0.99548508 0.99648093 0.97149573 0.98855917 0.98443057\n",
      " 0.97078337 0.99683794 0.99414392 0.98143708]\n"
     ]
    }
   ],
   "source": [
    "%load_ext autoreload\n",
    "%autoreload\n",
    "\n",
    "\n",
    "from stackedOneClassMean import evalOneClassMean\n",
    "print('One Class MEAN')\n",
    "evalOneClassMean(testFeat, testGt, trainFeat, trainGt, verboise=True);\n",
    "\n",
    "\n",
    "from stackedOneClassMean import evalStackedOneClassMean\n",
    "print('Stacked One Class MEAN')\n",
    "evalStackedOneClassMean(testFeat, testGt, trainFeat, trainGt, verboise=True);\n"
   ]
  },
  {
   "cell_type": "code",
   "execution_count": null,
   "metadata": {},
   "outputs": [],
   "source": [
    "from stackedOneClassSVM import evalOneClassSVM\n",
    "print('One Class SVM ')\n",
    "evalOneClassSVM(testFeat, testGt, trainFeat, trainGt, verboise=True, divideByNum=True);\n"
   ]
  },
  {
   "cell_type": "code",
   "execution_count": null,
   "metadata": {},
   "outputs": [],
   "source": [
    "from stackedOneClassSVM import evalStackedOneClassSVM\n",
    "print('Stacked One Class SVM')\n",
    "evalStackedOneClassSVM(testFeat, testGt, trainFeat, trainGt, verboise=True);\n"
   ]
  },
  {
   "cell_type": "code",
   "execution_count": null,
   "metadata": {},
   "outputs": [],
   "source": []
  },
  {
   "cell_type": "code",
   "execution_count": null,
   "metadata": {},
   "outputs": [],
   "source": [
    "print('Evaluation Traing and Testing time')\n",
    "print('One-CLASS SVM training and testing is linear in training data, One-Class mean is O(1) in training data')"
   ]
  },
  {
   "cell_type": "code",
   "execution_count": null,
   "metadata": {},
   "outputs": [],
   "source": [
    "from sklearn.svm import LinearSVC\n",
    "clf = LinearSVC(random_state=0, tol=1e-5)\n",
    "clf.fit(trainFeat, trainGt);\n"
   ]
  },
  {
   "cell_type": "code",
   "execution_count": null,
   "metadata": {},
   "outputs": [],
   "source": [
    "print('Linear SVM')\n",
    "labelEst = clf.predict(testFeat)\n",
    "scoreSVM = clf.decision_function(testFeat)\n",
    "print('Mean:', np.mean(labelEst==testGt))\n",
    "print('Map:', average_precision_score(labelEst==testGt, np.max(scoreSVM, axis=1)))"
   ]
  },
  {
   "cell_type": "code",
   "execution_count": null,
   "metadata": {},
   "outputs": [],
   "source": []
  }
 ],
 "metadata": {
  "kernelspec": {
   "display_name": "Python 3",
   "language": "python",
   "name": "python3"
  },
  "language_info": {
   "codemirror_mode": {
    "name": "ipython",
    "version": 3
   },
   "file_extension": ".py",
   "mimetype": "text/x-python",
   "name": "python",
   "nbconvert_exporter": "python",
   "pygments_lexer": "ipython3",
   "version": "3.6.9"
  }
 },
 "nbformat": 4,
 "nbformat_minor": 4
}
