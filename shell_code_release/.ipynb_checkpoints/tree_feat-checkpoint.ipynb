{
 "cells": [
  {
   "cell_type": "code",
   "execution_count": 1,
   "metadata": {},
   "outputs": [],
   "source": [
    "import numpy as np\n",
    "import tensorflow as tf\n",
    "import matplotlib.pyplot as plt\n",
    "\n",
    "allFeat = np.load('/tf/notebooks/clusteringTree/stl_feat/feats_2048.npy')\n",
    "gtAll = np.load('/tf/notebooks/clusteringTree/stl_feat/labels_2048.npy')-1\n",
    "\n"
   ]
  },
  {
   "cell_type": "code",
   "execution_count": 2,
   "metadata": {},
   "outputs": [],
   "source": [
    "%load_ext autoreload\n",
    "%autoreload\n",
    "\n",
    "from sklearn.cluster import KMeans\n",
    "from clusteringX2 import normIt\n",
    "from clusteringX2 import clusterModel\n",
    "from clusteringX2 import train_step3\n",
    "\n",
    "\n",
    "def clustering(feat, numClass=2):\n",
    "    feat, m = normIt(feat)\n",
    "    \n",
    "    # initilization\n",
    "    kmeans = KMeans(n_clusters=numClass, random_state=0).fit(feat)\n",
    "    labelK = kmeans.predict(feat)\n",
    "    means =np.zeros([numClass, feat.shape[1]])\n",
    "\n",
    "    for i in range(numClass):\n",
    "        mask = labelK == i\n",
    "        means[i,:] = np.mean(feat[mask,:], axis =0)\n",
    "\n",
    "    sigInit = np.zeros([numClass])\n",
    "    for i in range(numClass):\n",
    "        mask = np.logical_not(labelK == i)\n",
    "        sigInit[i] = np.mean(np.matmul(feat[mask,:], np.transpose(means[i,:])))\n",
    "    model = clusterModel(means.transpose(), sigInit)\n",
    "    train_step3(model, feat.astype(\"float32\"), iter =100)\n",
    "    \n",
    "\n",
    "    return model.w.numpy(), model.sig.numpy(), m \n",
    "\n"
   ]
  },
  {
   "cell_type": "code",
   "execution_count": 137,
   "metadata": {},
   "outputs": [],
   "source": [
    "class Node:\n",
    "    def __init__(self, mask=None, w=None, sig=None, m=None):\n",
    "        self.mask = mask\n",
    "        self.w = w\n",
    "        self.sig = sig\n",
    "        self.m = m\n",
    "        \n",
    "\n",
    "    \n",
    "class Layer:\n",
    "    def __init__(self):\n",
    "        self.nodeList = []\n",
    "        \n",
    "class Tree:\n",
    "    def __init__(self):\n",
    "        self.numLayers = 0\n",
    "        self.listOfLayers = []\n",
    "        self.numNodes = 0\n",
    "        self.listOfNodes = []\n",
    "        \n",
    "    def addNode(self, c):\n",
    "        self.listOfNodes.append(c)\n",
    "        self.numNodes = self.numNodes + 1\n",
    "        \n",
    "    def addLayer(self, c):\n",
    "        self.listOfLayers.append(c)\n",
    "        self.numLayers = self.numLayers + 1\n",
    "\n",
    "    \n",
    "def startTree(allFeat, numClass=2, numLayer=2):\n",
    "    tree = Tree()    \n",
    "    w, sig, m = clustering(allFeat, numClass)\n",
    "    mask = np.ones(allFeat.shape[0], dtype=bool)\n",
    "    n = Node(mask, w, sig, m)\n",
    "\n",
    "    tree.addNode(n)\n",
    "    newLayer = Layer()\n",
    "    newLayer.nodeList.append(tree.numNodes-1)\n",
    "    tree.addLayer(newLayer)\n",
    "    \n",
    "    return tree\n",
    "\n",
    "    \n",
    "#mask = np.logical_or(gtAll==0,  gtAll==2)\n",
    "mask = gtAll<10\n",
    "\n",
    "feat = allFeat[mask,:]\n",
    "gt = gtAll[mask]    \n",
    "tree = startTree(feat[::2])\n",
    "gtCoarseAll = np.logical_or.reduce( [gtAll == 0, gtAll == 2, gtAll == 8, gtAll == 9]).astype(int)   \n",
    "gtCoarse = gtCoarseAll[mask]"
   ]
  },
  {
   "cell_type": "code",
   "execution_count": 146,
   "metadata": {},
   "outputs": [
    {
     "data": {
      "image/png": "[encoded data removed]",
      "text/plain": [
       "<Figure size 432x288 with 1 Axes>"
      ]
     },
     "metadata": {
      "needs_background": "light"
     },
     "output_type": "display_data"
    }
   ],
   "source": [
    "def dataProjection(feat, node):\n",
    "    x, _ = normIt(feat, node.m) \n",
    "    return np.matmul(x, node.w) - node.sig\n",
    "\n",
    "\n",
    "    \n",
    "\n",
    "def extendTree(tree, allFeat, numClass=2, clusteringThreshold=50):\n",
    "    newLayer = Layer()\n",
    "    lastLayer = tree.listOfLayers[-1]\n",
    "    for nodeIndex in lastLayer.nodeList:\n",
    "        node = tree.listOfNodes[nodeIndex]\n",
    "        curFeat = allFeat[node.mask,:]\n",
    "        score = dataProjection(curFeat, node)\n",
    "        plt.scatter(score[:,0], score[:,1], alpha=0.1)\n",
    "        \n",
    "        clusterInd = np.argmax(score, axis =1)\n",
    "        curInd = np.where(node.mask)[0]\n",
    "\n",
    "        for i in range(score.shape[1]):\n",
    "            subMask = clusterInd == i\n",
    "            if sum(subMask) > clusteringThreshold:\n",
    "                \n",
    "                newMask =  np.zeros(allFeat.shape[0], dtype=bool)\n",
    "                newMask[curInd[subMask]] = 1\n",
    "                \n",
    "\n",
    "                w, sig, m = clustering(allFeat[newMask,:], numClass)\n",
    "                n = Node(newMask, w, sig, m)\n",
    "                \n",
    "                tree.addNode(n)\n",
    "                newLayer.nodeList.append(tree.numNodes-1)\n",
    "        tree.addLayer(newLayer)\n",
    "\n",
    "\n",
    "        \n",
    "\n",
    "# extendTree(tree, feat)\n",
    "extendTree(tree, feat[::2])\n",
    "\n",
    "# something seems wrong with the hierachy, the error increases too sharply"
   ]
  },
  {
   "cell_type": "code",
   "execution_count": 115,
   "metadata": {},
   "outputs": [
    {
     "name": "stdout",
     "output_type": "stream",
     "text": [
      "0.01553846153846154\n"
     ]
    }
   ],
   "source": [
    "print(np.sum(tree.listOfNodes[-1].mask)/tree.listOfNodes[-1].mask.size)"
   ]
  },
  {
   "cell_type": "code",
   "execution_count": 145,
   "metadata": {},
   "outputs": [
    {
     "name": "stdout",
     "output_type": "stream",
     "text": [
      "0 <__main__.Node object at 0x7f861f39a0b8>\n",
      "1 <__main__.Node object at 0x7f861cda0208>\n",
      "2 <__main__.Node object at 0x7f861cd5f710>\n",
      "3 <__main__.Node object at 0x7f861cb11be0>\n",
      "4 <__main__.Node object at 0x7f861ca5c7f0>\n",
      "5 <__main__.Node object at 0x7f861c963630>\n",
      "6 <__main__.Node object at 0x7f861c865748>\n",
      "7 <__main__.Node object at 0x7f861c6f8dd8>\n",
      "8 <__main__.Node object at 0x7f861c619710>\n",
      "9 <__main__.Node object at 0x7f861c5c0da0>\n",
      "10 <__main__.Node object at 0x7f861c4abf98>\n",
      "11 <__main__.Node object at 0x7f861c507be0>\n",
      "12 <__main__.Node object at 0x7f861c421668>\n",
      "13 <__main__.Node object at 0x7f861c191978>\n",
      "14 <__main__.Node object at 0x7f861bfd67f0>\n",
      "15 <__main__.Node object at 0x7f861be6ed30>\n",
      "16 <__main__.Node object at 0x7f861be0c668>\n",
      "17 <__main__.Node object at 0x7f861bd34e48>\n",
      "18 <__main__.Node object at 0x7f861bbbd5f8>\n",
      "19 <__main__.Node object at 0x7f861bb7b9b0>\n",
      "20 <__main__.Node object at 0x7f861b9c37f0>\n",
      "21 <__main__.Node object at 0x7f861b9848d0>\n",
      "22 <__main__.Node object at 0x7f861b7cc748>\n",
      "23 <__main__.Node object at 0x7f861b64f588>\n",
      "24 <__main__.Node object at 0x7f861b54e6a0>\n",
      "25 <__main__.Node object at 0x7f861b512780>\n",
      "26 <__main__.Node object at 0x7f860db135f8>\n",
      "27 <__main__.Node object at 0x7f860dad45c0>\n",
      "28 <__main__.Node object at 0x7f861b512668>\n",
      "29 <__main__.Node object at 0x7f860d81df60>\n",
      "30 <__main__.Node object at 0x7f860d71e4a8>\n",
      "31 <__main__.Node object at 0x7f860d5b3f98>\n",
      "32 <__main__.Node object at 0x7f860d4fd780>\n",
      "33 <__main__.Node object at 0x7f860d405588>\n",
      "34 <__main__.Node object at 0x7f860d2896a0>\n",
      "35 <__main__.Node object at 0x7f860d2c5780>\n",
      "36 <__main__.Node object at 0x7f860d08c5f8>\n",
      "37 <__main__.Node object at 0x7f860d04c5c0>\n",
      "38 <__main__.Node object at 0x7f860d2c5668>\n",
      "39 <__main__.Node object at 0x7f860cd95f60>\n",
      "40 <__main__.Node object at 0x7f860cc994a8>\n",
      "41 <__main__.Node object at 0x7f860cb9fe48>\n",
      "42 <__main__.Node object at 0x7f860ce77828>\n",
      "43 <__main__.Node object at 0x7f860cb51438>\n",
      "44 <__main__.Node object at 0x7f860c9a8da0>\n",
      "45 <__main__.Node object at 0x7f860c7aecf8>\n",
      "46 <__main__.Node object at 0x7f860c6afe10>\n",
      "47 <__main__.Node object at 0x7f860c5b1c50>\n",
      "48 <__main__.Node object at 0x7f860c553d30>\n",
      "49 <__main__.Node object at 0x7f860c610630>\n",
      "50 <__main__.Node object at 0x7f860c3bdba8>\n",
      "51 <__main__.Node object at 0x7f860c4b6d68>\n",
      "52 <__main__.Node object at 0x7f860c15fc50>\n",
      "53 <__main__.Node object at 0x7f860c1766a0>\n",
      "54 <__main__.Node object at 0x7f860c041c18>\n",
      "55 <__main__.Node object at 0x7f860bdc92e8>\n",
      "56 <__main__.Node object at 0x7f860bcadef0>\n",
      "57 <__main__.Node object at 0x7f860bc74fd0>\n",
      "58 <__main__.Node object at 0x7f860ba921d0>\n",
      "59 <__main__.Node object at 0x7f860bb72a20>\n",
      "60 <__main__.Node object at 0x7f860b8d9278>\n",
      "61 <__main__.Node object at 0x7f860b87de80>\n",
      "62 <__main__.Node object at 0x7f860b6a3080>\n",
      "63 <__main__.Node object at 0x7f860b3daef0>\n",
      "64 <__main__.Node object at 0x7f860b439d68>\n",
      "65 <__main__.Node object at 0x7f860c9666a0>\n",
      "66 <__main__.Node object at 0x7f860b7dc0f0>\n",
      "67 <__main__.Node object at 0x7f860b3a18d0>\n",
      "68 <__main__.Node object at 0x7f860d8db630>\n",
      "69 <__main__.Node object at 0x7f861f3b3630>\n",
      "70 <__main__.Node object at 0x7f861f3833c8>\n",
      "71 <__main__.Node object at 0x7f86254a8ac8>\n",
      "72 <__main__.Node object at 0x7f861fad9e48>\n",
      "73 <__main__.Node object at 0x7f862027d208>\n",
      "74 <__main__.Node object at 0x7f8622fbcbe0>\n",
      "75 <__main__.Node object at 0x7f860adc5fd0>\n",
      "76 <__main__.Node object at 0x7f860ad79048>\n",
      "77 <__main__.Node object at 0x7f860aba8f28>\n",
      "78 <__main__.Node object at 0x7f861fc01d68>\n",
      "79 <__main__.Node object at 0x7f860a9b90f0>\n",
      "80 <__main__.Node object at 0x7f860a8508d0>\n",
      "81 <__main__.Node object at 0x7f860a70e668>\n",
      "82 <__main__.Node object at 0x7f860a6f3dd8>\n",
      "83 <__main__.Node object at 0x7f860a52f5c0>\n",
      "84 <__main__.Node object at 0x7f860a5abdd8>\n",
      "85 <__main__.Node object at 0x7f860a491dd8>\n",
      "86 <__main__.Node object at 0x7f860a9b9160>\n",
      "87 <__main__.Node object at 0x7f860a1e09b0>\n",
      "88 <__main__.Node object at 0x7f860a01e828>\n",
      "89 <__main__.Node object at 0x7f8609fde908>\n",
      "90 <__main__.Node object at 0x7f8609e1e780>\n",
      "91 <__main__.Node object at 0x7f8609d1b5c0>\n",
      "92 <__main__.Node object at 0x7f8609c226d8>\n",
      "93 <__main__.Node object at 0x7f8609b25518>\n",
      "94 <__main__.Node object at 0x7f8609a27630>\n",
      "95 <__main__.Node object at 0x7f86099e5710>\n",
      "96 <__main__.Node object at 0x7f860982b588>\n",
      "97 <__main__.Node object at 0x7f860972ff98>\n",
      "98 <__main__.Node object at 0x7f86095d1fd0>\n",
      "99 <__main__.Node object at 0x7f8609536e80>\n",
      "100 <__main__.Node object at 0x7f86096f0588>\n",
      "101 <__main__.Node object at 0x7f86093ec390>\n",
      "102 <__main__.Node object at 0x7f86093b1748>\n",
      "103 <__main__.Node object at 0x7f860939a8d0>\n",
      "104 <__main__.Node object at 0x7f8609596978>\n",
      "105 <__main__.Node object at 0x7f8608fff780>\n",
      "106 <__main__.Node object at 0x7f8609042e48>\n",
      "107 <__main__.Node object at 0x7f8608e04240>\n",
      "108 <__main__.Node object at 0x7f860919c6a0>\n",
      "109 <__main__.Node object at 0x7f8608f01198>\n",
      "110 <__main__.Node object at 0x7f8608ad0b38>\n",
      "111 <__main__.Node object at 0x7f860892def0>\n",
      "112 <__main__.Node object at 0x7f86087d7ba8>\n",
      "113 <__main__.Node object at 0x7f8608753358>\n",
      "114 <__main__.Node object at 0x7f86085ddb00>\n",
      "115 <__main__.Node object at 0x7f86085562b0>\n",
      "116 <__main__.Node object at 0x7f86084bb518>\n",
      "117 <__main__.Node object at 0x7f860835a208>\n",
      "118 <__main__.Node object at 0x7f860821d198>\n",
      "119 <__main__.Node object at 0x7f8608202ef0>\n",
      "120 <__main__.Node object at 0x7f86080270f0>\n",
      "121 <__main__.Node object at 0x7f8607f88e48>\n",
      "122 <__main__.Node object at 0x7f8607e66198>\n",
      "123 <__main__.Node object at 0x7f8607db5f98>\n",
      "124 <__main__.Node object at 0x7f8607d6c0b8>\n",
      "125 <__main__.Node object at 0x7f8607c6c0f0>\n",
      "126 <__main__.Node object at 0x7f8607abdfd0>\n"
     ]
    }
   ],
   "source": [
    "def projectTree(feat, tree, numClus=2, unit_vector=True, scale2data=True, verboise=True):\n",
    "    \n",
    "    projectionSpace = np.zeros([feat.shape[0], tree.numNodes*numClus])\n",
    "    \n",
    "    for i, n in enumerate(tree.listOfNodes):\n",
    "        \n",
    "        f = dataProjection(feat, n)\n",
    "        if unit_vector:\n",
    "            f = f/np.linalg.norm(f, axis =1, keepdims=True)\n",
    "        if scale2data:\n",
    "            f = f*np.sum(n.mask)/n.mask.size \n",
    "        projectionSpace[:, i*2:i*2+2] = f\n",
    "        \n",
    "        if verboise == True:\n",
    "            print(i, n)\n",
    "    return projectionSpace\n",
    "        \n",
    "projectionSpace = projectTree(feat, tree)\n",
    "    "
   ]
  },
  {
   "cell_type": "code",
   "execution_count": 154,
   "metadata": {},
   "outputs": [],
   "source": []
  },
  {
   "cell_type": "code",
   "execution_count": 54,
   "metadata": {},
   "outputs": [],
   "source": [
    "extendTree(tree, feat[::2])\n"
   ]
  },
  {
   "cell_type": "code",
   "execution_count": 8,
   "metadata": {},
   "outputs": [
    {
     "name": "stdout",
     "output_type": "stream",
     "text": [
      "0 <__main__.Node object at 0x7f8aa8126550>\n",
      "1 <__main__.Node object at 0x7f89f77e9d68>\n",
      "2 <__main__.Node object at 0x7f89f774d550>\n",
      "(6500, 6)\n"
     ]
    }
   ],
   "source": [
    "        \n",
    "projectionSpace = projectTree(feat, tree)\n",
    "print(projectionSpace.shape)"
   ]
  },
  {
   "cell_type": "code",
   "execution_count": 148,
   "metadata": {},
   "outputs": [
    {
     "name": "stdout",
     "output_type": "stream",
     "text": [
      "0 <__main__.Node object at 0x7f861f39a0b8>\n",
      "1 <__main__.Node object at 0x7f861cda0208>\n",
      "2 <__main__.Node object at 0x7f861cd5f710>\n",
      "3 <__main__.Node object at 0x7f861cb11be0>\n",
      "4 <__main__.Node object at 0x7f861ca5c7f0>\n",
      "5 <__main__.Node object at 0x7f861c963630>\n",
      "6 <__main__.Node object at 0x7f861c865748>\n",
      "7 <__main__.Node object at 0x7f861c6f8dd8>\n",
      "8 <__main__.Node object at 0x7f861c619710>\n",
      "9 <__main__.Node object at 0x7f861c5c0da0>\n",
      "10 <__main__.Node object at 0x7f861c4abf98>\n",
      "11 <__main__.Node object at 0x7f861c507be0>\n",
      "12 <__main__.Node object at 0x7f861c421668>\n",
      "13 <__main__.Node object at 0x7f861c191978>\n",
      "14 <__main__.Node object at 0x7f861bfd67f0>\n",
      "15 <__main__.Node object at 0x7f861be6ed30>\n",
      "16 <__main__.Node object at 0x7f861be0c668>\n",
      "17 <__main__.Node object at 0x7f861bd34e48>\n",
      "18 <__main__.Node object at 0x7f861bbbd5f8>\n",
      "19 <__main__.Node object at 0x7f861bb7b9b0>\n",
      "20 <__main__.Node object at 0x7f861b9c37f0>\n",
      "21 <__main__.Node object at 0x7f861b9848d0>\n",
      "22 <__main__.Node object at 0x7f861b7cc748>\n",
      "23 <__main__.Node object at 0x7f861b64f588>\n",
      "24 <__main__.Node object at 0x7f861b54e6a0>\n",
      "25 <__main__.Node object at 0x7f861b512780>\n",
      "26 <__main__.Node object at 0x7f860db135f8>\n",
      "27 <__main__.Node object at 0x7f860dad45c0>\n",
      "28 <__main__.Node object at 0x7f861b512668>\n",
      "29 <__main__.Node object at 0x7f860d81df60>\n",
      "30 <__main__.Node object at 0x7f860d71e4a8>\n",
      "31 <__main__.Node object at 0x7f860d5b3f98>\n",
      "32 <__main__.Node object at 0x7f860d4fd780>\n",
      "33 <__main__.Node object at 0x7f860d405588>\n",
      "34 <__main__.Node object at 0x7f860d2896a0>\n",
      "35 <__main__.Node object at 0x7f860d2c5780>\n",
      "36 <__main__.Node object at 0x7f860d08c5f8>\n",
      "37 <__main__.Node object at 0x7f860d04c5c0>\n",
      "38 <__main__.Node object at 0x7f860d2c5668>\n",
      "39 <__main__.Node object at 0x7f860cd95f60>\n",
      "40 <__main__.Node object at 0x7f860cc994a8>\n",
      "41 <__main__.Node object at 0x7f860cb9fe48>\n",
      "42 <__main__.Node object at 0x7f860ce77828>\n",
      "43 <__main__.Node object at 0x7f860cb51438>\n",
      "44 <__main__.Node object at 0x7f860c9a8da0>\n",
      "45 <__main__.Node object at 0x7f860c7aecf8>\n",
      "46 <__main__.Node object at 0x7f860c6afe10>\n",
      "47 <__main__.Node object at 0x7f860c5b1c50>\n",
      "48 <__main__.Node object at 0x7f860c553d30>\n",
      "49 <__main__.Node object at 0x7f860c610630>\n",
      "50 <__main__.Node object at 0x7f860c3bdba8>\n",
      "51 <__main__.Node object at 0x7f860c4b6d68>\n",
      "52 <__main__.Node object at 0x7f860c15fc50>\n",
      "53 <__main__.Node object at 0x7f860c1766a0>\n",
      "54 <__main__.Node object at 0x7f860c041c18>\n",
      "55 <__main__.Node object at 0x7f860bdc92e8>\n",
      "56 <__main__.Node object at 0x7f860bcadef0>\n",
      "57 <__main__.Node object at 0x7f860bc74fd0>\n",
      "58 <__main__.Node object at 0x7f860ba921d0>\n",
      "59 <__main__.Node object at 0x7f860bb72a20>\n",
      "60 <__main__.Node object at 0x7f860b8d9278>\n",
      "61 <__main__.Node object at 0x7f860b87de80>\n",
      "62 <__main__.Node object at 0x7f860b6a3080>\n",
      "63 <__main__.Node object at 0x7f860b3daef0>\n",
      "64 <__main__.Node object at 0x7f860b439d68>\n",
      "65 <__main__.Node object at 0x7f860c9666a0>\n",
      "66 <__main__.Node object at 0x7f860b7dc0f0>\n",
      "67 <__main__.Node object at 0x7f860b3a18d0>\n",
      "68 <__main__.Node object at 0x7f860d8db630>\n",
      "69 <__main__.Node object at 0x7f861f3b3630>\n",
      "70 <__main__.Node object at 0x7f861f3833c8>\n",
      "71 <__main__.Node object at 0x7f86254a8ac8>\n",
      "72 <__main__.Node object at 0x7f861fad9e48>\n",
      "73 <__main__.Node object at 0x7f862027d208>\n",
      "74 <__main__.Node object at 0x7f8622fbcbe0>\n",
      "75 <__main__.Node object at 0x7f860adc5fd0>\n",
      "76 <__main__.Node object at 0x7f860ad79048>\n",
      "77 <__main__.Node object at 0x7f860aba8f28>\n",
      "78 <__main__.Node object at 0x7f861fc01d68>\n",
      "79 <__main__.Node object at 0x7f860a9b90f0>\n",
      "80 <__main__.Node object at 0x7f860a8508d0>\n",
      "81 <__main__.Node object at 0x7f860a70e668>\n",
      "82 <__main__.Node object at 0x7f860a6f3dd8>\n",
      "83 <__main__.Node object at 0x7f860a52f5c0>\n",
      "84 <__main__.Node object at 0x7f860a5abdd8>\n",
      "85 <__main__.Node object at 0x7f860a491dd8>\n",
      "86 <__main__.Node object at 0x7f860a9b9160>\n",
      "87 <__main__.Node object at 0x7f860a1e09b0>\n",
      "88 <__main__.Node object at 0x7f860a01e828>\n",
      "89 <__main__.Node object at 0x7f8609fde908>\n",
      "90 <__main__.Node object at 0x7f8609e1e780>\n",
      "91 <__main__.Node object at 0x7f8609d1b5c0>\n",
      "92 <__main__.Node object at 0x7f8609c226d8>\n",
      "93 <__main__.Node object at 0x7f8609b25518>\n",
      "94 <__main__.Node object at 0x7f8609a27630>\n",
      "95 <__main__.Node object at 0x7f86099e5710>\n",
      "96 <__main__.Node object at 0x7f860982b588>\n",
      "97 <__main__.Node object at 0x7f860972ff98>\n",
      "98 <__main__.Node object at 0x7f86095d1fd0>\n",
      "99 <__main__.Node object at 0x7f8609536e80>\n",
      "100 <__main__.Node object at 0x7f86096f0588>\n",
      "101 <__main__.Node object at 0x7f86093ec390>\n",
      "102 <__main__.Node object at 0x7f86093b1748>\n",
      "103 <__main__.Node object at 0x7f860939a8d0>\n",
      "104 <__main__.Node object at 0x7f8609596978>\n",
      "105 <__main__.Node object at 0x7f8608fff780>\n",
      "106 <__main__.Node object at 0x7f8609042e48>\n",
      "107 <__main__.Node object at 0x7f8608e04240>\n",
      "108 <__main__.Node object at 0x7f860919c6a0>\n",
      "109 <__main__.Node object at 0x7f8608f01198>\n",
      "110 <__main__.Node object at 0x7f8608ad0b38>\n",
      "111 <__main__.Node object at 0x7f860892def0>\n",
      "112 <__main__.Node object at 0x7f86087d7ba8>\n",
      "113 <__main__.Node object at 0x7f8608753358>\n",
      "114 <__main__.Node object at 0x7f86085ddb00>\n",
      "115 <__main__.Node object at 0x7f86085562b0>\n",
      "116 <__main__.Node object at 0x7f86084bb518>\n",
      "117 <__main__.Node object at 0x7f860835a208>\n",
      "118 <__main__.Node object at 0x7f860821d198>\n",
      "119 <__main__.Node object at 0x7f8608202ef0>\n",
      "120 <__main__.Node object at 0x7f86080270f0>\n",
      "121 <__main__.Node object at 0x7f8607f88e48>\n",
      "122 <__main__.Node object at 0x7f8607e66198>\n",
      "123 <__main__.Node object at 0x7f8607db5f98>\n",
      "124 <__main__.Node object at 0x7f8607d6c0b8>\n",
      "125 <__main__.Node object at 0x7f8607c6c0f0>\n",
      "126 <__main__.Node object at 0x7f8607abdfd0>\n",
      "127 <__main__.Node object at 0x7f861f296ef0>\n",
      "128 <__main__.Node object at 0x7f861f2f3d68>\n",
      "129 <__main__.Node object at 0x7f861f1fdda0>\n",
      "130 <__main__.Node object at 0x7f861f0fbf28>\n",
      "131 <__main__.Node object at 0x7f861f0ba320>\n",
      "132 <__main__.Node object at 0x7f861efa1eb8>\n",
      "133 <__main__.Node object at 0x7f861f0606d8>\n",
      "134 <__main__.Node object at 0x7f861f0ba518>\n",
      "135 <__main__.Node object at 0x7f861eebf208>\n",
      "136 <__main__.Node object at 0x7f861eb8eba8>\n",
      "137 <__main__.Node object at 0x7f861e993c18>\n",
      "138 <__main__.Node object at 0x7f861e894be0>\n",
      "139 <__main__.Node object at 0x7f861e8b2e10>\n",
      "140 <__main__.Node object at 0x7f861e7cd240>\n",
      "141 <__main__.Node object at 0x7f861e6142e8>\n",
      "142 <__main__.Node object at 0x7f861e4f6ef0>\n",
      "143 <__main__.Node object at 0x7f861e4bdfd0>\n",
      "144 <__main__.Node object at 0x7f861e2da1d0>\n",
      "145 <__main__.Node object at 0x7f861e340a20>\n",
      "146 <__main__.Node object at 0x7f861e11d278>\n",
      "147 <__main__.Node object at 0x7f861dfe7400>\n",
      "148 <__main__.Node object at 0x7f861e0240f0>\n",
      "149 <__main__.Node object at 0x7f861de4cc18>\n",
      "150 <__main__.Node object at 0x7f861de76f98>\n",
      "151 <__main__.Node object at 0x7f861dc52be0>\n",
      "152 <__main__.Node object at 0x7f861dbf0780>\n",
      "153 <__main__.Node object at 0x7f861da16128>\n",
      "154 <__main__.Node object at 0x7f861d918198>\n",
      "155 <__main__.Node object at 0x7f861d85ea90>\n",
      "156 <__main__.Node object at 0x7f861d7fa630>\n",
      "157 <__main__.Node object at 0x7f861d622da0>\n",
      "158 <__main__.Node object at 0x7f861d483668>\n",
      "159 <__main__.Node object at 0x7f861d56bbe0>\n",
      "160 <__main__.Node object at 0x7f861d5a5860>\n",
      "161 <__main__.Node object at 0x7f861d26f9b0>\n",
      "162 <__main__.Node object at 0x7f861d0b9828>\n",
      "163 <__main__.Node object at 0x7f861d077908>\n",
      "164 <__main__.Node object at 0x7f8607807780>\n",
      "165 <__main__.Node object at 0x7f85ec8335c0>\n",
      "166 <__main__.Node object at 0x7f85ec7356d8>\n",
      "167 <__main__.Node object at 0x7f85ec638518>\n",
      "168 <__main__.Node object at 0x7f85ec53d630>\n",
      "169 <__main__.Node object at 0x7f85ec4fa710>\n",
      "170 <__main__.Node object at 0x7f85ec336588>\n",
      "171 <__main__.Node object at 0x7f85ec246f98>\n",
      "172 <__main__.Node object at 0x7f85ec16efd0>\n",
      "173 <__main__.Node object at 0x7f85ec04fe80>\n",
      "174 <__main__.Node object at 0x7f85ec256588>\n",
      "175 <__main__.Node object at 0x7f860a3e8a58>\n",
      "176 <__main__.Node object at 0x7f860a80d7f0>\n",
      "177 <__main__.Node object at 0x7f85ebcd2c18>\n",
      "178 <__main__.Node object at 0x7f85ebe54cf8>\n",
      "179 <__main__.Node object at 0x7f85ebcefcf8>\n",
      "180 <__main__.Node object at 0x7f85ebbcabe0>\n",
      "181 <__main__.Node object at 0x7f85eb93f2e8>\n",
      "182 <__main__.Node object at 0x7f85eb81fef0>\n",
      "183 <__main__.Node object at 0x7f85eb7e5fd0>\n",
      "184 <__main__.Node object at 0x7f85eb6021d0>\n"
     ]
    },
    {
     "name": "stdout",
     "output_type": "stream",
     "text": [
      "185 <__main__.Node object at 0x7f85eb6e8a20>\n",
      "186 <__main__.Node object at 0x7f85eb447278>\n",
      "187 <__main__.Node object at 0x7f85eb3ede80>\n",
      "188 <__main__.Node object at 0x7f85eb20f080>\n",
      "189 <__main__.Node object at 0x7f85eb19ffd0>\n",
      "190 <__main__.Node object at 0x7f85eb151048>\n",
      "191 <__main__.Node object at 0x7f85eafa0f28>\n",
      "192 <__main__.Node object at 0x7f85eb3b12e8>\n",
      "193 <__main__.Node object at 0x7f85ead3c0f0>\n",
      "194 <__main__.Node object at 0x7f85eac5b8d0>\n",
      "195 <__main__.Node object at 0x7f85eab1d668>\n",
      "196 <__main__.Node object at 0x7f85eaa84dd8>\n",
      "197 <__main__.Node object at 0x7f85eaaaaef0>\n",
      "198 <__main__.Node object at 0x7f85ea943dd8>\n",
      "199 <__main__.Node object at 0x7f85ea748e80>\n",
      "200 <__main__.Node object at 0x7f85ea6295f8>\n",
      "201 <__main__.Node object at 0x7f85ea58f9e8>\n",
      "202 <__main__.Node object at 0x7f85ea3d4860>\n",
      "203 <__main__.Node object at 0x7f85ea398940>\n",
      "204 <__main__.Node object at 0x7f85ea1e07b8>\n",
      "205 <__main__.Node object at 0x7f85ea0df5f8>\n",
      "206 <__main__.Node object at 0x7f85e9fe4710>\n",
      "207 <__main__.Node object at 0x7f85e9ee6550>\n",
      "208 <__main__.Node object at 0x7f85e9ddd668>\n",
      "209 <__main__.Node object at 0x7f85e9da8748>\n",
      "210 <__main__.Node object at 0x7f85e9bee5c0>\n",
      "211 <__main__.Node object at 0x7f85e9bae518>\n",
      "212 <__main__.Node object at 0x7f85e9da8630>\n",
      "213 <__main__.Node object at 0x7f85e9b6b940>\n",
      "214 <__main__.Node object at 0x7f85e9837208>\n",
      "215 <__main__.Node object at 0x7f85e9682e10>\n",
      "216 <__main__.Node object at 0x7f85e99709e8>\n",
      "217 <__main__.Node object at 0x7f85e973d390>\n",
      "218 <__main__.Node object at 0x7f85e96f87f0>\n",
      "219 <__main__.Node object at 0x7f85e9401828>\n",
      "220 <__main__.Node object at 0x7f85e9566898>\n",
      "221 <__main__.Node object at 0x7f85e934c4a8>\n",
      "222 <__main__.Node object at 0x7f85e9095c18>\n",
      "223 <__main__.Node object at 0x7f85e8e9db70>\n",
      "224 <__main__.Node object at 0x7f85e8e3bfd0>\n",
      "225 <__main__.Node object at 0x7f85e8ca5c18>\n",
      "226 <__main__.Node object at 0x7f85e8ba6be0>\n",
      "227 <__main__.Node object at 0x7f85e8b45e10>\n",
      "228 <__main__.Node object at 0x7f85e8ae1240>\n",
      "229 <__main__.Node object at 0x7f85e892a2e8>\n",
      "230 <__main__.Node object at 0x7f85e878bef0>\n",
      "231 <__main__.Node object at 0x7f85e874ffd0>\n",
      "232 <__main__.Node object at 0x7f85e85f01d0>\n",
      "233 <__main__.Node object at 0x7f85e8652a20>\n",
      "234 <__main__.Node object at 0x7f85e83b5278>\n",
      "235 <__main__.Node object at 0x7f85e835be80>\n",
      "236 <__main__.Node object at 0x7f85e8180080>\n",
      "237 <__main__.Node object at 0x7f85e810efd0>\n",
      "238 <__main__.Node object at 0x7f85e80c2048>\n",
      "239 <__main__.Node object at 0x7f85e7f0ff98>\n",
      "240 <__main__.Node object at 0x7f85e831f2e8>\n",
      "241 <__main__.Node object at 0x7f85e7cb20f0>\n",
      "242 <__main__.Node object at 0x7f85e7bcf8d0>\n",
      "243 <__main__.Node object at 0x7f85e7a94668>\n",
      "244 <__main__.Node object at 0x7f85e79f9dd8>\n",
      "245 <__main__.Node object at 0x7f85e7a1fef0>\n",
      "246 <__main__.Node object at 0x7f85e78b9dd8>\n",
      "247 <__main__.Node object at 0x7f85e76bfe80>\n",
      "248 <__main__.Node object at 0x7f85e75a25f8>\n",
      "249 <__main__.Node object at 0x7f85e75079e8>\n",
      "250 <__main__.Node object at 0x7f85e734e860>\n",
      "251 <__main__.Node object at 0x7f85e7312940>\n",
      "252 <__main__.Node object at 0x7f85e71577b8>\n",
      "253 <__main__.Node object at 0x7f85e70585f8>\n",
      "254 <__main__.Node object at 0x7f85e6f5d710>\n",
      "399.2486153846154\n",
      "152.29246153846154\n",
      "num dimenions: 510\n"
     ]
    }
   ],
   "source": [
    "from sklearn.metrics import pairwise_distances\n",
    "\n",
    "def test_feat(feat, labels, nBest= 1000):\n",
    "    num_feat = feat.shape[0]\n",
    "    d = pairwise_distances(feat)\n",
    "    ind = np.argsort(d, axis =1)\n",
    "    \n",
    "    err = np.zeros(num_feat)\n",
    "    \n",
    "    for i in range(num_feat):\n",
    "        l = labels[ind[i,:nBest+1]]      \n",
    "        err[i] = nBest - (sum((l-l[0]) == 0))+1\n",
    "                          \n",
    "    return err\n",
    "\n",
    "\n",
    "\n",
    "projectionSpace = projectTree(feat, tree, unit_vector=True)\n",
    "pp = projectionSpace.copy()\n",
    "# pp[:,2:6] = pp[:,2:6]/(2)\n",
    "# pp[:,6:14] = pp[:,6:14]/(4)\n",
    "# pp[:,14:30] = pp[:,14:30]/(8)\n",
    "# pp[:,30:62] = pp[:,30:62]/(16)\n",
    "# pp[:,62:126] = pp[:,62:126]/(32)\n",
    "# pp[:,126:] = pp[:,126:]/(64)\n",
    "\n",
    "nBest = 500\n",
    "\n",
    "err = test_feat(pp[:,:2], gt, nBest=nBest)\n",
    "print(np.mean(err))\n",
    "err = test_feat(pp, gt, nBest=nBest)\n",
    "print(np.mean(err))\n",
    "print('num dimenions:', pp.shape[1])\n",
    "\n"
   ]
  },
  {
   "cell_type": "code",
   "execution_count": 157,
   "metadata": {},
   "outputs": [
    {
     "name": "stdout",
     "output_type": "stream",
     "text": [
      "7.014307692307693\n"
     ]
    }
   ],
   "source": [
    "err = test_feat(pp, gtCoarse.astype(int), nBest=nBest)\n",
    "print(np.mean(err))"
   ]
  },
  {
   "cell_type": "code",
   "execution_count": 10,
   "metadata": {},
   "outputs": [
    {
     "ename": "IndexError",
     "evalue": "index 60 is out of bounds for axis 1 with size 6",
     "output_type": "error",
     "traceback": [
      "\u001b[0;31m---------------------------------------------------------------------------\u001b[0m",
      "\u001b[0;31mIndexError\u001b[0m                                Traceback (most recent call last)",
      "\u001b[0;32m<ipython-input-10-a818b955b421>\u001b[0m in \u001b[0;36m<module>\u001b[0;34m\u001b[0m\n\u001b[1;32m      1\u001b[0m \u001b[0mi\u001b[0m \u001b[0;34m=\u001b[0m \u001b[0;36m60\u001b[0m\u001b[0;34m\u001b[0m\u001b[0;34m\u001b[0m\u001b[0m\n\u001b[0;32m----> 2\u001b[0;31m \u001b[0mplt\u001b[0m\u001b[0;34m.\u001b[0m\u001b[0mscatter\u001b[0m\u001b[0;34m(\u001b[0m\u001b[0mpp\u001b[0m\u001b[0;34m[\u001b[0m\u001b[0;34m:\u001b[0m\u001b[0;34m,\u001b[0m\u001b[0mi\u001b[0m\u001b[0;34m]\u001b[0m\u001b[0;34m,\u001b[0m \u001b[0mpp\u001b[0m\u001b[0;34m[\u001b[0m\u001b[0;34m:\u001b[0m\u001b[0;34m,\u001b[0m\u001b[0mi\u001b[0m\u001b[0;34m+\u001b[0m\u001b[0;36m1\u001b[0m\u001b[0;34m]\u001b[0m\u001b[0;34m,\u001b[0m \u001b[0mc\u001b[0m\u001b[0;34m=\u001b[0m\u001b[0mgt\u001b[0m\u001b[0;34m,\u001b[0m \u001b[0malpha\u001b[0m \u001b[0;34m=\u001b[0m\u001b[0;36m0.1\u001b[0m\u001b[0;34m)\u001b[0m\u001b[0;34m\u001b[0m\u001b[0;34m\u001b[0m\u001b[0m\n\u001b[0m",
      "\u001b[0;31mIndexError\u001b[0m: index 60 is out of bounds for axis 1 with size 6"
     ]
    }
   ],
   "source": [
    "i = 60\n",
    "plt.scatter(pp[:,i], pp[:,i+1], c=gt, alpha =0.1)"
   ]
  },
  {
   "cell_type": "code",
   "execution_count": 40,
   "metadata": {
    "scrolled": true
   },
   "outputs": [
    {
     "name": "stdout",
     "output_type": "stream",
     "text": [
      "Collecting umap.learn\n",
      "\u001b[?25l  Downloading https://files.pythonhosted.org/packages/ad/92/36bac74962b424870026cb0b42cec3d5b6f4afa37d81818475d8762f9255/umap-learn-0.3.10.tar.gz (40kB)\n",
      "\u001b[K     |████████████████████████████████| 40kB 16.0MB/s eta 0:00:01\n",
      "\u001b[?25hRequirement already satisfied: numpy>=1.13 in /usr/local/lib/python3.6/dist-packages (from umap.learn) (1.17.2)\n",
      "Requirement already satisfied: scikit-learn>=0.16 in /usr/local/lib/python3.6/dist-packages (from umap.learn) (0.22.1)\n",
      "Requirement already satisfied: scipy>=0.19 in /usr/local/lib/python3.6/dist-packages (from umap.learn) (1.4.1)\n",
      "Collecting numba>=0.37 (from umap.learn)\n",
      "\u001b[?25l  Downloading https://files.pythonhosted.org/packages/ba/49/61522f34b1333aa4e9aa02005dc0774d25bd234400dff718b16615d6a744/numba-0.48.0-cp36-cp36m-manylinux1_x86_64.whl (2.5MB)\n",
      "\u001b[K     |████████████████████████████████| 2.5MB 17.6MB/s eta 0:00:01\n",
      "\u001b[?25hRequirement already satisfied: joblib>=0.11 in /usr/local/lib/python3.6/dist-packages (from scikit-learn>=0.16->umap.learn) (0.14.1)\n",
      "Collecting llvmlite<0.32.0,>=0.31.0dev0 (from numba>=0.37->umap.learn)\n",
      "\u001b[?25l  Downloading https://files.pythonhosted.org/packages/ad/bb/60d4033d56c9da36490af19caa6c794b72b8aef6f792fdfa8cb95d11e419/llvmlite-0.31.0-cp36-cp36m-manylinux1_x86_64.whl (20.2MB)\n",
      "\u001b[K     |████████████████████████████████| 20.2MB 85.0MB/s eta 0:00:01\n",
      "\u001b[?25hRequirement already satisfied: setuptools in /usr/local/lib/python3.6/dist-packages (from numba>=0.37->umap.learn) (41.2.0)\n",
      "Building wheels for collected packages: umap.learn\n",
      "  Building wheel for umap.learn (setup.py) ... \u001b[?25ldone\n",
      "\u001b[?25h  Created wheel for umap.learn: filename=umap_learn-0.3.10-cp36-none-any.whl size=44352 sha256=6df5def019de7aac20c4b12ba66c1eb2f8de9cf40dbff07d01e6f2415ad7233b\n",
      "  Stored in directory: /root/.cache/pip/wheels/d0/f8/d5/8e3af3ee957feb9b403a060ebe72f7561887fef9dea658326e\n",
      "Successfully built umap.learn\n",
      "Installing collected packages: llvmlite, numba, umap.learn\n",
      "Successfully installed llvmlite-0.31.0 numba-0.48.0 umap.learn\n",
      "\u001b[33mWARNING: You are using pip version 19.2.3, however version 20.0.2 is available.\n",
      "You should consider upgrading via the 'pip install --upgrade pip' command.\u001b[0m\n"
     ]
    }
   ],
   "source": [
    "! pip3 install umap.learn"
   ]
  },
  {
   "cell_type": "code",
   "execution_count": 70,
   "metadata": {},
   "outputs": [
    {
     "name": "stdout",
     "output_type": "stream",
     "text": [
      "Uninstalling enum34-1.1.6:\n",
      "  Successfully uninstalled enum34-1.1.6\n",
      "Collecting hdbscan\n",
      "  Using cached https://files.pythonhosted.org/packages/8a/a6/2524f6cff01a2da18f07f6a2b04977297f8a094ef3a92aa6bfc6c3924687/hdbscan-0.8.25.tar.gz\n",
      "  Installing build dependencies ... \u001b[?25ldone\n",
      "\u001b[?25h  Getting requirements to build wheel ... \u001b[?25ldone\n",
      "\u001b[?25h    Preparing wheel metadata ... \u001b[?25ldone\n",
      "\u001b[?25hRequirement already satisfied: scikit-learn>=0.17 in /usr/local/lib/python3.6/dist-packages (from hdbscan) (0.22.1)\n",
      "Requirement already satisfied: numpy>=1.16.0 in /usr/local/lib/python3.6/dist-packages (from hdbscan) (1.17.2)\n",
      "Requirement already satisfied: six in /usr/lib/python3/dist-packages (from hdbscan) (1.11.0)\n",
      "Requirement already satisfied: joblib in /usr/local/lib/python3.6/dist-packages (from hdbscan) (0.14.1)\n",
      "Requirement already satisfied: scipy>=0.9 in /usr/local/lib/python3.6/dist-packages (from hdbscan) (1.4.1)\n",
      "Collecting cython>=0.27 (from hdbscan)\n",
      "  Using cached https://files.pythonhosted.org/packages/d1/54/9d66ee2180776dfe33c2b8cc2f2b67c343fd9d80de91ac0edc5bc346fb06/Cython-0.29.15-cp36-cp36m-manylinux1_x86_64.whl\n",
      "Building wheels for collected packages: hdbscan\n",
      "  Building wheel for hdbscan (PEP 517) ... \u001b[?25ldone\n",
      "\u001b[?25h  Created wheel for hdbscan: filename=hdbscan-0.8.25-cp36-cp36m-linux_x86_64.whl size=2361078 sha256=8e92d9ad88126a45ea034d9d98b9cd25e8bfeb52fea3b7cb12ace7f3ef437ce8\n",
      "  Stored in directory: /root/.cache/pip/wheels/9c/c0/c3/233f1760ffcf845291955c8aa53e0a81b695bec07780ee5935\n",
      "Successfully built hdbscan\n",
      "Installing collected packages: cython, hdbscan\n",
      "Successfully installed cython-0.29.15 hdbscan-0.8.25\n",
      "\u001b[33mWARNING: You are using pip version 19.2.3, however version 20.0.2 is available.\n",
      "You should consider upgrading via the 'pip install --upgrade pip' command.\u001b[0m\n"
     ]
    }
   ],
   "source": [
    "!pip uninstall -y enum34\n",
    "\n",
    "! pip3 install hdbscan"
   ]
  },
  {
   "cell_type": "code",
   "execution_count": 83,
   "metadata": {},
   "outputs": [
    {
     "name": "stderr",
     "output_type": "stream",
     "text": [
      "/usr/local/lib/python3.6/dist-packages/numba/typed_passes.py:293: NumbaPerformanceWarning: \n",
      "The keyword argument 'parallel=True' was specified but no transformation for parallel execution was possible.\n",
      "\n",
      "To find out why, try turning on parallel diagnostics, see http://numba.pydata.org/numba-doc/latest/user/parallel.html#diagnostics for help.\n",
      "\n",
      "File \"../../../usr/local/lib/python3.6/dist-packages/umap/nndescent.py\", line 47:\n",
      "    @numba.njit(parallel=True)\n",
      "    def nn_descent(\n",
      "    ^\n",
      "\n",
      "  state.func_ir.loc))\n"
     ]
    }
   ],
   "source": [
    "import umap.umap_ as umap\n",
    "\n",
    "\n",
    "embedding = umap.UMAP()\n",
    "ump_pp = embedding.fit_transform(pp)\n"
   ]
  },
  {
   "cell_type": "code",
   "execution_count": 84,
   "metadata": {},
   "outputs": [
    {
     "data": {
      "text/plain": [
       "<matplotlib.collections.PathCollection at 0x7f89efe75a20>"
      ]
     },
     "execution_count": 84,
     "metadata": {},
     "output_type": "execute_result"
    },
    {
     "data": {
      "image/png": "[encoded data removed]",
      "text/plain": [
       "<Figure size 432x288 with 1 Axes>"
      ]
     },
     "metadata": {
      "needs_background": "light"
     },
     "output_type": "display_data"
    }
   ],
   "source": [
    "plt.scatter(ump_pp[:,0], ump_pp[:,1], c=gt, alpha =0.01)"
   ]
  },
  {
   "cell_type": "code",
   "execution_count": 94,
   "metadata": {},
   "outputs": [
    {
     "data": {
      "text/plain": [
       "HDBSCAN(algorithm='best', allow_single_cluster=False, alpha=1.0,\n",
       "        approx_min_span_tree=True, cluster_selection_epsilon=0.0,\n",
       "        cluster_selection_method='eom', core_dist_n_jobs=4,\n",
       "        gen_min_span_tree=False, leaf_size=40,\n",
       "        match_reference_implementation=False, memory=Memory(location=None),\n",
       "        metric='euclidean', min_cluster_size=5, min_samples=1, p=None,\n",
       "        prediction_data=False)"
      ]
     },
     "execution_count": 94,
     "metadata": {},
     "output_type": "execute_result"
    }
   ],
   "source": [
    "import hdbscan\n",
    "\n",
    "clusterer = hdbscan.HDBSCAN(min_samples=1)\n",
    "clusterer.fit(pp)\n",
    "\n"
   ]
  },
  {
   "cell_type": "code",
   "execution_count": 97,
   "metadata": {},
   "outputs": [
    {
     "data": {
      "text/plain": [
       "<matplotlib.collections.PathCollection at 0x7f89cc31ab70>"
      ]
     },
     "execution_count": 97,
     "metadata": {},
     "output_type": "execute_result"
    },
    {
     "data": {
      "image/png": "[encoded data removed]",
      "text/plain": [
       "<Figure size 432x288 with 1 Axes>"
      ]
     },
     "metadata": {
      "needs_background": "light"
     },
     "output_type": "display_data"
    }
   ],
   "source": [
    "plt.scatter(ump_pp[:,0], ump_pp[:,1], c=clusterer.labels_, alpha =0.1)"
   ]
  },
  {
   "cell_type": "code",
   "execution_count": 78,
   "metadata": {},
   "outputs": [
    {
     "name": "stdout",
     "output_type": "stream",
     "text": [
      "195.112\n"
     ]
    }
   ],
   "source": [
    "err = test_feat(pp, gt, nBest=1000)\n",
    "print(np.mean(err))"
   ]
  },
  {
   "cell_type": "code",
   "execution_count": 68,
   "metadata": {},
   "outputs": [
    {
     "data": {
      "text/plain": [
       "(array([1818., 2867., 2047., 1348., 1148.,  990.,  633.,  587.,  933.,\n",
       "         629.]),\n",
       " array([  31. ,  127.9,  224.8,  321.7,  418.6,  515.5,  612.4,  709.3,\n",
       "         806.2,  903.1, 1000. ]),\n",
       " <a list of 10 Patch objects>)"
      ]
     },
     "execution_count": 68,
     "metadata": {},
     "output_type": "execute_result"
    },
    {
     "data": {
      "image/png": "[encoded data removed]",
      "text/plain": [
       "<Figure size 432x288 with 1 Axes>"
      ]
     },
     "metadata": {
      "needs_background": "light"
     },
     "output_type": "display_data"
    }
   ],
   "source": [
    "plt.hist(err)"
   ]
  },
  {
   "cell_type": "code",
   "execution_count": null,
   "metadata": {},
   "outputs": [],
   "source": [
    "k= donk"
   ]
  },
  {
   "cell_type": "code",
   "execution_count": null,
   "metadata": {},
   "outputs": [],
   "source": [
    "feat_ = allFeat[gtAll==0,:]\n",
    "tree2 = startTree(feat_[::2])\n",
    "pp2 = projectTree(feat_, tree2, unit_vector=False)\n",
    "pp2a = projectTree(allFeat[gtAll==1,:], tree2, unit_vector=False)\n"
   ]
  },
  {
   "cell_type": "code",
   "execution_count": null,
   "metadata": {},
   "outputs": [],
   "source": [
    "plt.scatter(pp2[:,0], pp2[:,1], alpha =0.1)\n",
    "\n",
    "plt.scatter(pp2a[:,0], pp2a[:,1], alpha =0.1)"
   ]
  },
  {
   "cell_type": "code",
   "execution_count": null,
   "metadata": {},
   "outputs": [],
   "source": []
  },
  {
   "cell_type": "code",
   "execution_count": null,
   "metadata": {},
   "outputs": [],
   "source": []
  },
  {
   "cell_type": "code",
   "execution_count": null,
   "metadata": {},
   "outputs": [],
   "source": []
  },
  {
   "cell_type": "code",
   "execution_count": null,
   "metadata": {},
   "outputs": [],
   "source": []
  },
  {
   "cell_type": "code",
   "execution_count": null,
   "metadata": {},
   "outputs": [],
   "source": []
  },
  {
   "cell_type": "code",
   "execution_count": null,
   "metadata": {},
   "outputs": [],
   "source": [
    "k = dnk"
   ]
  },
  {
   "cell_type": "code",
   "execution_count": null,
   "metadata": {},
   "outputs": [],
   "source": [
    "\n",
    "\n",
    "\n",
    "outlier_feat = allFeat[gtAll==9,:]\n",
    "\n",
    "\n",
    "ff_out = np.concatenate([feat,outlier_feat], axis = 0)\n",
    "out_gt = np.concatenate([gt, -1*np.ones(outlier_feat.shape[0])])\n"
   ]
  },
  {
   "cell_type": "code",
   "execution_count": null,
   "metadata": {},
   "outputs": [],
   "source": [
    "def test_feat(feat, labels, nBest= 1000):\n",
    "    num_feat = feat.shape[0]\n",
    "    d = pairwise_distances(feat)\n",
    "    ind = np.argsort(d, axis =1)\n",
    "    \n",
    "    err = np.zeros(num_feat)\n",
    "    \n",
    "    for i in range(num_feat):\n",
    "        l = labels[ind[i,:nBest+1]]      \n",
    "        #print(l)\n",
    "        err[i] = nBest - (sum((l-l[0]) == 0))+1\n",
    "                          \n",
    "    return err\n",
    "\n",
    "\n",
    "\n",
    "\n",
    "projectionOutlier = projectTree(ff_out, tree);\n",
    "projectionOutlier = projectionOutlier/np.linalg.norm(projectionOutlier, axis =1, keepdims=True)\n",
    "\n",
    "err = test_feat(projectionOutlier[:,:], out_gt, nBest=10)\n",
    "print(np.mean(err))\n"
   ]
  },
  {
   "cell_type": "code",
   "execution_count": null,
   "metadata": {},
   "outputs": [],
   "source": [
    "print(err)"
   ]
  },
  {
   "cell_type": "code",
   "execution_count": null,
   "metadata": {},
   "outputs": [],
   "source": [
    "print(projectionOutlier.shape)"
   ]
  },
  {
   "cell_type": "code",
   "execution_count": null,
   "metadata": {},
   "outputs": [],
   "source": [
    "plt.scatter(projectionOutlier[:,0], projectionOutlier[:,1], c = out_gt, alpha =0.01)"
   ]
  },
  {
   "cell_type": "code",
   "execution_count": null,
   "metadata": {},
   "outputs": [],
   "source": [
    "def projectTreeTmp(feat, tree, numClus=2):\n",
    "    \n",
    "    projectionSpace = np.zeros([feat.shape[0], tree.numNodes*numClus])\n",
    "    \n",
    "    for i, n in enumerate(tree.listOfNodes):\n",
    "        f = dataProjection(feat, n)\n",
    "        f = f/np.linalg.norm(f, axis =1, keepdims=True)\n",
    "        projectionSpace[:, i*2:i*2+2] = f\n",
    "        print(i, n)\n",
    "    return projectionSpace\n",
    "\n",
    "projectionOutlier = projectTreeTmp(ff_out, tree);\n",
    "err = test_feat(projectionOutlier[:,:], out_gt, nBest=10)\n",
    "print(np.mean(err))\n"
   ]
  },
  {
   "cell_type": "code",
   "execution_count": null,
   "metadata": {},
   "outputs": [],
   "source": [
    "print(np.exp(1))"
   ]
  },
  {
   "cell_type": "code",
   "execution_count": null,
   "metadata": {},
   "outputs": [],
   "source": [
    "plt.scatter(projectionOutlier[:,0], projectionOutlier[:,1], c = out_gt, alpha =0.1)"
   ]
  },
  {
   "cell_type": "code",
   "execution_count": null,
   "metadata": {},
   "outputs": [],
   "source": [
    "k_feat = feat.copy()\n",
    "k_m = np.mean(k_feat[::2], axis=0)\n",
    "k_feat = k_feat - k_m\n",
    "k_feat = k_feat/np.linalg.norm(k_feat, axis=1, keepdims=True)\n",
    "\n",
    "kmeans = KMeans(n_clusters=6, random_state=0).fit(k_feat[::2])\n"
   ]
  },
  {
   "cell_type": "code",
   "execution_count": null,
   "metadata": {},
   "outputs": [],
   "source": [
    "k_f = kmeans.transform(k_feat)\n",
    "err = test_feat(k_f, gt, nBest=10)\n",
    "print(np.mean(err))\n"
   ]
  },
  {
   "cell_type": "code",
   "execution_count": null,
   "metadata": {},
   "outputs": [],
   "source": [
    "plt.scatter(k_f[:,0], k_f[:,1], c = gt, alpha =0.01)"
   ]
  },
  {
   "cell_type": "code",
   "execution_count": null,
   "metadata": {},
   "outputs": [],
   "source": [
    "outlier_feat = allFeat[gtAll==9,:].copy()\n",
    "outlier_feat = outlier_feat -k_m\n",
    "outlier_feat = outlier_feat/np.linalg.norm(outlier_feat, axis=1, keepdims=True)\n",
    "\n",
    "k_out = np.concatenate([k_feat,outlier_feat], axis = 0)\n",
    "k_gt = np.concatenate([gt, -1*np.ones(outlier_feat.shape[0])])\n",
    "\n",
    "k_f = kmeans.transform(k_out)\n",
    "err = test_feat(k_out, k_gt, nBest=10)\n",
    "print(np.mean(err))\n"
   ]
  }
 ],
 "metadata": {
  "kernelspec": {
   "display_name": "Python 3",
   "language": "python",
   "name": "python3"
  },
  "language_info": {
   "codemirror_mode": {
    "name": "ipython",
    "version": 3
   },
   "file_extension": ".py",
   "mimetype": "text/x-python",
   "name": "python",
   "nbconvert_exporter": "python",
   "pygments_lexer": "ipython3",
   "version": "3.6.8"
  }
 },
 "nbformat": 4,
 "nbformat_minor": 4
}
