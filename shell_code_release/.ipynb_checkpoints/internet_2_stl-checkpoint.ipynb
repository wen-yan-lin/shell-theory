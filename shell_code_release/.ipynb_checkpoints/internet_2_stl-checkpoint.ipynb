{
 "cells": [
  {
   "cell_type": "code",
   "execution_count": 32,
   "metadata": {},
   "outputs": [
    {
     "name": "stderr",
     "output_type": "stream",
     "text": [
      "/usr/lib/python3/dist-packages/PIL/Image.py:918: UserWarning: Palette images with Transparency   expressed in bytes should be converted to RGBA images\n",
      "  'to RGBA images')\n",
      "/home/daniel/.local/lib/python3.6/site-packages/keras_applications/resnet50.py:265: UserWarning: The output shape of `ResNet50(include_top=False)` has been changed since Keras 2.2.0.\n",
      "  warnings.warn('The output shape of `ResNet50(include_top=False)` '\n"
     ]
    }
   ],
   "source": [
    "import numpy as np\n",
    "from resnet_features import multi_folders_to_feature\n",
    "from dirUtil import unit_norm\n",
    "from sklearn.svm import OneClassSVM\n",
    "from sklearn.metrics import roc_curve, auc\n",
    "\n",
    "feat_path = '/media/daniel/D/Data/daniel_feat'\n",
    "folder_path = '/media/daniel/D/Data/daniel_images'\n",
    "multi_folders_to_feature(feat_path, folder_path)"
   ]
  },
  {
   "cell_type": "code",
   "execution_count": 33,
   "metadata": {},
   "outputs": [],
   "source": [
    "\n",
    "\n",
    "stl_feat = np.load('/media/daniel/D/Data/STL-10/feats_2048.npy')\n",
    "gt = np.load('/media/daniel/D/Data/STL-10/labels_2048.npy')-1\n",
    "stl_feat = stl_feat[mask,:]\n"
   ]
  },
  {
   "cell_type": "code",
   "execution_count": 39,
   "metadata": {},
   "outputs": [],
   "source": [
    "list_of_folders = ['animals',  'cat', 'dog']\n",
    "train_feat = []\n",
    "for f in list_of_folders:\n",
    "    train_feat.append(np.load(feat_path+'/' +f +'.npy'))\n",
    "\n",
    "target = 2"
   ]
  },
  {
   "cell_type": "code",
   "execution_count": 40,
   "metadata": {},
   "outputs": [],
   "source": [
    "def get_means_list(feat):\n",
    "    num_clus = len(feat)\n",
    "    means = np.zeros([num_clus, feat[0].shape[1]])\n",
    "    for i in range(num_clus):\n",
    "        means[i] = np.mean(feat[i], axis =0)\n",
    "    return means\n",
    "\n",
    "\n",
    "def sorted_neighbors_of_i(m_all, i):\n",
    "    neighbors = np.zeros(m_all.shape[0])\n",
    "    for j in range(m_all.shape[0]):\n",
    "        neighbors[j] = np.linalg.norm(m_all[i,:]-m_all[j,:])\n",
    "    return neighbors, np.argsort(neighbors)\n",
    "\n",
    "\n",
    "def stacked_classifer(train_feat, target, m_all):\n",
    "    _, neighs = sorted_neighbors_of_i(m_all, target)\n",
    "    classifers = []\n",
    "    current_shell = []\n",
    "    for i in neighs:\n",
    "        current_shell.append(i)\n",
    "        if len(current_shell)> 1:\n",
    "            m1 = np.mean(m_all[current_shell,:], axis =0, keepdims=True)\n",
    "            tf = train_feat-m1\n",
    "            tf = tf/np.linalg.norm(tf, axis =1, keepdims=True)\n",
    "            clf1 = OneClassSVM(gamma='auto').fit(tf)\n",
    "            classifers.append({'mean': m1, 'classifer': clf1})\n",
    "    return classifers\n",
    "\n",
    "m_all = get_means_list(train_feat)\n",
    "m_ex = np.concatenate([np.zeros([1, m_all.shape[1]]), m_all])\n",
    "classifers = stacked_classifer(train_feat[target], target+1, m_ex)"
   ]
  },
  {
   "cell_type": "code",
   "execution_count": 48,
   "metadata": {},
   "outputs": [],
   "source": [
    "def score_samples(classifers, test_feat):\n",
    "    score = np.zeros([test_feat.shape[0], len(classifers)])\n",
    "    for i in range(len(classifers)):\n",
    "        m = classifers[i]['mean']\n",
    "        tsf = test_feat-m\n",
    "        tsf = tsf/np.linalg.norm(tsf, keepdims=True, axis =1)\n",
    "        s = classifers[i]['classifer'].score_samples(tsf)   \n",
    "        score[:,i] = s\n",
    "    return score\n",
    "\n",
    "\n",
    "s = score_samples(classifers, stl_feat)\n",
    "s = np.mean(s, axis =1)\n"
   ]
  },
  {
   "cell_type": "code",
   "execution_count": 49,
   "metadata": {},
   "outputs": [
    {
     "name": "stdout",
     "output_type": "stream",
     "text": [
      "0.9433598948060485\n"
     ]
    }
   ],
   "source": [
    "fpr, tpr, _ = roc_curve(gt ==5, s)\n",
    "roc_auc = auc(fpr, tpr)\n",
    "print(roc_auc)\n"
   ]
  },
  {
   "cell_type": "code",
   "execution_count": 58,
   "metadata": {},
   "outputs": [],
   "source": [
    "m_all = get_means_list(train_feat)\n",
    "m_ex = np.concatenate([np.zeros([1, m_all.shape[1]]), m_all])\n",
    "\n",
    "target = 1\n",
    "classifers1 = stacked_classifer(train_feat[target], target+1, m_ex)\n",
    "s1 = score_samples(classifers1, train_feat[target])\n",
    "s1 = np.mean(s1, axis =1)\n",
    "\n",
    "\n",
    "\n",
    "target = 2\n",
    "classifers2 = stacked_classifer(train_feat[target], target+1, m_ex)\n",
    "s2 = score_samples(classifers2, train_feat[target])\n",
    "s2 = np.mean(s2, axis =1)\n",
    "\n"
   ]
  },
  {
   "cell_type": "code",
   "execution_count": 76,
   "metadata": {},
   "outputs": [
    {
     "name": "stdout",
     "output_type": "stream",
     "text": [
      "0.875210322156476\n",
      "0.9433598948060485\n"
     ]
    }
   ],
   "source": [
    "s = score_samples(classifers1, stl_feat)\n",
    "s = np.mean(s, axis =1)\n",
    "fpr, tpr, _ = roc_curve(gt ==3, s)\n",
    "roc_auc = auc(fpr, tpr)\n",
    "print(roc_auc)\n",
    "\n",
    "s = score_samples(classifers2, stl_feat)\n",
    "s = np.mean(s, axis =1)\n",
    "fpr, tpr, _ = roc_curve(gt ==5, s)\n",
    "roc_auc = auc(fpr, tpr)\n",
    "print(roc_auc)\n",
    "\n"
   ]
  },
  {
   "cell_type": "code",
   "execution_count": 79,
   "metadata": {},
   "outputs": [
    {
     "name": "stdout",
     "output_type": "stream",
     "text": [
      "0.8600996055226825\n",
      "0.828096909927679\n"
     ]
    }
   ],
   "source": [
    "mask1 = s1> np.percentile(s1,10)\n",
    "mask2 = s2> np.percentile(s2,10)\n",
    "\n",
    "mask1[:] = 1\n",
    "mask2[:] = 1\n",
    "\n",
    "tf = np.concatenate([train_feat[1][mask1,:], train_feat[2][mask2,:]], axis=0)\n",
    "#tf = np.concatenate([train_feat[1], train_feat[2]], axis= 0)\n",
    "m = np.mean(tf, axis =0)\n",
    "tf = unit_norm(tf-m)\n",
    "tsf = unit_norm(stl_feat-m)\n",
    "s_gt = np.zeros(tf.shape[0])\n",
    "s_gt[:sum(mask1)] = 1\n",
    "\n",
    "clf1 = LinearSVC().fit(tf, s_gt)\n",
    "\n",
    "s = clf1.decision_function(tsf)\n",
    "\n",
    "fpr, tpr, _ = roc_curve(gt ==3, s)\n",
    "roc_auc = auc(fpr, tpr)\n",
    "print(roc_auc)\n",
    "\n",
    "fpr, tpr, _ = roc_curve(gt ==5, -s)\n",
    "roc_auc = auc(fpr, tpr)\n",
    "print(roc_auc)\n"
   ]
  },
  {
   "cell_type": "code",
   "execution_count": 81,
   "metadata": {},
   "outputs": [
    {
     "name": "stdout",
     "output_type": "stream",
     "text": [
      "0.7315492439184748\n",
      "0.38863905325443787\n"
     ]
    }
   ],
   "source": [
    "\n",
    "tf = np.concatenate([train_feat[1], stl_feat], axis=0)\n",
    "#tf = np.concatenate([train_feat[1], train_feat[2]], axis= 0)\n",
    "m = np.mean(tf, axis =0)\n",
    "tf = unit_norm(tf-m)\n",
    "tsf = unit_norm(stl_feat-m)\n",
    "s_gt = np.zeros(tf.shape[0])\n",
    "s_gt[:sum(mask1)] = 1\n",
    "\n",
    "clf1 = LinearSVC().fit(tf, s_gt)\n",
    "\n",
    "s = clf1.decision_function(tsf)\n",
    "\n",
    "fpr, tpr, _ = roc_curve(gt ==3, s)\n",
    "roc_auc = auc(fpr, tpr)\n",
    "print(roc_auc)\n",
    "\n",
    "fpr, tpr, _ = roc_curve(gt ==5, -s)\n",
    "roc_auc = auc(fpr, tpr)\n",
    "print(roc_auc)\n"
   ]
  },
  {
   "cell_type": "code",
   "execution_count": 65,
   "metadata": {},
   "outputs": [
    {
     "name": "stdout",
     "output_type": "stream",
     "text": [
      "0.8280965811965811\n"
     ]
    }
   ],
   "source": [
    "from sklearn.svm import LinearSVC\n",
    "\n",
    "tf = np.concatenate([train_feat[1], train_feat[2]], axis= 0)\n",
    "m = np.mean(tf, axis =0)\n",
    "tf = unit_norm(tf-m)\n",
    "tsf = unit_norm(stl_feat-m)\n",
    "s_gt = np.zeros(tf.shape[0])\n",
    "s_gt[:train_feat[1].shape[0]] = 1\n",
    "\n",
    "clf1 = LinearSVC().fit(tf, s_gt)\n",
    "\n",
    "s = clf1.decision_function(tsf)\n",
    "\n",
    "fpr, tpr, _ = roc_curve(gt ==5, -s)\n",
    "roc_auc = auc(fpr, tpr)\n",
    "print(roc_auc)\n"
   ]
  },
  {
   "cell_type": "code",
   "execution_count": null,
   "metadata": {},
   "outputs": [],
   "source": []
  },
  {
   "cell_type": "code",
   "execution_count": null,
   "metadata": {},
   "outputs": [],
   "source": []
  }
 ],
 "metadata": {
  "kernelspec": {
   "display_name": "Python 3",
   "language": "python",
   "name": "python3"
  },
  "language_info": {
   "codemirror_mode": {
    "name": "ipython",
    "version": 3
   },
   "file_extension": ".py",
   "mimetype": "text/x-python",
   "name": "python",
   "nbconvert_exporter": "python",
   "pygments_lexer": "ipython3",
   "version": "3.6.8"
  }
 },
 "nbformat": 4,
 "nbformat_minor": 4
}
