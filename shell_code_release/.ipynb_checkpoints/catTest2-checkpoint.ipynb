{
 "cells": [
  {
   "cell_type": "code",
   "execution_count": 2,
   "metadata": {},
   "outputs": [
    {
     "name": "stdout",
     "output_type": "stream",
     "text": [
      "abbey\n",
      "airport_terminal\n",
      "alley\n",
      "amphitheater\n"
     ]
    },
    {
     "name": "stderr",
     "output_type": "stream",
     "text": [
      "WARNING: Logging before flag parsing goes to stderr.\n",
      "W0811 09:17:41.555505 140127429859136 deprecation_wrapper.py:119] From /usr/local/lib/python3.6/dist-packages/keras/backend/tensorflow_backend.py:95: The name tf.reset_default_graph is deprecated. Please use tf.compat.v1.reset_default_graph instead.\n",
      "\n",
      "W0811 09:17:41.556630 140127429859136 deprecation_wrapper.py:119] From /usr/local/lib/python3.6/dist-packages/keras/backend/tensorflow_backend.py:98: The name tf.placeholder_with_default is deprecated. Please use tf.compat.v1.placeholder_with_default instead.\n",
      "\n",
      "W0811 09:17:41.583794 140127429859136 deprecation_wrapper.py:119] From /usr/local/lib/python3.6/dist-packages/keras/backend/tensorflow_backend.py:102: The name tf.get_default_graph is deprecated. Please use tf.compat.v1.get_default_graph instead.\n",
      "\n",
      "W0811 09:17:41.584706 140127429859136 deprecation_wrapper.py:119] From /usr/local/lib/python3.6/dist-packages/keras/backend/tensorflow_backend.py:517: The name tf.placeholder is deprecated. Please use tf.compat.v1.placeholder instead.\n",
      "\n",
      "W0811 09:17:41.587064 140127429859136 deprecation_wrapper.py:119] From /usr/local/lib/python3.6/dist-packages/keras/backend/tensorflow_backend.py:4138: The name tf.random_uniform is deprecated. Please use tf.random.uniform instead.\n",
      "\n",
      "W0811 09:17:41.610690 140127429859136 deprecation_wrapper.py:119] From /usr/local/lib/python3.6/dist-packages/keras/backend/tensorflow_backend.py:3976: The name tf.nn.max_pool is deprecated. Please use tf.nn.max_pool2d instead.\n",
      "\n"
     ]
    }
   ],
   "source": [
    "from keras.preprocessing import image\n",
    "from keras.applications.vgg16 import VGG16\n",
    "from keras.applications.vgg16 import preprocess_input\n",
    "from keras import backend as K\n",
    "import numpy as np\n",
    "\n",
    "import dirUtil \n",
    "from highDimLearning import vgg2feat\n",
    "\n",
    "import tensorflow as tf\n",
    "\n",
    "from sklearn.metrics.pairwise import euclidean_distances\n",
    "\n",
    "import matplotlib.pyplot as plt\n",
    "\n",
    "\n",
    "import os\n",
    "import random \n",
    "    \n",
    "\n",
    "def feat2labels(feat):\n",
    "    numClass = len(feat)\n",
    "    numDim = feat[0].shape[1]\n",
    "    numPts = 0\n",
    "    for i in range(numClass):\n",
    "        numPts = numPts + feat[i].shape[0]\n",
    "\n",
    "    allFeat = np.zeros([numPts, numDim])\n",
    "    allLabels = np.zeros(numPts, dtype = int)\n",
    "    cur = 0\n",
    "    for i in range(numClass):\n",
    "        allFeat[cur:cur+feat[i].shape[0],:] = feat[i]\n",
    "        allLabels[cur:cur+feat[i].shape[0]] = i\n",
    "        cur = cur + feat[i].shape[0]\n",
    "    return allFeat, allLabels\n",
    "        \n",
    "    \n",
    "def readNetVlad(folder, numDim =4096):\n",
    "    folderName = os.path.basename(os.path.normpath(folder))\n",
    "    print(folderName)\n",
    "    file = folder +'/vd16_pitts30k_conv5_3_vlad_preL2_intra_white_' +folderName + '_db.bin'    \n",
    "    data = np.fromfile(file, '<f4')\n",
    "    numPts = int(len(data)/numDim)\n",
    "    return np.reshape(data, [numPts, numDim])\n",
    "\n",
    "\n",
    "feat1 = readNetVlad('/media/sliu/New Volume1/basicMITData/abbey')\n",
    "    \n",
    "feat2 = readNetVlad('/media/sliu/New Volume1/basicMITData/airport_terminal')\n",
    "\n",
    "feat3 = readNetVlad('/media/sliu/New Volume1/basicMITData/alley')\n",
    "\n",
    "feat4 = readNetVlad('/media/sliu/New Volume1/basicMITData/amphitheater')\n",
    "\n",
    "\n",
    "# trainingNum = 1000\n",
    "\n",
    "# tf.reset_default_graph()\n",
    "# K.clear_session()\n",
    "# folder = '/home/sliu/code/keras-tutorial/animals/dogs/'\n",
    "# feats = dirUtil.dir2vgg16(folder)\n",
    "# feat1 = vgg2feat(feats)\n",
    "\n",
    "\n",
    "# folder2 = '/home/sliu/code/keras-tutorial/animals/cats/'\n",
    "# tf.reset_default_graph()\n",
    "# K.clear_session()\n",
    "# feats = dirUtil.dir2vgg16(folder2)\n",
    "# feat2 = vgg2feat(feats)\n",
    "\n",
    "# folder3 = '/home/sliu/code/keras-tutorial/animals/panda/'\n",
    "# tf.reset_default_graph()\n",
    "# K.clear_session()\n",
    "# feats = dirUtil.dir2vgg16(folder3)\n",
    "# feat3 = vgg2feat(feats)\n",
    "\n",
    "\n"
   ]
  },
  {
   "cell_type": "code",
   "execution_count": 3,
   "metadata": {},
   "outputs": [],
   "source": [
    "%load_ext autoreload\n",
    "%autoreload\n",
    "from clusteringTree import ClusteringTree\n"
   ]
  },
  {
   "cell_type": "code",
   "execution_count": 5,
   "metadata": {},
   "outputs": [],
   "source": [
    "tree = ClusteringTree(1, n_branch=2)\n",
    "\n",
    "trainFeat, gt = feat2labels([feat1[:6000,:], feat2[:6000,:]])\n",
    "labels_final, scores_final = tree.construct_tree(trainFeat)"
   ]
  },
  {
   "cell_type": "code",
   "execution_count": 9,
   "metadata": {},
   "outputs": [
    {
     "name": "stdout",
     "output_type": "stream",
     "text": [
      "[0.19127586 0.00816371]\n"
     ]
    }
   ],
   "source": [
    "a = tree.transform(feat1)\n",
    "a = tree.transform(feat3)\n",
    "\n",
    "print(np.mean(a, axis =0))\n",
    "print(np.mean(a, axis =0))\n"
   ]
  },
  {
   "cell_type": "code",
   "execution_count": 145,
   "metadata": {},
   "outputs": [
    {
     "name": "stdout",
     "output_type": "stream",
     "text": [
      "(1, 25088)\n"
     ]
    }
   ],
   "source": [
    "\n",
    "def estModel(feat, meanEst, SigEst, weight = 1.0, numIter=10000):\n",
    "\n",
    "    f_ = tf.constant(feat, dtype=\"float32\")\n",
    "    W_ = tf.get_variable(\"W\", dtype=tf.float32,\n",
    "                         initializer=meanEst.astype(\"float32\"))\n",
    "    Sig_ = tf.get_variable(\"S\", dtype=tf.float32,\n",
    "                           initializer=SigEst.astype(\"float32\"))\n",
    "    lambda_  = tf.constant(weight, dtype=\"float32\")\n",
    "    numFeat_ = tf.constant(feat.shape[0], dtype=\"float32\")\n",
    "    #zero = tf.zeros([feat.shape[0],1])\n",
    "\n",
    "\n",
    "    projDist_ = tf.matmul(f_, W_)\n",
    "\n",
    "    meanNorm_ = tf.sqrt(tf.reduce_sum(tf.math.square(W_), axis=0))\n",
    "    regularizer_ = 0.0*tf.math.abs(1-Sig_) + (1-meanNorm_)*(1-meanNorm_)\n",
    "    regularizer_ = tf.reduce_sum(regularizer_)\n",
    "\n",
    "    cost = tf.math.pow(projDist_-Sig_, 2)\n",
    "    final_cost = tf.reduce_sum(cost)/numFeat_ + lambda_*regularizer_\n",
    "\n",
    "    optimizer = tf.train.AdamOptimizer(0.01)\n",
    "    train = optimizer.minimize(final_cost)\n",
    "\n",
    "    with tf.Session() as sess:\n",
    "        sess.run(tf.global_variables_initializer())\n",
    "        for i in range(numIter):\n",
    "\n",
    "            sess.run(train)\n",
    "            #print('Iteration:', i)\n",
    "            #print(sess.run(final_cost))\n",
    "\n",
    "        W = sess.run(W_)\n",
    "        Sig = sess.run(Sig_)\n",
    "    return W, Sig\n",
    "\n",
    "trainFeat = np.concatenate([feat1[:500,:], feat2[:500,:]])\n",
    "m = np.mean(trainFeat, axis=0, keepdims=True)\n",
    "\n",
    "\n",
    "print(m.shape)\n",
    "\n",
    "\n",
    "sig = np.mean(np.matmul(trainFeat, np.transpose(m)))\n",
    "\n",
    "tf.reset_default_graph()\n",
    "K.clear_session()\n",
    "\n",
    "W, Sig = estModel(trainFeat, np.transpose(m), sig)"
   ]
  },
  {
   "cell_type": "code",
   "execution_count": 146,
   "metadata": {},
   "outputs": [
    {
     "name": "stdout",
     "output_type": "stream",
     "text": [
      "-0.0004156360808521477\n",
      "-0.0008312685144744723\n",
      "0.0008857257408321786\n"
     ]
    }
   ],
   "source": [
    "a = np.matmul(feat1,W)-Sig\n",
    "b = np.matmul(feat3,W)-Sig\n",
    "\n",
    "print(np.mean(a))\n",
    "print(np.mean(a[500:]))\n",
    "print(np.mean(b))"
   ]
  }
 ],
 "metadata": {
  "kernelspec": {
   "display_name": "Python 3",
   "language": "python",
   "name": "python3"
  },
  "language_info": {
   "codemirror_mode": {
    "name": "ipython",
    "version": 3
   },
   "file_extension": ".py",
   "mimetype": "text/x-python",
   "name": "python",
   "nbconvert_exporter": "python",
   "pygments_lexer": "ipython3",
   "version": "3.6.8"
  }
 },
 "nbformat": 4,
 "nbformat_minor": 4
}
