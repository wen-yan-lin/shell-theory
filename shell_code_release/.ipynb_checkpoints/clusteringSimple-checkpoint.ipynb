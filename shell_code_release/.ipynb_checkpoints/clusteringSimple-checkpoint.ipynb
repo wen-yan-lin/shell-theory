{
 "cells": [
  {
   "cell_type": "code",
   "execution_count": 1,
   "metadata": {},
   "outputs": [],
   "source": [
    "import numpy as np\n",
    "import tensorflow as tf\n",
    "import matplotlib.pyplot as plt\n",
    "import random\n",
    "import copy\n",
    "\n",
    "#allFeat = np.load('/tf/notebooks/clusteringTree/stl_feat/feats_2048.npy')\n",
    "#gtAll = np.load('/tf/notebooks/clusteringTree/stl_feat/labels_2048.npy')-1|\n",
    "\n",
    "# allFeat = np.load('/tf/notebooks/STL-10/danielFeat.npy')\n",
    "# gtAll = np.load('/tf/notebooks/STL-10/danielGt.npy')\n",
    "\n"
   ]
  },
  {
   "cell_type": "code",
   "execution_count": 2,
   "metadata": {},
   "outputs": [],
   "source": [
    "%load_ext autoreload\n",
    "%autoreload\n",
    "\n",
    "from sklearn.cluster import KMeans\n",
    "from shellUtil import normIt\n",
    "from clusteringX2 import clusterModel\n",
    "from clusteringX2 import train_step4\n",
    "\n",
    "\n",
    "\n",
    "def clustering(feat, numClass=60, minClusSize=10, thres=0.1, denom=1, iter_=1000, max_K_init=5000):\n",
    "    \n",
    "    #feat, m = normIt(feat)\n",
    "    \n",
    "    skip = int(feat.shape[0]/max_K_init)\n",
    "    \n",
    "    # initilization\n",
    "    kmeans = KMeans(n_clusters=numClass, random_state=0).fit(feat[::skip])\n",
    "    labelK = kmeans.predict(feat)\n",
    "    means =np.zeros([numClass, feat.shape[1]])\n",
    "\n",
    "    for i in range(numClass):\n",
    "        mask = labelK == i\n",
    "        means[i,:] = np.mean(feat[mask,:], axis =0)\n",
    "\n",
    "    sigInit = np.zeros([numClass])\n",
    "    for i in range(numClass):\n",
    "        mask = np.logical_not(labelK == i)\n",
    "        sigInit[i] = np.mean(np.matmul(feat[mask,:], np.transpose(means[i,:])))\n",
    "    model = clusterModel(means.transpose(), sigInit)\n",
    "    train_step4(model, feat.astype(\"float32\"), iter=iter_, denom=denom)\n",
    "    \n",
    "    \n",
    "    \n",
    "    c = model(feat.astype(\"float32\"))\n",
    "    s = np.max(c, axis=1)\n",
    "    t = np.mean(s)\n",
    "    mask = s > 0#t*0.5    \n",
    "    labels = np.argmax(c, axis =1)      \n",
    "    for i in range(numClass):\n",
    "        t_mask = labels==i\n",
    "        if np.sum(t_mask)<minClusSize:\n",
    "            mask[t_mask] = 0\n",
    "\n",
    "    \n",
    "    \n",
    "    train_step4(model, feat[mask,:].astype(\"float32\"), iter=iter_, denom=denom)\n",
    "    \n",
    "    \n",
    "    c = model(feat.astype(\"float32\"))\n",
    "    s = np.max(c, axis=1)\n",
    "    t = np.mean(s)\n",
    "    print(t)\n",
    "    mask = s > 0# t*0.5\n",
    "    labels = np.argmax(c, axis =1)      \n",
    "    for i in range(numClass):\n",
    "        t_mask = labels==i\n",
    "        if np.sum(t_mask)<minClusSize:\n",
    "            mask[t_mask] = 0\n",
    "\n",
    "\n",
    "    train_step4(model, feat.astype(\"float32\"), iter=iter_, denom=denom)\n",
    "\n",
    " \n",
    "    c = model(feat.astype(\"float32\"))\n",
    "    print(c.shape)\n",
    "    c = c.numpy()\n",
    "    labels = np.argmax(c, axis =1)\n",
    "    mask_ = np.zeros(numClass, dtype=bool)\n",
    "        \n",
    "    for i in range(numClass):\n",
    "        if np.sum(labels==i)>minClusSize:\n",
    "            mask_[i] = 1\n",
    "    w = model.w.numpy()\n",
    "    sig = model.sig.numpy()\n",
    "    w = w[:,mask_]\n",
    "    sig = sig[mask_]\n",
    "    \n",
    "    c = c[:,mask_]    \n",
    "    \n",
    "    labels = np.argmax(c, axis =1)\n",
    "\n",
    "    return w, sig, c, labels\n"
   ]
  },
  {
   "cell_type": "code",
   "execution_count": 3,
   "metadata": {},
   "outputs": [],
   "source": [
    "def findFullDimensions(c, minClusSize=0):\n",
    "    numClass = c.shape[1]\n",
    "    labels = np.argmax(c, axis =1)\n",
    "    mask_ = np.zeros(numClass, dtype=bool)\n",
    "        \n",
    "    for i in range(numClass):\n",
    "        if np.sum(labels==i)>minClusSize:\n",
    "            mask_[i] = 1\n",
    "    return mask_\n",
    "\n",
    "def deleteEmptyDimensions_Noise(model, feat, minClusSize, noiseThres=0.1):\n",
    "    \n",
    "    c = model(feat.astype(\"float32\"))\n",
    "    c = c.numpy()\n",
    "    mask_ = findFullDimensions(c, minClusSize=0)\n",
    "    w = model.w.numpy()\n",
    "    sig = model.sig.numpy()\n",
    "    w = w[:,mask_]\n",
    "    sig = sig[mask_]\n",
    "    \n",
    "    score = np.max(c[:,mask_], axis=1)\n",
    "    inliers = score > noiseThres*np.mean(score)\n",
    "\n",
    "    \n",
    "    return clusterModel(w, sig), inliers\n",
    "    \n",
    "    \n",
    "\n",
    "def clustering2(feat, numClass=60, minClusSize=10, thres=0.1, denom=1, iter_=1000, max_K_init=5000):\n",
    "    \n",
    "    #feat, m = normIt(feat)\n",
    "    \n",
    "    skip = int(feat.shape[0]/max_K_init)\n",
    "    if skip<1:\n",
    "        skip=1\n",
    "    \n",
    "    # initilization\n",
    "    kmeans = KMeans(n_clusters=numClass, random_state=0).fit(feat[::skip])\n",
    "    labelK = kmeans.predict(feat)\n",
    "    means =np.zeros([numClass, feat.shape[1]])\n",
    "\n",
    "    for i in range(numClass):\n",
    "        mask = labelK == i\n",
    "        means[i,:] = np.mean(feat[mask,:], axis =0)\n",
    "\n",
    "    sigInit = np.zeros([numClass])\n",
    "    for i in range(numClass):\n",
    "        mask = np.logical_not(labelK == i)\n",
    "        sigInit[i] = np.mean(np.matmul(feat[mask,:], np.transpose(means[i,:])))\n",
    "    \n",
    "    model = clusterModel(means.transpose(), sigInit)\n",
    "    train_step4(model, feat.astype(\"float32\"), iter=iter_, denom=denom)\n",
    "    \n",
    "    model, inliers = deleteEmptyDimensions_Noise(model, feat.astype(\"float32\"), minClusSize, noiseThres=thres)    \n",
    "    train_step4(model, feat[inliers,:].astype(\"float32\"), iter=iter_, denom=denom)\n",
    "    \n",
    "    model, inliers = deleteEmptyDimensions_Noise(model, feat.astype(\"float32\"), minClusSize, noiseThres=thres)    \n",
    "    train_step4(model, feat[inliers,:].astype(\"float32\"), iter=iter_, denom=denom)\n",
    "    \n",
    "\n",
    " \n",
    "    c = model(feat.astype(\"float32\"))\n",
    "    c = c.numpy()\n",
    "    mask_ = findFullDimensions(c, minClusSize=0)\n",
    "    w = model.w.numpy()\n",
    "    sig = model.sig.numpy()\n",
    "    w = w[:,mask_]\n",
    "    sig = sig[mask_]\n",
    "    c = c[:,mask_]    \n",
    "    \n",
    "    labels = np.argmax(c, axis =1)\n",
    "\n",
    "    return w, sig, c, labels\n"
   ]
  },
  {
   "cell_type": "code",
   "execution_count": 4,
   "metadata": {},
   "outputs": [],
   "source": [
    "\n",
    "# allFeat = np.load('/tf/notebooks/STL-10/danielFeat.npy')\n",
    "# gtAll = np.load('/tf/notebooks/STL-10/danielGt.npy')\n",
    "\n",
    "allFeat = np.load('../MIT-Places/quickTest/resNet50.npy')\n",
    "gtAll = np.load('../MIT-Places/quickTest/gt.npy')\n",
    "\n",
    "# allFeat = np.load('../fake-stl10/resNet50.npy')\n",
    "# gtAll = np.load('../fake-stl10/gt.npy')\n",
    "\n",
    "# allFeat = np.load('../internetData/resNet50.npy')\n",
    "# gtAll = np.load('../internetData/gt.npy')\n",
    "\n",
    "mask = np.logical_or(gtAll==1, gtAll==3)\n",
    "allFeat = allFeat[mask]\n",
    "gtAll = gtAll[mask]\n"
   ]
  },
  {
   "cell_type": "code",
   "execution_count": 5,
   "metadata": {},
   "outputs": [],
   "source": [
    "allFeat, _ = normIt(allFeat)"
   ]
  },
  {
   "cell_type": "code",
   "execution_count": 6,
   "metadata": {},
   "outputs": [
    {
     "name": "stdout",
     "output_type": "stream",
     "text": [
      "tf.Tensor(-4502.454, shape=(), dtype=float32)\n",
      "tf.Tensor(-4507.8916, shape=(), dtype=float32)\n",
      "tf.Tensor(-4517.175, shape=(), dtype=float32)\n",
      "tf.Tensor(-4526.551, shape=(), dtype=float32)\n",
      "tf.Tensor(-4536.0225, shape=(), dtype=float32)\n",
      "tf.Tensor(-4545.591, shape=(), dtype=float32)\n",
      "tf.Tensor(-4555.2583, shape=(), dtype=float32)\n",
      "tf.Tensor(-4565.027, shape=(), dtype=float32)\n",
      "tf.Tensor(-4574.8994, shape=(), dtype=float32)\n",
      "tf.Tensor(-4584.877, shape=(), dtype=float32)\n",
      "tf.Tensor(-4594.963, shape=(), dtype=float32)\n",
      "tf.Tensor(-4605.1587, shape=(), dtype=float32)\n",
      "tf.Tensor(-4615.468, shape=(), dtype=float32)\n",
      "tf.Tensor(-4625.8916, shape=(), dtype=float32)\n",
      "tf.Tensor(-4636.434, shape=(), dtype=float32)\n",
      "tf.Tensor(-4647.1025, shape=(), dtype=float32)\n",
      "tf.Tensor(-4657.8945, shape=(), dtype=float32)\n",
      "tf.Tensor(-4668.813, shape=(), dtype=float32)\n",
      "tf.Tensor(-4679.8604, shape=(), dtype=float32)\n",
      "tf.Tensor(-4691.039, shape=(), dtype=float32)\n",
      "tf.Tensor(-4702.352, shape=(), dtype=float32)\n",
      "tf.Tensor(-4713.8027, shape=(), dtype=float32)\n",
      "tf.Tensor(-4725.3926, shape=(), dtype=float32)\n",
      "tf.Tensor(-4737.126, shape=(), dtype=float32)\n",
      "tf.Tensor(-4749.007, shape=(), dtype=float32)\n",
      "tf.Tensor(-4761.037, shape=(), dtype=float32)\n",
      "tf.Tensor(-4773.225, shape=(), dtype=float32)\n",
      "tf.Tensor(-4785.574, shape=(), dtype=float32)\n",
      "tf.Tensor(-4798.0864, shape=(), dtype=float32)\n",
      "tf.Tensor(-4810.7656, shape=(), dtype=float32)\n",
      "tf.Tensor(-4823.6187, shape=(), dtype=float32)\n",
      "tf.Tensor(-4836.6543, shape=(), dtype=float32)\n",
      "tf.Tensor(-4849.87, shape=(), dtype=float32)\n",
      "tf.Tensor(-4863.27, shape=(), dtype=float32)\n",
      "tf.Tensor(-4876.8574, shape=(), dtype=float32)\n",
      "tf.Tensor(-4890.641, shape=(), dtype=float32)\n",
      "tf.Tensor(-4904.626, shape=(), dtype=float32)\n",
      "tf.Tensor(-4918.813, shape=(), dtype=float32)\n",
      "tf.Tensor(-4933.205, shape=(), dtype=float32)\n",
      "tf.Tensor(-4947.806, shape=(), dtype=float32)\n",
      "tf.Tensor(-4962.6206, shape=(), dtype=float32)\n",
      "tf.Tensor(-4977.6523, shape=(), dtype=float32)\n",
      "tf.Tensor(-4992.9062, shape=(), dtype=float32)\n",
      "tf.Tensor(-5008.3857, shape=(), dtype=float32)\n",
      "tf.Tensor(-5024.095, shape=(), dtype=float32)\n",
      "tf.Tensor(-5040.039, shape=(), dtype=float32)\n",
      "tf.Tensor(-5056.2207, shape=(), dtype=float32)\n",
      "tf.Tensor(-5072.6455, shape=(), dtype=float32)\n",
      "tf.Tensor(-5447.4707, shape=(), dtype=float32)\n",
      "tf.Tensor(-5807.36, shape=(), dtype=float32)\n",
      "tf.Tensor(-5893.296, shape=(), dtype=float32)\n",
      "tf.Tensor(-5920.329, shape=(), dtype=float32)\n",
      "tf.Tensor(-6000.5938, shape=(), dtype=float32)\n",
      "tf.Tensor(-6010.885, shape=(), dtype=float32)\n",
      "tf.Tensor(-6015.994, shape=(), dtype=float32)\n",
      "tf.Tensor(-6034.317, shape=(), dtype=float32)\n",
      "tf.Tensor(-6051.9526, shape=(), dtype=float32)\n",
      "tf.Tensor(-6064.8545, shape=(), dtype=float32)\n",
      "tf.Tensor(-6068.2134, shape=(), dtype=float32)\n",
      "tf.Tensor(-6077.368, shape=(), dtype=float32)\n",
      "tf.Tensor(-6087.2246, shape=(), dtype=float32)\n",
      "tf.Tensor(-6092.698, shape=(), dtype=float32)\n",
      "tf.Tensor(-6097.493, shape=(), dtype=float32)\n",
      "tf.Tensor(-6102.49, shape=(), dtype=float32)\n",
      "tf.Tensor(-6105.3066, shape=(), dtype=float32)\n",
      "tf.Tensor(-6106.1025, shape=(), dtype=float32)\n",
      "tf.Tensor(-6107.4424, shape=(), dtype=float32)\n",
      "tf.Tensor(-6111.0127, shape=(), dtype=float32)\n",
      "tf.Tensor(-6115.823, shape=(), dtype=float32)\n",
      "tf.Tensor(-6119.8516, shape=(), dtype=float32)\n",
      "tf.Tensor(-6122.4756, shape=(), dtype=float32)\n",
      "tf.Tensor(-6124.6016, shape=(), dtype=float32)\n",
      "tf.Tensor(-6126.788, shape=(), dtype=float32)\n",
      "tf.Tensor(-6128.6523, shape=(), dtype=float32)\n",
      "tf.Tensor(-6130.1055, shape=(), dtype=float32)\n",
      "tf.Tensor(-6131.749, shape=(), dtype=float32)\n",
      "tf.Tensor(-6134.141, shape=(), dtype=float32)\n",
      "tf.Tensor(-6136.88, shape=(), dtype=float32)\n",
      "tf.Tensor(-6138.8447, shape=(), dtype=float32)\n",
      "tf.Tensor(-6140.0107, shape=(), dtype=float32)\n",
      "tf.Tensor(-6141.2646, shape=(), dtype=float32)\n",
      "tf.Tensor(-6142.657, shape=(), dtype=float32)\n",
      "tf.Tensor(-6143.8955, shape=(), dtype=float32)\n",
      "tf.Tensor(-6145.3535, shape=(), dtype=float32)\n",
      "tf.Tensor(-6147.1445, shape=(), dtype=float32)\n",
      "tf.Tensor(-6148.6294, shape=(), dtype=float32)\n",
      "tf.Tensor(-6149.6387, shape=(), dtype=float32)\n",
      "tf.Tensor(-6150.664, shape=(), dtype=float32)\n",
      "tf.Tensor(-6151.8174, shape=(), dtype=float32)\n",
      "tf.Tensor(-6152.9014, shape=(), dtype=float32)\n",
      "tf.Tensor(-6153.998, shape=(), dtype=float32)\n",
      "tf.Tensor(-6155.1514, shape=(), dtype=float32)\n",
      "tf.Tensor(-6156.1978, shape=(), dtype=float32)\n",
      "tf.Tensor(-6157.115, shape=(), dtype=float32)\n",
      "tf.Tensor(-6157.9824, shape=(), dtype=float32)\n",
      "tf.Tensor(-6158.846, shape=(), dtype=float32)\n",
      "tf.Tensor(-6159.7275, shape=(), dtype=float32)\n",
      "tf.Tensor(-6160.5957, shape=(), dtype=float32)\n",
      "tf.Tensor(-6161.451, shape=(), dtype=float32)\n",
      "tf.Tensor(-6162.246, shape=(), dtype=float32)\n",
      "tf.Tensor(-6162.9585, shape=(), dtype=float32)\n",
      "tf.Tensor(-6163.698, shape=(), dtype=float32)\n",
      "tf.Tensor(-6164.402, shape=(), dtype=float32)\n",
      "tf.Tensor(-6165.065, shape=(), dtype=float32)\n",
      "tf.Tensor(-6165.798, shape=(), dtype=float32)\n",
      "tf.Tensor(-6166.4907, shape=(), dtype=float32)\n",
      "tf.Tensor(-6167.079, shape=(), dtype=float32)\n",
      "tf.Tensor(-6167.676, shape=(), dtype=float32)\n",
      "tf.Tensor(-6168.299, shape=(), dtype=float32)\n",
      "tf.Tensor(-6168.874, shape=(), dtype=float32)\n",
      "tf.Tensor(-6169.4473, shape=(), dtype=float32)\n",
      "tf.Tensor(-6170.025, shape=(), dtype=float32)\n",
      "tf.Tensor(-6170.534, shape=(), dtype=float32)\n",
      "tf.Tensor(-6171.044, shape=(), dtype=float32)\n",
      "tf.Tensor(-6171.5664, shape=(), dtype=float32)\n",
      "tf.Tensor(-6172.0654, shape=(), dtype=float32)\n",
      "tf.Tensor(-6172.5527, shape=(), dtype=float32)\n",
      "tf.Tensor(-6173.0234, shape=(), dtype=float32)\n",
      "tf.Tensor(-6173.461, shape=(), dtype=float32)\n",
      "tf.Tensor(-6173.913, shape=(), dtype=float32)\n",
      "tf.Tensor(-6174.3623, shape=(), dtype=float32)\n",
      "tf.Tensor(-6174.7295, shape=(), dtype=float32)\n",
      "tf.Tensor(-6174.839, shape=(), dtype=float32)\n",
      "tf.Tensor(-6175.533, shape=(), dtype=float32)\n",
      "tf.Tensor(-6175.812, shape=(), dtype=float32)\n",
      "tf.Tensor(-6176.2334, shape=(), dtype=float32)\n",
      "tf.Tensor(-6176.642, shape=(), dtype=float32)\n",
      "tf.Tensor(-6176.9854, shape=(), dtype=float32)\n",
      "tf.Tensor(-6177.3486, shape=(), dtype=float32)\n",
      "tf.Tensor(-6177.7373, shape=(), dtype=float32)\n",
      "tf.Tensor(-6178.0547, shape=(), dtype=float32)\n",
      "tf.Tensor(-6178.426, shape=(), dtype=float32)\n",
      "tf.Tensor(-6178.7637, shape=(), dtype=float32)\n",
      "tf.Tensor(-6179.077, shape=(), dtype=float32)\n",
      "tf.Tensor(-6179.4062, shape=(), dtype=float32)\n",
      "tf.Tensor(-6179.7007, shape=(), dtype=float32)\n",
      "tf.Tensor(-6180.0127, shape=(), dtype=float32)\n",
      "tf.Tensor(-6180.328, shape=(), dtype=float32)\n",
      "tf.Tensor(-6180.6016, shape=(), dtype=float32)\n",
      "tf.Tensor(-6180.9067, shape=(), dtype=float32)\n",
      "tf.Tensor(-6165.218, shape=(), dtype=float32)\n",
      "tf.Tensor(-6165.5615, shape=(), dtype=float32)\n",
      "tf.Tensor(-6166.177, shape=(), dtype=float32)\n",
      "tf.Tensor(-6166.797, shape=(), dtype=float32)\n",
      "tf.Tensor(-6167.3193, shape=(), dtype=float32)\n",
      "tf.Tensor(-6167.6504, shape=(), dtype=float32)\n",
      "tf.Tensor(-6168.083, shape=(), dtype=float32)\n",
      "tf.Tensor(-6168.453, shape=(), dtype=float32)\n",
      "tf.Tensor(-6168.6445, shape=(), dtype=float32)\n",
      "tf.Tensor(-6168.8535, shape=(), dtype=float32)\n",
      "tf.Tensor(-6169.2573, shape=(), dtype=float32)\n",
      "tf.Tensor(-6169.793, shape=(), dtype=float32)\n",
      "tf.Tensor(-6170.1357, shape=(), dtype=float32)\n",
      "tf.Tensor(-6170.296, shape=(), dtype=float32)\n",
      "tf.Tensor(-6170.4053, shape=(), dtype=float32)\n",
      "tf.Tensor(-6170.6104, shape=(), dtype=float32)\n",
      "tf.Tensor(-6170.9346, shape=(), dtype=float32)\n",
      "tf.Tensor(-6171.2285, shape=(), dtype=float32)\n",
      "tf.Tensor(-6171.4883, shape=(), dtype=float32)\n",
      "tf.Tensor(-6171.673, shape=(), dtype=float32)\n",
      "tf.Tensor(-6171.8545, shape=(), dtype=float32)\n",
      "tf.Tensor(-6172.042, shape=(), dtype=float32)\n",
      "tf.Tensor(-6172.237, shape=(), dtype=float32)\n",
      "tf.Tensor(-6172.419, shape=(), dtype=float32)\n",
      "tf.Tensor(-6172.621, shape=(), dtype=float32)\n",
      "tf.Tensor(-6172.8115, shape=(), dtype=float32)\n",
      "tf.Tensor(-6172.961, shape=(), dtype=float32)\n",
      "tf.Tensor(-6173.1133, shape=(), dtype=float32)\n",
      "tf.Tensor(-6173.294, shape=(), dtype=float32)\n",
      "tf.Tensor(-6173.4766, shape=(), dtype=float32)\n",
      "tf.Tensor(-6173.631, shape=(), dtype=float32)\n",
      "tf.Tensor(-6173.773, shape=(), dtype=float32)\n",
      "tf.Tensor(-6173.9062, shape=(), dtype=float32)\n",
      "tf.Tensor(-6174.035, shape=(), dtype=float32)\n",
      "tf.Tensor(-6174.1885, shape=(), dtype=float32)\n",
      "tf.Tensor(-6174.3364, shape=(), dtype=float32)\n",
      "tf.Tensor(-6174.4697, shape=(), dtype=float32)\n",
      "tf.Tensor(-6174.5967, shape=(), dtype=float32)\n",
      "tf.Tensor(-6174.7236, shape=(), dtype=float32)\n"
     ]
    },
    {
     "name": "stdout",
     "output_type": "stream",
     "text": [
      "tf.Tensor(-6174.8486, shape=(), dtype=float32)\n",
      "tf.Tensor(-6174.9795, shape=(), dtype=float32)\n",
      "tf.Tensor(-6175.1016, shape=(), dtype=float32)\n",
      "tf.Tensor(-6175.215, shape=(), dtype=float32)\n",
      "tf.Tensor(-6175.33, shape=(), dtype=float32)\n",
      "tf.Tensor(-6175.451, shape=(), dtype=float32)\n",
      "tf.Tensor(-6175.561, shape=(), dtype=float32)\n",
      "tf.Tensor(-6175.668, shape=(), dtype=float32)\n",
      "tf.Tensor(-6175.786, shape=(), dtype=float32)\n",
      "tf.Tensor(-6175.8926, shape=(), dtype=float32)\n",
      "tf.Tensor(-6175.9917, shape=(), dtype=float32)\n",
      "tf.Tensor(-6176.0977, shape=(), dtype=float32)\n",
      "tf.Tensor(-6176.204, shape=(), dtype=float32)\n",
      "tf.Tensor(-6176.3047, shape=(), dtype=float32)\n",
      "tf.Tensor(-6176.403, shape=(), dtype=float32)\n",
      "tf.Tensor(-6176.4995, shape=(), dtype=float32)\n",
      "tf.Tensor(-6176.5996, shape=(), dtype=float32)\n",
      "tf.Tensor(-6176.6943, shape=(), dtype=float32)\n",
      "tf.Tensor(-6176.786, shape=(), dtype=float32)\n",
      "tf.Tensor(-6176.88, shape=(), dtype=float32)\n",
      "tf.Tensor(-6176.9717, shape=(), dtype=float32)\n",
      "tf.Tensor(-6177.0615, shape=(), dtype=float32)\n",
      "tf.Tensor(-6177.1514, shape=(), dtype=float32)\n",
      "tf.Tensor(-6177.2383, shape=(), dtype=float32)\n",
      "tf.Tensor(-6177.325, shape=(), dtype=float32)\n",
      "tf.Tensor(-6177.411, shape=(), dtype=float32)\n",
      "tf.Tensor(-6177.495, shape=(), dtype=float32)\n",
      "tf.Tensor(-6177.5786, shape=(), dtype=float32)\n"
     ]
    }
   ],
   "source": [
    "# denom=1  for multi-class\n",
    "w, sig, c, labels = clustering2(allFeat, minClusSize=0, numClass=2, iter_=100, denom=0.01)"
   ]
  },
  {
   "cell_type": "code",
   "execution_count": 7,
   "metadata": {},
   "outputs": [
    {
     "name": "stdout",
     "output_type": "stream",
     "text": [
      "(2048, 2)\n"
     ]
    }
   ],
   "source": [
    "print(w.shape)"
   ]
  },
  {
   "cell_type": "code",
   "execution_count": 8,
   "metadata": {},
   "outputs": [
    {
     "data": {
      "text/plain": [
       "<matplotlib.collections.PathCollection at 0x7f4e04237048>"
      ]
     },
     "execution_count": 8,
     "metadata": {},
     "output_type": "execute_result"
    },
    {
     "data": {
      "image/png": "[encoded data removed]",
      "text/plain": [
       "<Figure size 432x288 with 1 Axes>"
      ]
     },
     "metadata": {
      "needs_background": "light"
     },
     "output_type": "display_data"
    }
   ],
   "source": [
    "i = 0\n",
    "plt.scatter(c[:,i],c[:,i+1], c=gtAll, alpha=0.1)"
   ]
  },
  {
   "cell_type": "code",
   "execution_count": 9,
   "metadata": {},
   "outputs": [
    {
     "data": {
      "text/plain": [
       "(array([0., 0., 0., 0., 0., 0., 0., 0., 0., 0., 0., 0., 0., 0., 0., 0., 0.,\n",
       "        0., 0., 0., 0., 0., 0., 0., 0., 0., 0., 0., 0., 0., 0., 0., 0., 0.,\n",
       "        0., 0., 0., 0., 0., 0., 0., 0., 0., 0., 0., 0., 0., 0., 0., 0.]),\n",
       " array([0.  , 0.02, 0.04, 0.06, 0.08, 0.1 , 0.12, 0.14, 0.16, 0.18, 0.2 ,\n",
       "        0.22, 0.24, 0.26, 0.28, 0.3 , 0.32, 0.34, 0.36, 0.38, 0.4 , 0.42,\n",
       "        0.44, 0.46, 0.48, 0.5 , 0.52, 0.54, 0.56, 0.58, 0.6 , 0.62, 0.64,\n",
       "        0.66, 0.68, 0.7 , 0.72, 0.74, 0.76, 0.78, 0.8 , 0.82, 0.84, 0.86,\n",
       "        0.88, 0.9 , 0.92, 0.94, 0.96, 0.98, 1.  ]),\n",
       " <a list of 50 Patch objects>)"
      ]
     },
     "execution_count": 9,
     "metadata": {},
     "output_type": "execute_result"
    },
    {
     "data": {
      "image/png": "[encoded data removed]",
      "text/plain": [
       "<Figure size 432x288 with 1 Axes>"
      ]
     },
     "metadata": {
      "needs_background": "light"
     },
     "output_type": "display_data"
    }
   ],
   "source": [
    "plt.hist(gtAll[labels==6], bins=50)"
   ]
  },
  {
   "cell_type": "code",
   "execution_count": 10,
   "metadata": {},
   "outputs": [
    {
     "data": {
      "text/plain": [
       "(array([3152.,    0.,    0.,    0.,    0.,    0.,    0.,    0.,    0.,\n",
       "           0.,    0.,    0.,    0.,    0.,    0.,    0.,    0.,    0.,\n",
       "           0.,    0.,    0.,    0.,    0.,    0.,    0.,    0.,    0.,\n",
       "           0.,    0.,    0.,    0.,    0.,    0.,    0.,    0.,    0.,\n",
       "           0.,    0.,    0.,    0.,    0.,    0.,    0.,    0.,    0.,\n",
       "           0.,    0.,    0.,    0., 3060.]),\n",
       " array([0.  , 0.02, 0.04, 0.06, 0.08, 0.1 , 0.12, 0.14, 0.16, 0.18, 0.2 ,\n",
       "        0.22, 0.24, 0.26, 0.28, 0.3 , 0.32, 0.34, 0.36, 0.38, 0.4 , 0.42,\n",
       "        0.44, 0.46, 0.48, 0.5 , 0.52, 0.54, 0.56, 0.58, 0.6 , 0.62, 0.64,\n",
       "        0.66, 0.68, 0.7 , 0.72, 0.74, 0.76, 0.78, 0.8 , 0.82, 0.84, 0.86,\n",
       "        0.88, 0.9 , 0.92, 0.94, 0.96, 0.98, 1.  ]),\n",
       " <a list of 50 Patch objects>)"
      ]
     },
     "execution_count": 10,
     "metadata": {},
     "output_type": "execute_result"
    },
    {
     "data": {
      "image/png": "[encoded data removed]",
      "text/plain": [
       "<Figure size 432x288 with 1 Axes>"
      ]
     },
     "metadata": {
      "needs_background": "light"
     },
     "output_type": "display_data"
    }
   ],
   "source": [
    "plt.hist(labels, bins=50)"
   ]
  },
  {
   "cell_type": "code",
   "execution_count": 11,
   "metadata": {},
   "outputs": [
    {
     "data": {
      "text/plain": [
       "(array([0, 1]), array([3152, 3060]))"
      ]
     },
     "execution_count": 11,
     "metadata": {},
     "output_type": "execute_result"
    }
   ],
   "source": [
    "np.unique(labels, return_counts=True)"
   ]
  },
  {
   "cell_type": "code",
   "execution_count": 12,
   "metadata": {},
   "outputs": [
    {
     "name": "stdout",
     "output_type": "stream",
     "text": [
      "0 3152\n",
      "1 3060\n",
      "0.7665402335092735\n",
      "0\n",
      "1.0\n"
     ]
    }
   ],
   "source": [
    "from sklearn.metrics.cluster import homogeneity_score\n",
    "\n",
    "\n",
    "def majorAxis(labels, thres = 0.05):\n",
    "    lab,  nums = np.unique(labels, return_counts=True)\n",
    "    mask = np.zeros(labels.size, dtype=bool)\n",
    "    for l, n in zip(lab, nums):\n",
    "        if n> thres*labels.size:\n",
    "            mask[labels==l] = 1\n",
    "        print(l, n)\n",
    "    return mask\n",
    "mask = majorAxis(labels)\n",
    "\n",
    "\n",
    "print(max(homogeneity_score(gtAll[mask], labels[mask]), homogeneity_score(labels[mask], gtAll[mask])))\n",
    "\n",
    "not_mask = np.logical_not(mask)\n",
    "print(sum(not_mask))\n",
    "print(max(homogeneity_score(gtAll[not_mask], labels[not_mask]), homogeneity_score(labels[not_mask], gtAll[not_mask])))\n"
   ]
  },
  {
   "cell_type": "code",
   "execution_count": 13,
   "metadata": {},
   "outputs": [
    {
     "data": {
      "text/plain": [
       "0.7665402335092735"
      ]
     },
     "execution_count": 13,
     "metadata": {},
     "output_type": "execute_result"
    },
    {
     "data": {
      "image/png": "[encoded data removed]",
      "text/plain": [
       "<Figure size 432x288 with 1 Axes>"
      ]
     },
     "metadata": {
      "needs_background": "light"
     },
     "output_type": "display_data"
    }
   ],
   "source": [
    "from sklearn.metrics.cluster import homogeneity_score\n",
    "\n",
    "i = 0\n",
    "cc = c.copy()\n",
    "cc = cc/np.max(cc, axis=1, keepdims=True)\n",
    "\n",
    "plt.scatter(cc[:,i],cc[:,i+1], c=gtAll, alpha=0.1)\n",
    "labels_ = np.argmax(cc, axis=1)\n",
    "max(homogeneity_score(gtAll, labels_), homogeneity_score(labels_, gtAll))\n",
    "\n"
   ]
  },
  {
   "cell_type": "code",
   "execution_count": 14,
   "metadata": {},
   "outputs": [
    {
     "data": {
      "text/plain": [
       "0.7665402335092735"
      ]
     },
     "execution_count": 14,
     "metadata": {},
     "output_type": "execute_result"
    }
   ],
   "source": [
    "from sklearn.metrics.cluster import homogeneity_score\n",
    "\n",
    "max(homogeneity_score(gtAll, labels), homogeneity_score(labels, gtAll))\n"
   ]
  },
  {
   "cell_type": "code",
   "execution_count": 15,
   "metadata": {},
   "outputs": [
    {
     "name": "stdout",
     "output_type": "stream",
     "text": [
      "0.7664795860656476\n"
     ]
    }
   ],
   "source": [
    "from sklearn.metrics.cluster import v_measure_score\n",
    "\n",
    "print(v_measure_score(gtAll, labels))"
   ]
  },
  {
   "cell_type": "code",
   "execution_count": 16,
   "metadata": {},
   "outputs": [],
   "source": [
    "from sklearn.cluster import KMeans\n",
    "\n",
    "clus = KMeans(n_clusters=2)\n",
    "cLabels = clus.fit_predict(allFeat)\n"
   ]
  },
  {
   "cell_type": "code",
   "execution_count": 17,
   "metadata": {},
   "outputs": [
    {
     "data": {
      "text/plain": [
       "0.7228872832031079"
      ]
     },
     "execution_count": 17,
     "metadata": {},
     "output_type": "execute_result"
    }
   ],
   "source": [
    "max(homogeneity_score(gtAll, cLabels), homogeneity_score(cLabels, gtAll))\n",
    "#print(v_measure_score(gtAll, cLabels))"
   ]
  },
  {
   "cell_type": "code",
   "execution_count": 18,
   "metadata": {},
   "outputs": [
    {
     "name": "stdout",
     "output_type": "stream",
     "text": [
      "0.7219403995735569\n"
     ]
    }
   ],
   "source": [
    "print(v_measure_score(gtAll, cLabels))"
   ]
  },
  {
   "cell_type": "code",
   "execution_count": null,
   "metadata": {},
   "outputs": [],
   "source": []
  }
 ],
 "metadata": {
  "kernelspec": {
   "display_name": "Python 3",
   "language": "python",
   "name": "python3"
  },
  "language_info": {
   "codemirror_mode": {
    "name": "ipython",
    "version": 3
   },
   "file_extension": ".py",
   "mimetype": "text/x-python",
   "name": "python",
   "nbconvert_exporter": "python",
   "pygments_lexer": "ipython3",
   "version": "3.6.9"
  }
 },
 "nbformat": 4,
 "nbformat_minor": 4
}
