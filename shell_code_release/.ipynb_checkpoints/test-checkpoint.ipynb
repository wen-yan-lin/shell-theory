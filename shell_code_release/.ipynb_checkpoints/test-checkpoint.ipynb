{
 "cells": [
  {
   "cell_type": "code",
   "execution_count": 1,
   "metadata": {},
   "outputs": [],
   "source": [
    "import numpy as np\n",
    "import tensorflow as tf\n",
    "import matplotlib.pyplot as plt\n",
    "import random\n",
    "import copy\n"
   ]
  },
  {
   "cell_type": "code",
   "execution_count": 70,
   "metadata": {},
   "outputs": [],
   "source": [
    "from sklearn.metrics import roc_auc_score\n",
    "from sklearn.metrics import average_precision_score\n",
    "\n",
    "allFeat = np.load('../STL-10/resNet50.npy')\n",
    "gtAll = np.load('../STL-10/gt.npy')\n",
    "\n",
    "\n",
    "# allFeat = np.load('../MIT-Places-Small/resNet50.npy')\n",
    "# gtAll = np.load('../MIT-Places-Small/gt.npy')\n",
    "\n",
    "# allFeat = np.load('../fake-stl10/resNet50.npy')\n",
    "# gtAll = np.load('../fake-stl10/gt.npy')\n",
    "\n",
    "# allFeat = np.load('../internetData/resNet50.npy')\n",
    "# gtAll = np.load('../internetData/gt.npy')\n",
    "\n",
    "# mask = gtAll<5\n",
    "# allFeat = allFeat[mask]\n",
    "# gtAll = gtAll[mask]\n",
    "\n",
    "\n",
    "\n",
    "# allFeat = np.load('/tf/notebooks/clusteringTree/stl_feat/feats_2048.npy')\n",
    "# gtAll = np.load('/tf/notebooks/clusteringTree/stl_feat/labels_2048.npy')-1\n",
    "# gtAll = gtAll.astype(int)\n",
    "\n",
    "\n",
    "#m = np.load('/tf/notebooks/Flickr11K/resNet50Mean.npy')\n",
    "\n",
    "# mnist = tf.keras.datasets.mnist\n",
    "\n",
    "# (x_train, y_train), (x_test, y_test) = mnist.load_data()\n",
    "# allFeat = x_train.reshape(x_train.shape[0], 28*28)\n",
    "# gtAll = y_train"
   ]
  },
  {
   "cell_type": "code",
   "execution_count": 71,
   "metadata": {},
   "outputs": [],
   "source": [
    "from sklearn.svm import OneClassSVM\n",
    "from shellUtil import normIt\n",
    "#allFeat = allFeat/np.linalg.norm(allFeat, axis =1, keepdims=True)\n",
    "\n",
    "#allFeat, _ = normIt(allFeat)\n",
    "\n",
    "m = np.load('../Flickr11K/mean.npy')\n",
    "allFeat, _ = normIt(allFeat, m)\n",
    "\n"
   ]
  },
  {
   "cell_type": "code",
   "execution_count": 72,
   "metadata": {},
   "outputs": [
    {
     "name": "stdout",
     "output_type": "stream",
     "text": [
      "The autoreload extension is already loaded. To reload it, use:\n",
      "  %reload_ext autoreload\n",
      "1300\n",
      "0.99\n",
      "0.96\n"
     ]
    },
    {
     "data": {
      "text/plain": [
       "0.9968769230769231"
      ]
     },
     "execution_count": 72,
     "metadata": {},
     "output_type": "execute_result"
    }
   ],
   "source": [
    "%load_ext autoreload\n",
    "%autoreload\n",
    "\n",
    "\n",
    "from anomalyDetectionMeanShell import robustMean\n",
    "from anomalyDetectionMeanShell import projectMean\n",
    "from sklearn.metrics import roc_auc_score\n",
    "\n",
    "\n",
    "thres = 2\n",
    "num = np.sum(gtAll==0)\n",
    "f = allFeat[:num+100]\n",
    "\n",
    "\n",
    "gt = np.zeros(f.shape[0], dtype=int)\n",
    "gt[:num] = 1\n",
    "\n",
    "m_, var, eSig = robustMean(f, numIter=10, thres=thres)\n",
    "err = projectMean(f, m_, var)\n",
    "inlier = err< thres*eSig\n",
    "\n",
    "print(num)\n",
    "print(np.sum(inlier)/num)\n",
    "print(1-sum(inlier[num:]/(inlier.size-num)))\n",
    "\n",
    "roc_auc_score(gt, -err)"
   ]
  },
  {
   "cell_type": "code",
   "execution_count": 73,
   "metadata": {},
   "outputs": [
    {
     "name": "stdout",
     "output_type": "stream",
     "text": [
      "[0.84955752 0.996892  ]\n",
      "[0.96       0.98692308]\n",
      "[0.93567251 0.98890088]\n"
     ]
    }
   ],
   "source": [
    "from anomalyDetectionMeanShellTmp import projectMean\n",
    "from anomalyDetectionMeanShellTmp import robustMean\n",
    "\n",
    "from sklearn.metrics import precision_recall_fscore_support\n",
    "\n",
    "m_, var, eSig = robustMean(f, numIter=10, thres=thres)\n",
    "err = projectMean(f, m_, var)\n",
    "inlier = err< thres*eSig\n",
    "\n",
    "\n",
    "precision, recall, f2, _ = precision_recall_fscore_support(gt, inlier, beta=2)\n",
    "\n",
    "\n",
    "print(precision)\n",
    "print(recall)\n",
    "print(f2)\n",
    "\n"
   ]
  },
  {
   "cell_type": "code",
   "execution_count": 58,
   "metadata": {},
   "outputs": [
    {
     "name": "stdout",
     "output_type": "stream",
     "text": [
      "The autoreload extension is already loaded. To reload it, use:\n",
      "  %reload_ext autoreload\n",
      "[0.76923077 1.        ]\n",
      "[1.         0.97692308]\n",
      "[0.94339623 0.98145286]\n"
     ]
    },
    {
     "data": {
      "text/plain": [
       "0.9999384615384616"
      ]
     },
     "execution_count": 58,
     "metadata": {},
     "output_type": "execute_result"
    }
   ],
   "source": [
    "%load_ext autoreload\n",
    "%autoreload\n",
    "from anomalyDetectionMeanShellTmp import robustMean2\n",
    "from anomalyDetectionMeanShellTmp import estShell\n",
    "\n",
    "\n",
    "\n",
    "\n",
    "def robustMean2(featTrain, thres=3, numIter=3):\n",
    "\n",
    "    m_, var, eSig = estShell(featTrain)\n",
    "    err = projectMean(featTrain, m_, var)\n",
    "    mask = err<eSig*thres\n",
    "\n",
    "    meanInlier = np.mean(featTrain[mask,:])\n",
    "    meanOutlier = np.mean(featTrain[~mask,:])\n",
    "    newMean = (meanInlier + meanOutlier)/2\n",
    "\n",
    "    for i in range(numIter):\n",
    "        feat, _ = normIt(featTrain, newMean)\n",
    "        m_, var, eSig = estShell(feat[mask])\n",
    "        err = projectMean(feat, m_, var)\n",
    "        mask = err<eSig*thres\n",
    "\n",
    "        meanInlier = np.mean(featTrain[mask,:], axis=0)\n",
    "        meanOutlier = np.mean(featTrain[~mask,:], axis=0)\n",
    "        newMean = (meanInlier + meanOutlier)/2\n",
    "\n",
    "\n",
    "    return m_, var, eSig, feat\n",
    "\n",
    "m_, var, eSig, ff = robustMean2(f, numIter=10, thres=thres)\n",
    "err = projectMean(ff, m_, var)\n",
    "inlier = err< thres*eSig\n",
    "\n",
    "\n",
    "precision, recall, f2, _ = precision_recall_fscore_support(gt, inlier, beta=2)\n",
    "\n",
    "\n",
    "print(precision)\n",
    "print(recall)\n",
    "print(f2)\n",
    "\n",
    "roc_auc_score(gt, -err)"
   ]
  },
  {
   "cell_type": "code",
   "execution_count": 81,
   "metadata": {},
   "outputs": [
    {
     "name": "stdout",
     "output_type": "stream",
     "text": [
      "[0.77981651 0.99594485]\n",
      "[0.98076923 0.94461538]\n",
      "[0.93269934 0.9544536 ]\n"
     ]
    },
    {
     "data": {
      "text/plain": [
       "0.9947011834319527"
      ]
     },
     "execution_count": 81,
     "metadata": {},
     "output_type": "execute_result"
    }
   ],
   "source": [
    "#from shellUtil import classAndOutliers\n",
    "thres  = 2\n",
    "targetClass = 3\n",
    "dataMask = classAndOutliers(gtAll, targetClass, 0.2, outlierClassList=[4])\n",
    "gt = gtAll[dataMask] == targetClass\n",
    "f = allFeat[dataMask]\n",
    "\n",
    "\n",
    "m_, var, eSig, ff = robustMean2(f, numIter=10, thres=thres)\n",
    "err = projectMean(ff, m_, var)\n",
    "inlier = err< thres*eSig\n",
    "\n",
    "\n",
    "precision, recall, f2, _ = precision_recall_fscore_support(gt, inlier, beta=2)\n",
    "\n",
    "\n",
    "print(precision)\n",
    "print(recall)\n",
    "print(f2)\n",
    "\n",
    "roc_auc_score(gt, -err)"
   ]
  },
  {
   "cell_type": "code",
   "execution_count": 82,
   "metadata": {},
   "outputs": [
    {
     "data": {
      "image/png": "[encoded data removed]",
      "text/plain": [
       "<Figure size 432x288 with 1 Axes>"
      ]
     },
     "metadata": {
      "needs_background": "light"
     },
     "output_type": "display_data"
    }
   ],
   "source": [
    "from displayUtil import histogramByGroundTruth\n",
    "\n",
    "histogramByGroundTruth(err, gt)"
   ]
  },
  {
   "cell_type": "code",
   "execution_count": 83,
   "metadata": {},
   "outputs": [
    {
     "data": {
      "text/plain": [
       "0.9947011834319527"
      ]
     },
     "execution_count": 83,
     "metadata": {},
     "output_type": "execute_result"
    }
   ],
   "source": [
    "from sklearn.svm import OneClassSVM\n",
    "\n",
    "clf1 = OneClassSVM(gamma='auto').fit(f)\n",
    "labels = clf1.predict(f)\n",
    "s = clf1.score_samples(f)\n",
    "roc_auc_score(gt, -err)\n",
    "#precision_recall_fscore_support(~gt, ~labels, beta=2)"
   ]
  },
  {
   "cell_type": "code",
   "execution_count": 10,
   "metadata": {},
   "outputs": [
    {
     "data": {
      "text/plain": [
       "0.9973191672032624"
      ]
     },
     "execution_count": 10,
     "metadata": {},
     "output_type": "execute_result"
    }
   ],
   "source": [
    "roc_auc_score(gt, s)\n"
   ]
  },
  {
   "cell_type": "code",
   "execution_count": 22,
   "metadata": {},
   "outputs": [
    {
     "data": {
      "text/plain": [
       "(array([  1.,   1.,   0.,   3.,   2.,   5.,   9.,  18.,  19.,  28.,  25.,\n",
       "         31.,  25.,  26.,  24.,  19.,  33.,  23.,  10.,  16.,  24.,  22.,\n",
       "         21.,  23.,  42.,  41.,  35.,  57.,  70.,  87.,  95., 102., 103.,\n",
       "        125., 137., 144., 176., 192., 190., 209., 204., 228., 194., 166.,\n",
       "        156.,  99.,  80.,  44.,  15.,   7.]),\n",
       " array([0.49947718, 0.49947915, 0.49948113, 0.4994831 , 0.49948508,\n",
       "        0.49948706, 0.49948903, 0.49949101, 0.49949299, 0.49949496,\n",
       "        0.49949694, 0.49949891, 0.49950089, 0.49950287, 0.49950484,\n",
       "        0.49950682, 0.49950879, 0.49951077, 0.49951275, 0.49951472,\n",
       "        0.4995167 , 0.49951868, 0.49952065, 0.49952263, 0.4995246 ,\n",
       "        0.49952658, 0.49952856, 0.49953053, 0.49953251, 0.49953448,\n",
       "        0.49953646, 0.49953844, 0.49954041, 0.49954239, 0.49954437,\n",
       "        0.49954634, 0.49954832, 0.49955029, 0.49955227, 0.49955425,\n",
       "        0.49955622, 0.4995582 , 0.49956018, 0.49956215, 0.49956413,\n",
       "        0.4995661 , 0.49956808, 0.49957006, 0.49957203, 0.49957401,\n",
       "        0.49957598]),\n",
       " <a list of 50 Patch objects>)"
      ]
     },
     "execution_count": 22,
     "metadata": {},
     "output_type": "execute_result"
    },
    {
     "data": {
      "image/png": "[encoded data removed]",
      "text/plain": [
       "<Figure size 432x288 with 1 Axes>"
      ]
     },
     "metadata": {
      "needs_background": "light"
     },
     "output_type": "display_data"
    }
   ],
   "source": [
    "plt.hist(s/f.shape[0], bins=50)"
   ]
  },
  {
   "cell_type": "code",
   "execution_count": 21,
   "metadata": {},
   "outputs": [
    {
     "data": {
      "text/plain": [
       "(array([  6.,  13.,  18.,  47.,  57.,  86.,  72.,  82., 108., 116., 131.,\n",
       "        126., 142., 134., 119., 129., 134., 128., 125., 126., 106., 131.,\n",
       "         91., 104.,  98., 103.,  95.,  93.,  75.,  57.,  60.,  47.,  38.,\n",
       "         36.,  20.,  20.,  11.,  15.,  16.,  15.,  18.,  20.,  30.,  44.,\n",
       "         39.,  48.,  35.,  26.,  12.,   4.]),\n",
       " array([-0.18102372, -0.17071648, -0.16040924, -0.150102  , -0.13979477,\n",
       "        -0.12948754, -0.1191803 , -0.10887307, -0.09856583, -0.08825859,\n",
       "        -0.07795136, -0.06764413, -0.05733689, -0.04702965, -0.03672242,\n",
       "        -0.02641518, -0.01610794, -0.00580071,  0.00450653,  0.01481376,\n",
       "         0.025121  ,  0.03542823,  0.04573547,  0.0560427 ,  0.06634994,\n",
       "         0.07665718,  0.08696441,  0.09727165,  0.10757888,  0.11788612,\n",
       "         0.12819335,  0.13850059,  0.14880782,  0.15911506,  0.1694223 ,\n",
       "         0.17972954,  0.19003677,  0.20034401,  0.21065123,  0.22095847,\n",
       "         0.23126571,  0.24157295,  0.25188017,  0.26218742,  0.27249464,\n",
       "         0.2828019 ,  0.29310912,  0.30341637,  0.3137236 ,  0.32403085,\n",
       "         0.33433807], dtype=float32),\n",
       " <a list of 50 Patch objects>)"
      ]
     },
     "execution_count": 21,
     "metadata": {},
     "output_type": "execute_result"
    },
    {
     "data": {
      "image/png": "[encoded data removed]",
      "text/plain": [
       "<Figure size 432x288 with 1 Axes>"
      ]
     },
     "metadata": {
      "needs_background": "light"
     },
     "output_type": "display_data"
    }
   ],
   "source": [
    "plt.hist(err, bins=50)"
   ]
  },
  {
   "cell_type": "code",
   "execution_count": 17,
   "metadata": {},
   "outputs": [
    {
     "data": {
      "image/png": "[encoded data removed]",
      "text/plain": [
       "<Figure size 432x288 with 1 Axes>"
      ]
     },
     "metadata": {
      "needs_background": "light"
     },
     "output_type": "display_data"
    }
   ],
   "source": [
    "histogramByGroundTruth(s/f.shape[0], gt)"
   ]
  },
  {
   "cell_type": "code",
   "execution_count": 12,
   "metadata": {},
   "outputs": [
    {
     "data": {
      "image/png": "[encoded data removed]",
      "text/plain": [
       "<Figure size 432x288 with 1 Axes>"
      ]
     },
     "metadata": {
      "needs_background": "light"
     },
     "output_type": "display_data"
    }
   ],
   "source": [
    "histogramByGroundTruth(s/f.shape[0], inlier)"
   ]
  },
  {
   "cell_type": "code",
   "execution_count": 13,
   "metadata": {},
   "outputs": [
    {
     "data": {
      "image/png": "[encoded data removed]",
      "text/plain": [
       "<Figure size 432x288 with 1 Axes>"
      ]
     },
     "metadata": {
      "needs_background": "light"
     },
     "output_type": "display_data"
    }
   ],
   "source": [
    "histogramByGroundTruth(s/f.shape[0], labels>=0)"
   ]
  },
  {
   "cell_type": "code",
   "execution_count": null,
   "metadata": {},
   "outputs": [],
   "source": []
  }
 ],
 "metadata": {
  "kernelspec": {
   "display_name": "Python 3",
   "language": "python",
   "name": "python3"
  },
  "language_info": {
   "codemirror_mode": {
    "name": "ipython",
    "version": 3
   },
   "file_extension": ".py",
   "mimetype": "text/x-python",
   "name": "python",
   "nbconvert_exporter": "python",
   "pygments_lexer": "ipython3",
   "version": "3.6.9"
  }
 },
 "nbformat": 4,
 "nbformat_minor": 4
}
