{
 "cells": [
  {
   "cell_type": "code",
   "execution_count": 1,
   "metadata": {},
   "outputs": [],
   "source": [
    "import numpy as np\n",
    "import tensorflow as tf\n",
    "import matplotlib.pyplot as plt\n",
    "import random\n",
    "import copy\n"
   ]
  },
  {
   "cell_type": "code",
   "execution_count": 5,
   "metadata": {},
   "outputs": [],
   "source": [
    "from sklearn.metrics import roc_auc_score\n",
    "from sklearn.metrics import average_precision_score\n",
    "\n",
    "savePath = '../results/outlierDetection/'\n",
    "\n",
    "folderNames = ['STL-10', \n",
    "               'fake-stl10', \n",
    "               'MIT-Places-Small',  \n",
    "               'internetData']\n",
    "\n",
    "folderName = folderNames[0]\n",
    "\n",
    "featString = '../' + folderName + '/resNet50.npy'\n",
    "gtString = '../' + folderName + '/gt.npy'\n",
    "\n",
    "\n",
    "allFeat = np.load(featString)\n",
    "gtAll = np.load(gtString)\n",
    "\n",
    "if folderName == 'MIT-Places-Small':\n",
    "    # deletes the ambiguous arches class\n",
    "    mask = gtAll<5\n",
    "    allFeat = allFeat[mask]\n",
    "    gtAll = gtAll[mask]\n",
    "\n",
    "\n",
    "# folderName = 'mnist'\n",
    "# mnist = tf.keras.datasets.mnist\n",
    "\n",
    "# (x_train, y_train), (x_test, y_test) = mnist.load_data()\n",
    "# allFeat = x_train.reshape(x_train.shape[0], 28*28)\n",
    "# gtAll = y_train"
   ]
  },
  {
   "cell_type": "code",
   "execution_count": 6,
   "metadata": {},
   "outputs": [],
   "source": [
    "statsRobust = np.load(savePath+folderName+'StatsRobust1.npy', allow_pickle=True)\n",
    "statsNaive = np.load(savePath+folderName+'StatsNaive1.npy', allow_pickle=True)\n",
    "#statsHDB = np.load(savePath+folderName+'StatsHDB1.npy', allow_pickle=True)\n",
    "statsOCSVM = np.load(savePath+folderName+'StatsOcsvm1.npy', allow_pickle=True)\n",
    "statsRenorm = np.load(savePath+folderName+'StatsReNorm1.npy', allow_pickle=True)\n",
    "\n"
   ]
  },
  {
   "cell_type": "code",
   "execution_count": 8,
   "metadata": {},
   "outputs": [
    {
     "data": {
      "image/png": "[encoded data removed]",
      "text/plain": [
       "<Figure size 432x288 with 1 Axes>"
      ]
     },
     "metadata": {
      "needs_background": "light"
     },
     "output_type": "display_data"
    }
   ],
   "source": [
    "#from matplotlib import rc,rcParams\n",
    "#from pylab import *\n",
    "# activate latex text rendering\n",
    "# matplotlib.use(\"pgf\")\n",
    "# matplotlib.rcParams.update({\n",
    "#     \"pgf.texsystem\": \"pdflatex\",\n",
    "#     'font.family': 'serif',\n",
    "#     'text.usetex': True,\n",
    "#     'pgf.rcfonts': True,\n",
    "#     'font.weight': \"bold\",\n",
    "#     'axes.labelweight': 'bold'\n",
    "# })\n",
    "\n",
    "\n",
    "plt.rcParams[\"font.weight\"] = \"bold\"\n",
    "plt.rcParams[\"font.size\"] = 15\n",
    "plt.rcParams[\"axes.labelweight\"] = \"bold\"\n",
    "\n",
    "def pltAxis(stats,xaxis=-1, yaxis=2, marker = '*'):\n",
    "    axisNames = ['Precision', 'Recall', 'F1', 'F2', \n",
    "                 '# Outliers', '# Detected Outliers', 'ROC']\n",
    "    numPoints = len(stats)\n",
    "    curValueX = 0\n",
    "    curValueY = 0\n",
    "    curNum = 0\n",
    "    curNoise = stats[0]['noise']\n",
    "    valuesX = []\n",
    "    valuesY = []\n",
    "    for i in range(numPoints):\n",
    "        if np.absolute(stats[i]['noise'] - curNoise)<0.00001 and i<numPoints-1:\n",
    "            if xaxis>=0:\n",
    "                curValueX = curValueX + stats[i]['stats'][xaxis]\n",
    "            curValueY = curValueY + stats[i]['stats'][yaxis]\n",
    "            curNum = curNum+1\n",
    "        else:\n",
    "            if xaxis>=0:\n",
    "                valuesX.append(curValueX/curNum)\n",
    "                curValueX = stats[i]['stats'][xaxis]\n",
    "            else:\n",
    "                # convert from using number of inliers as denominator to absolute percentage\n",
    "                #print(curNoise)\n",
    "                valuesX.append(curNoise/(1+curNoise)) \n",
    "                \n",
    "            valuesY.append(curValueY/curNum)            \n",
    "            curValueY = stats[i]['stats'][yaxis]\n",
    "            \n",
    "            curNoise = stats[i]['noise']\n",
    "            curNum = 1\n",
    "\n",
    "    valuesX = np.array(valuesX)\n",
    "    valuesY = np.array(valuesY)\n",
    "    plt.scatter(valuesX, valuesY, marker=marker)\n",
    "    if xaxis<0:\n",
    "        plt.xlabel('Anomaly Percentage', weight='bold')\n",
    "    else:\n",
    "        plt.xlabel(axisNames[xaxis], weight='bold')\n",
    "\n",
    "    plt.ylabel(axisNames[yaxis], weight='bold')\n",
    "    return axisNames[yaxis]\n",
    "\n",
    "yaxis = 6\n",
    "pltAxis(statsRobust, yaxis=yaxis, marker='+')   \n",
    "#pltAxis(statsNaive, yaxis=yaxis, marker='o')    \n",
    "pltAxis(statsRenorm, yaxis=yaxis, marker='x')   \n",
    "pltName = pltAxis(statsOCSVM, yaxis=yaxis, marker='o')    \n",
    "\n",
    "#plt.legend(['Shelll Anomaly Simple', 'Shelll Re-Normalized', 'One-Class SVM'])\n",
    "#pltAxis(statsHDB, yaxis=yaxis, marker='x')    \n",
    "plt.savefig(savePath+'/'+folderName+'_'+ pltName+'.pdf', bbox_inches='tight')\n",
    "\n"
   ]
  },
  {
   "cell_type": "code",
   "execution_count": 199,
   "metadata": {},
   "outputs": [
    {
     "name": "stdout",
     "output_type": "stream",
     "text": [
      "15.0\n"
     ]
    }
   ],
   "source": [
    "print(plt.rcParams[\"font.size\"] )"
   ]
  },
  {
   "cell_type": "code",
   "execution_count": 217,
   "metadata": {},
   "outputs": [
    {
     "data": {
      "image/png": "[encoded data removed]",
      "text/plain": [
       "<Figure size 432x288 with 1 Axes>"
      ]
     },
     "metadata": {
      "needs_background": "light"
     },
     "output_type": "display_data"
    }
   ],
   "source": [
    "def pltAxisSpecial(stats,xaxis=-1, yaxis=5, marker = '*', offset=3100):\n",
    "    YaxisNames = 'Fraction Declared Outliers'\n",
    "    numPoints = len(stats)\n",
    "    curValueX = 0\n",
    "    curValueY = 0\n",
    "    curNum = 0\n",
    "    curNoise = stats[0]['noise']\n",
    "    valuesX = []\n",
    "    valuesY = []\n",
    "    for i in range(numPoints):\n",
    "        if np.absolute(stats[i]['noise'] - curNoise)<0.00001 and i<numPoints-1:\n",
    "            curValueY = curValueY + stats[i]['stats'][yaxis]\n",
    "            curNum = curNum+1\n",
    "        else:\n",
    "            numPts = stats[i]['stats'][4] + offset\n",
    "            valuesX.append(numPts) \n",
    "            v = curValueY/curNum\n",
    "            valuesY.append(v/numPts)            \n",
    "            curValueY = stats[i]['stats'][yaxis]\n",
    "            curNoise = stats[i]['noise']\n",
    "            curNum = 1\n",
    "\n",
    "    valuesX = np.array(valuesX)\n",
    "    valuesY = np.array(valuesY)\n",
    "    plt.scatter(valuesX, valuesY, marker=marker)\n",
    "    plt.xlabel('# of points', weight='bold')\n",
    "    plt.ylabel(YaxisNames, weight='bold')\n",
    "    return YaxisNames\n",
    "\n",
    "def pltAxisGt(stats, marker = '.', offset=3100):\n",
    "    yaxis = 4\n",
    "    YaxisNames = 'Fraction Declared Outliers'\n",
    "    numPoints = len(stats)\n",
    "    curValueX = 0\n",
    "    curValueY = 0\n",
    "    curNum = 0\n",
    "    curNoise = stats[0]['noise']\n",
    "    valuesX = []\n",
    "    valuesY = []\n",
    "    for i in range(numPoints):\n",
    "        if np.absolute(stats[i]['noise'] - curNoise)<0.01 and i<numPoints-1:\n",
    "            curValueY = curValueY + stats[i]['stats'][yaxis]\n",
    "            curNum = curNum+1\n",
    "        else:\n",
    "            numPts = stats[i]['stats'][4] + offset\n",
    "            valuesX.append(numPts) \n",
    "            v = curValueY/curNum\n",
    "            valuesY.append(v/numPts)            \n",
    "            curValueY = stats[i]['stats'][yaxis]\n",
    "            curNoise = stats[i]['noise']\n",
    "            curNum = 1\n",
    "\n",
    "    valuesX = np.array(valuesX)\n",
    "    valuesY = np.array(valuesY)\n",
    "    plt.scatter(valuesX, valuesY, marker=marker)\n",
    "    plt.xlabel('# of points', weight='bold')\n",
    "    plt.ylabel(YaxisNames, weight='bold')\n",
    "    return YaxisNames\n",
    "\n",
    "plt.rcParams[\"font.size\"] = 15\n",
    "\n",
    "yaxis = 5\n",
    "numPerClass = 1300 #1300, 3100\n",
    "pltAxisSpecial(statsRobust, yaxis=yaxis, marker='+', offset=numPerClass)   \n",
    "pltAxisSpecial(statsRenorm, yaxis=yaxis, marker='x', offset=numPerClass)   \n",
    "pltAxisSpecial(statsOCSVM, yaxis=yaxis, marker='o', offset=numPerClass)    \n",
    "pltName = pltAxisGt(statsOCSVM, marker='.', offset=numPerClass)    \n",
    "\n",
    "plt.savefig(savePath+'/'+folderName+'_'+ pltName+'.pdf',bbox_inches='tight')\n",
    "#plt.legend(['Shelll Anomaly Simple', 'Shelll Anomaly Complex', 'One-Class SVM', 'Ground-Truth'])\n"
   ]
  }
 ],
 "metadata": {
  "kernelspec": {
   "display_name": "Python 3",
   "language": "python",
   "name": "python3"
  },
  "language_info": {
   "codemirror_mode": {
    "name": "ipython",
    "version": 3
   },
   "file_extension": ".py",
   "mimetype": "text/x-python",
   "name": "python",
   "nbconvert_exporter": "python",
   "pygments_lexer": "ipython3",
   "version": "3.6.9"
  }
 },
 "nbformat": 4,
 "nbformat_minor": 4
}
