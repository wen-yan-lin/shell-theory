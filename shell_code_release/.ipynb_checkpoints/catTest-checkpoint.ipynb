{
 "cells": [
  {
   "cell_type": "code",
   "execution_count": 1,
   "metadata": {},
   "outputs": [
    {
     "name": "stderr",
     "output_type": "stream",
     "text": [
      "Using TensorFlow backend.\n",
      "/home/daniel/.local/lib/python3.6/site-packages/tensorflow/python/framework/dtypes.py:516: FutureWarning: Passing (type, 1) or '1type' as a synonym of type is deprecated; in a future version of numpy, it will be understood as (type, (1,)) / '(1,)type'.\n",
      "  _np_qint8 = np.dtype([(\"qint8\", np.int8, 1)])\n",
      "/home/daniel/.local/lib/python3.6/site-packages/tensorflow/python/framework/dtypes.py:517: FutureWarning: Passing (type, 1) or '1type' as a synonym of type is deprecated; in a future version of numpy, it will be understood as (type, (1,)) / '(1,)type'.\n",
      "  _np_quint8 = np.dtype([(\"quint8\", np.uint8, 1)])\n",
      "/home/daniel/.local/lib/python3.6/site-packages/tensorflow/python/framework/dtypes.py:518: FutureWarning: Passing (type, 1) or '1type' as a synonym of type is deprecated; in a future version of numpy, it will be understood as (type, (1,)) / '(1,)type'.\n",
      "  _np_qint16 = np.dtype([(\"qint16\", np.int16, 1)])\n",
      "/home/daniel/.local/lib/python3.6/site-packages/tensorflow/python/framework/dtypes.py:519: FutureWarning: Passing (type, 1) or '1type' as a synonym of type is deprecated; in a future version of numpy, it will be understood as (type, (1,)) / '(1,)type'.\n",
      "  _np_quint16 = np.dtype([(\"quint16\", np.uint16, 1)])\n",
      "/home/daniel/.local/lib/python3.6/site-packages/tensorflow/python/framework/dtypes.py:520: FutureWarning: Passing (type, 1) or '1type' as a synonym of type is deprecated; in a future version of numpy, it will be understood as (type, (1,)) / '(1,)type'.\n",
      "  _np_qint32 = np.dtype([(\"qint32\", np.int32, 1)])\n",
      "/home/daniel/.local/lib/python3.6/site-packages/tensorflow/python/framework/dtypes.py:525: FutureWarning: Passing (type, 1) or '1type' as a synonym of type is deprecated; in a future version of numpy, it will be understood as (type, (1,)) / '(1,)type'.\n",
      "  np_resource = np.dtype([(\"resource\", np.ubyte, 1)])\n",
      "/home/daniel/.local/lib/python3.6/site-packages/tensorboard/compat/tensorflow_stub/dtypes.py:541: FutureWarning: Passing (type, 1) or '1type' as a synonym of type is deprecated; in a future version of numpy, it will be understood as (type, (1,)) / '(1,)type'.\n",
      "  _np_qint8 = np.dtype([(\"qint8\", np.int8, 1)])\n",
      "/home/daniel/.local/lib/python3.6/site-packages/tensorboard/compat/tensorflow_stub/dtypes.py:542: FutureWarning: Passing (type, 1) or '1type' as a synonym of type is deprecated; in a future version of numpy, it will be understood as (type, (1,)) / '(1,)type'.\n",
      "  _np_quint8 = np.dtype([(\"quint8\", np.uint8, 1)])\n",
      "/home/daniel/.local/lib/python3.6/site-packages/tensorboard/compat/tensorflow_stub/dtypes.py:543: FutureWarning: Passing (type, 1) or '1type' as a synonym of type is deprecated; in a future version of numpy, it will be understood as (type, (1,)) / '(1,)type'.\n",
      "  _np_qint16 = np.dtype([(\"qint16\", np.int16, 1)])\n",
      "/home/daniel/.local/lib/python3.6/site-packages/tensorboard/compat/tensorflow_stub/dtypes.py:544: FutureWarning: Passing (type, 1) or '1type' as a synonym of type is deprecated; in a future version of numpy, it will be understood as (type, (1,)) / '(1,)type'.\n",
      "  _np_quint16 = np.dtype([(\"quint16\", np.uint16, 1)])\n",
      "/home/daniel/.local/lib/python3.6/site-packages/tensorboard/compat/tensorflow_stub/dtypes.py:545: FutureWarning: Passing (type, 1) or '1type' as a synonym of type is deprecated; in a future version of numpy, it will be understood as (type, (1,)) / '(1,)type'.\n",
      "  _np_qint32 = np.dtype([(\"qint32\", np.int32, 1)])\n",
      "/home/daniel/.local/lib/python3.6/site-packages/tensorboard/compat/tensorflow_stub/dtypes.py:550: FutureWarning: Passing (type, 1) or '1type' as a synonym of type is deprecated; in a future version of numpy, it will be understood as (type, (1,)) / '(1,)type'.\n",
      "  np_resource = np.dtype([(\"resource\", np.ubyte, 1)])\n"
     ]
    },
    {
     "name": "stdout",
     "output_type": "stream",
     "text": [
      "WARNING:tensorflow:From /home/daniel/.local/lib/python3.6/site-packages/keras/backend/tensorflow_backend.py:4070: The name tf.nn.max_pool is deprecated. Please use tf.nn.max_pool2d instead.\n",
      "\n",
      "WARNING:tensorflow:From /home/daniel/.local/lib/python3.6/site-packages/keras/backend/tensorflow_backend.py:422: The name tf.global_variables is deprecated. Please use tf.compat.v1.global_variables instead.\n",
      "\n"
     ]
    }
   ],
   "source": [
    "from keras.preprocessing import image\n",
    "from keras.applications.vgg16 import VGG16\n",
    "from keras.applications.vgg16 import preprocess_input\n",
    "from keras import backend as K\n",
    "import numpy as np\n",
    "\n",
    "import dirUtil \n",
    "from highDimLearning import vgg2feat\n",
    "\n",
    "import tensorflow as tf\n",
    "\n",
    "from sklearn.metrics.pairwise import euclidean_distances\n",
    "\n",
    "import matplotlib.pyplot as plt\n",
    "\n",
    "\n",
    "import os\n",
    "import random \n",
    "    \n",
    "\n",
    "def feat2labels(feat):\n",
    "    numClass = len(feat)\n",
    "    numDim = feat[0].shape[1]\n",
    "    numPts = 0\n",
    "    for i in range(numClass):\n",
    "        numPts = numPts + feat[i].shape[0]\n",
    "\n",
    "    allFeat = np.zeros([numPts, numDim])\n",
    "    allLabels = np.zeros(numPts, dtype = int)\n",
    "    cur = 0\n",
    "    for i in range(numClass):\n",
    "        allFeat[cur:cur+feat[i].shape[0],:] = feat[i]\n",
    "        allLabels[cur:cur+feat[i].shape[0]] = i\n",
    "        cur = cur + feat[i].shape[0]\n",
    "    return allFeat, allLabels\n",
    "        \n",
    "    \n",
    "def readNetVlad(folder, numDim =4096):\n",
    "    folderName = os.path.basename(os.path.normpath(folder))\n",
    "    print(folderName)\n",
    "    file = folder +'/vd16_pitts30k_conv5_3_vlad_preL2_intra_white_' +folderName + '_db.bin'    \n",
    "    data = np.fromfile(file, '<f4')\n",
    "    numPts = int(len(data)/numDim)\n",
    "    return np.reshape(data, [numPts, numDim])\n",
    "\n",
    "\n",
    "# feat1 = readNetVlad('/media/sliu/New Volume1/basicMITData/abbey')\n",
    "    \n",
    "# feat2 = readNetVlad('/media/sliu/New Volume1/basicMITData/airport_terminal')\n",
    "\n",
    "# feat3 = readNetVlad('/media/sliu/New Volume1/basicMITData/alley')\n",
    "\n",
    "# feat4 = readNetVlad('/media/sliu/New Volume1/basicMITData/amphitheater')\n",
    "\n",
    "\n",
    "# trainingNum = 1000\n",
    "\n",
    "tf.reset_default_graph()\n",
    "K.clear_session()\n",
    "folder = '/media/daniel/D/code/keras-tutorial/animals/dogs/'\n",
    "feats = dirUtil.dir2vgg16(folder)\n",
    "feat1 = vgg2feat(feats)\n",
    "\n",
    "\n",
    "folder2 = '/media/daniel/D/code/keras-tutorial/animals/cats/'\n",
    "tf.reset_default_graph()\n",
    "K.clear_session()\n",
    "feats = dirUtil.dir2vgg16(folder2)\n",
    "feat2 = vgg2feat(feats)\n",
    "\n",
    "folder3 = '/media/daniel/D/code/keras-tutorial/animals/panda/'\n",
    "tf.reset_default_graph()\n",
    "K.clear_session()\n",
    "feats = dirUtil.dir2vgg16(folder3)\n",
    "feat3 = vgg2feat(feats)\n",
    "\n",
    "\n"
   ]
  },
  {
   "cell_type": "code",
   "execution_count": 2,
   "metadata": {},
   "outputs": [
    {
     "ename": "NameError",
     "evalue": "name 'w' is not defined",
     "output_type": "error",
     "traceback": [
      "\u001b[0;31m---------------------------------------------------------------------------\u001b[0m",
      "\u001b[0;31mNameError\u001b[0m                                 Traceback (most recent call last)",
      "\u001b[0;32m<ipython-input-2-4462bc8962b9>\u001b[0m in \u001b[0;36m<module>\u001b[0;34m\u001b[0m\n\u001b[1;32m     38\u001b[0m \u001b[0;34m\u001b[0m\u001b[0m\n\u001b[1;32m     39\u001b[0m \u001b[0;34m\u001b[0m\u001b[0m\n\u001b[0;32m---> 40\u001b[0;31m \u001b[0mf\u001b[0m  \u001b[0;34m=\u001b[0m \u001b[0mproj_with_shell_models\u001b[0m\u001b[0;34m(\u001b[0m\u001b[0;34m[\u001b[0m\u001b[0;34m{\u001b[0m\u001b[0;34m'w'\u001b[0m\u001b[0;34m:\u001b[0m \u001b[0mw\u001b[0m\u001b[0;34m,\u001b[0m \u001b[0;34m'sig'\u001b[0m\u001b[0;34m:\u001b[0m \u001b[0msig\u001b[0m\u001b[0;34m}\u001b[0m\u001b[0;34m]\u001b[0m\u001b[0;34m,\u001b[0m \u001b[0mfeat1\u001b[0m\u001b[0;34m)\u001b[0m\u001b[0;34m\u001b[0m\u001b[0;34m\u001b[0m\u001b[0m\n\u001b[0m\u001b[1;32m     41\u001b[0m \u001b[0mprint\u001b[0m\u001b[0;34m(\u001b[0m\u001b[0mf\u001b[0m\u001b[0;34m)\u001b[0m\u001b[0;34m\u001b[0m\u001b[0;34m\u001b[0m\u001b[0m\n\u001b[1;32m     42\u001b[0m \u001b[0mprint\u001b[0m\u001b[0;34m(\u001b[0m\u001b[0msig\u001b[0m\u001b[0;34m)\u001b[0m\u001b[0;34m\u001b[0m\u001b[0;34m\u001b[0m\u001b[0m\n",
      "\u001b[0;31mNameError\u001b[0m: name 'w' is not defined"
     ]
    }
   ],
   "source": [
    "%load_ext autoreload\n",
    "%autoreload\n",
    "\n",
    "from  sklearn.decomposition import PCA\n",
    "from highDimLearningX import estModel23\n",
    "\n",
    "def one_class_shell(feat, num_shells=1):\n",
    "    train_feat = feat1/ np.linalg.norm(feat1, axis = 1, keepdims=True)\n",
    "    pca = PCA(n_components=num_shells)\n",
    "\n",
    "    pca.fit(train_feat)  \n",
    "    m = pca.components_\n",
    "    sig = np.zeros(num_shells)\n",
    "    for i in range(num_shells):\n",
    "        f = np.sum(np.square(train_feat -m[i,:]), axis =1)\n",
    "        sig[i] =  np.mean(f)\n",
    "    w, sig = estModel23(train_feat, m, sig, 2)\n",
    "\n",
    "    model = {'w': w, 'sig': sig}\n",
    "    return model\n",
    "\n",
    "def proj_with_shell_models(models, feat):\n",
    "    n_feat = feat/ np.linalg.norm(feat, axis = 1, keepdims=True)\n",
    "    f_all = []\n",
    "    for model in models:\n",
    "        w = model['w']\n",
    "        sig = model['sig']\n",
    "        num_shells = sig.size\n",
    "        f = np.zeros((feat.shape[0], num_shells))\n",
    "        print(np.linalg.norm(w, axis =1))\n",
    "        for i in range(num_shells):\n",
    "            f[:,i] = np.square(np.sum(np.square(n_feat -w[i,:]), axis =1))\n",
    "\n",
    "        f_t = np.matmul(n_feat, np.transpose(w)) -sig\n",
    "        f_all.append(f_t)\n",
    "    return f\n",
    "        \n",
    "    \n",
    "    \n",
    "f  = proj_with_shell_models([{'w': w, 'sig': sig}], feat1)\n",
    "print(f)\n",
    "print(sig)"
   ]
  },
  {
   "cell_type": "code",
   "execution_count": 12,
   "metadata": {},
   "outputs": [
    {
     "name": "stdout",
     "output_type": "stream",
     "text": [
      "(2, 25088)\n",
      "(2000,)\n",
      "1.8658998620979366\n",
      "(2, 25088)\n",
      "(2000,)\n",
      "2.0162137855714133\n",
      "[1.86589986 2.01621379]\n",
      "[1.471134  1.4712211]\n"
     ]
    }
   ],
   "source": [
    "num_shells = 2\n",
    "\n",
    "allFeat, gt = feat2labels([feat1[:1000,:], feat2[:1000,]])\n",
    "\n",
    "train_feat = allFeat/ np.linalg.norm(allFeat, axis = 1, keepdims=True)\n",
    "pca = PCA(n_components=num_shells)\n",
    "\n",
    "pca.fit(train_feat)  \n",
    "m = pca.components_\n",
    "sig = np.zeros(num_shells)\n",
    "for i in range(num_shells):\n",
    "    print(m.shape)\n",
    "    f = np.sum(np.square(train_feat -m[i,:]), axis =1)\n",
    "    print(f.shape)\n",
    "    print(np.mean(f))\n",
    "    sig[i] =  np.mean(f)\n",
    "\n",
    "\n",
    "\n",
    "print(sig)\n",
    "w, sig = estModel23(train_feat, m, sig, 2)\n",
    "print(sig)"
   ]
  },
  {
   "cell_type": "code",
   "execution_count": 14,
   "metadata": {},
   "outputs": [
    {
     "name": "stdout",
     "output_type": "stream",
     "text": [
      "(2, 25088)\n",
      "(2000, 25088)\n",
      "(2000, 2)\n"
     ]
    },
    {
     "data": {
      "text/plain": [
       "<matplotlib.collections.PathCollection at 0x7fc1a00ac1d0>"
      ]
     },
     "execution_count": 14,
     "metadata": {},
     "output_type": "execute_result"
    },
    {
     "data": {
      "image/png": "[encoded data removed]",
      "text/plain": [
       "<Figure size 432x288 with 1 Axes>"
      ]
     },
     "metadata": {
      "needs_background": "light"
     },
     "output_type": "display_data"
    }
   ],
   "source": [
    "print(w.shape)\n",
    "print(train_feat.shape)\n",
    "c = np.matmul(train_feat, w.transpose()) - sig\n",
    "print(c.shape)\n",
    "plt.scatter(c[:,0], c[:,1], alpha =0.1)"
   ]
  },
  {
   "cell_type": "code",
   "execution_count": 5,
   "metadata": {},
   "outputs": [
    {
     "name": "stdout",
     "output_type": "stream",
     "text": [
      "(1, 25088)\n"
     ]
    },
    {
     "ename": "ValueError",
     "evalue": "Dimensions must be equal, but are 25088 and 1 for 'MatMul' (op: 'MatMul') with input shapes: [1000,25088], [25088,1].",
     "output_type": "error",
     "traceback": [
      "\u001b[0;31m---------------------------------------------------------------------------\u001b[0m",
      "\u001b[0;31mInvalidArgumentError\u001b[0m                      Traceback (most recent call last)",
      "\u001b[0;32m~/.local/lib/python3.6/site-packages/tensorflow/python/framework/ops.py\u001b[0m in \u001b[0;36m_create_c_op\u001b[0;34m(graph, node_def, inputs, control_inputs)\u001b[0m\n\u001b[1;32m   1863\u001b[0m   \u001b[0;32mtry\u001b[0m\u001b[0;34m:\u001b[0m\u001b[0;34m\u001b[0m\u001b[0;34m\u001b[0m\u001b[0m\n\u001b[0;32m-> 1864\u001b[0;31m     \u001b[0mc_op\u001b[0m \u001b[0;34m=\u001b[0m \u001b[0mc_api\u001b[0m\u001b[0;34m.\u001b[0m\u001b[0mTF_FinishOperation\u001b[0m\u001b[0;34m(\u001b[0m\u001b[0mop_desc\u001b[0m\u001b[0;34m)\u001b[0m\u001b[0;34m\u001b[0m\u001b[0;34m\u001b[0m\u001b[0m\n\u001b[0m\u001b[1;32m   1865\u001b[0m   \u001b[0;32mexcept\u001b[0m \u001b[0merrors\u001b[0m\u001b[0;34m.\u001b[0m\u001b[0mInvalidArgumentError\u001b[0m \u001b[0;32mas\u001b[0m \u001b[0me\u001b[0m\u001b[0;34m:\u001b[0m\u001b[0;34m\u001b[0m\u001b[0;34m\u001b[0m\u001b[0m\n",
      "\u001b[0;31mInvalidArgumentError\u001b[0m: Dimensions must be equal, but are 25088 and 1 for 'MatMul' (op: 'MatMul') with input shapes: [1000,25088], [25088,1].",
      "\nDuring handling of the above exception, another exception occurred:\n",
      "\u001b[0;31mValueError\u001b[0m                                Traceback (most recent call last)",
      "\u001b[0;32m<ipython-input-5-3dcce9d6a25c>\u001b[0m in \u001b[0;36m<module>\u001b[0;34m\u001b[0m\n\u001b[1;32m      8\u001b[0m \u001b[0msig\u001b[0m \u001b[0;34m=\u001b[0m \u001b[0mnp\u001b[0m\u001b[0;34m.\u001b[0m\u001b[0mmean\u001b[0m\u001b[0;34m(\u001b[0m\u001b[0mnp\u001b[0m\u001b[0;34m.\u001b[0m\u001b[0mmatmul\u001b[0m\u001b[0;34m(\u001b[0m\u001b[0mtrainFeat\u001b[0m\u001b[0;34m,\u001b[0m \u001b[0mnp\u001b[0m\u001b[0;34m.\u001b[0m\u001b[0mtranspose\u001b[0m\u001b[0;34m(\u001b[0m\u001b[0mm\u001b[0m\u001b[0;34m)\u001b[0m\u001b[0;34m)\u001b[0m\u001b[0;34m)\u001b[0m\u001b[0;34m\u001b[0m\u001b[0;34m\u001b[0m\u001b[0m\n\u001b[1;32m      9\u001b[0m \u001b[0;34m\u001b[0m\u001b[0m\n\u001b[0;32m---> 10\u001b[0;31m \u001b[0mw\u001b[0m\u001b[0;34m,\u001b[0m \u001b[0msig\u001b[0m \u001b[0;34m=\u001b[0m \u001b[0mestModel23\u001b[0m\u001b[0;34m(\u001b[0m\u001b[0mtrainFeat\u001b[0m\u001b[0;34m,\u001b[0m \u001b[0mnp\u001b[0m\u001b[0;34m.\u001b[0m\u001b[0mtranspose\u001b[0m\u001b[0;34m(\u001b[0m\u001b[0mm\u001b[0m\u001b[0;34m)\u001b[0m\u001b[0;34m,\u001b[0m \u001b[0msig\u001b[0m\u001b[0;34m)\u001b[0m\u001b[0;34m\u001b[0m\u001b[0;34m\u001b[0m\u001b[0m\n\u001b[0m",
      "\u001b[0;32m/media/daniel/D/code/cnnTest2/highDimLearningX.py\u001b[0m in \u001b[0;36mestModel23\u001b[0;34m(feat, meanEst, sigEst, numShells, weight, numIter)\u001b[0m\n\u001b[1;32m    125\u001b[0m     \u001b[0;31m#zero = tf.zeros([feat.shape[0],1])\u001b[0m\u001b[0;34m\u001b[0m\u001b[0;34m\u001b[0m\u001b[0;34m\u001b[0m\u001b[0m\n\u001b[1;32m    126\u001b[0m \u001b[0;34m\u001b[0m\u001b[0m\n\u001b[0;32m--> 127\u001b[0;31m     \u001b[0mprojDist_\u001b[0m \u001b[0;34m=\u001b[0m \u001b[0mtf\u001b[0m\u001b[0;34m.\u001b[0m\u001b[0msquare\u001b[0m\u001b[0;34m(\u001b[0m\u001b[0mL2dist_tf_fn\u001b[0m\u001b[0;34m(\u001b[0m\u001b[0mf_\u001b[0m\u001b[0;34m,\u001b[0m \u001b[0mW_\u001b[0m\u001b[0;34m)\u001b[0m\u001b[0;34m-\u001b[0m\u001b[0mSig_\u001b[0m\u001b[0;34m)\u001b[0m\u001b[0;34m\u001b[0m\u001b[0;34m\u001b[0m\u001b[0m\n\u001b[0m\u001b[1;32m    128\u001b[0m     \u001b[0mregularizer_\u001b[0m \u001b[0;34m=\u001b[0m \u001b[0mweight_\u001b[0m\u001b[0;34m*\u001b[0m\u001b[0;34m(\u001b[0m\u001b[0mSig_\u001b[0m\u001b[0;34m)\u001b[0m\u001b[0;34m*\u001b[0m\u001b[0;34m(\u001b[0m\u001b[0mSig_\u001b[0m\u001b[0;34m)\u001b[0m\u001b[0;34m\u001b[0m\u001b[0;34m\u001b[0m\u001b[0m\n\u001b[1;32m    129\u001b[0m \u001b[0;34m\u001b[0m\u001b[0m\n",
      "\u001b[0;32m/media/daniel/D/code/cnnTest2/highDimLearningX.py\u001b[0m in \u001b[0;36mL2dist_tf_fn\u001b[0;34m(A, B)\u001b[0m\n\u001b[1;32m    101\u001b[0m     \u001b[0;31m# return pairwise euclidead difference matrix\u001b[0m\u001b[0;34m\u001b[0m\u001b[0;34m\u001b[0m\u001b[0;34m\u001b[0m\u001b[0m\n\u001b[1;32m    102\u001b[0m     \u001b[0;31m#D = tf.sqrt(tf.maximum(na - 2*tf.matmul(A, B, False, True) + nb, 0.0))\u001b[0m\u001b[0;34m\u001b[0m\u001b[0;34m\u001b[0m\u001b[0;34m\u001b[0m\u001b[0m\n\u001b[0;32m--> 103\u001b[0;31m     \u001b[0mD\u001b[0m \u001b[0;34m=\u001b[0m \u001b[0;34m(\u001b[0m\u001b[0mtf\u001b[0m\u001b[0;34m.\u001b[0m\u001b[0mmaximum\u001b[0m\u001b[0;34m(\u001b[0m\u001b[0mna\u001b[0m \u001b[0;34m-\u001b[0m \u001b[0;36m2\u001b[0m\u001b[0;34m*\u001b[0m\u001b[0mtf\u001b[0m\u001b[0;34m.\u001b[0m\u001b[0mmatmul\u001b[0m\u001b[0;34m(\u001b[0m\u001b[0mA\u001b[0m\u001b[0;34m,\u001b[0m \u001b[0mB\u001b[0m\u001b[0;34m,\u001b[0m \u001b[0;32mFalse\u001b[0m\u001b[0;34m,\u001b[0m \u001b[0;32mTrue\u001b[0m\u001b[0;34m)\u001b[0m \u001b[0;34m+\u001b[0m \u001b[0mnb\u001b[0m\u001b[0;34m,\u001b[0m \u001b[0;36m0.0\u001b[0m\u001b[0;34m)\u001b[0m\u001b[0;34m)\u001b[0m\u001b[0;34m\u001b[0m\u001b[0;34m\u001b[0m\u001b[0m\n\u001b[0m\u001b[1;32m    104\u001b[0m     \u001b[0;32mreturn\u001b[0m \u001b[0mD\u001b[0m\u001b[0;34m\u001b[0m\u001b[0;34m\u001b[0m\u001b[0m\n\u001b[1;32m    105\u001b[0m \u001b[0;34m\u001b[0m\u001b[0m\n",
      "\u001b[0;32m~/.local/lib/python3.6/site-packages/tensorflow/python/util/dispatch.py\u001b[0m in \u001b[0;36mwrapper\u001b[0;34m(*args, **kwargs)\u001b[0m\n\u001b[1;32m    178\u001b[0m     \u001b[0;34m\"\"\"Call target, and fall back on dispatchers if there is a TypeError.\"\"\"\u001b[0m\u001b[0;34m\u001b[0m\u001b[0;34m\u001b[0m\u001b[0m\n\u001b[1;32m    179\u001b[0m     \u001b[0;32mtry\u001b[0m\u001b[0;34m:\u001b[0m\u001b[0;34m\u001b[0m\u001b[0;34m\u001b[0m\u001b[0m\n\u001b[0;32m--> 180\u001b[0;31m       \u001b[0;32mreturn\u001b[0m \u001b[0mtarget\u001b[0m\u001b[0;34m(\u001b[0m\u001b[0;34m*\u001b[0m\u001b[0margs\u001b[0m\u001b[0;34m,\u001b[0m \u001b[0;34m**\u001b[0m\u001b[0mkwargs\u001b[0m\u001b[0;34m)\u001b[0m\u001b[0;34m\u001b[0m\u001b[0;34m\u001b[0m\u001b[0m\n\u001b[0m\u001b[1;32m    181\u001b[0m     \u001b[0;32mexcept\u001b[0m \u001b[0;34m(\u001b[0m\u001b[0mTypeError\u001b[0m\u001b[0;34m,\u001b[0m \u001b[0mValueError\u001b[0m\u001b[0;34m)\u001b[0m\u001b[0;34m:\u001b[0m\u001b[0;34m\u001b[0m\u001b[0;34m\u001b[0m\u001b[0m\n\u001b[1;32m    182\u001b[0m       \u001b[0;31m# Note: convert_to_eager_tensor currently raises a ValueError, not a\u001b[0m\u001b[0;34m\u001b[0m\u001b[0;34m\u001b[0m\u001b[0;34m\u001b[0m\u001b[0m\n",
      "\u001b[0;32m~/.local/lib/python3.6/site-packages/tensorflow/python/ops/math_ops.py\u001b[0m in \u001b[0;36mmatmul\u001b[0;34m(a, b, transpose_a, transpose_b, adjoint_a, adjoint_b, a_is_sparse, b_is_sparse, name)\u001b[0m\n\u001b[1;32m   2645\u001b[0m     \u001b[0;32melse\u001b[0m\u001b[0;34m:\u001b[0m\u001b[0;34m\u001b[0m\u001b[0;34m\u001b[0m\u001b[0m\n\u001b[1;32m   2646\u001b[0m       return gen_math_ops.mat_mul(\n\u001b[0;32m-> 2647\u001b[0;31m           a, b, transpose_a=transpose_a, transpose_b=transpose_b, name=name)\n\u001b[0m\u001b[1;32m   2648\u001b[0m \u001b[0;34m\u001b[0m\u001b[0m\n\u001b[1;32m   2649\u001b[0m \u001b[0;34m\u001b[0m\u001b[0m\n",
      "\u001b[0;32m~/.local/lib/python3.6/site-packages/tensorflow/python/ops/gen_math_ops.py\u001b[0m in \u001b[0;36mmat_mul\u001b[0;34m(a, b, transpose_a, transpose_b, name)\u001b[0m\n\u001b[1;32m   5923\u001b[0m   _, _, _op = _op_def_lib._apply_op_helper(\n\u001b[1;32m   5924\u001b[0m         \u001b[0;34m\"MatMul\"\u001b[0m\u001b[0;34m,\u001b[0m \u001b[0ma\u001b[0m\u001b[0;34m=\u001b[0m\u001b[0ma\u001b[0m\u001b[0;34m,\u001b[0m \u001b[0mb\u001b[0m\u001b[0;34m=\u001b[0m\u001b[0mb\u001b[0m\u001b[0;34m,\u001b[0m \u001b[0mtranspose_a\u001b[0m\u001b[0;34m=\u001b[0m\u001b[0mtranspose_a\u001b[0m\u001b[0;34m,\u001b[0m \u001b[0mtranspose_b\u001b[0m\u001b[0;34m=\u001b[0m\u001b[0mtranspose_b\u001b[0m\u001b[0;34m,\u001b[0m\u001b[0;34m\u001b[0m\u001b[0;34m\u001b[0m\u001b[0m\n\u001b[0;32m-> 5925\u001b[0;31m                   name=name)\n\u001b[0m\u001b[1;32m   5926\u001b[0m   \u001b[0m_result\u001b[0m \u001b[0;34m=\u001b[0m \u001b[0m_op\u001b[0m\u001b[0;34m.\u001b[0m\u001b[0moutputs\u001b[0m\u001b[0;34m[\u001b[0m\u001b[0;34m:\u001b[0m\u001b[0;34m]\u001b[0m\u001b[0;34m\u001b[0m\u001b[0;34m\u001b[0m\u001b[0m\n\u001b[1;32m   5927\u001b[0m   \u001b[0m_inputs_flat\u001b[0m \u001b[0;34m=\u001b[0m \u001b[0m_op\u001b[0m\u001b[0;34m.\u001b[0m\u001b[0minputs\u001b[0m\u001b[0;34m\u001b[0m\u001b[0;34m\u001b[0m\u001b[0m\n",
      "\u001b[0;32m~/.local/lib/python3.6/site-packages/tensorflow/python/framework/op_def_library.py\u001b[0m in \u001b[0;36m_apply_op_helper\u001b[0;34m(self, op_type_name, name, **keywords)\u001b[0m\n\u001b[1;32m    786\u001b[0m         op = g.create_op(op_type_name, inputs, dtypes=None, name=scope,\n\u001b[1;32m    787\u001b[0m                          \u001b[0minput_types\u001b[0m\u001b[0;34m=\u001b[0m\u001b[0minput_types\u001b[0m\u001b[0;34m,\u001b[0m \u001b[0mattrs\u001b[0m\u001b[0;34m=\u001b[0m\u001b[0mattr_protos\u001b[0m\u001b[0;34m,\u001b[0m\u001b[0;34m\u001b[0m\u001b[0;34m\u001b[0m\u001b[0m\n\u001b[0;32m--> 788\u001b[0;31m                          op_def=op_def)\n\u001b[0m\u001b[1;32m    789\u001b[0m       \u001b[0;32mreturn\u001b[0m \u001b[0moutput_structure\u001b[0m\u001b[0;34m,\u001b[0m \u001b[0mop_def\u001b[0m\u001b[0;34m.\u001b[0m\u001b[0mis_stateful\u001b[0m\u001b[0;34m,\u001b[0m \u001b[0mop\u001b[0m\u001b[0;34m\u001b[0m\u001b[0;34m\u001b[0m\u001b[0m\n\u001b[1;32m    790\u001b[0m \u001b[0;34m\u001b[0m\u001b[0m\n",
      "\u001b[0;32m~/.local/lib/python3.6/site-packages/tensorflow/python/util/deprecation.py\u001b[0m in \u001b[0;36mnew_func\u001b[0;34m(*args, **kwargs)\u001b[0m\n\u001b[1;32m    505\u001b[0m                 \u001b[0;34m'in a future version'\u001b[0m \u001b[0;32mif\u001b[0m \u001b[0mdate\u001b[0m \u001b[0;32mis\u001b[0m \u001b[0;32mNone\u001b[0m \u001b[0;32melse\u001b[0m \u001b[0;34m(\u001b[0m\u001b[0;34m'after %s'\u001b[0m \u001b[0;34m%\u001b[0m \u001b[0mdate\u001b[0m\u001b[0;34m)\u001b[0m\u001b[0;34m,\u001b[0m\u001b[0;34m\u001b[0m\u001b[0;34m\u001b[0m\u001b[0m\n\u001b[1;32m    506\u001b[0m                 instructions)\n\u001b[0;32m--> 507\u001b[0;31m       \u001b[0;32mreturn\u001b[0m \u001b[0mfunc\u001b[0m\u001b[0;34m(\u001b[0m\u001b[0;34m*\u001b[0m\u001b[0margs\u001b[0m\u001b[0;34m,\u001b[0m \u001b[0;34m**\u001b[0m\u001b[0mkwargs\u001b[0m\u001b[0;34m)\u001b[0m\u001b[0;34m\u001b[0m\u001b[0;34m\u001b[0m\u001b[0m\n\u001b[0m\u001b[1;32m    508\u001b[0m \u001b[0;34m\u001b[0m\u001b[0m\n\u001b[1;32m    509\u001b[0m     doc = _add_deprecated_arg_notice_to_docstring(\n",
      "\u001b[0;32m~/.local/lib/python3.6/site-packages/tensorflow/python/framework/ops.py\u001b[0m in \u001b[0;36mcreate_op\u001b[0;34m(***failed resolving arguments***)\u001b[0m\n\u001b[1;32m   3614\u001b[0m           \u001b[0minput_types\u001b[0m\u001b[0;34m=\u001b[0m\u001b[0minput_types\u001b[0m\u001b[0;34m,\u001b[0m\u001b[0;34m\u001b[0m\u001b[0;34m\u001b[0m\u001b[0m\n\u001b[1;32m   3615\u001b[0m           \u001b[0moriginal_op\u001b[0m\u001b[0;34m=\u001b[0m\u001b[0mself\u001b[0m\u001b[0;34m.\u001b[0m\u001b[0m_default_original_op\u001b[0m\u001b[0;34m,\u001b[0m\u001b[0;34m\u001b[0m\u001b[0;34m\u001b[0m\u001b[0m\n\u001b[0;32m-> 3616\u001b[0;31m           op_def=op_def)\n\u001b[0m\u001b[1;32m   3617\u001b[0m       \u001b[0mself\u001b[0m\u001b[0;34m.\u001b[0m\u001b[0m_create_op_helper\u001b[0m\u001b[0;34m(\u001b[0m\u001b[0mret\u001b[0m\u001b[0;34m,\u001b[0m \u001b[0mcompute_device\u001b[0m\u001b[0;34m=\u001b[0m\u001b[0mcompute_device\u001b[0m\u001b[0;34m)\u001b[0m\u001b[0;34m\u001b[0m\u001b[0;34m\u001b[0m\u001b[0m\n\u001b[1;32m   3618\u001b[0m     \u001b[0;32mreturn\u001b[0m \u001b[0mret\u001b[0m\u001b[0;34m\u001b[0m\u001b[0;34m\u001b[0m\u001b[0m\n",
      "\u001b[0;32m~/.local/lib/python3.6/site-packages/tensorflow/python/framework/ops.py\u001b[0m in \u001b[0;36m__init__\u001b[0;34m(self, node_def, g, inputs, output_types, control_inputs, input_types, original_op, op_def)\u001b[0m\n\u001b[1;32m   2025\u001b[0m           op_def, inputs, node_def.attr)\n\u001b[1;32m   2026\u001b[0m       self._c_op = _create_c_op(self._graph, node_def, grouped_inputs,\n\u001b[0;32m-> 2027\u001b[0;31m                                 control_input_ops)\n\u001b[0m\u001b[1;32m   2028\u001b[0m \u001b[0;34m\u001b[0m\u001b[0m\n\u001b[1;32m   2029\u001b[0m     \u001b[0;31m# Initialize self._outputs.\u001b[0m\u001b[0;34m\u001b[0m\u001b[0;34m\u001b[0m\u001b[0;34m\u001b[0m\u001b[0m\n",
      "\u001b[0;32m~/.local/lib/python3.6/site-packages/tensorflow/python/framework/ops.py\u001b[0m in \u001b[0;36m_create_c_op\u001b[0;34m(graph, node_def, inputs, control_inputs)\u001b[0m\n\u001b[1;32m   1865\u001b[0m   \u001b[0;32mexcept\u001b[0m \u001b[0merrors\u001b[0m\u001b[0;34m.\u001b[0m\u001b[0mInvalidArgumentError\u001b[0m \u001b[0;32mas\u001b[0m \u001b[0me\u001b[0m\u001b[0;34m:\u001b[0m\u001b[0;34m\u001b[0m\u001b[0;34m\u001b[0m\u001b[0m\n\u001b[1;32m   1866\u001b[0m     \u001b[0;31m# Convert to ValueError for backwards compatibility.\u001b[0m\u001b[0;34m\u001b[0m\u001b[0;34m\u001b[0m\u001b[0;34m\u001b[0m\u001b[0m\n\u001b[0;32m-> 1867\u001b[0;31m     \u001b[0;32mraise\u001b[0m \u001b[0mValueError\u001b[0m\u001b[0;34m(\u001b[0m\u001b[0mstr\u001b[0m\u001b[0;34m(\u001b[0m\u001b[0me\u001b[0m\u001b[0;34m)\u001b[0m\u001b[0;34m)\u001b[0m\u001b[0;34m\u001b[0m\u001b[0;34m\u001b[0m\u001b[0m\n\u001b[0m\u001b[1;32m   1868\u001b[0m \u001b[0;34m\u001b[0m\u001b[0m\n\u001b[1;32m   1869\u001b[0m   \u001b[0;32mreturn\u001b[0m \u001b[0mc_op\u001b[0m\u001b[0;34m\u001b[0m\u001b[0;34m\u001b[0m\u001b[0m\n",
      "\u001b[0;31mValueError\u001b[0m: Dimensions must be equal, but are 25088 and 1 for 'MatMul' (op: 'MatMul') with input shapes: [1000,25088], [25088,1]."
     ]
    }
   ],
   "source": [
    "\n",
    "\n",
    "trainFeat = feat1/ np.linalg.norm(feat1, axis = 1, keepdims=True)\n",
    "m = np.mean(trainFeat, axis=0, keepdims=True)\n",
    "\n",
    "\n",
    "print(m.shape)\n",
    "\n",
    "\n",
    "sig = np.mean(np.matmul(trainFeat, np.transpose(m)))\n",
    "\n",
    "w, sig = estModel23(trainFeat, np.transpose(m), sig)\n"
   ]
  },
  {
   "cell_type": "code",
   "execution_count": 2,
   "metadata": {},
   "outputs": [],
   "source": [
    "%load_ext autoreload\n",
    "%autoreload\n",
    "from clusteringTree import ClusteringTree\n"
   ]
  },
  {
   "cell_type": "code",
   "execution_count": 18,
   "metadata": {},
   "outputs": [],
   "source": [
    "\n",
    "\n",
    "def multiModelC(feat,  meanEst, sigEst, sigA, weight=0.0, numIter=10000):\n",
    "\n",
    "    numDim = meanEst.shape[1]\n",
    "\n",
    "    f_ = tf.constant(feat, dtype=\"float32\")\n",
    "    W_ = tf.get_variable(\"W\", dtype=tf.float32,\n",
    "                         initializer=meanEst.astype(\"float32\"))\n",
    "    Sig_ = tf.get_variable(\"S\", dtype=tf.float32,\n",
    "                           initializer=sigEst.astype(\"float32\"))\n",
    "    Sig_adv = tf.get_variable(\"Sa\", dtype=tf.float32,\n",
    "                              initializer=sigA.astype(\"float32\"))\n",
    "\n",
    "    lambda_ = tf.constant(weight, dtype=\"float32\")\n",
    "    numFeat_ = tf.constant(feat.shape[0], dtype=\"float32\")\n",
    "\n",
    "    projDist_ = tf.matmul(f_, W_)\n",
    "\n",
    "    meanNorm_ = tf.sqrt(tf.reduce_sum(tf.math.square(W_), axis=0))\n",
    "    regularizer_ = 0.0*tf.math.abs(1-Sig_) + (1-meanNorm_)*(1-meanNorm_)\n",
    "    regularizer_ = tf.reduce_sum(regularizer_)\n",
    "\n",
    "    projDiff = projDist_-Sig_\n",
    "\n",
    "    assign_ = 1-tf.math.softmax(projDiff/0.01)\n",
    "    \n",
    "    \n",
    "    dist_ = tf.math.square(projDiff)\n",
    "    cCost = dist_ * assign_\n",
    "    cCost = tf.reduce_sum(cCost, axis=1)\n",
    "    cCost = tf.reduce_sum(cCost)/(numFeat_*numDim)\n",
    "    \n",
    "    \n",
    "    dist_2 = tf.math.square(projDiff  - Sig_adv)\n",
    "    dCost = dist_2 * assign_\n",
    "    dCost = tf.reduce_sum(dist_2, axis=1)\n",
    "    dCost = tf.reduce_sum(dCost)/(numFeat_*numDim)\n",
    "\n",
    "    fCost = tf.math.abs(1-Sig_adv)\n",
    "    fCost = tf.reduce_sum(fCost)/numDim\n",
    "    \n",
    "    final_cost = cCost + lambda_*regularizer_ #+ dCost #+0.001*fCost\n",
    "\n",
    "    optimizer = tf.train.GradientDescentOptimizer(0.01)\n",
    "    train = optimizer.minimize(final_cost)\n",
    "\n",
    "    with tf.Session() as sess:\n",
    "        sess.run(tf.global_variables_initializer())\n",
    "        for i in range(numIter):\n",
    "            sess.run(train)\n",
    "            if i % 5000 == 0:\n",
    "                d = sess.run(final_cost)\n",
    "                print(i,d)\n",
    "\n",
    "        W = sess.run(W_)\n",
    "        Sig = sess.run(Sig_)\n",
    "        SigAdv = sess.run(Sig_adv)\n",
    "    return W, Sig, SigAdv\n"
   ]
  },
  {
   "cell_type": "code",
   "execution_count": 21,
   "metadata": {},
   "outputs": [
    {
     "name": "stdout",
     "output_type": "stream",
     "text": [
      "0 0.013459696\n",
      "5000 0.0007895209\n",
      "10000 0.0006419966\n",
      "15000 0.00053698424\n",
      "20000 0.00045819947\n",
      "25000 0.0003967243\n",
      "30000 0.0003474538\n",
      "35000 0.00030719317\n",
      "40000 0.00027378456\n",
      "45000 0.00024571354\n",
      "50000 0.0002218822\n",
      "55000 0.00020146422\n",
      "60000 0.0001838387\n",
      "65000 0.00016851592\n",
      "70000 0.00015511668\n",
      "75000 0.00014332969\n",
      "80000 0.00013290973\n",
      "85000 0.00012365272\n",
      "90000 0.00011538928\n",
      "95000 0.00010798429\n"
     ]
    },
    {
     "ename": "NameError",
     "evalue": "name 'multiModel2B' is not defined",
     "output_type": "error",
     "traceback": [
      "\u001b[0;31m---------------------------------------------------------------------------\u001b[0m",
      "\u001b[0;31mNameError\u001b[0m                                 Traceback (most recent call last)",
      "\u001b[0;32m<ipython-input-21-ac08cc9d670d>\u001b[0m in \u001b[0;36m<module>\u001b[0;34m\u001b[0m\n\u001b[1;32m    117\u001b[0m \u001b[0;31m#allFeat, gt = feat2labels([feat1, feat2])\u001b[0m\u001b[0;34m\u001b[0m\u001b[0;34m\u001b[0m\u001b[0;34m\u001b[0m\u001b[0m\n\u001b[1;32m    118\u001b[0m \u001b[0;34m\u001b[0m\u001b[0m\n\u001b[0;32m--> 119\u001b[0;31m \u001b[0mW\u001b[0m\u001b[0;34m,\u001b[0m \u001b[0mSig\u001b[0m\u001b[0;34m,\u001b[0m \u001b[0mSigA\u001b[0m\u001b[0;34m,\u001b[0m \u001b[0mlabel\u001b[0m\u001b[0;34m,\u001b[0m \u001b[0mc\u001b[0m\u001b[0;34m,\u001b[0m \u001b[0mlabelK\u001b[0m \u001b[0;34m=\u001b[0m \u001b[0mclusterData\u001b[0m\u001b[0;34m(\u001b[0m\u001b[0mallFeat\u001b[0m\u001b[0;34m)\u001b[0m\u001b[0;34m\u001b[0m\u001b[0;34m\u001b[0m\u001b[0m\n\u001b[0m",
      "\u001b[0;32m<ipython-input-21-ac08cc9d670d>\u001b[0m in \u001b[0;36mclusterData\u001b[0;34m(allFeat, numClass)\u001b[0m\n\u001b[1;32m    101\u001b[0m \u001b[0;34m\u001b[0m\u001b[0m\n\u001b[1;32m    102\u001b[0m     \u001b[0mtf\u001b[0m\u001b[0;34m.\u001b[0m\u001b[0mreset_default_graph\u001b[0m\u001b[0;34m(\u001b[0m\u001b[0;34m)\u001b[0m\u001b[0;34m\u001b[0m\u001b[0;34m\u001b[0m\u001b[0m\n\u001b[0;32m--> 103\u001b[0;31m     W, Sig, SigA = multiModel2B(\n\u001b[0m\u001b[1;32m    104\u001b[0m         allFeat, W, Sig, SigA, maskK, weight=1.0, numIter=10000)\n\u001b[1;32m    105\u001b[0m \u001b[0;34m\u001b[0m\u001b[0m\n",
      "\u001b[0;31mNameError\u001b[0m: name 'multiModel2B' is not defined"
     ]
    }
   ],
   "source": [
    "import copy\n",
    "from sklearn.cluster import KMeans\n",
    "\n",
    "def multiModelB(feat,  meanEst, sigEst, sigA, weight=0.0, numIter=10000):\n",
    "\n",
    "    numDim = meanEst.shape[1]\n",
    "\n",
    "    f_ = tf.constant(feat, dtype=\"float32\")\n",
    "    W_ = tf.get_variable(\"W\", dtype=tf.float32,\n",
    "                         initializer=meanEst.astype(\"float32\"))\n",
    "    Sig_ = tf.get_variable(\"S\", dtype=tf.float32,\n",
    "                           initializer=sigEst.astype(\"float32\"))\n",
    "    Sig_adv = tf.get_variable(\"Sa\", dtype=tf.float32,\n",
    "                              initializer=sigA.astype(\"float32\"))\n",
    "\n",
    "    lambda_ = tf.constant(weight, dtype=\"float32\")\n",
    "    numFeat_ = tf.constant(feat.shape[0], dtype=\"float32\")\n",
    "\n",
    "    projDist_ = tf.matmul(f_, W_)\n",
    "\n",
    "    meanNorm_ = tf.sqrt(tf.reduce_sum(tf.math.square(W_), axis=0))\n",
    "    regularizer_ = 0.0*tf.math.abs(1-Sig_) + (1-meanNorm_)*(1-meanNorm_)\n",
    "    regularizer_ = tf.reduce_sum(regularizer_)\n",
    "\n",
    "    projDiff = projDist_-Sig_\n",
    "    dist_ = tf.math.pow(projDiff, 2)\n",
    "\n",
    "    selfCost = tf.reduce_min(dist_, axis=1)\n",
    "    selfCost = tf.reduce_sum(selfCost)/(numFeat_*numDim)\n",
    "    \n",
    "    dist_2 = tf.math.pow(projDiff  - Sig_adv, 2)\n",
    "    dCost = tf.reduce_min(dist_2, axis=1)\n",
    "    dCost = tf.reduce_sum(dCost)/(numFeat_*numDim)\n",
    "    \n",
    "\n",
    "\n",
    "#     assign_ = tf.math.softmax(projDiff/0.01)\n",
    "#     dist_2 = 0.01*tf.math.abs(projDiff - Sig_ - Sig_adv)\n",
    "#     dCost = dist_2 * assign_\n",
    "#     dCost = tf.reduce_sum(dist_2, axis=1)\n",
    "#     dCost = tf.reduce_sum(dCost)/(numFeat_*numDim)\n",
    "\n",
    "    fCost = tf.math.abs(1-Sig_adv)\n",
    "    fCost = tf.reduce_sum(fCost)/numDim\n",
    "    \n",
    "    final_cost = selfCost + lambda_*regularizer_ + dCost +0.001*fCost\n",
    "\n",
    "    optimizer = tf.train.GradientDescentOptimizer(0.01)\n",
    "    train = optimizer.minimize(final_cost)\n",
    "\n",
    "    with tf.Session() as sess:\n",
    "        sess.run(tf.global_variables_initializer())\n",
    "        for i in range(numIter):\n",
    "            sess.run(train)\n",
    "            if i % 5000 == 0:\n",
    "                d = sess.run(final_cost)\n",
    "                print(i,d)\n",
    "\n",
    "        W = sess.run(W_)\n",
    "        Sig = sess.run(Sig_)\n",
    "        SigAdv = sess.run(Sig_adv)\n",
    "    return W, Sig, SigAdv\n",
    "\n",
    "\n",
    "def clusterData(allFeat, numClass=2):\n",
    "\n",
    "    tf.reset_default_graph()\n",
    "\n",
    "    #embed = umap.UMAP().fit(allFeat)\n",
    "    #f = embed.transform(allFeat)\n",
    "\n",
    "    f = allFeat\n",
    "    kmeans = KMeans(n_clusters=numClass, random_state=0).fit(f)\n",
    "    labelK = kmeans.predict(f)\n",
    "    means = np.zeros([numClass, allFeat.shape[1]])\n",
    "\n",
    "    for i in range(numClass):\n",
    "        mask = labelK == i\n",
    "        means[i, :] = np.mean(allFeat[mask, :], axis=0)\n",
    "\n",
    "    means = means/np.linalg.norm(means, axis=1, keepdims=True)\n",
    "    sigInit = np.zeros([numClass])\n",
    "    for i in range(numClass):\n",
    "        #mask = np.logical_not(labelK == i)\n",
    "        mask = labelK == i\n",
    "        sigInit[i] = np.mean(\n",
    "            np.matmul(allFeat[mask, :], np.transpose(means[i, :])))\n",
    "\n",
    "    score = np.min(kmeans.transform(f), axis=1)\n",
    "    val = np.percentile(score, 50)\n",
    "    maskK = score < val\n",
    "\n",
    "    W = copy.deepcopy(np.transpose(means))\n",
    "    Sig = copy.deepcopy(np.transpose(sigInit))\n",
    "\n",
    "    W, Sig, SigA = multiModelC(allFeat, W, Sig, Sig,\n",
    "                               weight=1.0, numIter=100000)\n",
    "    c = np.matmul(allFeat[maskK, :], W) - Sig\n",
    "    label = np.argmax(c, axis=1)\n",
    "    return W, Sig, SigA, label, c, labelK\n",
    "\n",
    "    tf.reset_default_graph()\n",
    "    W, Sig, SigA = multiModel2B(\n",
    "        allFeat, W, Sig, SigA, maskK, weight=1.0, numIter=10000)\n",
    "\n",
    "    #tf.reset_default_graph()\n",
    "    #W, Sig, SigA = multiModelB(allFeat, W, Sig, SigA,\n",
    "    #                  weight=1.0, numIter=10000)\n",
    "\n",
    "    c = np.matmul(allFeat, W) - Sig\n",
    "    label = np.argmax(c, axis=1)\n",
    "    return W, Sig, SigA, label, c, labelK\n",
    "\n",
    "\n",
    "allFeat, gt = feat2labels([feat1[:1000,:], feat2[:1000,]])\n",
    "\n",
    "#allFeat, gt = feat2labels([feat1, feat2])\n",
    "\n",
    "W, Sig, SigA, label, c, labelK = clusterData(allFeat)\n"
   ]
  },
  {
   "cell_type": "code",
   "execution_count": 20,
   "metadata": {},
   "outputs": [
    {
     "data": {
      "text/plain": [
       "<matplotlib.collections.PathCollection at 0x7fc1d1d647f0>"
      ]
     },
     "execution_count": 20,
     "metadata": {},
     "output_type": "execute_result"
    },
    {
     "data": {
      "image/png": "[encoded data removed]",
      "text/plain": [
       "<Figure size 432x288 with 1 Axes>"
      ]
     },
     "metadata": {
      "needs_background": "light"
     },
     "output_type": "display_data"
    }
   ],
   "source": [
    "\n",
    "\n",
    "#allFeat, gt = feat2labels([feat1, feat2])\n",
    "\n",
    "\n",
    "c = np.matmul(allFeat, W) - Sig\n",
    "\n",
    "plt.scatter(c[:,0], c[:,1], c= gt, alpha =0.1)"
   ]
  },
  {
   "cell_type": "code",
   "execution_count": 138,
   "metadata": {},
   "outputs": [
    {
     "name": "stdout",
     "output_type": "stream",
     "text": [
      "1884\n"
     ]
    },
    {
     "data": {
      "text/plain": [
       "<matplotlib.collections.PathCollection at 0x7f2e4093a1d0>"
      ]
     },
     "execution_count": 138,
     "metadata": {},
     "output_type": "execute_result"
    },
    {
     "data": {
      "image/png": "[encoded data removed]",
      "text/plain": [
       "<matplotlib.figure.Figure at 0x7f2e4df13550>"
      ]
     },
     "metadata": {
      "needs_background": "light"
     },
     "output_type": "display_data"
    }
   ],
   "source": [
    "lab = np.argmin(c, axis=1)\n",
    "\n",
    "print(sum(lab==gt))\n",
    "plt.scatter(c[:,0], c[:,1], c= lab, alpha =0.1)"
   ]
  },
  {
   "cell_type": "code",
   "execution_count": 145,
   "metadata": {},
   "outputs": [
    {
     "name": "stdout",
     "output_type": "stream",
     "text": [
      "(1, 25088)\n"
     ]
    }
   ],
   "source": [
    "\n",
    "def estModel(feat, meanEst, SigEst, weight = 1.0, numIter=10000):\n",
    "\n",
    "    f_ = tf.constant(feat, dtype=\"float32\")\n",
    "    W_ = tf.get_variable(\"W\", dtype=tf.float32,\n",
    "                         initializer=meanEst.astype(\"float32\"))\n",
    "    Sig_ = tf.get_variable(\"S\", dtype=tf.float32,\n",
    "                           initializer=SigEst.astype(\"float32\"))\n",
    "    lambda_  = tf.constant(weight, dtype=\"float32\")\n",
    "    numFeat_ = tf.constant(feat.shape[0], dtype=\"float32\")\n",
    "    #zero = tf.zeros([feat.shape[0],1])\n",
    "\n",
    "\n",
    "    projDist_ = tf.matmul(f_, W_)\n",
    "\n",
    "    meanNorm_ = tf.sqrt(tf.reduce_sum(tf.math.square(W_), axis=0))\n",
    "    regularizer_ = 0.0*tf.math.abs(1-Sig_) + (1-meanNorm_)*(1-meanNorm_)\n",
    "    regularizer_ = tf.reduce_sum(regularizer_)\n",
    "\n",
    "    cost = tf.math.pow(projDist_-Sig_, 2)\n",
    "    final_cost = tf.reduce_sum(cost)/numFeat_ + lambda_*regularizer_\n",
    "\n",
    "    optimizer = tf.train.AdamOptimizer(0.01)\n",
    "    train = optimizer.minimize(final_cost)\n",
    "\n",
    "    with tf.Session() as sess:\n",
    "        sess.run(tf.global_variables_initializer())\n",
    "        for i in range(numIter):\n",
    "\n",
    "            sess.run(train)\n",
    "            #print('Iteration:', i)\n",
    "            #print(sess.run(final_cost))\n",
    "\n",
    "        W = sess.run(W_)\n",
    "        Sig = sess.run(Sig_)\n",
    "    return W, Sig\n",
    "\n",
    "trainFeat = np.concatenate([feat1[:500,:], feat2[:500,:]])\n",
    "m = np.mean(trainFeat, axis=0, keepdims=True)\n",
    "\n",
    "\n",
    "print(m.shape)\n",
    "\n",
    "\n",
    "sig = np.mean(np.matmul(trainFeat, np.transpose(m)))\n",
    "\n",
    "tf.reset_default_graph()\n",
    "K.clear_session()\n",
    "\n",
    "W, Sig = estModel(trainFeat, np.transpose(m), sig)"
   ]
  },
  {
   "cell_type": "code",
   "execution_count": 146,
   "metadata": {},
   "outputs": [
    {
     "name": "stdout",
     "output_type": "stream",
     "text": [
      "-0.0004156360808521477\n",
      "-0.0008312685144744723\n",
      "0.0008857257408321786\n"
     ]
    }
   ],
   "source": [
    "a = np.matmul(feat1,W)-Sig\n",
    "b = np.matmul(feat3,W)-Sig\n",
    "\n",
    "print(np.mean(a))\n",
    "print(np.mean(a[500:]))\n",
    "print(np.mean(b))"
   ]
  }
 ],
 "metadata": {
  "kernelspec": {
   "display_name": "Python 3",
   "language": "python",
   "name": "python3"
  },
  "language_info": {
   "codemirror_mode": {
    "name": "ipython",
    "version": 3
   },
   "file_extension": ".py",
   "mimetype": "text/x-python",
   "name": "python",
   "nbconvert_exporter": "python",
   "pygments_lexer": "ipython3",
   "version": "3.6.8"
  }
 },
 "nbformat": 4,
 "nbformat_minor": 4
}
