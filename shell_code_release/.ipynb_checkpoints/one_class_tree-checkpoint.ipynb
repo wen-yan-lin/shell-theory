{
 "cells": [
  {
   "cell_type": "code",
   "execution_count": 3,
   "metadata": {},
   "outputs": [],
   "source": [
    "import numpy as np\n",
    "import tensorflow as tf\n",
    "import matplotlib.pyplot as plt\n",
    "import random\n",
    "\n",
    "allFeat = np.load('/tf/notebooks/clusteringTree/stl_feat/feats_2048.npy')\n",
    "gtAll = np.load('/tf/notebooks/clusteringTree/stl_feat/labels_2048.npy')-1\n",
    "\n"
   ]
  },
  {
   "cell_type": "code",
   "execution_count": 2,
   "metadata": {},
   "outputs": [],
   "source": [
    "%load_ext autoreload\n",
    "%autoreload\n",
    "\n",
    "from sklearn.cluster import KMeans\n",
    "from clusteringX2 import normIt\n",
    "from clusteringX2 import clusterModel\n",
    "from clusteringX2 import train_step3\n",
    "from clusteringX2 import train_step4\n",
    "\n",
    "\n",
    "def clustering(feat, numClass=60, thres=0.1, iter_=1000):\n",
    "    #feat, m = normIt(feat)\n",
    "    m = np.zeros(feat.shape[1])\n",
    "    # initilization\n",
    "    kmeans = KMeans(n_clusters=numClass, random_state=0).fit(feat)\n",
    "    labelK = kmeans.predict(feat)\n",
    "    means =np.zeros([numClass, feat.shape[1]])\n",
    "\n",
    "    for i in range(numClass):\n",
    "        mask = labelK == i\n",
    "        means[i,:] = np.mean(feat[mask,:], axis =0)\n",
    "\n",
    "    sigInit = np.zeros([numClass])\n",
    "    for i in range(numClass):\n",
    "        mask = np.logical_not(labelK == i)\n",
    "        sigInit[i] = np.mean(np.matmul(feat[mask,:], np.transpose(means[i,:])))\n",
    "    model = clusterModel(means.transpose(), sigInit)\n",
    "    train_step4(model, feat.astype(\"float32\"), iter=iter_)\n",
    "    \n",
    "    \n",
    "    \n",
    "    c = model(feat.astype(\"float32\"))\n",
    "    s = np.max(c, axis=1)\n",
    "    t = np.mean(s)\n",
    "    mask = s > t*0.5\n",
    "    train_step4(model, feat[mask,:].astype(\"float32\"), iter=iter_)\n",
    "    \n",
    "    \n",
    "    c = model(feat.astype(\"float32\"))\n",
    "    s = np.max(c, axis=1)\n",
    "    t = np.mean(s)\n",
    "    mask = s > t*0.5\n",
    "    train_step4(model, feat[mask,:].astype(\"float32\"), iter=iter_)\n",
    "\n",
    " \n",
    "    c = model(feat.astype(\"float32\"))\n",
    "    labels = np.argmax(c, axis =1)\n",
    "    mask_ = np.zeros(numClass, dtype=bool)\n",
    "        \n",
    "    for i in range(numClass):\n",
    "        if np.sum(labels==i)>0:\n",
    "            mask_[i] = 1\n",
    "    w = model.w.numpy()\n",
    "    sig = model.sig.numpy()\n",
    "    w = w[:,mask_]\n",
    "    sig = sig[mask_]\n",
    "            \n",
    "\n",
    "    return w, sig, m, mask\n",
    "\n"
   ]
  },
  {
   "cell_type": "code",
   "execution_count": 13,
   "metadata": {},
   "outputs": [],
   "source": [
    "class Node:\n",
    "    def __init__(self, mask=None, w=None, sig=None, m=None):\n",
    "        self.mask = mask\n",
    "        self.w = w\n",
    "        self.sig = sig\n",
    "        self.m = m\n",
    "            \n",
    "class Layer:\n",
    "    def __init__(self):\n",
    "        self.nodeList = []\n",
    "        \n",
    "class Tree:\n",
    "    def __init__(self):\n",
    "        self.numLayers = 0\n",
    "        self.listOfLayers = []\n",
    "        self.numNodes = 0\n",
    "        self.listOfNodes = []\n",
    "        \n",
    "    def addNode(self, c):\n",
    "        self.listOfNodes.append(c)\n",
    "        self.numNodes = self.numNodes + 1\n",
    "        \n",
    "    def addLayer(self, c):\n",
    "        self.listOfLayers.append(c)\n",
    "        self.numLayers = self.numLayers + 1\n",
    "\n",
    "    \n",
    "def startTree(allFeat, numClass=60):\n",
    "    tree = Tree()    \n",
    "    w, sig, m, inMask = clustering(allFeat, numClass)\n",
    "    mask = np.ones(allFeat.shape[0], dtype=bool)\n",
    "    #mask[np.logical_not(inMask)] = 0\n",
    "    n = Node(mask, w, sig, m)\n",
    "\n",
    "    tree.addNode(n)\n",
    "    newLayer = Layer()\n",
    "    newLayer.nodeList.append(tree.numNodes-1)\n",
    "    tree.addLayer(newLayer)\n",
    "    \n",
    "    return tree\n",
    "\n",
    "\n",
    "allFeat = np.load('/tf/notebooks/clusteringTree/stl_feat/feats_2048.npy')\n",
    "gtAll = np.load('/tf/notebooks/clusteringTree/stl_feat/labels_2048.npy')-1\n",
    "\n",
    "\n",
    "    \n",
    "allFeat, _ = normIt(allFeat)\n",
    "#allFeat = allFeat/np.linalg.norm(allFeat, axis=1, keepdims=True)\n",
    "\n",
    "\n",
    "mask = gtAll == 0\n",
    "\n",
    "outlier = random.sample(range(1300,allFeat.shape[0]),100)\n",
    "#outlier = range(1300,1400)\n",
    "\n",
    "\n",
    "\n",
    "feat = allFeat[:1300*5,:]\n",
    "#feat = np.concatenate([feat, allFeat[outlier]], axis=0)\n",
    "gt = gtAll[:1300*5]\n",
    "#gt = np.concatenate([gt, gtAll[outlier]], axis=0)\n",
    "\n",
    "\n",
    "\n",
    "# feat = allFeat\n",
    "# gt = gtAll\n",
    "\n",
    "tree = startTree(feat[::2], numClass=30)\n"
   ]
  },
  {
   "cell_type": "code",
   "execution_count": 14,
   "metadata": {},
   "outputs": [
    {
     "name": "stdout",
     "output_type": "stream",
     "text": [
      "0 <__main__.Node object at 0x7f539b1e9240>\n",
      "num dimensions: 7\n"
     ]
    }
   ],
   "source": [
    "def dataProjection(feat, node):\n",
    "    x, _ = normIt(feat, node.m) \n",
    "    return np.matmul(x, node.w) - node.sig\n",
    "\n",
    "def projectTree2(feat, tree, maxClus=60, unit_vector=True, scale2data=True, verboise=True):\n",
    "    \n",
    "    projectionSpace = np.zeros([feat.shape[0], tree.numNodes*maxClus])\n",
    "    \n",
    "    cur = 0\n",
    "    \n",
    "    for i, n in enumerate(tree.listOfNodes):\n",
    "        \n",
    "        f = dataProjection(feat, n)\n",
    "        numDim = f.shape[1]\n",
    "        if unit_vector:\n",
    "            f_ = np.concatenate([f, 10*np.ones([f.shape[0],1])], axis =1)\n",
    "            f_ = f_/np.linalg.norm(f_, axis =1, keepdims=True)\n",
    "            f = f_[:,:numDim]\n",
    "        if scale2data:\n",
    "            f = f*np.sum(n.mask)/n.mask.size \n",
    "        projectionSpace[:, cur:cur+numDim] = f\n",
    "        cur = cur+numDim\n",
    "        \n",
    "        if verboise == True:\n",
    "            print(i, n)\n",
    "    projectionSpace = projectionSpace[:,:cur]\n",
    "    return projectionSpace\n",
    "        \n",
    "\n",
    "ds = projectTree2(feat[::2], tree, unit_vector=False)\n",
    "print('num dimensions:', ds.shape[1])"
   ]
  },
  {
   "cell_type": "code",
   "execution_count": 15,
   "metadata": {},
   "outputs": [
    {
     "data": {
      "text/plain": [
       "<matplotlib.collections.PathCollection at 0x7f5398beb6d8>"
      ]
     },
     "execution_count": 15,
     "metadata": {},
     "output_type": "execute_result"
    },
    {
     "data": {
      "image/png": "[encoded data removed]",
      "text/plain": [
       "<Figure size 432x288 with 1 Axes>"
      ]
     },
     "metadata": {
      "needs_background": "light"
     },
     "output_type": "display_data"
    }
   ],
   "source": [
    "i = 4\n",
    "plt.scatter(ds[:,i], ds[:,i+1], c=gt[::2], alpha=0.1)"
   ]
  },
  {
   "cell_type": "code",
   "execution_count": 16,
   "metadata": {},
   "outputs": [
    {
     "name": "stdout",
     "output_type": "stream",
     "text": [
      "0\n",
      "1\n",
      "2\n",
      "3\n",
      "4\n",
      "5\n",
      "6\n",
      "7\n",
      "8\n",
      "9\n"
     ]
    },
    {
     "data": {
      "text/plain": [
       "<matplotlib.legend.Legend at 0x7f539b0aef60>"
      ]
     },
     "execution_count": 16,
     "metadata": {},
     "output_type": "execute_result"
    },
    {
     "data": {
      "image/png": "[encoded data removed]",
      "text/plain": [
       "<Figure size 432x288 with 1 Axes>"
      ]
     },
     "metadata": {
      "needs_background": "light"
     },
     "output_type": "display_data"
    }
   ],
   "source": [
    "labels = np.argmax(ds, axis=1)\n",
    "gg = gt[::2]\n",
    "for i in range(int(np.max(gt)+1)):\n",
    "    print(i)\n",
    "    plt.hist(labels[gg==i], bins=50, label=str(i), alpha=0.3)\n",
    "plt.legend()\n",
    "\n",
    "    "
   ]
  },
  {
   "cell_type": "code",
   "execution_count": 56,
   "metadata": {},
   "outputs": [
    {
     "name": "stdout",
     "output_type": "stream",
     "text": [
      "[0 1 2 3]\n"
     ]
    },
    {
     "data": {
      "image/png": "[encoded data removed]",
      "text/plain": [
       "<Figure size 432x288 with 1 Axes>"
      ]
     },
     "metadata": {
      "needs_background": "light"
     },
     "output_type": "display_data"
    }
   ],
   "source": [
    "labels = np.argmax(ds, axis=1)\n",
    "numGrps = ds.shape[1]\n",
    "\n",
    "plt.hist(labels, bins=50)\n",
    "plt.hist(labels[650:], bins=50)\n",
    "\n",
    "print(np.unique(labels))\n"
   ]
  },
  {
   "cell_type": "code",
   "execution_count": 7,
   "metadata": {},
   "outputs": [],
   "source": [
    "from sklearn.neighbors import KernelDensity\n",
    "import numpy as np\n",
    "\n",
    "\n",
    "\n",
    "dsn = ds/np.linalg.norm(ds, axis=1, keepdims=True)\n",
    "kde = KernelDensity(kernel='gaussian', bandwidth=0.001).fit(dsn)\n",
    "s = kde.score_samples(dsn)\n",
    "\n"
   ]
  },
  {
   "cell_type": "code",
   "execution_count": 8,
   "metadata": {},
   "outputs": [
    {
     "name": "stdout",
     "output_type": "stream",
     "text": [
      "[ 5.4230783  16.13226026 15.28260649 10.95039593 15.03982314 37.78553313\n",
      "  3.03264973 16.84012627 37.48384052 17.07592169 29.27543344 38.10692031\n",
      "  5.26079905 16.83360674  7.8808497  23.63187053 15.75530292 16.10416526\n",
      " 28.3130807  24.27458435 17.061342   32.53567961  6.70271419 26.64582374\n",
      " 32.27179543 17.3156812  31.25196633 14.3267246   9.77263614 10.26015075\n",
      " 30.04224925 14.42204285 16.18325288 25.92824533 23.75692469 12.53603988\n",
      " 24.71550084 11.89879264 11.25058287  4.78072232 18.4047885  30.31392202\n",
      " 22.75891336 10.31997692 22.51887159 14.40501672 34.00199529 16.28445793\n",
      " 35.62436195 17.24421128 13.6788417  17.54497407 25.49672246 26.46952064\n",
      " 11.95060822  7.55627808 34.6050498   7.11871895 17.14676033 19.59669513\n",
      " 32.25511268 38.61227446 25.74123722 31.39745404 27.2242751  30.49695868\n",
      " 25.7096177  14.01683228 27.39224692 36.0751108  32.22437389 15.0505535\n",
      "  8.30553235 35.37223723 11.19024977 27.62456008  5.85928842 31.0069638\n",
      " 17.80424478  8.8207074  10.13031841 18.27547277 16.53669272 11.53121279\n",
      " 37.53061938  4.84566379 20.12266366 32.639188    7.06725973 11.36865326\n",
      "  4.3223121  13.36848662 23.20881946 23.30052907 19.32248437 12.64684932\n",
      " 32.16776268  3.15320124 24.13911511 24.78970865 29.92839444  6.52258622\n",
      " 27.40026085 34.24399558  7.99714275 26.96623023 19.19292862 11.92008569\n",
      " 21.48007615  8.8740441  18.59769384 12.18398354 31.79642816 18.95811346\n",
      " 23.79404206 22.69487872 26.75001699 11.14438229 37.46490609  7.12636925\n",
      " 27.02994557 35.31787857 27.88965601 11.36439307 30.18985915  8.11353146\n",
      " 10.44075476 37.92837953 32.60019306 17.26899958  9.03573877 14.77155847\n",
      " 12.28170984 37.99708074  7.21757532 10.595528   25.48514684 33.05509422\n",
      " 29.6672524  39.38036482 17.71891718 12.34834349 26.90502981 16.60070722\n",
      "  7.35772522  8.66014251 32.90425077 12.55242436 20.5242052  31.24807341\n",
      " 31.50146908  4.48346249  6.52764954  6.53803348 16.84440773 32.92410135\n",
      " 10.04842979 30.38296903 30.37276956 12.42801624 36.08788041  8.41258643\n",
      " 24.60805159 32.9116436  35.75250537 11.95754476 31.66453979 25.33351547\n",
      " 15.74236204 33.13746696  6.70679597 10.97865126 37.33274347 17.82953953\n",
      " 29.9067998  32.53269871 16.64945286  9.59239385 32.65583411  7.46514762\n",
      " 31.65987019 14.66107618 35.224109    6.15488353 11.43272437 38.09587697\n",
      "  6.85451603 29.65942192 30.58642461 36.01368124 16.68065242 14.58961229\n",
      "  8.15214481 20.58405555 19.12252768 12.36337216  3.9716322  38.7714559\n",
      " 10.02220084 13.23652024 19.28644525 17.55496767 35.21072157 35.58711608\n",
      "  6.08070214 15.55986505 27.34860501 11.6753293  35.38722614 26.23614219\n",
      " 28.74738327 15.54037529 19.90481528  7.21866466 14.67177901 12.59329006\n",
      "  5.88072142 18.63317513 29.56572826 32.91438174 25.35578761 33.39144551\n",
      " 25.03606171 19.17432041 23.77635974 27.21634324 25.61092514 19.35831318\n",
      " 17.20538257 15.07553065 21.79814739 10.80378764 12.32419089 20.38381751\n",
      "  4.98641801 39.86958874  8.90616601 12.03717329 34.97435809  7.07783863\n",
      " 10.0037483  29.26334392 18.52234855  5.48037839 36.87889043 38.74727282\n",
      " 28.84559203 15.70369087  7.00333629 25.74201733 11.80200836 14.54845386\n",
      " 19.54649967 10.93908242 35.44795046 16.14235556 16.51791291 12.91381156\n",
      " 28.26797209 18.7142943  17.76041894 36.17720009  6.97572666 13.00393496\n",
      " 22.30371468 10.77192442 22.21987928 18.02120115 12.74219258  8.49295983\n",
      "  7.08440189  3.86935874 10.02378257 29.2946367  29.33946914 26.80220888\n",
      " 25.80927026 13.51882713 14.57288406 10.63696175 12.10618185 14.6332503\n",
      "  5.34794088  6.84278643 31.89655129 21.48731496 35.03411075 27.88704478\n",
      " 14.54928953 15.70162108 27.48097633 14.21494418 13.17152246 10.38897328\n",
      " 34.68870672 12.90858355 26.81051819  7.58645894 16.82433391 17.46120685\n",
      " 28.77555335 15.80929867  5.39039806  8.19990152 32.51996736 12.73116447\n",
      " 32.94638407 34.29185462 40.92708168 30.51803836 12.98813024 21.87938902\n",
      " 19.4273118   7.43407558  7.20146382 12.61368517 11.33474296 32.01781571\n",
      " 23.10761179 12.41621961 17.78083002 16.06664683 12.09199528 13.29493576\n",
      " 29.13938016 16.70485521 10.53641804  8.13704648 22.21804151 31.50545743\n",
      " 21.27803816 18.58895644 12.85329782 29.19431937 18.34873364 11.75141172\n",
      " 27.4746286  34.29588826 33.64864959  9.87946922 26.50135774 16.48485068\n",
      " 25.71178435 35.06338032 12.12173745 28.53705277 10.39344545 15.09898356\n",
      " 12.93838192  4.4037964  14.58006432 15.09462909 19.60050945 27.75620055\n",
      " 12.17947402 13.62696743 15.82221611  9.56076724  7.46608545 13.28173635\n",
      " 26.72206084 13.44476918 22.96860905  8.16167804  5.17343913 11.31317537\n",
      " 26.87701943 34.72452887 11.02717948 16.02045192 21.16892479 23.08468694\n",
      " 31.32080805 24.72328452 32.67707045 21.34780512 34.25738966 19.44788737\n",
      " 15.45380824 17.10759674 32.70655608  5.20246058 22.38710027 12.91024088\n",
      " 22.58241093 22.00193204  9.07362668 14.77352524 21.85952519 27.20851754\n",
      " 16.10865469 17.35430874 32.87919515 28.2633993   6.76896308 16.78913285\n",
      " 10.87567613 18.31055749 13.18525419 31.54406373 19.06898795 21.47561315\n",
      " 32.81360335 10.68739665  6.58649524 31.42484448 27.66253479 15.60936003\n",
      " 11.81306921 21.47924192 32.5607049  24.00653494 35.77125861 32.66187133\n",
      "  6.18471188 36.18746714 17.61117993 23.47812089  8.79691249 31.52803702\n",
      " 22.69408347 22.95758005 25.11782236  8.02881105 30.63443621  7.97143656\n",
      " 32.02929342 24.73698246 11.20701545 17.7965269  17.57264762 17.97042004\n",
      " 19.50111372  7.76164528 18.7604519  10.49866841 25.89873987 35.20877158\n",
      " 12.77764183 22.24573623  5.15417524 27.70370619 37.4987434  15.47600199\n",
      " 24.4601839  18.22590519 14.76100884 16.4585924  17.2845615  31.85655858\n",
      "  9.03073198 18.85808937 26.0142514  12.58549365  7.29712737 11.45307579\n",
      " 16.47009602 11.18698059 12.05603419 11.09454244 32.10463179 14.55320094\n",
      " 20.96774333 17.30988494 13.36670159 20.05344961 15.68630944 32.56203599\n",
      "  6.42598688 14.44506677 15.6612499   8.3768935  32.15285    17.15451901\n",
      " 11.31815501 16.49706976  9.86192868 14.72928489 12.41951842  6.89563199\n",
      " 36.07950283 24.3466888  16.96130276 11.53660286  5.47674504 15.46078331\n",
      " 20.10592294 12.3596803  18.96888729 23.46281145 27.495528   20.18117698\n",
      " 28.52348543  7.94266206  5.66000325  8.6024922  28.81453457 14.25835816\n",
      " 18.14867836 21.22437675  9.69410128 26.55717561 15.60337338 33.54237146\n",
      " 16.21213988  5.38252492  7.48432152 15.82844507 22.05312718 10.69003304\n",
      " 13.62603567 32.65582338 10.51833467 31.5699886  15.87069569 28.94544591\n",
      " 11.37598092  5.68486481 30.70860739 20.59650569  9.98527485 13.15897364\n",
      " 18.82286655 11.05856805 13.26173637 16.28114193 18.86352697 30.71169176\n",
      " 28.62298119 20.94572655 31.37122562 11.81203127 34.09693293 37.94248417\n",
      " 37.39021921  7.19782655 29.90810809 13.74220491 29.52864694 15.95507661\n",
      "  9.90997401  9.55373527 11.45225236  7.56616296 31.16540825 32.65496761\n",
      " 33.84511584 13.59240783 19.81619954 13.01762254 32.58803981 26.97135595\n",
      " 15.51129497  8.16875444  8.70817089 11.15290139 18.63810101  9.0854093\n",
      " 14.85337118 12.30825024 24.03256956 13.82647613 32.94975482 27.39856584\n",
      " 28.73839593 30.93939454 28.11602158 29.94609227  7.64749321  4.92484758\n",
      " 24.01399077 15.07432358 15.0394529  34.7596126  10.09015867 10.47437988\n",
      " 38.27499052 10.17896431 11.65231768 13.78643534 30.57910727  9.73614472\n",
      " 10.92009249 17.5323363  15.52372877 12.31677601 15.20400671 29.00667819\n",
      " 29.01740882 14.20920125 15.2954183   6.95736388 13.51640236 12.39087081\n",
      " 19.30142142 26.97475345 14.08745689 31.82319312 14.504344   35.54961968\n",
      " 24.62083209 18.39404363 27.94848311  5.88654502 21.2928243  26.73285277\n",
      " 27.85180236 11.03486669  7.35816874 17.57554503 14.92931733  8.70578794\n",
      " 29.60696413 16.59025182 13.26935937 15.54283282 11.88170287 26.56809114\n",
      " 24.18856823 24.25960086 11.06678988 20.30844841 27.05033998 14.83797225\n",
      " 34.05113615 28.83892258 20.70128075 23.41418966 22.74762536 36.65761037\n",
      " 17.25513396 34.59734372  5.05013306 10.66280499 25.66023494 30.93576221\n",
      " 26.28255463 21.73094065  7.69898696 18.32996545 19.4912266  28.62745754\n",
      " 24.24964128 15.17172365  8.63703443 30.80802668 20.13684362 28.11390894\n",
      " 10.48401698  9.55965189]\n"
     ]
    }
   ],
   "source": [
    "print(np.max(ds[:650], axis=1))"
   ]
  },
  {
   "cell_type": "code",
   "execution_count": 9,
   "metadata": {},
   "outputs": [
    {
     "data": {
      "text/plain": [
       "(array([ 38.,  85., 105., 108.,  62.,  54.,  66.,  74.,  39.,  19.]),\n",
       " array([ 3.03264973,  6.82209293, 10.61153612, 14.40097932, 18.19042251,\n",
       "        21.97986571, 25.7693089 , 29.5587521 , 33.34819529, 37.13763848,\n",
       "        40.92708168]),\n",
       " <a list of 10 Patch objects>)"
      ]
     },
     "execution_count": 9,
     "metadata": {},
     "output_type": "execute_result"
    },
    {
     "data": {
      "image/png": "[encoded data removed]",
      "text/plain": [
       "<Figure size 432x288 with 1 Axes>"
      ]
     },
     "metadata": {
      "needs_background": "light"
     },
     "output_type": "display_data"
    },
    {
     "data": {
      "image/png": "[encoded data removed]",
      "text/plain": [
       "<Figure size 432x288 with 1 Axes>"
      ]
     },
     "metadata": {
      "needs_background": "light"
     },
     "output_type": "display_data"
    }
   ],
   "source": [
    "plt.figure(0)\n",
    "plt.hist(np.max(ds[650:], axis=1))\n",
    "plt.figure(1)\n",
    "plt.hist(np.max(ds[:650], axis=1))\n"
   ]
  },
  {
   "cell_type": "code",
   "execution_count": 10,
   "metadata": {},
   "outputs": [
    {
     "data": {
      "text/plain": [
       "(array([35.,  3.,  0.,  0.,  0.,  0.,  0.,  0., 10.,  2.]),\n",
       " array([ 5.42655316,  6.01540577,  6.60425838,  7.19311098,  7.78196359,\n",
       "         8.3708162 ,  8.95966881,  9.54852142, 10.13737403, 10.72622664,\n",
       "        11.31507925]),\n",
       " <a list of 10 Patch objects>)"
      ]
     },
     "execution_count": 10,
     "metadata": {},
     "output_type": "execute_result"
    },
    {
     "data": {
      "image/png": "[encoded data removed]",
      "text/plain": [
       "<Figure size 432x288 with 1 Axes>"
      ]
     },
     "metadata": {
      "needs_background": "light"
     },
     "output_type": "display_data"
    },
    {
     "data": {
      "image/png": "[encoded data removed]",
      "text/plain": [
       "<Figure size 432x288 with 1 Axes>"
      ]
     },
     "metadata": {
      "needs_background": "light"
     },
     "output_type": "display_data"
    }
   ],
   "source": [
    "plt.figure(0)\n",
    "plt.hist(s[:650])\n",
    "plt.figure(1)\n",
    "plt.hist(s[650:])"
   ]
  },
  {
   "cell_type": "code",
   "execution_count": 11,
   "metadata": {},
   "outputs": [
    {
     "name": "stdout",
     "output_type": "stream",
     "text": [
      "(700, 2)\n",
      "[6. 4. 6. 9. 6. 6. 9. 1. 7. 8. 3. 8. 5. 3. 9. 7. 9. 7. 3. 4. 4. 3. 5. 9.\n",
      " 4. 7. 3. 9. 6. 2. 4. 2. 3. 5. 8. 2. 7. 2. 7. 9. 7. 1. 9. 6. 1. 2. 2. 6.\n",
      " 1. 4.]\n",
      "[1 1 0 0 0 0 0 1 0 0 0 0 0 1 0 1 0 1 1 1 1 0 0 0 1 1 1 0 1 1 0 0 0 0 0 0 1\n",
      " 0 0 1 1 1 0 0 1 0 0 0 1 1]\n",
      "0\n",
      "0\n"
     ]
    }
   ],
   "source": [
    "print(ds.shape)\n",
    "gg = gt[::2]\n",
    "print(gg[650:])\n",
    "print(labels[650:])\n",
    "val = 54\n",
    "print(sum(labels==val))\n",
    "print(sum(labels[650:]==val))\n"
   ]
  },
  {
   "cell_type": "code",
   "execution_count": 12,
   "metadata": {},
   "outputs": [
    {
     "name": "stdout",
     "output_type": "stream",
     "text": [
      "[[ 6.49672379e-04  2.46208321e+01]\n",
      " [ 6.43568491e-04  1.83940436e+01]\n",
      " [-1.19359791e-02  2.79484831e+01]\n",
      " [ 5.88654502e+00  2.46097301e+00]\n",
      " [ 5.13249770e-03  2.12928243e+01]\n",
      " [-2.35106863e-03  2.67328528e+01]\n",
      " [ 2.36466767e-03  2.78518024e+01]\n",
      " [ 1.10348667e+01  4.37513292e-04]\n",
      " [ 7.35816874e+00  2.46481791e+00]\n",
      " [ 1.75755450e+01 -1.27083232e-03]]\n"
     ]
    }
   ],
   "source": [
    "print(ds[600:610])"
   ]
  },
  {
   "cell_type": "code",
   "execution_count": 13,
   "metadata": {},
   "outputs": [
    {
     "ename": "IndexError",
     "evalue": "index 3 is out of bounds for axis 1 with size 2",
     "output_type": "error",
     "traceback": [
      "\u001b[0;31m---------------------------------------------------------------------------\u001b[0m",
      "\u001b[0;31mIndexError\u001b[0m                                Traceback (most recent call last)",
      "\u001b[0;32m<ipython-input-13-9b958c844166>\u001b[0m in \u001b[0;36m<module>\u001b[0;34m\u001b[0m\n\u001b[1;32m      1\u001b[0m \u001b[0mi\u001b[0m \u001b[0;34m=\u001b[0m \u001b[0;36m3\u001b[0m\u001b[0;34m\u001b[0m\u001b[0;34m\u001b[0m\u001b[0m\n\u001b[0;32m----> 2\u001b[0;31m \u001b[0mplt\u001b[0m\u001b[0;34m.\u001b[0m\u001b[0mscatter\u001b[0m\u001b[0;34m(\u001b[0m\u001b[0mds\u001b[0m\u001b[0;34m[\u001b[0m\u001b[0;34m:\u001b[0m\u001b[0;34m,\u001b[0m\u001b[0mi\u001b[0m\u001b[0;34m]\u001b[0m\u001b[0;34m,\u001b[0m \u001b[0mds\u001b[0m\u001b[0;34m[\u001b[0m\u001b[0;34m:\u001b[0m\u001b[0;34m,\u001b[0m\u001b[0mi\u001b[0m\u001b[0;34m+\u001b[0m\u001b[0;36m1\u001b[0m\u001b[0;34m]\u001b[0m\u001b[0;34m,\u001b[0m \u001b[0mgt\u001b[0m\u001b[0;34m[\u001b[0m\u001b[0;34m:\u001b[0m\u001b[0;34m:\u001b[0m\u001b[0;36m2\u001b[0m\u001b[0;34m]\u001b[0m\u001b[0;34m)\u001b[0m\u001b[0;34m\u001b[0m\u001b[0;34m\u001b[0m\u001b[0m\n\u001b[0m",
      "\u001b[0;31mIndexError\u001b[0m: index 3 is out of bounds for axis 1 with size 2"
     ]
    }
   ],
   "source": [
    "i = 3\n",
    "plt.scatter(ds[:,i], ds[:,i+1], gt[::2])"
   ]
  },
  {
   "cell_type": "code",
   "execution_count": null,
   "metadata": {},
   "outputs": [],
   "source": [
    "def dataProjection(feat, node):\n",
    "    x, _ = normIt(feat, node.m) \n",
    "    return np.matmul(x, node.w) - node.sig\n",
    "\n",
    "\n",
    "    \n",
    "\n",
    "def extendTree(tree, allFeat, numClass=2, clusteringThreshold=100):\n",
    "    newLayer = Layer()\n",
    "    lastLayer = tree.listOfLayers[-1]\n",
    "    for nodeIndex in lastLayer.nodeList:\n",
    "        node = tree.listOfNodes[nodeIndex]\n",
    "        curFeat = allFeat[node.mask,:]\n",
    "        score = dataProjection(curFeat, node)\n",
    "        #plt.scatter(score[:,0], score[:,1], alpha=0.1)\n",
    "        \n",
    "        clusterInd = np.argmax(score, axis =1)\n",
    "        curInd = np.where(node.mask)[0]\n",
    "\n",
    "        for i in range(score.shape[1]):\n",
    "            subMask = clusterInd == i\n",
    "            if sum(subMask) > clusteringThreshold:\n",
    "                \n",
    "                newMask =  np.zeros(allFeat.shape[0], dtype=bool)\n",
    "                newMask[curInd[subMask]] = 1\n",
    "                \n",
    "\n",
    "                w, sig, m, inMask = clustering(allFeat[newMask,:], numClass)\n",
    "                #subInd = np.where(newMask)[0]\n",
    "                #newMask[subInd[np.logical_not(inMask)]] = 0\n",
    "\n",
    "                if w.shape[1]>=2:\n",
    "                    n = Node(newMask, w, sig, m)\n",
    "                    tree.addNode(n)\n",
    "                    newLayer.nodeList.append(tree.numNodes-1)\n",
    "    tree.addLayer(newLayer)\n",
    "\n",
    "\n",
    "        \n",
    "\n",
    "\n",
    "for k in range(100):\n",
    "    extendTree(tree, feat[::2])\n",
    "\n"
   ]
  },
  {
   "cell_type": "code",
   "execution_count": null,
   "metadata": {},
   "outputs": [],
   "source": [
    "def projectTree2(feat, tree, maxClus=2, unit_vector=True, scale2data=True, verboise=True):\n",
    "    \n",
    "    projectionSpace = np.zeros([feat.shape[0], tree.numNodes*maxClus])\n",
    "    \n",
    "    cur = 0\n",
    "    \n",
    "    for i, n in enumerate(tree.listOfNodes):\n",
    "        \n",
    "        f = dataProjection(feat, n)\n",
    "        numDim = f.shape[1]\n",
    "        if unit_vector:\n",
    "            f_ = np.concatenate([f, 10*np.ones([f.shape[0],1])], axis =1)\n",
    "            f_ = f_/np.linalg.norm(f_, axis =1, keepdims=True)\n",
    "            f = f_[:,:numDim]\n",
    "        if scale2data:\n",
    "            f = f*np.sum(n.mask)/n.mask.size \n",
    "        projectionSpace[:, cur:cur+numDim] = f\n",
    "        cur = cur+numDim\n",
    "        \n",
    "        if verboise == True:\n",
    "            print(i, n)\n",
    "    projectionSpace = projectionSpace[:,:cur]\n",
    "    return projectionSpace\n",
    "        \n",
    "    "
   ]
  },
  {
   "cell_type": "code",
   "execution_count": null,
   "metadata": {},
   "outputs": [],
   "source": [
    "print('Create Feature')\n",
    "\n",
    "projectionSpace = projectTree2(feat, tree, unit_vector=True, scale2data=True)\n",
    "pp = projectionSpace.copy()\n",
    "pp_s, _ = normIt(pp)\n",
    "\n",
    "print('num dimenions:', pp_s.shape[1])"
   ]
  },
  {
   "cell_type": "code",
   "execution_count": null,
   "metadata": {},
   "outputs": [],
   "source": [
    "print('Create UMAP Feature')\n",
    "\n",
    "! pip3 install umap.learn\n",
    "import umap\n",
    "\n",
    "\n",
    "\n",
    "f_norm, _ = normIt(feat)\n",
    "embedding = umap.UMAP()\n",
    "fUmap = embedding.fit_transform(f_norm)"
   ]
  },
  {
   "cell_type": "markdown",
   "metadata": {},
   "source": [
    "## Label Spreading evaluation"
   ]
  },
  {
   "cell_type": "code",
   "execution_count": null,
   "metadata": {},
   "outputs": [],
   "source": [
    "import random\n",
    "from sklearn.semi_supervised import LabelSpreading\n",
    "from sklearn.semi_supervised import LabelPropagation\n",
    "from sklearn.metrics import roc_curve\n",
    "from sklearn.metrics import roc_auc_score\n",
    "from sklearn.metrics import average_precision_score\n",
    "# setup\n",
    "lModel = LabelSpreading(gamma=100)\n",
    "gt_use = gt.copy()\n",
    "#gt_use = gtCoarse.copy()\n",
    "#########\n",
    "\n",
    "\n",
    "samplePerClass = 1000\n",
    "numClass = int(max(gt_use)+1)\n",
    "ind = []\n",
    "for i in range(numClass):\n",
    "    index = list(np.where(gt_use==i)[0])\n",
    "    if len(index) == 0:\n",
    "        continue\n",
    "    index = random.sample(index, samplePerClass);\n",
    "    ind = ind + (index)\n",
    "#ind = random.sample(range(pp_s.shape[0]), numClass*samplePerClass);\n"
   ]
  },
  {
   "cell_type": "code",
   "execution_count": null,
   "metadata": {},
   "outputs": [],
   "source": [
    "print('Ours')\n",
    "\n",
    "\n",
    "lModel.fit(pp_s[ind], gt_use[ind])\n",
    "label = lModel.predict(pp_s)\n",
    "score = np.max(lModel.predict_proba(pp_s), axis=1)\n",
    "\n",
    "\n",
    "print('Precision:', np.sum(label==gt_use)/label.size)\n",
    "print('map:', average_precision_score(label==gt_use, score))"
   ]
  },
  {
   "cell_type": "code",
   "execution_count": null,
   "metadata": {},
   "outputs": [],
   "source": [
    "from sklearn.decomposition import PCA\n",
    "\n",
    "print('PCA')\n",
    "\n",
    "f_norm, _ = normIt(feat)\n",
    "\n",
    "pca = PCA(n_components=pp.shape[1])\n",
    "f_pca = pca.fit_transform(f_norm)\n",
    "\n",
    "lModel.fit(f_pca[ind], gt_use[ind])\n",
    "label = lModel.predict(f_pca)\n",
    "score = np.max(lModel.predict_proba(f_pca), axis=1)\n",
    "\n",
    "print('Precision:', np.sum(label==gt_use)/label.size)\n",
    "print('map:', average_precision_score(label==gt_use, score))"
   ]
  },
  {
   "cell_type": "code",
   "execution_count": null,
   "metadata": {},
   "outputs": [],
   "source": [
    "print('Naive')\n",
    "\n",
    "\n",
    "\n",
    "lModel.fit(f_norm[ind], gt_use[ind])\n",
    "label = lModel.predict(f_norm)\n",
    "score = np.max(lModel.predict_proba(f_norm), axis=1)\n",
    "\n",
    "\n",
    "print('Precision:', np.sum(label==gt_use)/label.size)\n",
    "print('map:', average_precision_score(label==gt_use, score))"
   ]
  },
  {
   "cell_type": "code",
   "execution_count": null,
   "metadata": {},
   "outputs": [],
   "source": [
    "print('UMAP')\n",
    "\n",
    "lModel.fit(fUmap[ind], gt_use[ind])\n",
    "label = lModel.predict(fUmap)\n",
    "score = np.max(lModel.predict_proba(fUmap), axis=1)\n",
    "\n",
    "print('Precision:', np.sum(label==gt_use)/label.size)\n",
    "print('map:', average_precision_score(label==gt_use, score))"
   ]
  },
  {
   "cell_type": "markdown",
   "metadata": {},
   "source": [
    "## Test Feature Goodness"
   ]
  },
  {
   "cell_type": "code",
   "execution_count": null,
   "metadata": {},
   "outputs": [],
   "source": [
    "from sklearn.metrics import pairwise_distances\n",
    "\n",
    "def test_feat(feat, labels, nBest= 1000):\n",
    "    num_feat = feat.shape[0]\n",
    "    d = pairwise_distances(feat)\n",
    "    ind = np.argsort(d, axis =1)\n",
    "    \n",
    "    err = np.zeros(num_feat)\n",
    "    \n",
    "    for i in range(num_feat):\n",
    "        l = labels[ind[i,:nBest+1]]      \n",
    "        err[i] = nBest - (sum((l-l[0]) == 0))+1\n",
    "                          \n",
    "    return err\n",
    "\n",
    "\n",
    "\n",
    "nBest = 250\n",
    "\n",
    "err = test_feat(pp_s[1::2], gt[1::2], nBest=nBest)\n",
    "print('average error of  %f from %d nearest neighbors'  %(np.mean(err), nBest))\n",
    "\n",
    "print('num dimenions:', pp.shape[1])\n",
    "\n"
   ]
  }
 ],
 "metadata": {
  "kernelspec": {
   "display_name": "Python 3",
   "language": "python",
   "name": "python3"
  },
  "language_info": {
   "codemirror_mode": {
    "name": "ipython",
    "version": 3
   },
   "file_extension": ".py",
   "mimetype": "text/x-python",
   "name": "python",
   "nbconvert_exporter": "python",
   "pygments_lexer": "ipython3",
   "version": "3.6.8"
  }
 },
 "nbformat": 4,
 "nbformat_minor": 4
}
