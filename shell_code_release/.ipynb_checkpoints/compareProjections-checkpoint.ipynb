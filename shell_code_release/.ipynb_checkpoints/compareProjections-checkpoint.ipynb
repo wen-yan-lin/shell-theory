{
 "cells": [
  {
   "cell_type": "code",
   "execution_count": 1,
   "metadata": {},
   "outputs": [
    {
     "name": "stderr",
     "output_type": "stream",
     "text": [
      "Using TensorFlow backend.\n",
      "WARNING: Logging before flag parsing goes to stderr.\n",
      "W0722 10:40:02.537157 140235659519808 deprecation_wrapper.py:119] From /usr/local/lib/python3.6/dist-packages/keras/backend/tensorflow_backend.py:74: The name tf.get_default_graph is deprecated. Please use tf.compat.v1.get_default_graph instead.\n",
      "\n",
      "W0722 10:40:02.547918 140235659519808 deprecation_wrapper.py:119] From /usr/local/lib/python3.6/dist-packages/keras/backend/tensorflow_backend.py:517: The name tf.placeholder is deprecated. Please use tf.compat.v1.placeholder instead.\n",
      "\n",
      "W0722 10:40:02.549802 140235659519808 deprecation_wrapper.py:119] From /usr/local/lib/python3.6/dist-packages/keras/backend/tensorflow_backend.py:4138: The name tf.random_uniform is deprecated. Please use tf.random.uniform instead.\n",
      "\n",
      "W0722 10:40:02.565851 140235659519808 deprecation_wrapper.py:119] From /usr/local/lib/python3.6/dist-packages/keras/backend/tensorflow_backend.py:3976: The name tf.nn.max_pool is deprecated. Please use tf.nn.max_pool2d instead.\n",
      "\n",
      "W0722 10:40:02.766483 140235659519808 deprecation_wrapper.py:119] From /usr/local/lib/python3.6/dist-packages/keras/backend/tensorflow_backend.py:174: The name tf.get_default_session is deprecated. Please use tf.compat.v1.get_default_session instead.\n",
      "\n",
      "W0722 10:40:02.766957 140235659519808 deprecation_wrapper.py:119] From /usr/local/lib/python3.6/dist-packages/keras/backend/tensorflow_backend.py:181: The name tf.ConfigProto is deprecated. Please use tf.compat.v1.ConfigProto instead.\n",
      "\n",
      "W0722 10:40:12.406749 140235659519808 deprecation_wrapper.py:119] From /media/daniel/D/code/cnnTest/highDimLearning.py:44: The name tf.train.AdamOptimizer is deprecated. Please use tf.compat.v1.train.AdamOptimizer instead.\n",
      "\n",
      "W0722 10:40:12.429480 140235659519808 deprecation.py:323] From /home/daniel/.local/lib/python3.6/site-packages/tensorflow/python/ops/math_grad.py:1205: add_dispatch_support.<locals>.wrapper (from tensorflow.python.ops.array_ops) is deprecated and will be removed in a future version.\n",
      "Instructions for updating:\n",
      "Use tf.where in 2.0, which has the same broadcast rule as np.where\n"
     ]
    }
   ],
   "source": [
    "from keras.preprocessing import image\n",
    "from keras.applications.vgg16 import VGG16\n",
    "from keras.applications.vgg16 import preprocess_input\n",
    "from keras import backend as K\n",
    "import numpy as np\n",
    "\n",
    "import dirUtil \n",
    "from highDimLearning import estModel\n",
    "from highDimLearning import estModel2\n",
    "from highDimLearning import vgg2feat\n",
    "\n",
    "import tensorflow as tf\n",
    "\n",
    "#model = VGG16(weights='imagenet', include_top=False)\n",
    "#model.summary()\n",
    "\n",
    "from sklearn.metrics.pairwise import euclidean_distances\n",
    "\n",
    "\n",
    "\n",
    "\n",
    "\n",
    "def label(feat, w, sig):\n",
    "\n",
    "    numClass = len(w)\n",
    "    score = np.zeros([feat.shape[0], numClass])\n",
    "    for i in range(numClass):\n",
    "        ww = w[i]\n",
    "        sigg = np.reshape(sig[i], [sig[i].size, 1])\n",
    "        score[:, i:i+1] = np.matmul(feat, ww)-sigg\n",
    "    labels = np.argmax(score, axis=1)\n",
    "    return labels, score\n",
    "\n",
    "    \n",
    "\n",
    "def feat2labels(feat):\n",
    "    numClass = len(feat)\n",
    "    numDim = feat[0].shape[1]\n",
    "    numPts = 0\n",
    "    for i in range(numClass):\n",
    "        numPts = numPts + feat[i].shape[0]\n",
    "\n",
    "    allFeat = np.zeros([numPts, numDim])\n",
    "    allLabels = np.zeros(numPts, dtype = int)\n",
    "    cur = 0\n",
    "    for i in range(numClass):\n",
    "        allFeat[cur:cur+feat[i].shape[0],:] = feat[i]\n",
    "        allLabels[cur:cur+feat[i].shape[0]] = i\n",
    "        cur = cur + feat[i].shape[0]\n",
    "    return allFeat, allLabels\n",
    "        \n",
    "\n",
    "trainingNum = 1000\n",
    "\n",
    "\n",
    "folder = '/media/daniel/D/code/keras-tutorial/animals/dogs/'\n",
    "\n",
    "feats = dirUtil.dir2vgg16(folder)\n",
    "feat1 = vgg2feat(feats)\n",
    "m = np.mean(feat1, axis=0, keepdims=True)\n",
    "sig = np.mean(np.matmul(feat1, np.transpose(m)))\n",
    "w1, sig1 = estModel(feat1[:trainingNum, :], np.transpose(m), sig, 1.0)\n",
    "#w1, sig1 = estModel2(feat1, np.transpose(m), sig, 1, 1)\n",
    "\n",
    "\n",
    "folder2 = '/media/daniel/D/code/keras-tutorial/animals/panda/'\n",
    "\n",
    "tf.reset_default_graph()\n",
    "K.clear_session()\n",
    "\n",
    "feats = dirUtil.dir2vgg16(folder2)\n",
    "feat2 = vgg2feat(feats)\n",
    "m = np.mean(feat2, axis=0, keepdims=True)\n",
    "sig = np.mean(np.matmul(feat2, np.transpose(m)))\n",
    "w2, sig2 = estModel(feat2[:trainingNum, :], np.transpose(m), sig, 1.0)\n",
    "\n",
    "\n",
    "allFeat, gt = feat2labels([feat1, feat2])\n",
    "\n",
    "########### display\n",
    "\n",
    "# a = np.matmul(allFeat,w1)-sig1\n",
    "# b = np.matmul(allFeat,w2)-sig2\n",
    "\n",
    "# c = np.concatenate([a,b], axis =1)\n",
    "\n",
    "\n",
    "\n",
    "# from matplotlib import pyplot as plt\n",
    "# plt.scatter(c[:feat1.shape[0], 0], c[:feat1.shape[0], 1], color='red', alpha = 0.1)\n",
    "# plt.scatter(c[feat1.shape[0]:-1, 0], c[feat1.shape[0]:-1,1], color='blue', alpha =0.1)\n",
    "# plt.plot(np.arange(-.5, 1., 0.5), np.arange(-.5, 1., 0.5),  color='black')\n",
    "# plt.show()\n",
    "\n",
    "#cv2.waitKey()\n",
    "##########################\n",
    "\n"
   ]
  },
  {
   "cell_type": "code",
   "execution_count": 5,
   "metadata": {},
   "outputs": [
    {
     "name": "stderr",
     "output_type": "stream",
     "text": [
      "/home/daniel/.local/lib/python3.6/site-packages/umap/umap_.py:349: NumbaWarning: \n",
      "Compilation is falling back to object mode WITH looplifting enabled because Function \"fuzzy_simplicial_set\" failed type inference due to: Untyped global name 'nearest_neighbors': cannot determine Numba type of <class 'function'>\n",
      "\n",
      "File \"../../../../../home/daniel/.local/lib/python3.6/site-packages/umap/umap_.py\", line 467:\n",
      "def fuzzy_simplicial_set(\n",
      "    <source elided>\n",
      "    if knn_indices is None or knn_dists is None:\n",
      "        knn_indices, knn_dists, _ = nearest_neighbors(\n",
      "        ^\n",
      "\n",
      "  @numba.jit()\n",
      "/home/daniel/.local/lib/python3.6/site-packages/numba/compiler.py:725: NumbaWarning: Function \"fuzzy_simplicial_set\" was compiled in object mode without forceobj=True.\n",
      "\n",
      "File \"../../../../../home/daniel/.local/lib/python3.6/site-packages/umap/umap_.py\", line 350:\n",
      "@numba.jit()\n",
      "def fuzzy_simplicial_set(\n",
      "^\n",
      "\n",
      "  self.func_ir.loc))\n",
      "/home/daniel/.local/lib/python3.6/site-packages/numba/compiler.py:734: NumbaDeprecationWarning: \n",
      "Fall-back from the nopython compilation path to the object mode compilation path has been detected, this is deprecated behaviour.\n",
      "\n",
      "For more information visit http://numba.pydata.org/numba-doc/latest/reference/deprecation.html#deprecation-of-object-mode-fall-back-behaviour-when-using-jit\n",
      "\n",
      "File \"../../../../../home/daniel/.local/lib/python3.6/site-packages/umap/umap_.py\", line 350:\n",
      "@numba.jit()\n",
      "def fuzzy_simplicial_set(\n",
      "^\n",
      "\n",
      "  warnings.warn(errors.NumbaDeprecationWarning(msg, self.func_ir.loc))\n"
     ]
    }
   ],
   "source": [
    "import umap\n",
    "\n",
    "embed1 = umap.UMAP(n_components=1).fit(feat1)\n",
    "embed2 = umap.UMAP(n_components=1).fit(feat2)"
   ]
  },
  {
   "cell_type": "code",
   "execution_count": 2,
   "metadata": {},
   "outputs": [],
   "source": [
    "from sklearn.decomposition import PCA\n",
    "\n",
    "embed1 = PCA(n_components=1).fit(feat1)\n",
    "embed2 = PCA(n_components=1).fit(feat2)\n",
    "\n"
   ]
  },
  {
   "cell_type": "code",
   "execution_count": 7,
   "metadata": {},
   "outputs": [
    {
     "name": "stderr",
     "output_type": "stream",
     "text": [
      "/home/daniel/.local/lib/python3.6/site-packages/sklearn/svm/base.py:193: FutureWarning: The default value of gamma will change from 'auto' to 'scale' in version 0.22 to account better for unscaled features. Set gamma explicitly to 'auto' or 'scale' to avoid this warning.\n",
      "  \"avoid this warning.\", FutureWarning)\n",
      "/home/daniel/.local/lib/python3.6/site-packages/sklearn/svm/base.py:193: FutureWarning: The default value of gamma will change from 'auto' to 'scale' in version 0.22 to account better for unscaled features. Set gamma explicitly to 'auto' or 'scale' to avoid this warning.\n",
      "  \"avoid this warning.\", FutureWarning)\n"
     ]
    }
   ],
   "source": [
    "from sklearn.svm import OneClassSVM\n",
    "\n",
    "embed1 = OneClassSVM().fit(feat1)\n",
    "embed2 = OneClassSVM().fit(feat2)\n",
    "\n",
    "#c = np.concatenate([embed1.decision_function(allFeat), embed2.decision_function(allFeat)], axis=1)\n"
   ]
  },
  {
   "cell_type": "code",
   "execution_count": 8,
   "metadata": {},
   "outputs": [],
   "source": [
    "a = embed1.score_samples(allFeat)\n",
    "b = embed2.score_samples(allFeat)\n",
    "np.vstack([a,b]).transpose().shape\n",
    "c = np.vstack([a,b]).transpose()\n"
   ]
  },
  {
   "cell_type": "code",
   "execution_count": 50,
   "metadata": {},
   "outputs": [
    {
     "data": {
      "text/plain": [
       "(2000, 2)"
      ]
     },
     "execution_count": 50,
     "metadata": {},
     "output_type": "execute_result"
    }
   ],
   "source": []
  },
  {
   "cell_type": "code",
   "execution_count": 52,
   "metadata": {},
   "outputs": [],
   "source": [
    "\n",
    "\n"
   ]
  },
  {
   "cell_type": "code",
   "execution_count": 9,
   "metadata": {},
   "outputs": [
    {
     "data": {
      "image/png": "[encoded data removed]",
      "text/plain": [
       "<Figure size 432x288 with 1 Axes>"
      ]
     },
     "metadata": {
      "needs_background": "light"
     },
     "output_type": "display_data"
    }
   ],
   "source": [
    "\n",
    "c = np.concatenate([embed1.transform(allFeat), embed2.transform(allFeat)], axis=1)\n",
    "\n",
    "\n",
    "\n",
    "#a = np.matmul(allFeat,w1)-sig1\n",
    "#b = np.matmul(allFeat,w2)-sig2\n",
    "#c = np.concatenate([a,b], axis =1)\n",
    "\n",
    "\n",
    "from matplotlib import pyplot as plt\n",
    "plt.scatter(c[:1000,0], c[:1000,1], color='red', alpha = 0.1)\n",
    "plt.scatter(c[1000:,0], c[1000:,1], color='blue', alpha = 0.1)\n",
    "\n",
    "#plt.scatter(em2[:,0], em2[:,1], color='blue', alpha = 0.1)\n",
    "plt.show();\n"
   ]
  }
 ],
 "metadata": {
  "kernelspec": {
   "display_name": "Python 3",
   "language": "python",
   "name": "python3"
  },
  "language_info": {
   "codemirror_mode": {
    "name": "ipython",
    "version": 3
   },
   "file_extension": ".py",
   "mimetype": "text/x-python",
   "name": "python",
   "nbconvert_exporter": "python",
   "pygments_lexer": "ipython3",
   "version": "3.6.8"
  }
 },
 "nbformat": 4,
 "nbformat_minor": 4
}
