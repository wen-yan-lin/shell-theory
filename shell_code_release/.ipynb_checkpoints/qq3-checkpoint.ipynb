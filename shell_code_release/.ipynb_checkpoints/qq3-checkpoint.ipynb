{
 "cells": [
  {
   "cell_type": "code",
   "execution_count": 92,
   "metadata": {},
   "outputs": [
    {
     "name": "stdout",
     "output_type": "stream",
     "text": [
      "Downloading data from https://storage.googleapis.com/tensorflow/tf-keras-datasets/mnist.npz\n",
      "11493376/11490434 [==============================] - 0s 0us/step\n"
     ]
    }
   ],
   "source": [
    "import numpy as np\n",
    "import tensorflow as tf\n",
    "import matplotlib.pyplot as plt\n",
    "\n",
    "# allFeat = np.load('/tf/notebooks/clusteringTree/stl_feat/feats_2048.npy')\n",
    "# gtAll = np.load('/tf/notebooks/clusteringTree/stl_feat/labels_2048.npy')-1\n",
    "\n",
    "# allFeat = np.load('/tf/notebooks/STL-10/danielFeat.npy')\n",
    "# gtAll = np.load('/tf/notebooks/STL-10/danielGt.npy')\n",
    "\n",
    "\n",
    "\n",
    "from tensorflow.keras.datasets import mnist\n",
    "\n",
    "(x_train, y_train), (x_test, y_test) = mnist.load_data()"
   ]
  },
  {
   "cell_type": "code",
   "execution_count": 97,
   "metadata": {},
   "outputs": [
    {
     "data": {
      "text/plain": [
       "array([7, 2, 1, ..., 4, 5, 6], dtype=uint8)"
      ]
     },
     "execution_count": 97,
     "metadata": {},
     "output_type": "execute_result"
    }
   ],
   "source": [
    "allFeat = x_test.reshape(x_test.shape[0], 28*28)"
   ]
  },
  {
   "cell_type": "code",
   "execution_count": 2,
   "metadata": {},
   "outputs": [],
   "source": [
    "%load_ext autoreload\n",
    "%autoreload\n",
    "\n",
    "from sklearn.cluster import KMeans\n",
    "from clusteringX2 import normIt\n",
    "from clusteringX2 import clusterModel\n",
    "from clusteringX2 import train_step3\n",
    "\n",
    "\n",
    "def clustering(feat, numClass=60, thres=0.1):\n",
    "    feat, m = normIt(feat)\n",
    "    \n",
    "    # initilization\n",
    "    kmeans = KMeans(n_clusters=numClass, random_state=0).fit(feat)\n",
    "    labelK = kmeans.predict(feat)\n",
    "    means =np.zeros([numClass, feat.shape[1]])\n",
    "\n",
    "    for i in range(numClass):\n",
    "        mask = labelK == i\n",
    "        means[i,:] = np.mean(feat[mask,:], axis =0)\n",
    "\n",
    "    sigInit = np.zeros([numClass])\n",
    "    for i in range(numClass):\n",
    "        mask = np.logical_not(labelK == i)\n",
    "        sigInit[i] = np.mean(np.matmul(feat[mask,:], np.transpose(means[i,:])))\n",
    "    model = clusterModel(means.transpose(), sigInit)\n",
    "    train_step3(model, feat.astype(\"float32\"), iter =100)\n",
    "    \n",
    "    \n",
    "    \n",
    "    c = model(feat.astype(\"float32\"))\n",
    "    s = np.max(c, axis=1)\n",
    "    t = np.mean(s)\n",
    "    mask = s > t*0.5\n",
    "    train_step3(model, feat[mask,:].astype(\"float32\"), iter =100)\n",
    "    \n",
    "    \n",
    "    c = model(feat.astype(\"float32\"))\n",
    "    s = np.max(c, axis=1)\n",
    "    t = np.mean(s)\n",
    "    mask = s > t*0.5\n",
    "    train_step3(model, feat[mask,:].astype(\"float32\"), iter =100)\n",
    "\n",
    " \n",
    "    c = model(feat.astype(\"float32\"))\n",
    "    labels = np.argmax(c, axis =1)\n",
    "    mask_ = np.zeros(numClass, dtype=bool)\n",
    "        \n",
    "    for i in range(numClass):\n",
    "        if np.sum(labels==i)>0:\n",
    "            mask_[i] = 1\n",
    "    w = model.w.numpy()\n",
    "    sig = model.sig.numpy()\n",
    "    w = w[:,mask_]\n",
    "    sig = sig[mask_]\n",
    "            \n",
    "\n",
    "    return w, sig, m, mask\n",
    "\n"
   ]
  },
  {
   "cell_type": "code",
   "execution_count": 3,
   "metadata": {},
   "outputs": [],
   "source": [
    "class Node:\n",
    "    def __init__(self, mask=None, w=None, sig=None, m=None):\n",
    "        self.mask = mask\n",
    "        self.w = w\n",
    "        self.sig = sig\n",
    "        self.m = m\n",
    "            \n",
    "class Layer:\n",
    "    def __init__(self):\n",
    "        self.nodeList = []\n",
    "        \n",
    "class Tree:\n",
    "    def __init__(self):\n",
    "        self.numLayers = 0\n",
    "        self.listOfLayers = []\n",
    "        self.numNodes = 0\n",
    "        self.listOfNodes = []\n",
    "        \n",
    "    def addNode(self, c):\n",
    "        self.listOfNodes.append(c)\n",
    "        self.numNodes = self.numNodes + 1\n",
    "        \n",
    "    def addLayer(self, c):\n",
    "        self.listOfLayers.append(c)\n",
    "        self.numLayers = self.numLayers + 1\n",
    "\n",
    "    \n",
    "def startTree(allFeat, numClass=2):\n",
    "    tree = Tree()    \n",
    "    w, sig, m, inMask = clustering(allFeat, numClass)\n",
    "    mask = np.ones(allFeat.shape[0], dtype=bool)\n",
    "    #mask[np.logical_not(inMask)] = 0\n",
    "    n = Node(mask, w, sig, m)\n",
    "\n",
    "    tree.addNode(n)\n",
    "    newLayer = Layer()\n",
    "    newLayer.nodeList.append(tree.numNodes-1)\n",
    "    tree.addLayer(newLayer)\n",
    "    \n",
    "    return tree\n",
    "\n",
    "    \n",
    "#mask = np.logical_or(gtAll==3,  gtAll==4)\n",
    "mask = gtAll<10\n",
    "\n",
    "feat = allFeat[mask,:]\n",
    "gt = gtAll[mask]    \n",
    "gtCoarseAll = np.logical_or.reduce( [gtAll == 0, gtAll == 2, gtAll == 8, gtAll == 9]).astype(int)   \n",
    "gtCoarse = gtCoarseAll[mask]\n",
    "\n",
    "tree = startTree(feat[::2])\n"
   ]
  },
  {
   "cell_type": "code",
   "execution_count": 4,
   "metadata": {},
   "outputs": [],
   "source": [
    "def dataProjection(feat, node):\n",
    "    x, _ = normIt(feat, node.m) \n",
    "    return np.matmul(x, node.w) - node.sig\n",
    "\n",
    "\n",
    "    \n",
    "\n",
    "def extendTree(tree, allFeat, numClass=2, clusteringThreshold=100):\n",
    "    newLayer = Layer()\n",
    "    lastLayer = tree.listOfLayers[-1]\n",
    "    for nodeIndex in lastLayer.nodeList:\n",
    "        node = tree.listOfNodes[nodeIndex]\n",
    "        curFeat = allFeat[node.mask,:]\n",
    "        score = dataProjection(curFeat, node)\n",
    "        #plt.scatter(score[:,0], score[:,1], alpha=0.1)\n",
    "        \n",
    "        clusterInd = np.argmax(score, axis =1)\n",
    "        curInd = np.where(node.mask)[0]\n",
    "\n",
    "        for i in range(score.shape[1]):\n",
    "            subMask = clusterInd == i\n",
    "            if sum(subMask) > clusteringThreshold:\n",
    "                \n",
    "                newMask =  np.zeros(allFeat.shape[0], dtype=bool)\n",
    "                newMask[curInd[subMask]] = 1\n",
    "                \n",
    "\n",
    "                w, sig, m, inMask = clustering(allFeat[newMask,:], numClass)\n",
    "                #subInd = np.where(newMask)[0]\n",
    "                #newMask[subInd[np.logical_not(inMask)]] = 0\n",
    "\n",
    "                if w.shape[1]>=2:\n",
    "                    n = Node(newMask, w, sig, m)\n",
    "                    tree.addNode(n)\n",
    "                    newLayer.nodeList.append(tree.numNodes-1)\n",
    "    tree.addLayer(newLayer)\n",
    "\n",
    "\n",
    "        \n",
    "\n",
    "\n",
    "for k in range(100):\n",
    "    extendTree(tree, feat[::2])\n",
    "\n"
   ]
  },
  {
   "cell_type": "code",
   "execution_count": 5,
   "metadata": {},
   "outputs": [],
   "source": [
    "def projectTree2(feat, tree, maxClus=2, unit_vector=True, scale2data=True, verboise=True):\n",
    "    \n",
    "    projectionSpace = np.zeros([feat.shape[0], tree.numNodes*maxClus])\n",
    "    \n",
    "    cur = 0\n",
    "    \n",
    "    for i, n in enumerate(tree.listOfNodes):\n",
    "        \n",
    "        f = dataProjection(feat, n)\n",
    "        numDim = f.shape[1]\n",
    "        if unit_vector:\n",
    "            f_ = np.concatenate([f, 10*np.ones([f.shape[0],1])], axis =1)\n",
    "            f_ = f_/np.linalg.norm(f_, axis =1, keepdims=True)\n",
    "            f = f_[:,:numDim]\n",
    "        if scale2data:\n",
    "            f = f*np.sum(n.mask)/n.mask.size \n",
    "        projectionSpace[:, cur:cur+numDim] = f\n",
    "        cur = cur+numDim\n",
    "        \n",
    "        if verboise == True:\n",
    "            print(i, n)\n",
    "    projectionSpace = projectionSpace[:,:cur]\n",
    "    return projectionSpace\n",
    "        \n",
    "    "
   ]
  },
  {
   "cell_type": "code",
   "execution_count": 6,
   "metadata": {},
   "outputs": [
    {
     "name": "stdout",
     "output_type": "stream",
     "text": [
      "Create Feature\n",
      "0 <__main__.Node object at 0x7f03140d7748>\n",
      "1 <__main__.Node object at 0x7f025aeaf9b0>\n",
      "2 <__main__.Node object at 0x7f03242849b0>\n",
      "3 <__main__.Node object at 0x7f02306d47b8>\n",
      "4 <__main__.Node object at 0x7f023076abe0>\n",
      "5 <__main__.Node object at 0x7f02421d77f0>\n",
      "6 <__main__.Node object at 0x7f0242110e10>\n",
      "7 <__main__.Node object at 0x7f02306de940>\n",
      "8 <__main__.Node object at 0x7f02420b4208>\n",
      "9 <__main__.Node object at 0x7f0241faae48>\n",
      "10 <__main__.Node object at 0x7f0241f3b588>\n",
      "11 <__main__.Node object at 0x7f0241ec9da0>\n",
      "12 <__main__.Node object at 0x7f0241e72be0>\n",
      "13 <__main__.Node object at 0x7f0241cd7ef0>\n",
      "14 <__main__.Node object at 0x7f0241beaa90>\n",
      "15 <__main__.Node object at 0x7f0241b3add8>\n",
      "16 <__main__.Node object at 0x7f0241a60b00>\n",
      "17 <__main__.Node object at 0x7f0241b34c50>\n",
      "18 <__main__.Node object at 0x7f02419c6da0>\n",
      "19 <__main__.Node object at 0x7f02419a4710>\n",
      "20 <__main__.Node object at 0x7f024197c1d0>\n",
      "21 <__main__.Node object at 0x7f0241a0dd68>\n",
      "22 <__main__.Node object at 0x7f02418cdba8>\n",
      "23 <__main__.Node object at 0x7f024196ff60>\n",
      "24 <__main__.Node object at 0x7f024186ecf8>\n",
      "25 <__main__.Node object at 0x7f0241866b70>\n",
      "26 <__main__.Node object at 0x7f02417da240>\n",
      "27 <__main__.Node object at 0x7f02417efd30>\n",
      "28 <__main__.Node object at 0x7f024181df28>\n",
      "29 <__main__.Node object at 0x7f0241698828>\n",
      "30 <__main__.Node object at 0x7f024174d4e0>\n",
      "31 <__main__.Node object at 0x7f02415d4dd8>\n",
      "32 <__main__.Node object at 0x7f0241604c88>\n",
      "33 <__main__.Node object at 0x7f024158fda0>\n",
      "34 <__main__.Node object at 0x7f024154ef28>\n",
      "35 <__main__.Node object at 0x7f0241401780>\n",
      "36 <__main__.Node object at 0x7f024135fa90>\n",
      "37 <__main__.Node object at 0x7f024137bac8>\n",
      "38 <__main__.Node object at 0x7f024133dc50>\n",
      "39 <__main__.Node object at 0x7f024131f278>\n",
      "40 <__main__.Node object at 0x7f02412aac50>\n",
      "41 <__main__.Node object at 0x7f02412ecd30>\n",
      "42 <__main__.Node object at 0x7f02411d1cc0>\n",
      "43 <__main__.Node object at 0x7f02411c0470>\n",
      "44 <__main__.Node object at 0x7f0241250198>\n",
      "45 <__main__.Node object at 0x7f0241156cc0>\n",
      "46 <__main__.Node object at 0x7f024105def0>\n",
      "47 <__main__.Node object at 0x7f0241047400>\n",
      "48 <__main__.Node object at 0x7f024119be10>\n",
      "49 <__main__.Node object at 0x7f0240fb96a0>\n",
      "50 <__main__.Node object at 0x7f0240f41a90>\n",
      "51 <__main__.Node object at 0x7f0240f04c50>\n",
      "52 <__main__.Node object at 0x7f0240ed2f28>\n",
      "53 <__main__.Node object at 0x7f0240e66588>\n",
      "54 <__main__.Node object at 0x7f0240ecdd68>\n",
      "55 <__main__.Node object at 0x7f0240de1940>\n",
      "56 <__main__.Node object at 0x7f0240e1ef28>\n",
      "57 <__main__.Node object at 0x7f0240e0a0f0>\n",
      "58 <__main__.Node object at 0x7f0240eb3d30>\n",
      "59 <__main__.Node object at 0x7f0240cb1f28>\n",
      "60 <__main__.Node object at 0x7f0240ce2dd8>\n",
      "61 <__main__.Node object at 0x7f0240c24f28>\n",
      "62 <__main__.Node object at 0x7f0240c2b1d0>\n",
      "63 <__main__.Node object at 0x7f0240b48160>\n",
      "64 <__main__.Node object at 0x7f0240acac50>\n",
      "65 <__main__.Node object at 0x7f0240abb2e8>\n",
      "66 <__main__.Node object at 0x7f0240a20550>\n",
      "67 <__main__.Node object at 0x7f0240a0f668>\n",
      "68 <__main__.Node object at 0x7f02409c9b70>\n",
      "69 <__main__.Node object at 0x7f02409d5f28>\n",
      "70 <__main__.Node object at 0x7f0240924d68>\n",
      "71 <__main__.Node object at 0x7f024095ad30>\n",
      "72 <__main__.Node object at 0x7f02408f8d30>\n",
      "73 <__main__.Node object at 0x7f02408a8eb8>\n",
      "74 <__main__.Node object at 0x7f02409eb208>\n",
      "75 <__main__.Node object at 0x7f024090ea90>\n",
      "76 <__main__.Node object at 0x7f0240878dd8>\n",
      "77 <__main__.Node object at 0x7f024076bc88>\n",
      "78 <__main__.Node object at 0x7f024083cb00>\n",
      "79 <__main__.Node object at 0x7f0240740f28>\n",
      "80 <__main__.Node object at 0x7f024075c978>\n",
      "81 <__main__.Node object at 0x7f0240789f28>\n",
      "82 <__main__.Node object at 0x7f0240662d30>\n",
      "83 <__main__.Node object at 0x7f0240739f98>\n",
      "84 <__main__.Node object at 0x7f024066f208>\n",
      "85 <__main__.Node object at 0x7f0240720f28>\n",
      "86 <__main__.Node object at 0x7f024062dcf8>\n",
      "87 <__main__.Node object at 0x7f0240533c88>\n",
      "88 <__main__.Node object at 0x7f024054dbe0>\n",
      "89 <__main__.Node object at 0x7f02404e1d68>\n",
      "90 <__main__.Node object at 0x7f02405abdd8>\n",
      "num dimenions: 182\n"
     ]
    }
   ],
   "source": [
    "print('Create Feature')\n",
    "\n",
    "projectionSpace = projectTree2(feat, tree, unit_vector=True, scale2data=True)\n",
    "pp = projectionSpace.copy()\n",
    "pp_s, _ = normIt(pp)\n",
    "\n",
    "print('num dimenions:', pp_s.shape[1])"
   ]
  },
  {
   "cell_type": "code",
   "execution_count": 7,
   "metadata": {},
   "outputs": [
    {
     "name": "stdout",
     "output_type": "stream",
     "text": [
      "0 <__main__.Node object at 0x7f03140d7748>\n",
      "1 <__main__.Node object at 0x7f025aeaf9b0>\n",
      "2 <__main__.Node object at 0x7f03242849b0>\n",
      "3 <__main__.Node object at 0x7f02306d47b8>\n",
      "4 <__main__.Node object at 0x7f023076abe0>\n",
      "5 <__main__.Node object at 0x7f02421d77f0>\n",
      "6 <__main__.Node object at 0x7f0242110e10>\n",
      "7 <__main__.Node object at 0x7f02306de940>\n",
      "8 <__main__.Node object at 0x7f02420b4208>\n",
      "9 <__main__.Node object at 0x7f0241faae48>\n",
      "10 <__main__.Node object at 0x7f0241f3b588>\n",
      "11 <__main__.Node object at 0x7f0241ec9da0>\n",
      "12 <__main__.Node object at 0x7f0241e72be0>\n",
      "13 <__main__.Node object at 0x7f0241cd7ef0>\n",
      "14 <__main__.Node object at 0x7f0241beaa90>\n",
      "15 <__main__.Node object at 0x7f0241b3add8>\n",
      "16 <__main__.Node object at 0x7f0241a60b00>\n",
      "17 <__main__.Node object at 0x7f0241b34c50>\n",
      "18 <__main__.Node object at 0x7f02419c6da0>\n",
      "19 <__main__.Node object at 0x7f02419a4710>\n",
      "20 <__main__.Node object at 0x7f024197c1d0>\n",
      "21 <__main__.Node object at 0x7f0241a0dd68>\n",
      "22 <__main__.Node object at 0x7f02418cdba8>\n",
      "23 <__main__.Node object at 0x7f024196ff60>\n",
      "24 <__main__.Node object at 0x7f024186ecf8>\n",
      "25 <__main__.Node object at 0x7f0241866b70>\n",
      "26 <__main__.Node object at 0x7f02417da240>\n",
      "27 <__main__.Node object at 0x7f02417efd30>\n",
      "28 <__main__.Node object at 0x7f024181df28>\n",
      "29 <__main__.Node object at 0x7f0241698828>\n",
      "30 <__main__.Node object at 0x7f024174d4e0>\n",
      "31 <__main__.Node object at 0x7f02415d4dd8>\n",
      "32 <__main__.Node object at 0x7f0241604c88>\n",
      "33 <__main__.Node object at 0x7f024158fda0>\n",
      "34 <__main__.Node object at 0x7f024154ef28>\n",
      "35 <__main__.Node object at 0x7f0241401780>\n",
      "36 <__main__.Node object at 0x7f024135fa90>\n",
      "37 <__main__.Node object at 0x7f024137bac8>\n",
      "38 <__main__.Node object at 0x7f024133dc50>\n",
      "39 <__main__.Node object at 0x7f024131f278>\n",
      "40 <__main__.Node object at 0x7f02412aac50>\n",
      "41 <__main__.Node object at 0x7f02412ecd30>\n",
      "42 <__main__.Node object at 0x7f02411d1cc0>\n",
      "43 <__main__.Node object at 0x7f02411c0470>\n",
      "44 <__main__.Node object at 0x7f0241250198>\n",
      "45 <__main__.Node object at 0x7f0241156cc0>\n",
      "46 <__main__.Node object at 0x7f024105def0>\n",
      "47 <__main__.Node object at 0x7f0241047400>\n",
      "48 <__main__.Node object at 0x7f024119be10>\n",
      "49 <__main__.Node object at 0x7f0240fb96a0>\n",
      "50 <__main__.Node object at 0x7f0240f41a90>\n",
      "51 <__main__.Node object at 0x7f0240f04c50>\n",
      "52 <__main__.Node object at 0x7f0240ed2f28>\n",
      "53 <__main__.Node object at 0x7f0240e66588>\n",
      "54 <__main__.Node object at 0x7f0240ecdd68>\n",
      "55 <__main__.Node object at 0x7f0240de1940>\n",
      "56 <__main__.Node object at 0x7f0240e1ef28>\n",
      "57 <__main__.Node object at 0x7f0240e0a0f0>\n",
      "58 <__main__.Node object at 0x7f0240eb3d30>\n",
      "59 <__main__.Node object at 0x7f0240cb1f28>\n",
      "60 <__main__.Node object at 0x7f0240ce2dd8>\n",
      "61 <__main__.Node object at 0x7f0240c24f28>\n",
      "62 <__main__.Node object at 0x7f0240c2b1d0>\n",
      "63 <__main__.Node object at 0x7f0240b48160>\n",
      "64 <__main__.Node object at 0x7f0240acac50>\n",
      "65 <__main__.Node object at 0x7f0240abb2e8>\n",
      "66 <__main__.Node object at 0x7f0240a20550>\n",
      "67 <__main__.Node object at 0x7f0240a0f668>\n",
      "68 <__main__.Node object at 0x7f02409c9b70>\n",
      "69 <__main__.Node object at 0x7f02409d5f28>\n",
      "70 <__main__.Node object at 0x7f0240924d68>\n",
      "71 <__main__.Node object at 0x7f024095ad30>\n",
      "72 <__main__.Node object at 0x7f02408f8d30>\n",
      "73 <__main__.Node object at 0x7f02408a8eb8>\n",
      "74 <__main__.Node object at 0x7f02409eb208>\n",
      "75 <__main__.Node object at 0x7f024090ea90>\n",
      "76 <__main__.Node object at 0x7f0240878dd8>\n",
      "77 <__main__.Node object at 0x7f024076bc88>\n",
      "78 <__main__.Node object at 0x7f024083cb00>\n",
      "79 <__main__.Node object at 0x7f0240740f28>\n",
      "80 <__main__.Node object at 0x7f024075c978>\n",
      "81 <__main__.Node object at 0x7f0240789f28>\n",
      "82 <__main__.Node object at 0x7f0240662d30>\n",
      "83 <__main__.Node object at 0x7f0240739f98>\n",
      "84 <__main__.Node object at 0x7f024066f208>\n",
      "85 <__main__.Node object at 0x7f0240720f28>\n",
      "86 <__main__.Node object at 0x7f024062dcf8>\n",
      "87 <__main__.Node object at 0x7f0240533c88>\n",
      "88 <__main__.Node object at 0x7f024054dbe0>\n",
      "89 <__main__.Node object at 0x7f02404e1d68>\n",
      "90 <__main__.Node object at 0x7f02405abdd8>\n",
      "num dimenions: 182\n"
     ]
    }
   ],
   "source": [
    "projectionSpace = projectTree2(feat, tree, unit_vector=True, scale2data=True)\n",
    "pp = projectionSpace.copy()\n",
    "pp_s, _ = normIt(pp)\n",
    "\n",
    "print('num dimenions:', pp_s.shape[1])"
   ]
  },
  {
   "cell_type": "code",
   "execution_count": 8,
   "metadata": {},
   "outputs": [],
   "source": [
    "tree2 = startTree(pp_s[::2])\n",
    "\n",
    "\n",
    "for k in range(100):\n",
    "    extendTree(tree2, pp_s[::2])\n"
   ]
  },
  {
   "cell_type": "code",
   "execution_count": 9,
   "metadata": {},
   "outputs": [
    {
     "name": "stdout",
     "output_type": "stream",
     "text": [
      "0 <__main__.Node object at 0x7f02489db860>\n",
      "1 <__main__.Node object at 0x7f02403fbfd0>\n",
      "2 <__main__.Node object at 0x7f025aea36a0>\n",
      "3 <__main__.Node object at 0x7f0240261ac8>\n",
      "4 <__main__.Node object at 0x7f0240207668>\n",
      "5 <__main__.Node object at 0x7f0240290fd0>\n",
      "6 <__main__.Node object at 0x7f0240158860>\n",
      "7 <__main__.Node object at 0x7f0240012940>\n",
      "8 <__main__.Node object at 0x7f023ffaef28>\n",
      "9 <__main__.Node object at 0x7f023ff5bb38>\n",
      "10 <__main__.Node object at 0x7f023fe78f60>\n",
      "11 <__main__.Node object at 0x7f023fdb7e10>\n",
      "12 <__main__.Node object at 0x7f023fce1e10>\n",
      "13 <__main__.Node object at 0x7f024020fc88>\n",
      "14 <__main__.Node object at 0x7f023fc69f60>\n",
      "15 <__main__.Node object at 0x7f0240307eb8>\n",
      "16 <__main__.Node object at 0x7f023fa96f28>\n",
      "17 <__main__.Node object at 0x7f023f9c57f0>\n",
      "18 <__main__.Node object at 0x7f023f8e1f28>\n",
      "19 <__main__.Node object at 0x7f023f88cf28>\n",
      "20 <__main__.Node object at 0x7f023f7c7a90>\n",
      "21 <__main__.Node object at 0x7f023f6eff98>\n",
      "22 <__main__.Node object at 0x7f023f627d68>\n",
      "23 <__main__.Node object at 0x7f023f687b70>\n",
      "24 <__main__.Node object at 0x7f023f557eb8>\n",
      "25 <__main__.Node object at 0x7f023f425e48>\n",
      "26 <__main__.Node object at 0x7f023f2e7ba8>\n",
      "27 <__main__.Node object at 0x7f023f301e80>\n",
      "28 <__main__.Node object at 0x7f023f230fd0>\n",
      "29 <__main__.Node object at 0x7f023f15fe48>\n",
      "30 <__main__.Node object at 0x7f023f109e48>\n",
      "31 <__main__.Node object at 0x7f023f0369b0>\n",
      "32 <__main__.Node object at 0x7f023ef5fe48>\n",
      "33 <__main__.Node object at 0x7f0230643cc0>\n",
      "34 <__main__.Node object at 0x7f0230569c88>\n",
      "35 <__main__.Node object at 0x7f0230497828>\n",
      "36 <__main__.Node object at 0x7f0230441da0>\n",
      "37 <__main__.Node object at 0x7f0230366f60>\n",
      "38 <__main__.Node object at 0x7f023029aac8>\n",
      "39 <__main__.Node object at 0x7f0230227f28>\n",
      "40 <__main__.Node object at 0x7f0230177da0>\n",
      "41 <__main__.Node object at 0x7f023009eda0>\n",
      "42 <__main__.Node object at 0x7f023f0ef240>\n",
      "43 <__main__.Node object at 0x7f0230023ef0>\n",
      "44 <__main__.Node object at 0x7f022068d9b0>\n",
      "45 <__main__.Node object at 0x7f02205beba8>\n",
      "46 <__main__.Node object at 0x7f022056c128>\n",
      "47 <__main__.Node object at 0x7f0220497e80>\n",
      "48 <__main__.Node object at 0x7f02203c2e80>\n",
      "49 <__main__.Node object at 0x7f0220688fd0>\n",
      "50 <__main__.Node object at 0x7f02203b3fd0>\n",
      "51 <__main__.Node object at 0x7f02201c7cc0>\n",
      "52 <__main__.Node object at 0x7f0220170c88>\n",
      "53 <__main__.Node object at 0x7f022009c828>\n",
      "54 <__main__.Node object at 0x7f01f035cda0>\n",
      "55 <__main__.Node object at 0x7f01f030df60>\n",
      "56 <__main__.Node object at 0x7f01f023aac8>\n",
      "57 <__main__.Node object at 0x7f01f01c7f28>\n",
      "58 <__main__.Node object at 0x7f01f0096da0>\n",
      "59 <__main__.Node object at 0x7f0220292f28>\n",
      "60 <__main__.Node object at 0x7f01f0025198>\n",
      "61 <__main__.Node object at 0x7f01a86c9e80>\n",
      "62 <__main__.Node object at 0x7f01a8676fd0>\n",
      "63 <__main__.Node object at 0x7f01a8697748>\n",
      "64 <__main__.Node object at 0x7f01a84cbdd8>\n",
      "65 <__main__.Node object at 0x7f01a8444048>\n",
      "66 <__main__.Node object at 0x7f01a84a4a90>\n",
      "67 <__main__.Node object at 0x7f01a8361ef0>\n",
      "68 <__main__.Node object at 0x7f01a828ba58>\n",
      "69 <__main__.Node object at 0x7f01a8235630>\n",
      "70 <__main__.Node object at 0x7f01a825b550>\n",
      "71 <__main__.Node object at 0x7f01a81699e8>\n",
      "72 <__main__.Node object at 0x7f01a80a9f28>\n",
      "73 <__main__.Node object at 0x7f01907b8da0>\n",
      "74 <__main__.Node object at 0x7f01906e0da0>\n",
      "75 <__main__.Node object at 0x7f01a8531240>\n",
      "76 <__main__.Node object at 0x7f0190669ef0>\n",
      "77 <__main__.Node object at 0x7f01904e59b0>\n",
      "78 <__main__.Node object at 0x7f019045f278>\n",
      "79 <__main__.Node object at 0x7f01905b7ef0>\n",
      "80 <__main__.Node object at 0x7f01903349b0>\n",
      "81 <__main__.Node object at 0x7f01902a6f28>\n",
      "82 <__main__.Node object at 0x7f019028abe0>\n",
      "83 <__main__.Node object at 0x7f01901eeb00>\n",
      "84 <__main__.Node object at 0x7f01900caeb8>\n",
      "85 <__main__.Node object at 0x7f0190101ef0>\n",
      "86 <__main__.Node object at 0x7f016c7f5438>\n",
      "87 <__main__.Node object at 0x7f0190043160>\n",
      "88 <__main__.Node object at 0x7f016c66dda0>\n",
      "89 <__main__.Node object at 0x7f019005d860>\n",
      "num dimenions: 180\n"
     ]
    }
   ],
   "source": [
    "projectionSpace2 = projectTree2(pp_s, tree2, unit_vector=True, scale2data=True)\n",
    "pp2 = projectionSpace2.copy()\n",
    "pp_s2, _ = normIt(pp2)\n",
    "\n",
    "print('num dimenions:', pp_s2.shape[1])"
   ]
  },
  {
   "cell_type": "code",
   "execution_count": 10,
   "metadata": {},
   "outputs": [
    {
     "name": "stdout",
     "output_type": "stream",
     "text": [
      "Create UMAP Feature\n",
      "Collecting umap.learn\n",
      "\u001b[?25l  Downloading https://files.pythonhosted.org/packages/ad/92/36bac74962b424870026cb0b42cec3d5b6f4afa37d81818475d8762f9255/umap-learn-0.3.10.tar.gz (40kB)\n",
      "\u001b[K     |████████████████████████████████| 40kB 4.3MB/s eta 0:00:011\n",
      "\u001b[?25hRequirement already satisfied: numpy>=1.13 in /usr/local/lib/python3.6/dist-packages (from umap.learn) (1.18.1)\n",
      "Requirement already satisfied: scikit-learn>=0.16 in /usr/local/lib/python3.6/dist-packages (from umap.learn) (0.22.1)\n",
      "Requirement already satisfied: scipy>=0.19 in /usr/local/lib/python3.6/dist-packages (from umap.learn) (1.4.1)\n",
      "Collecting numba>=0.37\n",
      "\u001b[?25l  Downloading https://files.pythonhosted.org/packages/ba/49/61522f34b1333aa4e9aa02005dc0774d25bd234400dff718b16615d6a744/numba-0.48.0-cp36-cp36m-manylinux1_x86_64.whl (2.5MB)\n",
      "\u001b[K     |████████████████████████████████| 2.5MB 6.9MB/s eta 0:00:01\n",
      "\u001b[?25hRequirement already satisfied: joblib>=0.11 in /usr/local/lib/python3.6/dist-packages (from scikit-learn>=0.16->umap.learn) (0.14.1)\n",
      "Collecting llvmlite<0.32.0,>=0.31.0dev0\n",
      "\u001b[?25l  Downloading https://files.pythonhosted.org/packages/ad/bb/60d4033d56c9da36490af19caa6c794b72b8aef6f792fdfa8cb95d11e419/llvmlite-0.31.0-cp36-cp36m-manylinux1_x86_64.whl (20.2MB)\n",
      "\u001b[K     |████████████████████████████████| 20.2MB 28.9MB/s eta 0:00:01\n",
      "\u001b[?25hRequirement already satisfied: setuptools in /usr/local/lib/python3.6/dist-packages (from numba>=0.37->umap.learn) (44.0.0)\n",
      "Building wheels for collected packages: umap.learn\n",
      "  Building wheel for umap.learn (setup.py) ... \u001b[?25ldone\n",
      "\u001b[?25h  Created wheel for umap.learn: filename=umap_learn-0.3.10-cp36-none-any.whl size=44352 sha256=c504d50e4df0aa3a1797842d3184ab123c12afd978f2d121046b74b2f6cf491c\n",
      "  Stored in directory: /root/.cache/pip/wheels/d0/f8/d5/8e3af3ee957feb9b403a060ebe72f7561887fef9dea658326e\n",
      "Successfully built umap.learn\n",
      "Installing collected packages: llvmlite, numba, umap.learn\n",
      "Successfully installed llvmlite-0.31.0 numba-0.48.0 umap.learn\n",
      "\u001b[33mWARNING: You are using pip version 19.3.1; however, version 20.0.2 is available.\n",
      "You should consider upgrading via the 'pip install --upgrade pip' command.\u001b[0m\n"
     ]
    },
    {
     "name": "stderr",
     "output_type": "stream",
     "text": [
      "/usr/local/lib/python3.6/dist-packages/numba/typed_passes.py:293: NumbaPerformanceWarning: \n",
      "The keyword argument 'parallel=True' was specified but no transformation for parallel execution was possible.\n",
      "\n",
      "To find out why, try turning on parallel diagnostics, see http://numba.pydata.org/numba-doc/latest/user/parallel.html#diagnostics for help.\n",
      "\n",
      "File \"../../../usr/local/lib/python3.6/dist-packages/umap/rp_tree.py\", line 135:\n",
      "@numba.njit(fastmath=True, nogil=True, parallel=True)\n",
      "def euclidean_random_projection_split(data, indices, rng_state):\n",
      "^\n",
      "\n",
      "  state.func_ir.loc))\n",
      "/usr/local/lib/python3.6/dist-packages/umap/nndescent.py:92: NumbaPerformanceWarning: \n",
      "The keyword argument 'parallel=True' was specified but no transformation for parallel execution was possible.\n",
      "\n",
      "To find out why, try turning on parallel diagnostics, see http://numba.pydata.org/numba-doc/latest/user/parallel.html#diagnostics for help.\n",
      "\n",
      "File \"../../../usr/local/lib/python3.6/dist-packages/umap/utils.py\", line 409:\n",
      "@numba.njit(parallel=True)\n",
      "def build_candidates(current_graph, n_vertices, n_neighbors, max_candidates, rng_state):\n",
      "^\n",
      "\n",
      "  current_graph, n_vertices, n_neighbors, max_candidates, rng_state\n",
      "/usr/local/lib/python3.6/dist-packages/numba/typed_passes.py:293: NumbaPerformanceWarning: \n",
      "The keyword argument 'parallel=True' was specified but no transformation for parallel execution was possible.\n",
      "\n",
      "To find out why, try turning on parallel diagnostics, see http://numba.pydata.org/numba-doc/latest/user/parallel.html#diagnostics for help.\n",
      "\n",
      "File \"../../../usr/local/lib/python3.6/dist-packages/umap/nndescent.py\", line 47:\n",
      "    @numba.njit(parallel=True)\n",
      "    def nn_descent(\n",
      "    ^\n",
      "\n",
      "  state.func_ir.loc))\n"
     ]
    }
   ],
   "source": [
    "print('Create UMAP Feature')\n",
    "\n",
    "! pip3 install umap.learn\n",
    "import umap\n",
    "\n",
    "\n",
    "\n",
    "f_norm, _ = normIt(feat)\n",
    "embedding = umap.UMAP()\n",
    "fUmap = embedding.fit_transform(f_norm)"
   ]
  },
  {
   "cell_type": "markdown",
   "metadata": {},
   "source": [
    "## Label Spreading evaluation"
   ]
  },
  {
   "cell_type": "code",
   "execution_count": 11,
   "metadata": {},
   "outputs": [],
   "source": [
    "import random\n",
    "from sklearn.semi_supervised import LabelSpreading\n",
    "from sklearn.semi_supervised import LabelPropagation\n",
    "from sklearn.metrics import roc_curve\n",
    "from sklearn.metrics import roc_auc_score\n",
    "from sklearn.metrics import average_precision_score\n",
    "# setup\n",
    "lModel = LabelSpreading(gamma=100)\n",
    "gt_use = gt.copy()\n",
    "#gt_use = gtCoarse.copy()\n",
    "#########\n",
    "\n",
    "\n",
    "samplePerClass = 1\n",
    "numClass = int(max(gt_use)+1)\n",
    "ind = []\n",
    "for i in range(numClass):\n",
    "    index = list(np.where(gt_use==i)[0])\n",
    "    if len(index) == 0:\n",
    "        continue\n",
    "    index = random.sample(index, samplePerClass);\n",
    "    ind = ind + (index)\n",
    "#ind = random.sample(range(pp_s.shape[0]), numClass*samplePerClass);\n"
   ]
  },
  {
   "cell_type": "code",
   "execution_count": 12,
   "metadata": {},
   "outputs": [
    {
     "name": "stdout",
     "output_type": "stream",
     "text": [
      "Ours\n",
      "Precision: 0.7633846153846154\n",
      "map: 0.8853266792725372\n"
     ]
    }
   ],
   "source": [
    "print('Ours')\n",
    "\n",
    "\n",
    "lModel.fit(pp_s[ind], gt_use[ind])\n",
    "label = lModel.predict(pp_s)\n",
    "score = np.max(lModel.predict_proba(pp_s), axis=1)\n",
    "\n",
    "\n",
    "print('Precision:', np.sum(label==gt_use)/label.size)\n",
    "print('map:', average_precision_score(label==gt_use, score))"
   ]
  },
  {
   "cell_type": "code",
   "execution_count": 14,
   "metadata": {},
   "outputs": [
    {
     "name": "stdout",
     "output_type": "stream",
     "text": [
      "Ours\n",
      "Precision: 0.8026153846153846\n",
      "map: 0.90763347835129\n"
     ]
    }
   ],
   "source": [
    "print('Ours')\n",
    "\n",
    "\n",
    "lModel.fit(pp_s2[ind], gt_use[ind])\n",
    "label = lModel.predict(pp_s2)\n",
    "score = np.max(lModel.predict_proba(pp_s2), axis=1)\n",
    "\n",
    "\n",
    "print('Precision:', np.sum(label==gt_use)/label.size)\n",
    "print('map:', average_precision_score(label==gt_use, score))"
   ]
  },
  {
   "cell_type": "code",
   "execution_count": 13,
   "metadata": {},
   "outputs": [
    {
     "name": "stdout",
     "output_type": "stream",
     "text": [
      "PCA\n"
     ]
    },
    {
     "name": "stderr",
     "output_type": "stream",
     "text": [
      "/usr/local/lib/python3.6/dist-packages/sklearn/semi_supervised/_label_propagation.py:201: RuntimeWarning: invalid value encountered in true_divide\n",
      "  probabilities /= normalizer\n",
      "/usr/local/lib/python3.6/dist-packages/sklearn/semi_supervised/_label_propagation.py:201: RuntimeWarning: invalid value encountered in true_divide\n",
      "  probabilities /= normalizer\n"
     ]
    },
    {
     "name": "stdout",
     "output_type": "stream",
     "text": [
      "Precision: 0.4175384615384615\n"
     ]
    },
    {
     "ename": "ValueError",
     "evalue": "Input contains NaN, infinity or a value too large for dtype('float64').",
     "output_type": "error",
     "traceback": [
      "\u001b[0;31m---------------------------------------------------------------------------\u001b[0m",
      "\u001b[0;31mValueError\u001b[0m                                Traceback (most recent call last)",
      "\u001b[0;32m<ipython-input-13-a56868989fe3>\u001b[0m in \u001b[0;36m<module>\u001b[0;34m\u001b[0m\n\u001b[1;32m     15\u001b[0m \u001b[0;34m\u001b[0m\u001b[0m\n\u001b[1;32m     16\u001b[0m \u001b[0mprint\u001b[0m\u001b[0;34m(\u001b[0m\u001b[0;34m'Precision:'\u001b[0m\u001b[0;34m,\u001b[0m \u001b[0mnp\u001b[0m\u001b[0;34m.\u001b[0m\u001b[0msum\u001b[0m\u001b[0;34m(\u001b[0m\u001b[0mlabel\u001b[0m\u001b[0;34m==\u001b[0m\u001b[0mgt_use\u001b[0m\u001b[0;34m)\u001b[0m\u001b[0;34m/\u001b[0m\u001b[0mlabel\u001b[0m\u001b[0;34m.\u001b[0m\u001b[0msize\u001b[0m\u001b[0;34m)\u001b[0m\u001b[0;34m\u001b[0m\u001b[0;34m\u001b[0m\u001b[0m\n\u001b[0;32m---> 17\u001b[0;31m \u001b[0mprint\u001b[0m\u001b[0;34m(\u001b[0m\u001b[0;34m'map:'\u001b[0m\u001b[0;34m,\u001b[0m \u001b[0maverage_precision_score\u001b[0m\u001b[0;34m(\u001b[0m\u001b[0mlabel\u001b[0m\u001b[0;34m==\u001b[0m\u001b[0mgt_use\u001b[0m\u001b[0;34m,\u001b[0m \u001b[0mscore\u001b[0m\u001b[0;34m)\u001b[0m\u001b[0;34m)\u001b[0m\u001b[0;34m\u001b[0m\u001b[0;34m\u001b[0m\u001b[0m\n\u001b[0m",
      "\u001b[0;32m/usr/local/lib/python3.6/dist-packages/sklearn/metrics/_ranking.py\u001b[0m in \u001b[0;36maverage_precision_score\u001b[0;34m(y_true, y_score, average, pos_label, sample_weight)\u001b[0m\n\u001b[1;32m    213\u001b[0m                                 pos_label=pos_label)\n\u001b[1;32m    214\u001b[0m     return _average_binary_score(average_precision, y_true, y_score,\n\u001b[0;32m--> 215\u001b[0;31m                                  average, sample_weight=sample_weight)\n\u001b[0m\u001b[1;32m    216\u001b[0m \u001b[0;34m\u001b[0m\u001b[0m\n\u001b[1;32m    217\u001b[0m \u001b[0;34m\u001b[0m\u001b[0m\n",
      "\u001b[0;32m/usr/local/lib/python3.6/dist-packages/sklearn/metrics/_base.py\u001b[0m in \u001b[0;36m_average_binary_score\u001b[0;34m(binary_metric, y_true, y_score, average, sample_weight)\u001b[0m\n\u001b[1;32m     75\u001b[0m \u001b[0;34m\u001b[0m\u001b[0m\n\u001b[1;32m     76\u001b[0m     \u001b[0;32mif\u001b[0m \u001b[0my_type\u001b[0m \u001b[0;34m==\u001b[0m \u001b[0;34m\"binary\"\u001b[0m\u001b[0;34m:\u001b[0m\u001b[0;34m\u001b[0m\u001b[0;34m\u001b[0m\u001b[0m\n\u001b[0;32m---> 77\u001b[0;31m         \u001b[0;32mreturn\u001b[0m \u001b[0mbinary_metric\u001b[0m\u001b[0;34m(\u001b[0m\u001b[0my_true\u001b[0m\u001b[0;34m,\u001b[0m \u001b[0my_score\u001b[0m\u001b[0;34m,\u001b[0m \u001b[0msample_weight\u001b[0m\u001b[0;34m=\u001b[0m\u001b[0msample_weight\u001b[0m\u001b[0;34m)\u001b[0m\u001b[0;34m\u001b[0m\u001b[0;34m\u001b[0m\u001b[0m\n\u001b[0m\u001b[1;32m     78\u001b[0m \u001b[0;34m\u001b[0m\u001b[0m\n\u001b[1;32m     79\u001b[0m     \u001b[0mcheck_consistent_length\u001b[0m\u001b[0;34m(\u001b[0m\u001b[0my_true\u001b[0m\u001b[0;34m,\u001b[0m \u001b[0my_score\u001b[0m\u001b[0;34m,\u001b[0m \u001b[0msample_weight\u001b[0m\u001b[0;34m)\u001b[0m\u001b[0;34m\u001b[0m\u001b[0;34m\u001b[0m\u001b[0m\n",
      "\u001b[0;32m/usr/local/lib/python3.6/dist-packages/sklearn/metrics/_ranking.py\u001b[0m in \u001b[0;36m_binary_uninterpolated_average_precision\u001b[0;34m(y_true, y_score, pos_label, sample_weight)\u001b[0m\n\u001b[1;32m    194\u001b[0m             y_true, y_score, pos_label=1, sample_weight=None):\n\u001b[1;32m    195\u001b[0m         precision, recall, _ = precision_recall_curve(\n\u001b[0;32m--> 196\u001b[0;31m             y_true, y_score, pos_label=pos_label, sample_weight=sample_weight)\n\u001b[0m\u001b[1;32m    197\u001b[0m         \u001b[0;31m# Return the step function integral\u001b[0m\u001b[0;34m\u001b[0m\u001b[0;34m\u001b[0m\u001b[0;34m\u001b[0m\u001b[0m\n\u001b[1;32m    198\u001b[0m         \u001b[0;31m# The following works because the last entry of precision is\u001b[0m\u001b[0;34m\u001b[0m\u001b[0;34m\u001b[0m\u001b[0;34m\u001b[0m\u001b[0m\n",
      "\u001b[0;32m/usr/local/lib/python3.6/dist-packages/sklearn/metrics/_ranking.py\u001b[0m in \u001b[0;36mprecision_recall_curve\u001b[0;34m(y_true, probas_pred, pos_label, sample_weight)\u001b[0m\n\u001b[1;32m    671\u001b[0m     fps, tps, thresholds = _binary_clf_curve(y_true, probas_pred,\n\u001b[1;32m    672\u001b[0m                                              \u001b[0mpos_label\u001b[0m\u001b[0;34m=\u001b[0m\u001b[0mpos_label\u001b[0m\u001b[0;34m,\u001b[0m\u001b[0;34m\u001b[0m\u001b[0;34m\u001b[0m\u001b[0m\n\u001b[0;32m--> 673\u001b[0;31m                                              sample_weight=sample_weight)\n\u001b[0m\u001b[1;32m    674\u001b[0m \u001b[0;34m\u001b[0m\u001b[0m\n\u001b[1;32m    675\u001b[0m     \u001b[0mprecision\u001b[0m \u001b[0;34m=\u001b[0m \u001b[0mtps\u001b[0m \u001b[0;34m/\u001b[0m \u001b[0;34m(\u001b[0m\u001b[0mtps\u001b[0m \u001b[0;34m+\u001b[0m \u001b[0mfps\u001b[0m\u001b[0;34m)\u001b[0m\u001b[0;34m\u001b[0m\u001b[0;34m\u001b[0m\u001b[0m\n",
      "\u001b[0;32m/usr/local/lib/python3.6/dist-packages/sklearn/metrics/_ranking.py\u001b[0m in \u001b[0;36m_binary_clf_curve\u001b[0;34m(y_true, y_score, pos_label, sample_weight)\u001b[0m\n\u001b[1;32m    540\u001b[0m     \u001b[0my_score\u001b[0m \u001b[0;34m=\u001b[0m \u001b[0mcolumn_or_1d\u001b[0m\u001b[0;34m(\u001b[0m\u001b[0my_score\u001b[0m\u001b[0;34m)\u001b[0m\u001b[0;34m\u001b[0m\u001b[0;34m\u001b[0m\u001b[0m\n\u001b[1;32m    541\u001b[0m     \u001b[0massert_all_finite\u001b[0m\u001b[0;34m(\u001b[0m\u001b[0my_true\u001b[0m\u001b[0;34m)\u001b[0m\u001b[0;34m\u001b[0m\u001b[0;34m\u001b[0m\u001b[0m\n\u001b[0;32m--> 542\u001b[0;31m     \u001b[0massert_all_finite\u001b[0m\u001b[0;34m(\u001b[0m\u001b[0my_score\u001b[0m\u001b[0;34m)\u001b[0m\u001b[0;34m\u001b[0m\u001b[0;34m\u001b[0m\u001b[0m\n\u001b[0m\u001b[1;32m    543\u001b[0m \u001b[0;34m\u001b[0m\u001b[0m\n\u001b[1;32m    544\u001b[0m     \u001b[0;32mif\u001b[0m \u001b[0msample_weight\u001b[0m \u001b[0;32mis\u001b[0m \u001b[0;32mnot\u001b[0m \u001b[0;32mNone\u001b[0m\u001b[0;34m:\u001b[0m\u001b[0;34m\u001b[0m\u001b[0;34m\u001b[0m\u001b[0m\n",
      "\u001b[0;32m/usr/local/lib/python3.6/dist-packages/sklearn/utils/validation.py\u001b[0m in \u001b[0;36massert_all_finite\u001b[0;34m(X, allow_nan)\u001b[0m\n\u001b[1;32m     75\u001b[0m     \u001b[0mallow_nan\u001b[0m \u001b[0;34m:\u001b[0m \u001b[0mbool\u001b[0m\u001b[0;34m\u001b[0m\u001b[0;34m\u001b[0m\u001b[0m\n\u001b[1;32m     76\u001b[0m     \"\"\"\n\u001b[0;32m---> 77\u001b[0;31m     \u001b[0m_assert_all_finite\u001b[0m\u001b[0;34m(\u001b[0m\u001b[0mX\u001b[0m\u001b[0;34m.\u001b[0m\u001b[0mdata\u001b[0m \u001b[0;32mif\u001b[0m \u001b[0msp\u001b[0m\u001b[0;34m.\u001b[0m\u001b[0missparse\u001b[0m\u001b[0;34m(\u001b[0m\u001b[0mX\u001b[0m\u001b[0;34m)\u001b[0m \u001b[0;32melse\u001b[0m \u001b[0mX\u001b[0m\u001b[0;34m,\u001b[0m \u001b[0mallow_nan\u001b[0m\u001b[0;34m)\u001b[0m\u001b[0;34m\u001b[0m\u001b[0;34m\u001b[0m\u001b[0m\n\u001b[0m\u001b[1;32m     78\u001b[0m \u001b[0;34m\u001b[0m\u001b[0m\n\u001b[1;32m     79\u001b[0m \u001b[0;34m\u001b[0m\u001b[0m\n",
      "\u001b[0;32m/usr/local/lib/python3.6/dist-packages/sklearn/utils/validation.py\u001b[0m in \u001b[0;36m_assert_all_finite\u001b[0;34m(X, allow_nan, msg_dtype)\u001b[0m\n\u001b[1;32m     58\u001b[0m                     \u001b[0mmsg_err\u001b[0m\u001b[0;34m.\u001b[0m\u001b[0mformat\u001b[0m\u001b[0;34m\u001b[0m\u001b[0;34m\u001b[0m\u001b[0m\n\u001b[1;32m     59\u001b[0m                     (type_err,\n\u001b[0;32m---> 60\u001b[0;31m                      msg_dtype if msg_dtype is not None else X.dtype)\n\u001b[0m\u001b[1;32m     61\u001b[0m             )\n\u001b[1;32m     62\u001b[0m     \u001b[0;31m# for object dtype data, we only check for NaNs (GH-13254)\u001b[0m\u001b[0;34m\u001b[0m\u001b[0;34m\u001b[0m\u001b[0;34m\u001b[0m\u001b[0m\n",
      "\u001b[0;31mValueError\u001b[0m: Input contains NaN, infinity or a value too large for dtype('float64')."
     ]
    }
   ],
   "source": [
    "from sklearn.decomposition import PCA\n",
    "\n",
    "print('PCA')\n",
    "\n",
    "f_norm, _ = normIt(feat)\n",
    "\n",
    "pca = PCA(n_components=pp.shape[1])\n",
    "f_pca = pca.fit_transform(f_norm)\n",
    "\n",
    "\n",
    "\n",
    "lModel.fit(f_pca[ind], gt_use[ind])\n",
    "label = lModel.predict(f_pca)\n",
    "score = np.max(lModel.predict_proba(f_pca), axis=1)\n",
    "\n",
    "print('Precision:', np.sum(label==gt_use)/label.size)\n",
    "print('map:', average_precision_score(label==gt_use, score))"
   ]
  },
  {
   "cell_type": "code",
   "execution_count": null,
   "metadata": {},
   "outputs": [],
   "source": [
    "print('Naive')\n",
    "\n",
    "\n",
    "\n",
    "lModel.fit(f_norm[ind], gt_use[ind])\n",
    "label = lModel.predict(f_norm)\n",
    "score = np.max(lModel.predict_proba(f_norm), axis=1)\n",
    "\n",
    "\n",
    "print('Precision:', np.sum(label==gt_use)/label.size)\n",
    "print('map:', average_precision_score(label==gt_use, score))"
   ]
  },
  {
   "cell_type": "code",
   "execution_count": null,
   "metadata": {},
   "outputs": [],
   "source": [
    "print('UMAP')\n",
    "\n",
    "lModel.fit(fUmap[ind], gt_use[ind])\n",
    "label = lModel.predict(fUmap)\n",
    "score = np.max(lModel.predict_proba(fUmap), axis=1)\n",
    "\n",
    "print('Precision:', np.sum(label==gt_use)/label.size)\n",
    "print('map:', average_precision_score(label==gt_use, score))"
   ]
  },
  {
   "cell_type": "markdown",
   "metadata": {},
   "source": [
    "## Test Feature Goodness"
   ]
  },
  {
   "cell_type": "code",
   "execution_count": 86,
   "metadata": {},
   "outputs": [
    {
     "name": "stdout",
     "output_type": "stream",
     "text": [
      "average error of  79.685385 from 500 nearest neighbors\n",
      "num dimenions: 180\n"
     ]
    }
   ],
   "source": [
    "from sklearn.metrics import pairwise_distances\n",
    "\n",
    "def test_feat(feat, labels, nBest= 1000):\n",
    "    num_feat = feat.shape[0]\n",
    "    d = pairwise_distances(feat)\n",
    "    ind = np.argsort(d, axis =1)\n",
    "    \n",
    "    err = np.zeros(num_feat)\n",
    "    \n",
    "    for i in range(num_feat):\n",
    "        l = labels[ind[i,:nBest+1]]      \n",
    "        err[i] = nBest - (sum((l-l[0]) == 0))+1\n",
    "                          \n",
    "    return err\n",
    "\n",
    "\n",
    "\n",
    "nBest = 500\n",
    "\n",
    "err = test_feat(pp_s2[1::2], gt[1::2], nBest=nBest)\n",
    "print('average error of  %f from %d nearest neighbors'  %(np.mean(err), nBest))\n",
    "\n",
    "print('num dimenions:', pp_s2.shape[1])\n",
    "\n"
   ]
  },
  {
   "cell_type": "code",
   "execution_count": 16,
   "metadata": {},
   "outputs": [
    {
     "name": "stdout",
     "output_type": "stream",
     "text": [
      "average error of  101.280308 from 500 nearest neighbors\n",
      "num dimenions: 182\n"
     ]
    }
   ],
   "source": [
    "\n",
    "\n",
    "\n",
    "err = test_feat(pp_s[1::2], gtAll[1::2], nBest=nBest)\n",
    "print('average error of  %f from %d nearest neighbors'  %(np.mean(err), nBest))\n",
    "\n",
    "print('num dimenions:', pp.shape[1])\n",
    "\n"
   ]
  },
  {
   "cell_type": "code",
   "execution_count": 17,
   "metadata": {},
   "outputs": [
    {
     "name": "stdout",
     "output_type": "stream",
     "text": [
      "average error of  143.533077 from 500 nearest neighbors\n",
      "num dimenions: 182\n"
     ]
    }
   ],
   "source": [
    "\n",
    "f_norm, m_ = normIt(feat)\n",
    "\n",
    "pca = PCA(pp_s.shape[1])\n",
    "pca.fit(f_norm[::2])\n",
    "f_pca = pca.transform(f_norm)\n",
    "\n",
    "err = test_feat(f_pca[1::2], gt[1::2], nBest=nBest)\n",
    "print('average error of  %f from %d nearest neighbors'  %(np.mean(err), nBest))\n",
    "\n",
    "print('num dimenions:', f_pca.shape[1])\n",
    "\n",
    "\n"
   ]
  },
  {
   "cell_type": "code",
   "execution_count": 18,
   "metadata": {},
   "outputs": [
    {
     "name": "stdout",
     "output_type": "stream",
     "text": [
      "average error of  145.932462 from 500 nearest neighbors\n",
      "num dimenions: 2048\n"
     ]
    }
   ],
   "source": [
    "f_norm, m_ = normIt(feat)\n",
    "\n",
    "\n",
    "err = test_feat(f_norm[1::2], gtAll[1::2], nBest=nBest)\n",
    "print('average error of  %f from %d nearest neighbors'  %(np.mean(err), nBest))\n",
    "\n",
    "print('num dimenions:', f_norm.shape[1])\n"
   ]
  },
  {
   "cell_type": "code",
   "execution_count": 23,
   "metadata": {},
   "outputs": [],
   "source": [
    "from sklearn.neighbors import NearestNeighbors\n",
    "#distances, indices = nbrs.kneighbors(f_norm)"
   ]
  },
  {
   "cell_type": "code",
   "execution_count": 89,
   "metadata": {},
   "outputs": [
    {
     "name": "stdout",
     "output_type": "stream",
     "text": [
      "893\n"
     ]
    }
   ],
   "source": [
    "i = 0\n",
    "nbrs = NearestNeighbors(n_neighbors=1000, algorithm='ball_tree').fit(pp_s2)\n",
    "distances, indices = nbrs.kneighbors(pp_s2[i:i+1,:])\n",
    "print(np.sum(indices<1300))"
   ]
  },
  {
   "cell_type": "code",
   "execution_count": 90,
   "metadata": {},
   "outputs": [
    {
     "name": "stdout",
     "output_type": "stream",
     "text": [
      "493\n"
     ]
    }
   ],
   "source": [
    "nbrs = NearestNeighbors(n_neighbors=1000, algorithm='ball_tree').fit(f_norm)\n",
    "distances, indices = nbrs.kneighbors(f_norm[i:i+1,:])\n",
    "print(np.sum(indices<1300))"
   ]
  }
 ],
 "metadata": {
  "kernelspec": {
   "display_name": "Python 3",
   "language": "python",
   "name": "python3"
  },
  "language_info": {
   "codemirror_mode": {
    "name": "ipython",
    "version": 3
   },
   "file_extension": ".py",
   "mimetype": "text/x-python",
   "name": "python",
   "nbconvert_exporter": "python",
   "pygments_lexer": "ipython3",
   "version": "3.6.9"
  }
 },
 "nbformat": 4,
 "nbformat_minor": 4
}
