{
 "cells": [
  {
   "cell_type": "code",
   "execution_count": 1,
   "metadata": {},
   "outputs": [],
   "source": [
    "import numpy as np\n",
    "import tensorflow as tf\n",
    "import matplotlib.pyplot as plt\n",
    "import random\n",
    "import copy\n"
   ]
  },
  {
   "cell_type": "code",
   "execution_count": 2,
   "metadata": {},
   "outputs": [],
   "source": [
    "from sklearn.metrics import roc_auc_score\n",
    "\n",
    "allFeat = np.load('/tf/notebooks/STL-10/danielFeat.npy')\n",
    "gtAll = np.load('/tf/notebooks/STL-10/danielGt.npy')\n",
    "\n",
    "# allFeat = np.load('/tf/notebooks/clusteringTree/stl_feat/feats_2048.npy')\n",
    "# gtAll = np.load('/tf/notebooks/clusteringTree/stl_feat/labels_2048.npy')-1\n",
    "\n",
    "\n",
    "\n",
    "#m = np.load('/tf/notebooks/Flickr11K/resNet50Mean.npy')\n"
   ]
  },
  {
   "cell_type": "code",
   "execution_count": 3,
   "metadata": {},
   "outputs": [],
   "source": [
    "from sklearn.svm import OneClassSVM\n",
    "\n",
    "allFeat = allFeat/np.linalg.norm(allFeat, axis =1, keepdims=True)\n",
    "\n",
    "numClass = max(gtAll)+1\n",
    "allMeans = np.zeros([numClass, allFeat.shape[1]])\n",
    "for i in range(numClass):\n",
    "    allMeans[i,:] = np.mean(allFeat[gtAll==i], axis =0)"
   ]
  },
  {
   "cell_type": "code",
   "execution_count": 4,
   "metadata": {},
   "outputs": [],
   "source": [
    "def trainTestSplit(allFeat, allGt, target, numSamples=300):\n",
    "    mask = np.where(allGt ==target)[0]\n",
    "    trainInd = random.sample(list(mask), numSamples)    \n",
    "    trainFeat = np.copy(allFeat[trainInd])\n",
    "    testFeat = allFeat.copy()\n",
    "    testFeat = np.delete(testFeat, trainInd, axis =0)\n",
    "    testGt = allGt.copy()\n",
    "    testGt = np.delete(testGt, trainInd, axis =0)\n",
    "    return trainFeat, testFeat, testGt\n",
    "\n",
    "target = 3\n",
    "train, test, testGt = trainTestSplit(allFeat, gtAll, target)"
   ]
  },
  {
   "cell_type": "code",
   "execution_count": 5,
   "metadata": {},
   "outputs": [],
   "source": [
    "def sorted_neighbors_of_i(m_all, i):\n",
    "    neighbors = np.zeros(m_all.shape[0])\n",
    "    for j in range(m_all.shape[0]):\n",
    "        neighbors[j] = np.linalg.norm(m_all[i,:]-m_all[j,:])\n",
    "    return neighbors, np.argsort(neighbors)\n",
    "   \n",
    "    \n",
    "\n",
    "def stacked_classifer(train_feat, target, m_all):\n",
    "    _, neighs = sorted_neighbors_of_i(m_all, target)\n",
    "    classifers = []\n",
    "    current_shell = []\n",
    "    for i in neighs:\n",
    "        current_shell.append(i)\n",
    "        if len(current_shell)> 1:\n",
    "            m1 = np.mean(m_all[current_shell,:], axis =0, keepdims=True)\n",
    "            tf = train_feat-m1\n",
    "            tf = tf/np.linalg.norm(tf, axis =1, keepdims=True)\n",
    "            clf1 = OneClassSVM(gamma='auto').fit(tf)\n",
    "            classifers.append({'mean': m1, 'classifer': clf1})\n",
    "    return classifers\n",
    "\n",
    "\n",
    "m_ex = np.concatenate([np.zeros([1, allMeans.shape[1]]), allMeans])\n",
    "classifers = stacked_classifer(train, target+1, m_ex)"
   ]
  },
  {
   "cell_type": "code",
   "execution_count": 6,
   "metadata": {},
   "outputs": [],
   "source": [
    "def score_samples(classifers, test_feat):\n",
    "    score = np.zeros([test_feat.shape[0], len(classifers)])\n",
    "    for i in range(len(classifers)):\n",
    "        m = classifers[i]['mean']\n",
    "        tsf = test_feat-m\n",
    "        tsf = tsf/np.linalg.norm(tsf, keepdims=True, axis =1)\n",
    "        s = classifers[i]['classifer'].score_samples(tsf)   \n",
    "        score[:,i] = s\n",
    "    return score\n",
    "\n",
    "\n",
    "s = score_samples(classifers, test)\n",
    "s = np.mean(s, axis =1)\n"
   ]
  },
  {
   "cell_type": "code",
   "execution_count": 22,
   "metadata": {},
   "outputs": [],
   "source": [
    "trueMask = testGt==target\n",
    "numInliers = int(sum(trueMask))"
   ]
  },
  {
   "cell_type": "code",
   "execution_count": 64,
   "metadata": {},
   "outputs": [
    {
     "name": "stdout",
     "output_type": "stream",
     "text": [
      "ours\n",
      "roc: 0.9957605128205128\n",
      "mean: 0.9853543307086614\n",
      "Top 100 accuracy: 1.0\n",
      "Top 500 accuracy: 0.998\n",
      "Top 800 accuracy: 0.9825\n",
      "Top 1000 accuracy: 0.907\n"
     ]
    }
   ],
   "source": [
    "print('ours')\n",
    "print('roc:', roc_auc_score(trueMask, s))\n",
    "\n",
    "ind = np.argsort(-s)\n",
    "estMask = np.zeros(trueMask.size, dtype=bool)\n",
    "estMask[ind[:numInliers]] = True\n",
    "\n",
    "print('mean:', np.mean(estMask==trueMask))\n",
    "thres = 100\n",
    "print('Top', thres, 'accuracy:',  np.mean(trueMask[ind[:thres]]))\n",
    "thres = 500\n",
    "print('Top', thres, 'accuracy:',  np.mean(trueMask[ind[:thres]]))\n",
    "thres = 800\n",
    "print('Top', thres, 'accuracy:',  np.mean(trueMask[ind[:thres]]))\n",
    "thres = numInliers\n",
    "print('Top', thres, 'accuracy:',  np.mean(trueMask[ind[:thres]]))"
   ]
  },
  {
   "cell_type": "code",
   "execution_count": 65,
   "metadata": {},
   "outputs": [
    {
     "name": "stdout",
     "output_type": "stream",
     "text": [
      "trad\n",
      "roc: 0.9643178632478633\n",
      "mean: 0.9604724409448819\n",
      "Top 100 accuracy: 1.0\n",
      "Top 500 accuracy: 0.958\n",
      "Top 800 accuracy: 0.84625\n",
      "Top 1000 accuracy: 0.749\n"
     ]
    }
   ],
   "source": [
    "print('trad')\n",
    "\n",
    "clf = OneClassSVM().fit(train)\n",
    "oc_score = clf.score_samples(test)\n",
    "print('roc:', roc_auc_score(testGt==target, oc_score))\n",
    "\n",
    "\n",
    "\n",
    "ind = np.argsort(-oc_score)\n",
    "estMask = np.zeros(trueMask.size, dtype=bool)\n",
    "estMask[ind[:numInliers]] = True\n",
    "\n",
    "print('mean:', np.mean(estMask==trueMask))\n",
    "thres = 100\n",
    "print('Top', thres, 'accuracy:',  np.mean(trueMask[ind[:thres]]))\n",
    "thres = 500\n",
    "print('Top', thres, 'accuracy:',  np.mean(trueMask[ind[:thres]]))\n",
    "thres = 800\n",
    "print('Top', thres, 'accuracy:',  np.mean(trueMask[ind[:thres]]))\n",
    "thres = numInliers\n",
    "print('Top', thres, 'accuracy:',  np.mean(trueMask[ind[:thres]]))"
   ]
  },
  {
   "cell_type": "code",
   "execution_count": 49,
   "metadata": {},
   "outputs": [
    {
     "name": "stdout",
     "output_type": "stream",
     "text": [
      "trad with mean\n",
      "roc:  0.9920927350427351\n",
      "mean: 0.9801574803149606\n"
     ]
    }
   ],
   "source": [
    "from clusteringX2 import normIt\n",
    "\n",
    "print('trad with mean')\n",
    "\n",
    "test_ , m = normIt(test)\n",
    "train_, _ = normIt(train, m)\n",
    "\n",
    "clf = OneClassSVM().fit(train_)\n",
    "oc_score = clf.score_samples(test_)\n",
    "print('roc: ', roc_auc_score(testGt==target, oc_score))\n",
    "\n",
    "\n",
    "ind = np.argsort(-oc_score)\n",
    "estMask = np.zeros(trueMask.size, dtype=bool)\n",
    "estMask[ind[:numInliers]] = True\n",
    "\n",
    "print('mean:', np.mean(estMask==trueMask))"
   ]
  },
  {
   "cell_type": "code",
   "execution_count": 10,
   "metadata": {},
   "outputs": [
    {
     "ename": "NameError",
     "evalue": "name 'donk' is not defined",
     "output_type": "error",
     "traceback": [
      "\u001b[0;31m---------------------------------------------------------------------------\u001b[0m",
      "\u001b[0;31mNameError\u001b[0m                                 Traceback (most recent call last)",
      "\u001b[0;32m<ipython-input-10-cfd52543731e>\u001b[0m in \u001b[0;36m<module>\u001b[0;34m\u001b[0m\n\u001b[0;32m----> 1\u001b[0;31m \u001b[0mk\u001b[0m \u001b[0;34m=\u001b[0m \u001b[0mdonk\u001b[0m\u001b[0;34m\u001b[0m\u001b[0;34m\u001b[0m\u001b[0m\n\u001b[0m",
      "\u001b[0;31mNameError\u001b[0m: name 'donk' is not defined"
     ]
    }
   ],
   "source": [
    "k = donk"
   ]
  }
 ],
 "metadata": {
  "kernelspec": {
   "display_name": "Python 3",
   "language": "python",
   "name": "python3"
  },
  "language_info": {
   "codemirror_mode": {
    "name": "ipython",
    "version": 3
   },
   "file_extension": ".py",
   "mimetype": "text/x-python",
   "name": "python",
   "nbconvert_exporter": "python",
   "pygments_lexer": "ipython3",
   "version": "3.6.9"
  }
 },
 "nbformat": 4,
 "nbformat_minor": 4
}
