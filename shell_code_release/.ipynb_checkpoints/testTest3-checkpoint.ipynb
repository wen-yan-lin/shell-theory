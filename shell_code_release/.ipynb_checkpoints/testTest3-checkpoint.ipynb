{
 "cells": [
  {
   "cell_type": "code",
   "execution_count": 1,
   "metadata": {},
   "outputs": [],
   "source": [
    "import numpy as np\n",
    "import tensorflow as tf\n",
    "import matplotlib.pyplot as plt\n",
    "import random\n",
    "import copy\n",
    "\n",
    "#allFeat = np.load('/tf/notebooks/clusteringTree/stl_feat/feats_2048.npy')\n",
    "#gtAll = np.load('/tf/notebooks/clusteringTree/stl_feat/labels_2048.npy')-1|\n",
    "\n",
    "# allFeat = np.load('/tf/notebooks/STL-10/danielFeat.npy')\n",
    "# gtAll = np.load('/tf/notebooks/STL-10/danielGt.npy')\n"
   ]
  },
  {
   "cell_type": "code",
   "execution_count": 2,
   "metadata": {},
   "outputs": [],
   "source": [
    "%load_ext autoreload\n",
    "%autoreload\n",
    "\n",
    "from sklearn.cluster import KMeans\n",
    "from clusteringX2 import normIt\n",
    "from clusteringX2 import clusterModel\n",
    "from clusteringX2 import train_step3\n",
    "from clusteringX2 import train_step4\n",
    "\n",
    "\n",
    "def clustering(feat, numClass=60, thres=0.1, iter_=1000):\n",
    "    \n",
    "    denom = 0.1\n",
    "    #feat, m = normIt(feat)\n",
    "    m = np.zeros(feat.shape[1])\n",
    "    \n",
    "    # initilization\n",
    "    kmeans = KMeans(n_clusters=numClass, random_state=0).fit(feat)\n",
    "    labelK = kmeans.predict(feat)\n",
    "    means =np.zeros([numClass, feat.shape[1]])\n",
    "\n",
    "    for i in range(numClass):\n",
    "        mask = labelK == i\n",
    "        means[i,:] = np.mean(feat[mask,:], axis =0)\n",
    "\n",
    "    sigInit = np.zeros([numClass])\n",
    "    for i in range(numClass):\n",
    "        mask = np.logical_not(labelK == i)\n",
    "        sigInit[i] = np.mean(np.matmul(feat[mask,:], np.transpose(means[i,:])))\n",
    "    model = clusterModel(means.transpose(), sigInit)\n",
    "    train_step4(model, feat.astype(\"float32\"), iter=iter_, denom=denom)\n",
    "    \n",
    "    \n",
    "    \n",
    "    c = model(feat.astype(\"float32\"))\n",
    "    s = np.max(c, axis=1)\n",
    "    t = np.mean(s)\n",
    "    mask = s > t*0.5\n",
    "    \n",
    "    \n",
    "    train_step4(model, feat[mask,:].astype(\"float32\"), iter=iter_, denom=denom)\n",
    "    \n",
    "    \n",
    "    c = model(feat.astype(\"float32\"))\n",
    "    s = np.max(c, axis=1)\n",
    "    t = np.mean(s)\n",
    "    mask = s > t*0.5\n",
    "    train_step4(model, feat[mask,:].astype(\"float32\"), iter=iter_, denom=denom)\n",
    "\n",
    " \n",
    "    c = model(feat.astype(\"float32\"))\n",
    "    labels = np.argmax(c, axis =1)\n",
    "    mask_ = np.zeros(numClass, dtype=bool)\n",
    "        \n",
    "    for i in range(numClass):\n",
    "        if np.sum(labels==i)>0:\n",
    "            mask_[i] = 1\n",
    "    w = model.w.numpy()\n",
    "    sig = model.sig.numpy()\n",
    "    w = w[:,mask_]\n",
    "    sig = sig[mask_]\n",
    "            \n",
    "\n",
    "    return w, sig, m, mask\n",
    "\n"
   ]
  },
  {
   "cell_type": "code",
   "execution_count": 3,
   "metadata": {},
   "outputs": [],
   "source": [
    "class Node:\n",
    "    def __init__(self, mask=None, w=None, sig=None, m=None):\n",
    "        self.mask = mask\n",
    "        self.w = w\n",
    "        self.sig = sig\n",
    "        self.m = m\n",
    "        self.listOfChildren = []\n",
    "            \n",
    "class Layer:\n",
    "    def __init__(self):\n",
    "        self.nodeList = []\n",
    "        \n",
    "class Tree:\n",
    "    def __init__(self):\n",
    "        self.numLayers = 0\n",
    "        self.listOfLayers = []\n",
    "        self.numNodes = 0\n",
    "        self.listOfNodes = []\n",
    "        \n",
    "    def addNode(self, c):\n",
    "        self.listOfNodes.append(c)\n",
    "        self.numNodes = self.numNodes + 1\n",
    "        \n",
    "    def addLayer(self, c):\n",
    "        self.listOfLayers.append(c)\n",
    "        self.numLayers = self.numLayers + 1\n",
    "\n",
    "    \n",
    "def startTree(allFeat, numClass=60):\n",
    "    tree = Tree()    \n",
    "    w, sig, m, inMask = clustering(allFeat, numClass)\n",
    "    mask = np.ones(allFeat.shape[0], dtype=bool)\n",
    "    #mask[np.logical_not(inMask)] = 0\n",
    "    n = Node(mask, w, sig, m)\n",
    "\n",
    "    tree.addNode(n)\n",
    "    newLayer = Layer()\n",
    "    newLayer.nodeList.append(tree.numNodes-1)\n",
    "    tree.addLayer(newLayer)\n",
    "    \n",
    "    return tree\n",
    "#allFeat = allFeat/np.linalg.norm(allFeat, axis=1, keepdims=True)\n",
    "\n",
    "\n"
   ]
  },
  {
   "cell_type": "code",
   "execution_count": 4,
   "metadata": {},
   "outputs": [],
   "source": [
    "  \n",
    "    \n",
    "def dataProjection(feat, node):\n",
    "    x, _ = normIt(feat, node.m) \n",
    "    s = np.linalg.norm(node.w, axis =0, keepdims=True)\n",
    "    return (np.matmul(x, node.w) - node.sig), s\n",
    "\n",
    "\n",
    "def extendTree(tree, allFeat, numClass=2, clusteringThreshold=100):\n",
    "    newLayer = Layer()\n",
    "    lastLayer = tree.listOfLayers[-1]\n",
    "    for nodeIndex in lastLayer.nodeList:\n",
    "        node = tree.listOfNodes[nodeIndex]\n",
    "        curFeat = allFeat[node.mask,:]\n",
    "        score, _ = dataProjection(curFeat, node)\n",
    "        \n",
    "        clusterInd = np.argmax(score, axis =1)\n",
    "        curInd = np.where(node.mask)[0]\n",
    "\n",
    "        #########################################\n",
    "        #_, m_sub = normIt(curFeat)\n",
    "        #########################################\n",
    "        \n",
    "        for i in range(score.shape[1]):\n",
    "            subMask = clusterInd == i\n",
    "            if sum(subMask) > clusteringThreshold:\n",
    "                \n",
    "                newMask =  np.zeros(allFeat.shape[0], dtype=bool)\n",
    "                newMask[curInd[subMask]] = 1\n",
    "                \n",
    "                \n",
    "                #########################################\n",
    "                #nF, m_sub = normIt(allFeat[newMask,:])\n",
    "                #########################################\n",
    "\n",
    "                #nF, m_sub = normIt(allFeat[newMask,:], m_sub)\n",
    "                nF = allFeat[newMask,:]\n",
    "                w, sig, m_sub, inMask = clustering(nF, numClass)\n",
    "\n",
    "                print(w.shape, sum(newMask))\n",
    "                if w.shape[1]>=2:\n",
    "                    n = Node(newMask, w, sig, m_sub)\n",
    "                    tree.addNode(n)\n",
    "                    newLayer.nodeList.append(tree.numNodes-1)\n",
    "                    node.listOfChildren.append(tree.numNodes-1)\n",
    "                else:\n",
    "                    node.listOfChildren.append(-1)\n",
    "            else:\n",
    "                node.listOfChildren.append(-1)\n",
    "    tree.addLayer(newLayer)\n",
    "\n"
   ]
  },
  {
   "cell_type": "code",
   "execution_count": 5,
   "metadata": {},
   "outputs": [],
   "source": [
    "def label2oneHot(labels):\n",
    "    b = np.zeros((labels.size, labels.max()+1), dtype=bool)\n",
    "    b[np.arange(labels.size),labels] = 1\n",
    "    return b\n",
    "\n",
    "\n",
    "\n",
    "def projectXX(feat, tree, maxClus=60, unit_vector=False, scale2data=False, verboise=True):\n",
    "    projectionSpace = np.zeros([feat.shape[0], tree.numNodes*maxClus])\n",
    "    maskAll = np.zeros([feat.shape[0], tree.numNodes*maxClus])\n",
    "\n",
    "    cur = 0    \n",
    "    for i, l in enumerate(tree.listOfLayers):\n",
    "        for nIndex in l.nodeList:\n",
    "            n = tree.listOfNodes[nIndex]\n",
    "            f, s = dataProjection(feat, n)\n",
    "            numDim = f.shape[1]\n",
    "            lab = np.argmax(f, axis =1)\n",
    "            maskAll[:,cur:cur+numDim] = label2oneHot(lab)\n",
    "            projectionSpace[:,cur:cur+numDim] = f\n",
    "            cur = cur + numDim\n",
    "    projectionSpace = projectionSpace[:,:cur]\n",
    "    maskAll = maskAll[:,:cur]\n",
    "    \n",
    "    return projectionSpace, maskAll\n",
    "\n",
    "        \n",
    "    \n",
    "    \n"
   ]
  },
  {
   "cell_type": "code",
   "execution_count": 6,
   "metadata": {},
   "outputs": [],
   "source": [
    "def mask2path(mask, tree):\n",
    "    pathNode = -1*np.ones([mask.shape[0], len(tree.listOfLayers)+1], dtype=int)\n",
    "    pathNode[:,0] = 0\n",
    "    \n",
    "    pathDim = -1*np.ones([mask.shape[0], len(tree.listOfLayers)+1], dtype=int)\n",
    "\n",
    "    \n",
    "    cur = 0\n",
    "    for i, l in enumerate(tree.listOfLayers):\n",
    "        print('layer:',i)\n",
    "        \n",
    "        for nIndex in l.nodeList:           \n",
    "            \n",
    "            n = tree.listOfNodes[nIndex]\n",
    "            dim = n.w.shape[1]\n",
    "            \n",
    "            \n",
    "            allCur = pathNode[:,i] == nIndex # in node nIndex\n",
    "            sub_mask = mask[:,cur:cur+dim] # with dimenions\n",
    "            ind = np.argmax(sub_mask)\n",
    "\n",
    "            for k in range(dim):\n",
    "                m = np.logical_and(allCur, sub_mask[:,k])\n",
    "                pathDim[m, i] = cur + k \n",
    "\n",
    "            \n",
    "            \n",
    "            if not n.listOfChildren:\n",
    "                cur = cur + dim\n",
    "                continue\n",
    "\n",
    "                        \n",
    "            \n",
    "            for k in range(dim):\n",
    "                m = np.logical_and(allCur, sub_mask[:,k])\n",
    "                pathNode[m, i+1] = n.listOfChildren[k]\n",
    "                \n",
    "                \n",
    "            cur = cur + dim\n",
    "            \n",
    "            \n",
    "    return pathNode, pathDim\n",
    "\n"
   ]
  },
  {
   "cell_type": "code",
   "execution_count": 7,
   "metadata": {},
   "outputs": [],
   "source": [
    "def classScore(pathDim, ff, dim):\n",
    "    numPts = pathDim.shape[0]\n",
    "    score = np.zeros(pathDim.shape[0])\n",
    "    \n",
    "    for i in range(numPts):\n",
    "        for j in range(dim+1):\n",
    "            if pathDim[i,j]>=0:\n",
    "                score[i] = score[i] + ff[i, pathDim[i,j]]\n",
    "    return score\n",
    "\n"
   ]
  },
  {
   "cell_type": "code",
   "execution_count": 8,
   "metadata": {},
   "outputs": [],
   "source": [
    "\n",
    "allFeat = np.load('/tf/notebooks/STL-10/danielFeat.npy')\n",
    "gtAll = np.load('/tf/notebooks/STL-10/danielGt.npy')\n",
    "    \n",
    "allFeat, _ = normIt(allFeat)\n",
    "mask = np.logical_or(gtAll==3, gtAll==3)\n",
    "\n",
    "\n",
    "outlier = random.sample(range(5*1300,9*1300),100)\n",
    "\n",
    "\n",
    "feat = allFeat[mask,:]\n",
    "feat = np.concatenate([feat, allFeat[outlier]], axis=0)\n",
    "gt = gtAll[mask]\n",
    "gt = np.concatenate([gt, gtAll[outlier]], axis=0)\n"
   ]
  },
  {
   "cell_type": "code",
   "execution_count": 9,
   "metadata": {},
   "outputs": [
    {
     "name": "stdout",
     "output_type": "stream",
     "text": [
      "(2048, 54) 453\n",
      "(2048, 35) 891\n",
      "(2048, 56) 226\n",
      "(2048, 54) 269\n",
      "(2048, 56) 264\n",
      "layer: 0\n",
      "layer: 1\n",
      "layer: 2\n",
      "layer: 3\n"
     ]
    }
   ],
   "source": [
    "f = feat\n",
    "\n",
    "tree2 = startTree(f, numClass=60)\n",
    "extendTree(tree2, f, numClass=60)\n",
    "extendTree(tree2, f, numClass=60)\n",
    "extendTree(tree2, f, numClass=60)\n",
    "ff2, mask2 = projectXX(feat, tree2)\n",
    "pathNode2, pathDim2 = mask2path(mask2, tree2)\n",
    "s2 = classScore(pathDim2, ff2, 4)"
   ]
  },
  {
   "cell_type": "code",
   "execution_count": 16,
   "metadata": {},
   "outputs": [
    {
     "name": "stdout",
     "output_type": "stream",
     "text": [
      "[ 98.77143797  70.76495539  42.93023649  23.84496664  11.89560001\n",
      "  47.29266199  77.538508    62.03999611  95.79541321 120.97813152\n",
      "  90.11414084  68.39954296  58.70493599  67.9216816   64.17977721\n",
      "  94.26870068  56.24619162  92.18000342  91.615999    34.92141373]\n",
      "[ 0.         26.9037251   0.          0.          0.         19.698893\n",
      " 15.57159162 23.83587917 13.76223696 66.44091355 39.7010902   0.\n",
      "  0.          0.         65.00859677  0.          0.         22.8146716\n",
      " 18.32862085  0.        ]\n"
     ]
    }
   ],
   "source": [
    "def classScore2(pathDim, ff, dim, numPerClass, thres = 100):\n",
    "    numPts = pathDim.shape[0]\n",
    "    score = np.zeros(pathDim.shape[0])\n",
    "    \n",
    "    for i in range(numPts):\n",
    "        for j in range(dim+1):\n",
    "            class_ = pathDim[i,j]\n",
    "            if pathDim[i,j]>=0 and numPerClass[class_]>thres:\n",
    "                score[i] = score[i] + ff[i, class_]\n",
    "    return score\n",
    "\n",
    "def getNumPerClass(pathDim):\n",
    "    numClass = np.max(pathDim)+1\n",
    "    numPerClass = np.zeros(numClass)\n",
    "    \n",
    "    for i in range(numClass):\n",
    "        numPerClass[i] = np.sum(pathDim==i)\n",
    "    return numPerClass\n",
    "                   \n",
    "    \n",
    "\n",
    "\n",
    "numPerClass = getNumPerClass(pathDim2)\n",
    "#print(numPerClass)\n",
    "s2 = classScore2(pathDim2, ff2, 4, numPerClass, thres = 100)\n",
    "print(s2[:20])\n",
    "print(s2[1300:1320])"
   ]
  },
  {
   "cell_type": "code",
   "execution_count": 11,
   "metadata": {},
   "outputs": [
    {
     "name": "stdout",
     "output_type": "stream",
     "text": [
      "[829.97423527 590.09197001 259.71962184 243.7929242  123.59171456\n",
      " 334.48222933 664.48132087 634.30208562 782.21952462 931.70569622\n",
      " 701.99960878 569.58437004 392.24645252 507.74223965 521.67711573\n",
      " 613.60421189 308.81589531 759.99419442 727.54041611 357.03944146]\n",
      "[  0.         275.06592541   0.           0.           0.\n",
      " 201.40312208 159.20524917 243.70001319 140.70625645 489.74205981\n",
      " 405.90725168   0.           0.           0.         502.26836905\n",
      "   0.           0.         233.25910199 187.39334561   0.        ]\n"
     ]
    }
   ],
   "source": [
    "def classScore3(pathDim, ff, dim, numPerClass, scales, thres = 100):\n",
    "    numPts = pathDim.shape[0]\n",
    "    score = np.zeros(pathDim.shape[0])\n",
    "    \n",
    "    for i in range(numPts):\n",
    "        for j in range(dim+1):\n",
    "            class_ = pathDim[i,j]\n",
    "            if pathDim[i,j]>=0 and numPerClass[class_]>thres:\n",
    "                score[i] = score[i] + ff[i, class_]*numPerClass[class_]/scales[class_]\n",
    "    return score\n",
    "\n",
    "def getClassStats(pathDim, ff):\n",
    "    numClass = np.max(pathDim)+1\n",
    "    numPerClass = np.zeros(numClass)\n",
    "    scales  = np.zeros(numClass)\n",
    "\n",
    "    for i in range(numClass):\n",
    "        mask = pathDim==i\n",
    "        numPerClass[i] = np.sum(mask)\n",
    "        if  numPerClass[i] > 0:\n",
    "            axis = np.where(np.sum(mask, axis=0))[0][0]\n",
    "            scales[i] = np.max(ff[mask[:,axis], i])\n",
    "    return numPerClass, scales\n",
    "                   \n",
    "    \n",
    "\n",
    "\n",
    "numPerClass, scales = getClassStats(pathDim2, ff2)\n",
    "s2 = classScore3(pathDim2, ff2, 4, numPerClass, scales, thres = 100)\n",
    "print(s2[:20])\n",
    "print(s2[1300:1320])"
   ]
  },
  {
   "cell_type": "code",
   "execution_count": 17,
   "metadata": {},
   "outputs": [
    {
     "data": {
      "text/plain": [
       "0.8857807692307692"
      ]
     },
     "execution_count": 17,
     "metadata": {},
     "output_type": "execute_result"
    }
   ],
   "source": [
    "from sklearn.metrics import roc_auc_score\n",
    "\n",
    "\n",
    "\n",
    "true = np.zeros(pathDim2.shape[0], dtype=bool)\n",
    "true[:1300] = 1\n",
    "roc_auc_score(true, s2)\n"
   ]
  },
  {
   "cell_type": "code",
   "execution_count": 13,
   "metadata": {},
   "outputs": [
    {
     "data": {
      "text/plain": [
       "<matplotlib.collections.PathCollection at 0x7f1e7b4a4710>"
      ]
     },
     "execution_count": 13,
     "metadata": {},
     "output_type": "execute_result"
    },
    {
     "data": {
      "image/png": "[encoded data removed]",
      "text/plain": [
       "<Figure size 432x288 with 1 Axes>"
      ]
     },
     "metadata": {
      "needs_background": "light"
     },
     "output_type": "display_data"
    }
   ],
   "source": [
    "plt.scatter(ff2[:,0], ff2[:,1])"
   ]
  },
  {
   "cell_type": "code",
   "execution_count": 14,
   "metadata": {},
   "outputs": [
    {
     "name": "stdout",
     "output_type": "stream",
     "text": [
      "[ 6.80538126 26.89183306 18.9508284  10.37517916 43.60087426  9.73357318\n",
      "  5.30419914 87.14717765 19.47080612 22.38292122 20.78877258 22.67160034\n",
      " 25.55330658 21.2544651  21.7441597  20.57608032 26.69939613 20.89549255\n",
      " 22.32575607 22.38248444 24.03093719 28.17502213 28.20942688 20.82039452\n",
      " 23.09200859 19.61773109 24.3710556  25.14570808 21.40227127 21.73389244\n",
      " 23.71707535 23.3166008  21.08972359 22.67561722 23.77331924 19.60368538\n",
      " 17.04771996 21.99575806 17.82532501 24.52061462 22.82095909 73.98930359\n",
      " 22.81389427 22.52166367 20.87413979 23.65107536 23.95221138 21.92272568\n",
      " 20.52042389 19.61187172 24.43204689 21.66908073 22.01948357 22.77773476\n",
      " 19.01027489 21.51705742 19.21516991 20.14669228 23.22450829 21.83948135\n",
      " 19.23366737 24.11893845 15.66481113 30.04675674 15.25818157 47.42458344\n",
      " 26.60707855 15.17195129 15.73815346 16.51137543 16.61511612 15.43137264\n",
      " 25.68220329 22.92314148 16.23075485 21.77125168 19.31270027 16.16362762\n",
      " 59.82356644 15.75782967 16.30364418 20.21417046 21.57352638 16.19236946\n",
      " 16.32428932 14.18012142 17.87446976 16.0488739  16.20763588 27.79629707\n",
      " 66.91059875 17.14668274 16.30995178 20.03031349 15.64801598 16.0223465\n",
      " 17.50971794 26.07373428 25.41299629 41.51068115 24.8682251  26.77231789\n",
      " 27.69142151 29.0014019  24.92515945 29.82053947 30.56412697 32.13578796\n",
      " 31.11935806 28.88342094 23.2759285  27.44111443 27.6684761  28.31312561\n",
      " 26.73833466 31.8236618  24.19394493 26.53120232 28.15056229 26.10851288\n",
      " 29.89752197 27.8402977  26.75902939 26.80603981 28.28845596 26.69573975\n",
      " 28.56897354 28.75036812 25.64989662 26.09436798 25.99787903 27.04821968\n",
      " 25.25506401 26.0652771  28.28563309 24.94106483 25.99392509 26.68449593\n",
      " 25.57732773 27.44501877 26.60704994 27.18006134 26.70827103 27.13074684\n",
      " 27.9384079  26.08205986 27.25430107 26.43470573 26.04924774 28.01412964\n",
      " 26.15810585 26.90904808 24.30000305 24.72774124 24.54551888 30.66232491\n",
      " 23.67287064 25.35548782 22.43201065 25.32836723 24.71461105 27.48262024\n",
      " 24.14707184 24.02048874 24.32045174 28.42369652 24.00592041 27.82682991\n",
      " 25.21749496 23.02108574 25.99919701 24.215065   28.44997406 24.07792854\n",
      " 28.96974564 24.30345535 26.36448288 24.37678146 29.20101357 23.42647552\n",
      " 29.62123871 21.82757568 28.42444992 26.76007462 43.02696609 25.13401222\n",
      " 26.44139862 25.45776367 25.20102501 21.7858696  22.57519341 23.51960754\n",
      " 26.30753899 27.52833366 26.064291   25.41772842 24.56940842 21.75550652\n",
      " 26.26654243 23.00083733 23.54258156 24.35862732 23.53944969 23.0188179\n",
      " 24.16563034 23.00652885 27.07375908 25.38286018 24.26068306 30.25284004\n",
      " 24.50936127 24.35471344 24.77262688 37.00251007 26.46868896 25.56240463\n",
      " 27.41814232 23.60388756 25.44781113 39.0727272  23.04041672 25.79397202\n",
      " 26.59674454 21.58838844 30.45480728 24.89455032 35.52344894 24.40477943\n",
      " 26.82432556 29.07596016 27.90818977 24.28157234 26.50597382 32.24977875\n",
      " 27.26895332 24.61930084 24.42617416 25.25054741 22.96691895 24.92050934\n",
      " 26.34627151 25.87558937 25.19342422 28.64409447 27.41706848 25.88862801\n",
      " 25.13114738 26.91924667 27.13493538 28.11370659 22.87163162 25.48318863\n",
      " 23.41426086 24.04332733 24.90820312 25.8154335  21.49360847 24.02360344\n",
      " 30.85404968 24.10950661 24.13720703 23.17217827 25.89844894]\n"
     ]
    }
   ],
   "source": [
    "print(scales)"
   ]
  },
  {
   "cell_type": "code",
   "execution_count": 15,
   "metadata": {},
   "outputs": [
    {
     "data": {
      "image/png": "[encoded data removed]",
      "text/plain": [
       "<Figure size 432x288 with 1 Axes>"
      ]
     },
     "metadata": {
      "needs_background": "light"
     },
     "output_type": "display_data"
    },
    {
     "data": {
      "image/png": "[encoded data removed]",
      "text/plain": [
       "<Figure size 432x288 with 1 Axes>"
      ]
     },
     "metadata": {
      "needs_background": "light"
     },
     "output_type": "display_data"
    }
   ],
   "source": [
    "def clusterHist(labels, gt):\n",
    "    l = np.unique(labels)\n",
    "    for i in range(l.size):\n",
    "        if l[i]>0:\n",
    "        \n",
    "            mask = labels==l[i]\n",
    "            if sum(mask)>30:\n",
    "                plt.figure(i)\n",
    "                plt.hist(gt[mask], bins=50)\n",
    "clusterHist(pathDim2[:,0], gt)"
   ]
  }
 ],
 "metadata": {
  "kernelspec": {
   "display_name": "Python 3",
   "language": "python",
   "name": "python3"
  },
  "language_info": {
   "codemirror_mode": {
    "name": "ipython",
    "version": 3
   },
   "file_extension": ".py",
   "mimetype": "text/x-python",
   "name": "python",
   "nbconvert_exporter": "python",
   "pygments_lexer": "ipython3",
   "version": "3.6.9"
  }
 },
 "nbformat": 4,
 "nbformat_minor": 4
}
