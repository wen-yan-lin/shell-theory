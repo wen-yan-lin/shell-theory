{
 "cells": [
  {
   "cell_type": "code",
   "execution_count": 1,
   "metadata": {},
   "outputs": [],
   "source": [
    "import numpy as np\n",
    "import tensorflow as tf\n",
    "import matplotlib.pyplot as plt\n",
    "import random\n",
    "import copy\n"
   ]
  },
  {
   "cell_type": "code",
   "execution_count": 24,
   "metadata": {},
   "outputs": [],
   "source": [
    "from sklearn.metrics import roc_auc_score\n",
    "from sklearn.metrics import average_precision_score\n",
    "\n",
    "allFeat = np.load('../STL-10/resNet50.npy')\n",
    "gtAll = np.load('../STL-10/gt.npy')\n",
    "\n",
    "\n",
    "# allFeat = np.load('../MIT-Places-Small/resNet50.npy')\n",
    "# gtAll = np.load('../MIT-Places-Small/gt.npy')\n",
    "\n",
    "# # allFeat = np.load('../fake-stl10/resNet50.npy')\n",
    "# # gtAll = np.load('../fake-stl10/gt.npy')\n",
    "\n",
    "# # allFeat = np.load('../internetData/resNet50.npy')\n",
    "# # gtAll = np.load('../internetData/gt.npy')\n",
    "\n",
    "# mask = gtAll<5\n",
    "# allFeat = allFeat[mask]\n",
    "# gtAll = gtAll[mask]\n",
    "\n",
    "\n",
    "\n",
    "# allFeat = np.load('/tf/notebooks/clusteringTree/stl_feat/feats_2048.npy')\n",
    "# gtAll = np.load('/tf/notebooks/clusteringTree/stl_feat/labels_2048.npy')-1\n",
    "# gtAll = gtAll.astype(int)\n",
    "\n",
    "\n",
    "\n",
    "# mnist = tf.keras.datasets.mnist\n",
    "\n",
    "# (x_train, y_train), (x_test, y_test) = mnist.load_data()\n",
    "# allFeat = x_train.reshape(x_train.shape[0], 28*28)\n",
    "# gtAll = y_train"
   ]
  },
  {
   "cell_type": "code",
   "execution_count": 25,
   "metadata": {},
   "outputs": [],
   "source": [
    "from sklearn.svm import OneClassSVM\n",
    "from shellUtil import normIt\n",
    "\n",
    "#allFeat = allFeat/np.linalg.norm(allFeat, axis=1, keepdims=True)\n",
    "\n",
    "allFeat, _ = normIt(allFeat)\n",
    "\n",
    "# m = np.load('../Flickr11K/mean.npy')\n",
    "# allFeat, _ = normIt(allFeat, m)\n",
    "\n"
   ]
  },
  {
   "cell_type": "code",
   "execution_count": 35,
   "metadata": {},
   "outputs": [],
   "source": [
    "from tensorflow.keras.preprocessing import image\n",
    "from dirUtil import dirFiles\n",
    "\n",
    "\n",
    "def displyImages(folder, score, start_ind=0, end_ind=10, size=200):\n",
    "    rank = np.argsort(-score)\n",
    "    files = dirFiles(folder, ['*.jpg', '*.JPG', '*.png'])\n",
    "    imList = []\n",
    "    for i in range(start_ind, end_ind):\n",
    "        img = image.load_img(f, target_size=(size, size), interpolation='bilinear')\n",
    "        imList.append(image)\n",
    "    imConcat = np.concatenate(imList, axis=1)\n",
    "    plt.imshow(imConcat)\n"
   ]
  },
  {
   "cell_type": "code",
   "execution_count": 32,
   "metadata": {},
   "outputs": [
    {
     "name": "stdout",
     "output_type": "stream",
     "text": [
      "The autoreload extension is already loaded. To reload it, use:\n",
      "  %reload_ext autoreload\n",
      "[0.72180176 0.99753627]\n",
      "[0.99848024 0.61522877]\n",
      "[0.92738394 0.66630097]\n"
     ]
    },
    {
     "data": {
      "text/plain": [
       "0.9442993024918516"
      ]
     },
     "execution_count": 32,
     "metadata": {},
     "output_type": "execute_result"
    }
   ],
   "source": [
    "%load_ext autoreload\n",
    "%autoreload\n",
    "#from anomalyDetectionMeanShellTmp import robustMean2\n",
    "from anomalyDetectionMeanShellTmp import estShell\n",
    "from shellUtil import classAndOutliers\n",
    "from anomalyDetectionMeanShellTmp import projectMean\n",
    "from anomalyDetectionMeanShellTmp import robustMean\n",
    "from sklearn.metrics import precision_recall_fscore_support\n",
    "\n",
    "\n",
    "\n",
    "\n",
    "def robustMean2(featTrain, thres=3, numIter=3):\n",
    "\n",
    "    m_, var, eSig = estShell(featTrain)\n",
    "    err = projectMean(featTrain, m_, var)\n",
    "    mask = err<eSig*thres\n",
    "    mask_c = ~mask\n",
    "    if sum(mask_c) == 0:\n",
    "        thres = thres/2\n",
    "        mask = err<eSig*thres\n",
    "        mask_c = ~mask\n",
    "    if sum(mask_c) == 0:\n",
    "        thres = thres/2\n",
    "        mask = err<eSig*thres\n",
    "        mask_c = ~mask\n",
    "    if sum(mask_c) == 0:\n",
    "        thres = thres/2\n",
    "        mask = err<eSig*thres\n",
    "        mask_c = ~mask\n",
    "\n",
    "\n",
    "        \n",
    "    meanInlier = np.mean(featTrain[mask,:])\n",
    "    meanOutlier = np.mean(featTrain[mask_c,:])\n",
    "    newMean = (meanInlier + meanOutlier)/2\n",
    "    #newMean = meanOutlier\n",
    "    \n",
    "\n",
    "    for i in range(numIter):\n",
    "        feat, _ = normIt(featTrain, newMean)\n",
    "        m_, var, eSig = estShell(feat[mask])\n",
    "        err = projectMean(feat, m_, var)\n",
    "        mask = err<eSig*thres\n",
    "\n",
    "        meanInlier = np.mean(featTrain[mask,:], axis=0)\n",
    "        meanOutlier = np.mean(featTrain[~mask,:], axis=0)\n",
    "        newMean = (meanInlier + meanOutlier)/2\n",
    "        #newMean = meanOutlier\n",
    "\n",
    "\n",
    "    return m_, var, eSig, feat\n",
    "\n",
    "\n",
    "\n",
    "\n",
    "thres  = 2\n",
    "targetClass = 0\n",
    "dataMask = classAndOutliers(gtAll, targetClass, 1.0, outlierClassList=[])\n",
    "gt = gtAll[dataMask] == targetClass\n",
    "f = allFeat[dataMask]\n",
    "\n",
    "\n",
    "m_, var, eSig, ff = robustMean2(f, numIter=10, thres=thres)\n",
    "err = projectMean(ff, m_, var)\n",
    "inlier = err< thres*eSig\n",
    "\n",
    "\n",
    "precision, recall, f2, _ = precision_recall_fscore_support(gt, inlier, beta=2)\n",
    "\n",
    "\n",
    "print(precision)\n",
    "print(recall)\n",
    "print(f2)\n",
    "roc_auc_score(gt, -err)"
   ]
  },
  {
   "cell_type": "code",
   "execution_count": 16,
   "metadata": {},
   "outputs": [
    {
     "name": "stdout",
     "output_type": "stream",
     "text": [
      "The autoreload extension is already loaded. To reload it, use:\n",
      "  %reload_ext autoreload\n",
      "[0.96969697 0.50267425]\n",
      "[0.01080716 0.99966233]\n",
      "[0.01347142 0.83462547]\n"
     ]
    },
    {
     "data": {
      "text/plain": [
       "0.8482712085292722"
      ]
     },
     "execution_count": 16,
     "metadata": {},
     "output_type": "execute_result"
    }
   ],
   "source": [
    "%load_ext autoreload\n",
    "%autoreload\n",
    "#from anomalyDetectionMeanShellTmp import robustMean2\n",
    "from anomalyDetectionMeanShellTmp import estShell\n",
    "from shellUtil import classAndOutliers\n",
    "from anomalyDetectionMeanShellTmp import projectMean\n",
    "from anomalyDetectionMeanShellTmp import robustMean\n",
    "from sklearn.metrics import precision_recall_fscore_support\n",
    "\n",
    "\n",
    "\n",
    "\n",
    "thres  = 2\n",
    "targetClass = 0\n",
    "dataMask = classAndOutliers(gtAll, targetClass, 1.0, outlierClassList=[])\n",
    "gt = gtAll[dataMask] == targetClass\n",
    "f = allFeat[dataMask]\n",
    "\n",
    "\n",
    "m_, var, eSig, = robustMean(f, numIter=10, thres=thres)\n",
    "err = projectMean(f, m_, var)\n",
    "inlier = err< thres*eSig\n",
    "\n",
    "\n",
    "precision, recall, f2, _ = precision_recall_fscore_support(gt, inlier, beta=2)\n",
    "\n",
    "\n",
    "print(precision)\n",
    "print(recall)\n",
    "print(f2)\n",
    "roc_auc_score(gt, -err)"
   ]
  },
  {
   "cell_type": "code",
   "execution_count": null,
   "metadata": {},
   "outputs": [],
   "source": [
    "%load_ext autoreload\n",
    "%autoreload\n",
    "\n",
    "from anomalyDetectionMeanShellTmp import evalEstInliers\n",
    "\n",
    "evalEstInliers(f, gt, 10, thres, type_='reNorm')"
   ]
  },
  {
   "cell_type": "code",
   "execution_count": 33,
   "metadata": {},
   "outputs": [
    {
     "name": "stdout",
     "output_type": "stream",
     "text": [
      "[0.82960043 0.79374202]\n",
      "[0.78183046 0.83943947]\n",
      "[0.79093922 0.82988383]\n"
     ]
    },
    {
     "data": {
      "text/plain": [
       "0.8908634865668572"
      ]
     },
     "execution_count": 33,
     "metadata": {},
     "output_type": "execute_result"
    }
   ],
   "source": [
    "from shellUtil import classAndOutliers\n",
    "from anomalyDetectionMeanShellTmp import projectMean\n",
    "from sklearn.metrics import precision_recall_fscore_support\n",
    "#from anomalyDetectionMeanShellTmp import robustMean2\n",
    "from sklearn.svm import OneClassSVM\n",
    "\n",
    "\n",
    "clf1 = OneClassSVM(gamma='auto').fit(f)\n",
    "labels = clf1.predict(f)\n",
    "s = clf1.score_samples(f)\n",
    "\n",
    "precision, recall, f2, _ = precision_recall_fscore_support(gt, labels==1, beta=2)\n",
    "\n",
    "\n",
    "print(precision)\n",
    "print(recall)\n",
    "print(f2)\n",
    "\n",
    "roc_auc_score(gt, s)\n"
   ]
  }
 ],
 "metadata": {
  "kernelspec": {
   "display_name": "Python 3",
   "language": "python",
   "name": "python3"
  },
  "language_info": {
   "codemirror_mode": {
    "name": "ipython",
    "version": 3
   },
   "file_extension": ".py",
   "mimetype": "text/x-python",
   "name": "python",
   "nbconvert_exporter": "python",
   "pygments_lexer": "ipython3",
   "version": "3.6.9"
  }
 },
 "nbformat": 4,
 "nbformat_minor": 4
}
