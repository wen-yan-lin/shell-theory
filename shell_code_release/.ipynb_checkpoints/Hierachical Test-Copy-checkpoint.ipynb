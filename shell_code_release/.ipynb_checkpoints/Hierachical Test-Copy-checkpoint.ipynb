{
 "cells": [
  {
   "cell_type": "code",
   "execution_count": 1,
   "metadata": {},
   "outputs": [],
   "source": [
    "import numpy as np\n",
    "import tensorflow as tf\n",
    "import matplotlib.pyplot as plt"
   ]
  },
  {
   "cell_type": "code",
   "execution_count": 2,
   "metadata": {},
   "outputs": [],
   "source": [
    "%load_ext autoreload\n",
    "%autoreload\n",
    "\n",
    "from sklearn.cluster import KMeans\n",
    "from clusteringX2 import normIt\n",
    "from clusteringX2 import clusterModel\n",
    "from clusteringX2 import train_step3\n",
    "\n",
    "\n",
    "def clustering(feat, numClass=60, thres=0.1):\n",
    "    feat, m = normIt(feat)\n",
    "    \n",
    "    # initilization\n",
    "    kmeans = KMeans(n_clusters=numClass, random_state=0).fit(feat)\n",
    "    labelK = kmeans.predict(feat)\n",
    "    means =np.zeros([numClass, feat.shape[1]])\n",
    "\n",
    "    for i in range(numClass):\n",
    "        mask = labelK == i\n",
    "        means[i,:] = np.mean(feat[mask,:], axis =0)\n",
    "\n",
    "    sigInit = np.zeros([numClass])\n",
    "    for i in range(numClass):\n",
    "        mask = np.logical_not(labelK == i)\n",
    "        sigInit[i] = np.mean(np.matmul(feat[mask,:], np.transpose(means[i,:])))\n",
    "    model = clusterModel(means.transpose(), sigInit)\n",
    "    train_step3(model, feat.astype(\"float32\"), iter =100)\n",
    "    \n",
    "    \n",
    "    \n",
    "    c = model(feat.astype(\"float32\"))\n",
    "    s = np.max(c, axis=1)\n",
    "    t = np.mean(s)\n",
    "    mask = s > t*0.5\n",
    "    train_step3(model, feat[mask,:].astype(\"float32\"), iter =100)\n",
    "    \n",
    "    \n",
    "    c = model(feat.astype(\"float32\"))\n",
    "    s = np.max(c, axis=1)\n",
    "    t = np.mean(s)\n",
    "    mask = s > t*0.5\n",
    "    train_step3(model, feat[mask,:].astype(\"float32\"), iter =100)\n",
    "\n",
    " \n",
    "    c = model(feat.astype(\"float32\"))\n",
    "    labels = np.argmax(c, axis =1)\n",
    "    mask_ = np.zeros(numClass, dtype=bool)\n",
    "        \n",
    "    for i in range(numClass):\n",
    "        if np.sum(labels==i)>0:\n",
    "            mask_[i] = 1\n",
    "    w = model.w.numpy()\n",
    "    sig = model.sig.numpy()\n",
    "    w = w[:,mask_]\n",
    "    sig = sig[mask_]\n",
    "            \n",
    "\n",
    "    return w, sig, m, mask"
   ]
  },
  {
   "cell_type": "code",
   "execution_count": 3,
   "metadata": {},
   "outputs": [],
   "source": [
    "class Node:\n",
    "    def __init__(self, mask=None, w=None, sig=None, m=None):\n",
    "        self.mask = mask\n",
    "        self.w = w\n",
    "        self.sig = sig\n",
    "        self.m = m\n",
    "            \n",
    "class Layer:\n",
    "    def __init__(self):\n",
    "        self.nodeList = []\n",
    "        \n",
    "class Tree:\n",
    "    def __init__(self):\n",
    "        self.numLayers = 0\n",
    "        self.listOfLayers = []\n",
    "        self.numNodes = 0\n",
    "        self.listOfNodes = []\n",
    "        \n",
    "    def addNode(self, c):\n",
    "        self.listOfNodes.append(c)\n",
    "        self.numNodes = self.numNodes + 1\n",
    "        \n",
    "    def addLayer(self, c):\n",
    "        self.listOfLayers.append(c)\n",
    "        self.numLayers = self.numLayers + 1\n",
    "\n",
    "    \n",
    "def startTree(allFeat, numClass=2):\n",
    "    tree = Tree()    \n",
    "    w, sig, m, inMask = clustering(allFeat, numClass)\n",
    "    mask = np.ones(allFeat.shape[0], dtype=bool)\n",
    "    #mask[np.logical_not(inMask)] = 0\n",
    "    n = Node(mask, w, sig, m)\n",
    "\n",
    "    tree.addNode(n)\n",
    "    newLayer = Layer()\n",
    "    newLayer.nodeList.append(tree.numNodes-1)\n",
    "    tree.addLayer(newLayer)\n",
    "    \n",
    "    return tree"
   ]
  },
  {
   "cell_type": "code",
   "execution_count": 4,
   "metadata": {},
   "outputs": [],
   "source": [
    "def dataProjection(feat, node):\n",
    "    x, _ = normIt(feat, node.m) \n",
    "    return np.matmul(x, node.w) - node.sig\n",
    "\n",
    "\n",
    "    \n",
    "\n",
    "def extendTree(tree, allFeat, numClass=2, clusteringThreshold=100):\n",
    "    newLayer = Layer()\n",
    "    lastLayer = tree.listOfLayers[-1]\n",
    "    for nodeIndex in lastLayer.nodeList:\n",
    "        node = tree.listOfNodes[nodeIndex]\n",
    "        curFeat = allFeat[node.mask,:]\n",
    "        score = dataProjection(curFeat, node)\n",
    "        #plt.scatter(score[:,0], score[:,1], alpha=0.1)\n",
    "        \n",
    "        clusterInd = np.argmax(score, axis =1)\n",
    "        curInd = np.where(node.mask)[0]\n",
    "\n",
    "        for i in range(score.shape[1]):\n",
    "            subMask = clusterInd == i\n",
    "            if sum(subMask) > clusteringThreshold:\n",
    "                \n",
    "                newMask =  np.zeros(allFeat.shape[0], dtype=bool)\n",
    "                newMask[curInd[subMask]] = 1\n",
    "                \n",
    "\n",
    "                w, sig, m, inMask = clustering(allFeat[newMask,:], numClass)\n",
    "                #subInd = np.where(newMask)[0]\n",
    "                #newMask[subInd[np.logical_not(inMask)]] = 0\n",
    "\n",
    "                if w.shape[1]>=2:\n",
    "                    n = Node(newMask, w, sig, m)\n",
    "                    tree.addNode(n)\n",
    "                    newLayer.nodeList.append(tree.numNodes-1)\n",
    "    tree.addLayer(newLayer)"
   ]
  },
  {
   "cell_type": "code",
   "execution_count": 5,
   "metadata": {},
   "outputs": [],
   "source": [
    "def projectTree2(feat, tree, maxClus=2, unit_vector=True, scale2data=True, verboise=True):\n",
    "    \n",
    "    projectionSpace = np.zeros([feat.shape[0], tree.numNodes*maxClus])\n",
    "    \n",
    "    cur = 0\n",
    "    \n",
    "    for i, n in enumerate(tree.listOfNodes):\n",
    "        \n",
    "        f = dataProjection(feat, n)\n",
    "        numDim = f.shape[1]\n",
    "        if unit_vector:\n",
    "            f_ = np.concatenate([f, 10*np.ones([f.shape[0],1])], axis =1)\n",
    "            f_ = f_/np.linalg.norm(f_, axis =1, keepdims=True)\n",
    "            f = f_[:,:numDim]\n",
    "        if scale2data:\n",
    "            f = f*np.sum(n.mask)/n.mask.size \n",
    "        projectionSpace[:, cur:cur+numDim] = f\n",
    "        cur = cur+numDim\n",
    "        \n",
    "        if verboise == True:\n",
    "            print(i, n)\n",
    "    projectionSpace = projectionSpace[:,:cur]\n",
    "    return projectionSpace"
   ]
  },
  {
   "cell_type": "code",
   "execution_count": 6,
   "metadata": {},
   "outputs": [],
   "source": [
    "import random\n",
    "from sklearn.semi_supervised import LabelSpreading\n",
    "from sklearn.metrics import roc_auc_score, roc_curve, average_precision_score"
   ]
  },
  {
   "cell_type": "code",
   "execution_count": 28,
   "metadata": {},
   "outputs": [],
   "source": [
    "\"\"\"\n",
    "Label Spreading evaluation on train-test datasets specified by train-test-label\n",
    "\"\"\"\n",
    "def labelSpreading_eval(feats, gt, train_test_label, G=1):\n",
    "    lModel = LabelSpreading(gamma=G)\n",
    "    feats_tr = feats[train_test_label==1]\n",
    "    y_tr = gt[train_test_label==1]\n",
    "    feats_ts = feats[train_test_label==0]\n",
    "    y_ts = gt[train_test_label==0]\n",
    "    \n",
    "    lModel.fit(feats_tr, y_tr)\n",
    "    preds = lModel.predict(feats_ts)\n",
    "    scores = np.max(lModel.predict_proba(feats_ts), axis=1)\n",
    "    \n",
    "    acc = np.sum(preds==y_ts)/y_ts.shape[0]\n",
    "    mAP = average_precision_score(preds==y_ts, scores)\n",
    "    \n",
    "    return acc, mAP"
   ]
  },
  {
   "cell_type": "code",
   "execution_count": 29,
   "metadata": {},
   "outputs": [],
   "source": [
    "def grid_search(feats, gt, train_test_label, params_ls, verbose=False):\n",
    "    top_acc_gamma = 0\n",
    "    top_mAP_gamma = 0\n",
    "    max_acc = 0\n",
    "    max_mAP = 0\n",
    "    for i in param_ls:\n",
    "        cur_acc, cur_mAP = labelSpreading_eval(feats, gt, train_test_label, G=i)\n",
    "        if cur_acc > max_acc:\n",
    "            top_acc_gamma = i\n",
    "            max_acc = cur_acc\n",
    "        if cur_mAP > max_mAP:\n",
    "            top_mAP_gamma = i\n",
    "            max_mAP = cur_mAP\n",
    "        if verbose:\n",
    "            print(\"- Gamma = %.1f: Acc = %.3f, mAP = %.3f\" % (i, cur_acc, cur_mAP))\n",
    "    return top_acc_gamma, top_mAP_gamma"
   ]
  },
  {
   "cell_type": "markdown",
   "metadata": {},
   "source": [
    "## Load Dataset"
   ]
  },
  {
   "cell_type": "code",
   "execution_count": 7,
   "metadata": {},
   "outputs": [],
   "source": [
    "features = np.load('./stl_feat/feats_2048.npy')\n",
    "labels = np.load('./stl_feat/labels_2048.npy') - 1"
   ]
  },
  {
   "cell_type": "code",
   "execution_count": 17,
   "metadata": {},
   "outputs": [],
   "source": [
    "# mask = np.logical_or.reduce([labels==2, labels==9])\n",
    "# feats = features[mask]\n",
    "# gt = labels[mask]\n",
    "\n",
    "feats = features.copy()[::5]\n",
    "gt = labels.copy()[::5]"
   ]
  },
  {
   "cell_type": "code",
   "execution_count": 18,
   "metadata": {},
   "outputs": [],
   "source": [
    "feats_norm, _ignore = normIt(feats)"
   ]
  },
  {
   "cell_type": "code",
   "execution_count": 50,
   "metadata": {},
   "outputs": [],
   "source": [
    "def split_data(n, gt):\n",
    "    SamplePerClass = n\n",
    "    label_set = np.unique(gt)\n",
    "    ClassCount = label_set.shape[0]\n",
    "\n",
    "    # Split Training/Testing Data\n",
    "    train_idx = []\n",
    "    test_idx = []\n",
    "    for c in range(ClassCount):\n",
    "        cur_idx_ls = [i for i in range(gt.shape[0]) if gt[i] == label_set[c]]\n",
    "        if len(cur_idx_ls) < SamplePerClass:\n",
    "            continue\n",
    "        choices = np.random.choice(len(cur_idx_ls), SamplePerClass).tolist()\n",
    "        cur_idx_ts = [cur_idx_ls[i] for i in range(len(cur_idx_ls)) if i not in choices]\n",
    "        cur_idx_tr = [cur_idx_ls[i] for i in range(len(cur_idx_ls)) if i in choices]\n",
    "        train_idx.append(cur_idx_tr)\n",
    "        test_idx.append(cur_idx_ts)\n",
    "\n",
    "    train_idx = np.hstack(train_idx).tolist()\n",
    "    test_idx = np.hstack(test_idx).tolist()\n",
    "\n",
    "    train_test_label = np.zeros(gt.shape[0])\n",
    "    for i in range(gt.shape[0]):\n",
    "        if i in train_idx:\n",
    "            train_test_label[i] = 1\n",
    "    return train_test_label"
   ]
  },
  {
   "cell_type": "code",
   "execution_count": 51,
   "metadata": {},
   "outputs": [],
   "source": [
    "train_test_label = split_data(5, gt)"
   ]
  },
  {
   "cell_type": "markdown",
   "metadata": {},
   "source": [
    "### Construct Hierachical structures of the labels"
   ]
  },
  {
   "cell_type": "code",
   "execution_count": 22,
   "metadata": {},
   "outputs": [],
   "source": [
    "super_classes = {0: [0, 2, 8, 9],\n",
    "                 1: [1, 3, 4, 5, 6, 7]}\n",
    "\n",
    "\"\"\"\n",
    "Hierachical Label Spreading evaluation on the super classes for train-test datasets specified by train-test-label\n",
    "\"\"\"\n",
    "def labelSpreading_eval2(feats, gt, train_test_label, super_classes, G=20):\n",
    "    lModel = LabelSpreading(gamma=G)\n",
    "    feats_tr = feats[train_test_label==1]\n",
    "    y_tr = gt[train_test_label==1]\n",
    "    feats_ts = feats[train_test_label==0]\n",
    "    y_ts = gt[train_test_label==0]\n",
    "    \n",
    "    lModel.fit(feats_tr, y_tr)\n",
    "    preds = lModel.predict(feats_ts)\n",
    "    scores = np.max(lModel.predict_proba(feats_ts), axis=1)\n",
    "    \n",
    "    super_y_ts = np.zeros(y_ts.shape[0])\n",
    "    for i in range(y_ts.shape[0]):\n",
    "        for key in super_classes.keys():\n",
    "            if y_ts[i] in super_classes[key]:\n",
    "                super_y_ts[i] = key\n",
    "                break\n",
    "    \n",
    "    super_y_preds = np.zeros(preds.shape[0])\n",
    "    for i in range(preds.shape[0]):\n",
    "        for key in super_classes.keys():\n",
    "            if preds[i] in super_classes[key]:\n",
    "                super_y_preds[i] = key\n",
    "                break\n",
    "    \n",
    "    acc = np.sum(super_y_ts==super_y_preds)/y_ts.shape[0]\n",
    "    mAP = average_precision_score(super_y_preds==super_y_ts, scores)\n",
    "    \n",
    "    return acc, mAP"
   ]
  },
  {
   "cell_type": "markdown",
   "metadata": {},
   "source": [
    "## 1. Clustering Tree Projection"
   ]
  },
  {
   "cell_type": "code",
   "execution_count": 23,
   "metadata": {
    "scrolled": true
   },
   "outputs": [
    {
     "name": "stdout",
     "output_type": "stream",
     "text": [
      "0 <__main__.Node object at 0x0000025892E27C48>\n",
      "1 <__main__.Node object at 0x0000025893F1BF88>\n",
      "2 <__main__.Node object at 0x000002589419F088>\n",
      "3 <__main__.Node object at 0x0000025893F3A808>\n",
      "4 <__main__.Node object at 0x0000025894509208>\n",
      "5 <__main__.Node object at 0x00000258942ED488>\n",
      "6 <__main__.Node object at 0x0000025893FB66C8>\n",
      "7 <__main__.Node object at 0x00000258947B7208>\n",
      "8 <__main__.Node object at 0x00000258949C8408>\n",
      "9 <__main__.Node object at 0x0000025894A20848>\n",
      "10 <__main__.Node object at 0x00000258A2C06208>\n",
      "11 <__main__.Node object at 0x00000258A2BD8E08>\n",
      "12 <__main__.Node object at 0x00000258A2980988>\n",
      "13 <__main__.Node object at 0x000002589400CD48>\n",
      "14 <__main__.Node object at 0x00000258A2978B48>\n",
      "15 <__main__.Node object at 0x00000258A1DAF7C8>\n",
      "16 <__main__.Node object at 0x00000258A1B92D48>\n",
      "17 <__main__.Node object at 0x00000258A256A8C8>\n",
      "18 <__main__.Node object at 0x00000258A229BA88>\n",
      "19 <__main__.Node object at 0x00000258A2146108>\n",
      "20 <__main__.Node object at 0x00000258A235AA08>\n",
      "21 <__main__.Node object at 0x00000258A1F91788>\n",
      "22 <__main__.Node object at 0x00000258A2831848>\n",
      "23 <__main__.Node object at 0x00000258A24D48C8>\n",
      "24 <__main__.Node object at 0x00000258A2A34DC8>\n",
      "25 <__main__.Node object at 0x00000258A2A9B188>\n",
      "26 <__main__.Node object at 0x00000258A22A4B88>\n",
      "27 <__main__.Node object at 0x00000258A33D1508>\n",
      "28 <__main__.Node object at 0x00000258A2F49208>\n",
      "29 <__main__.Node object at 0x00000258A2C6D648>\n",
      "30 <__main__.Node object at 0x00000258A33E73C8>\n",
      "31 <__main__.Node object at 0x0000025894020908>\n",
      "32 <__main__.Node object at 0x00000258A41CEE48>\n",
      "33 <__main__.Node object at 0x00000258A4050B88>\n",
      "34 <__main__.Node object at 0x00000258A3841708>\n",
      "35 <__main__.Node object at 0x00000258B7B9A588>\n",
      "36 <__main__.Node object at 0x00000258B7C9FC48>\n"
     ]
    }
   ],
   "source": [
    "# Construct tree\n",
    "tree = startTree(feats)\n",
    "for h in range(100):\n",
    "    extendTree(tree, feats)\n",
    "# Transform features using the tree\n",
    "tree_feats, _ignore = normIt(projectTree2(feats, tree, unit_vector=True, scale2data=True))\n",
    "# Get the dimension os features\n",
    "DIMS = tree_feats.shape[1]"
   ]
  },
  {
   "cell_type": "code",
   "execution_count": 43,
   "metadata": {},
   "outputs": [
    {
     "data": {
      "text/plain": [
       "(0.7788235294117647, 0.8430746708431924)"
      ]
     },
     "execution_count": 43,
     "metadata": {},
     "output_type": "execute_result"
    }
   ],
   "source": [
    "labelSpreading_eval(tree_feats, gt, train_test_label, G=20)"
   ]
  },
  {
   "cell_type": "code",
   "execution_count": 45,
   "metadata": {},
   "outputs": [
    {
     "data": {
      "text/plain": [
       "(0.9909803921568627, 0.9896895901211675)"
      ]
     },
     "execution_count": 45,
     "metadata": {},
     "output_type": "execute_result"
    }
   ],
   "source": [
    "labelSpreading_eval2(tree_feats, gt, train_test_label, super_classes, G=20)"
   ]
  },
  {
   "cell_type": "markdown",
   "metadata": {},
   "source": [
    "## 2. PCA Projection"
   ]
  },
  {
   "cell_type": "code",
   "execution_count": 24,
   "metadata": {},
   "outputs": [],
   "source": [
    "from sklearn.decomposition import PCA"
   ]
  },
  {
   "cell_type": "code",
   "execution_count": 25,
   "metadata": {},
   "outputs": [],
   "source": [
    "pca = PCA(n_components=DIMS).fit(feats_norm)\n",
    "pca_feats = pca.transform(feats_norm)\n",
    "\n",
    "pca_feats, _ignore = normIt(pca_feats)"
   ]
  },
  {
   "cell_type": "code",
   "execution_count": 36,
   "metadata": {},
   "outputs": [
    {
     "data": {
      "text/plain": [
       "(0.7647058823529411, 0.9171717183890435)"
      ]
     },
     "execution_count": 36,
     "metadata": {},
     "output_type": "execute_result"
    }
   ],
   "source": [
    "labelSpreading_eval(pca_feats, gt, train_test_label, G=3)"
   ]
  },
  {
   "cell_type": "code",
   "execution_count": 46,
   "metadata": {},
   "outputs": [
    {
     "data": {
      "text/plain": [
       "(0.9847058823529412, 0.9977677980881581)"
      ]
     },
     "execution_count": 46,
     "metadata": {},
     "output_type": "execute_result"
    }
   ],
   "source": [
    "labelSpreading_eval2(pca_feats, gt, train_test_label, super_classes, G=3)"
   ]
  },
  {
   "cell_type": "markdown",
   "metadata": {},
   "source": [
    "## 3. Raw Features"
   ]
  },
  {
   "cell_type": "code",
   "execution_count": 27,
   "metadata": {},
   "outputs": [],
   "source": [
    "raw_feats = feats_norm"
   ]
  },
  {
   "cell_type": "code",
   "execution_count": 47,
   "metadata": {},
   "outputs": [
    {
     "data": {
      "text/plain": [
       "(0.7647058823529411, 0.9171717183890435)"
      ]
     },
     "execution_count": 47,
     "metadata": {},
     "output_type": "execute_result"
    }
   ],
   "source": [
    "labelSpreading_eval(pca_feats, gt, train_test_label, G=3)"
   ]
  },
  {
   "cell_type": "code",
   "execution_count": 48,
   "metadata": {},
   "outputs": [
    {
     "data": {
      "text/plain": [
       "(0.9847058823529412, 0.9977677980881581)"
      ]
     },
     "execution_count": 48,
     "metadata": {},
     "output_type": "execute_result"
    }
   ],
   "source": [
    "labelSpreading_eval2(pca_feats, gt, train_test_label, super_classes, G=3)"
   ]
  },
  {
   "cell_type": "code",
   "execution_count": null,
   "metadata": {},
   "outputs": [],
   "source": []
  },
  {
   "cell_type": "markdown",
   "metadata": {},
   "source": [
    "## Hierachical Accuracy - Samples/class Plots"
   ]
  },
  {
   "cell_type": "code",
   "execution_count": 53,
   "metadata": {},
   "outputs": [],
   "source": [
    "import matplotlib.pyplot as plt"
   ]
  },
  {
   "cell_type": "code",
   "execution_count": 55,
   "metadata": {},
   "outputs": [],
   "source": [
    "tree_acc = np.zeros(101)\n",
    "tree_mAP = np.zeros(101)\n",
    "pca_acc = np.zeros(101)\n",
    "pca_mAP = np.zeros(101)\n",
    "raw_acc = np.zeros(101)\n",
    "raw_mAP = np.zeros(101)\n",
    "\n",
    "for i in range(1, 101):\n",
    "    tr_ts_label = split_data(i, gt)\n",
    "    tree_acc[i], tree_mAP[i] = labelSpreading_eval(tree_feats, gt, tr_ts_label, G=20)\n",
    "    pca_acc[i], pca_mAP[i] = labelSpreading_eval(pca_feats, gt, tr_ts_label, G=3)\n",
    "    raw_acc[i], raw_mAP[i] = labelSpreading_eval(raw_feats, gt, tr_ts_label, G=3)"
   ]
  },
  {
   "cell_type": "code",
   "execution_count": 56,
   "metadata": {},
   "outputs": [
    {
     "data": {
      "text/plain": [
       "[<matplotlib.lines.Line2D at 0x258b999ca48>]"
      ]
     },
     "execution_count": 56,
     "metadata": {},
     "output_type": "execute_result"
    },
    {
     "data": {
      "image/png": "[encoded data removed]",
      "text/plain": [
       "<Figure size 432x288 with 1 Axes>"
      ]
     },
     "metadata": {
      "needs_background": "light"
     },
     "output_type": "display_data"
    }
   ],
   "source": [
    "plt.figure()\n",
    "plt.plot(np.arange(tree_acc.shape[0])[1:], tree_acc[1:], c='r', marker='.')\n",
    "plt.plot(np.arange(tree_acc.shape[0])[1:], pca_acc[1:], '.--b')\n",
    "plt.plot(np.arange(tree_acc.shape[0])[1:], raw_acc[1:], '.--g')\n"
   ]
  },
  {
   "cell_type": "code",
   "execution_count": 57,
   "metadata": {},
   "outputs": [],
   "source": [
    "tree_acc2 = np.zeros(101)\n",
    "tree_mAP2 = np.zeros(101)\n",
    "pca_acc2 = np.zeros(101)\n",
    "pca_mAP2 = np.zeros(101)\n",
    "raw_acc2 = np.zeros(101)\n",
    "raw_mAP2 = np.zeros(101)\n",
    "\n",
    "for i in range(1, 101):\n",
    "    tr_ts_label = split_data(i, gt)\n",
    "    tree_acc2[i], tree_mAP2[i] = labelSpreading_eval2(tree_feats, gt, tr_ts_label, super_classes, G=20)\n",
    "    pca_acc2[i], pca_mAP2[i] = labelSpreading_eval2(pca_feats, gt, tr_ts_label, super_classes, G=3)\n",
    "    raw_acc2[i], raw_mAP2[i] = labelSpreading_eval2(raw_feats, gt, tr_ts_label, super_classes, G=3)"
   ]
  },
  {
   "cell_type": "code",
   "execution_count": 58,
   "metadata": {},
   "outputs": [
    {
     "data": {
      "text/plain": [
       "[<matplotlib.lines.Line2D at 0x258a65adf88>]"
      ]
     },
     "execution_count": 58,
     "metadata": {},
     "output_type": "execute_result"
    },
    {
     "data": {
      "image/png": "[encoded data removed]",
      "text/plain": [
       "<Figure size 432x288 with 1 Axes>"
      ]
     },
     "metadata": {
      "needs_background": "light"
     },
     "output_type": "display_data"
    }
   ],
   "source": [
    "plt.figure()\n",
    "plt.plot(np.arange(tree_acc2.shape[0])[1:], tree_acc2[1:], c='r', marker='.')\n",
    "plt.plot(np.arange(tree_acc2.shape[0])[1:], pca_acc2[1:], '.--b')\n",
    "plt.plot(np.arange(tree_acc2.shape[0])[1:], raw_acc2[1:], '.--g')\n"
   ]
  },
  {
   "cell_type": "code",
   "execution_count": null,
   "metadata": {},
   "outputs": [],
   "source": []
  }
 ],
 "metadata": {
  "kernelspec": {
   "display_name": "Python 3",
   "language": "python",
   "name": "python3"
  },
  "language_info": {
   "codemirror_mode": {
    "name": "ipython",
    "version": 3
   },
   "file_extension": ".py",
   "mimetype": "text/x-python",
   "name": "python",
   "nbconvert_exporter": "python",
   "pygments_lexer": "ipython3",
   "version": "3.6.9"
  }
 },
 "nbformat": 4,
 "nbformat_minor": 4
}
