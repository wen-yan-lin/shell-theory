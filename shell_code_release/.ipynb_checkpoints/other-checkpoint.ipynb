{
 "cells": [
  {
   "cell_type": "markdown",
   "metadata": {},
   "source": [
    "## Other Stuff"
   ]
  },
  {
   "cell_type": "code",
   "execution_count": null,
   "metadata": {
    "scrolled": true
   },
   "outputs": [],
   "source": [
    "! pip3 install umap.learn"
   ]
  },
  {
   "cell_type": "code",
   "execution_count": null,
   "metadata": {},
   "outputs": [],
   "source": [
    "!pip uninstall -y enum34\n",
    "\n",
    "! pip3 install hdbscan"
   ]
  },
  {
   "cell_type": "code",
   "execution_count": null,
   "metadata": {},
   "outputs": [],
   "source": [
    "import umap\n",
    "\n",
    "\n",
    "embedding = umap.UMAP()\n",
    "embedding.fit(f_norm[::2])\n",
    "ump_ori = embedding.transform(f_norm[1::2])\n",
    "\n",
    "plt.scatter(ump_ori[:,0], ump_ori[:,1], c=gt[1::2], alpha =0.1)"
   ]
  },
  {
   "cell_type": "code",
   "execution_count": null,
   "metadata": {},
   "outputs": [],
   "source": [
    "plt.figure(0)\n",
    "ump_ori = embedding.transform(f_norm[::2])\n",
    "plt.scatter(ump_ori[:,0], ump_ori[:,1], c=gt[::2], alpha =0.01)\n",
    "plt.figure(1)\n",
    "ump_ori = embedding.transform(f_norm[1::2])\n",
    "plt.scatter(ump_ori[:,0], ump_ori[:,1], c=gt[1::2], alpha =0.01)"
   ]
  },
  {
   "cell_type": "code",
   "execution_count": null,
   "metadata": {},
   "outputs": [],
   "source": [
    "import umap\n",
    "\n",
    "\n",
    "embedding = umap.UMAP()\n",
    "embedding.fit(pp[::2])\n",
    "ump_pp = embedding.transform(pp[1::2])\n",
    "plt.scatter(ump_pp[:,0], ump_pp[:,1], c=gt[1::2], alpha =0.1)"
   ]
  },
  {
   "cell_type": "code",
   "execution_count": null,
   "metadata": {},
   "outputs": [],
   "source": [
    "plt.figure(0)\n",
    "ump_pp = embedding.transform(pp[::2])\n",
    "plt.scatter(ump_pp[:,0], ump_pp[:,1], c=gt[::2], alpha =0.01)\n",
    "plt.figure(1)\n",
    "ump_pp = embedding.transform(pp[1::2])\n",
    "plt.scatter(ump_pp[:,0], ump_pp[:,1], c=gt[1::2], alpha =0.01)"
   ]
  },
  {
   "cell_type": "code",
   "execution_count": null,
   "metadata": {},
   "outputs": [],
   "source": [
    "plt.scatter(ump_pp[:,0], ump_pp[:,1], c=gt, alpha =0.01)"
   ]
  },
  {
   "cell_type": "code",
   "execution_count": null,
   "metadata": {},
   "outputs": [],
   "source": [
    "import hdbscan\n",
    "\n",
    "clusterer = hdbscan.HDBSCAN()\n",
    "clusterer.fit(pp)\n",
    "\n"
   ]
  },
  {
   "cell_type": "code",
   "execution_count": null,
   "metadata": {},
   "outputs": [],
   "source": [
    "plt.scatter(ump_pp[:,0], ump_pp[:,1], c=clusterer.labels_, alpha =0.01)"
   ]
  },
  {
   "cell_type": "code",
   "execution_count": null,
   "metadata": {},
   "outputs": [],
   "source": [
    "clusterer = hdbscan.HDBSCAN()\n",
    "clusterer.fit(pp[gtCoarse==1])\n",
    "\n"
   ]
  },
  {
   "cell_type": "code",
   "execution_count": null,
   "metadata": {},
   "outputs": [],
   "source": [
    "plt.scatter(ump_pp[gtCoarse==1,0], ump_pp[gtCoarse==1,1], c=clusterer.labels_, alpha =0.01)"
   ]
  },
  {
   "cell_type": "code",
   "execution_count": null,
   "metadata": {},
   "outputs": [],
   "source": [
    "err = test_feat(pp, gt, nBest=1000)\n",
    "print(np.mean(err))"
   ]
  },
  {
   "cell_type": "code",
   "execution_count": null,
   "metadata": {},
   "outputs": [],
   "source": [
    "plt.hist(err)"
   ]
  },
  {
   "cell_type": "code",
   "execution_count": null,
   "metadata": {},
   "outputs": [],
   "source": [
    "k= donk"
   ]
  },
  {
   "cell_type": "code",
   "execution_count": null,
   "metadata": {},
   "outputs": [],
   "source": [
    "feat_ = allFeat[gtAll==0,:]\n",
    "tree2 = startTree(feat_[::2])\n",
    "pp2 = projectTree(feat_, tree2, unit_vector=False)\n",
    "pp2a = projectTree(allFeat[gtAll==1,:], tree2, unit_vector=False)\n"
   ]
  },
  {
   "cell_type": "code",
   "execution_count": null,
   "metadata": {},
   "outputs": [],
   "source": [
    "plt.scatter(pp2[:,0], pp2[:,1], alpha =0.1)\n",
    "\n",
    "plt.scatter(pp2a[:,0], pp2a[:,1], alpha =0.1)"
   ]
  },
  {
   "cell_type": "code",
   "execution_count": null,
   "metadata": {},
   "outputs": [],
   "source": []
  },
  {
   "cell_type": "code",
   "execution_count": null,
   "metadata": {},
   "outputs": [],
   "source": []
  },
  {
   "cell_type": "code",
   "execution_count": null,
   "metadata": {},
   "outputs": [],
   "source": []
  },
  {
   "cell_type": "code",
   "execution_count": null,
   "metadata": {},
   "outputs": [],
   "source": []
  },
  {
   "cell_type": "code",
   "execution_count": null,
   "metadata": {},
   "outputs": [],
   "source": []
  },
  {
   "cell_type": "code",
   "execution_count": null,
   "metadata": {},
   "outputs": [],
   "source": [
    "k = dnk"
   ]
  },
  {
   "cell_type": "code",
   "execution_count": null,
   "metadata": {},
   "outputs": [],
   "source": [
    "\n",
    "\n",
    "\n",
    "outlier_feat = allFeat[gtAll==9,:]\n",
    "\n",
    "\n",
    "ff_out = np.concatenate([feat,outlier_feat], axis = 0)\n",
    "out_gt = np.concatenate([gt, -1*np.ones(outlier_feat.shape[0])])\n"
   ]
  },
  {
   "cell_type": "code",
   "execution_count": null,
   "metadata": {},
   "outputs": [],
   "source": [
    "def test_feat(feat, labels, nBest= 1000):\n",
    "    num_feat = feat.shape[0]\n",
    "    d = pairwise_distances(feat)\n",
    "    ind = np.argsort(d, axis =1)\n",
    "    \n",
    "    err = np.zeros(num_feat)\n",
    "    \n",
    "    for i in range(num_feat):\n",
    "        l = labels[ind[i,:nBest+1]]      \n",
    "        #print(l)\n",
    "        err[i] = nBest - (sum((l-l[0]) == 0))+1\n",
    "                          \n",
    "    return err\n",
    "\n",
    "\n",
    "\n",
    "\n",
    "projectionOutlier = projectTree(ff_out, tree);\n",
    "projectionOutlier = projectionOutlier/np.linalg.norm(projectionOutlier, axis =1, keepdims=True)\n",
    "\n",
    "err = test_feat(projectionOutlier[:,:], out_gt, nBest=10)\n",
    "print(np.mean(err))\n"
   ]
  },
  {
   "cell_type": "code",
   "execution_count": null,
   "metadata": {},
   "outputs": [],
   "source": [
    "print(err)"
   ]
  },
  {
   "cell_type": "code",
   "execution_count": null,
   "metadata": {},
   "outputs": [],
   "source": [
    "print(projectionOutlier.shape)"
   ]
  },
  {
   "cell_type": "code",
   "execution_count": null,
   "metadata": {},
   "outputs": [],
   "source": [
    "plt.scatter(projectionOutlier[:,0], projectionOutlier[:,1], c = out_gt, alpha =0.01)"
   ]
  },
  {
   "cell_type": "code",
   "execution_count": null,
   "metadata": {},
   "outputs": [],
   "source": [
    "def projectTreeTmp(feat, tree, numClus=2):\n",
    "    \n",
    "    projectionSpace = np.zeros([feat.shape[0], tree.numNodes*numClus])\n",
    "    \n",
    "    for i, n in enumerate(tree.listOfNodes):\n",
    "        f = dataProjection(feat, n)\n",
    "        f = f/np.linalg.norm(f, axis =1, keepdims=True)\n",
    "        projectionSpace[:, i*2:i*2+2] = f\n",
    "        print(i, n)\n",
    "    return projectionSpace\n",
    "\n",
    "projectionOutlier = projectTreeTmp(ff_out, tree);\n",
    "err = test_feat(projectionOutlier[:,:], out_gt, nBest=10)\n",
    "print(np.mean(err))\n"
   ]
  },
  {
   "cell_type": "code",
   "execution_count": null,
   "metadata": {},
   "outputs": [],
   "source": [
    "print(np.exp(1))"
   ]
  },
  {
   "cell_type": "code",
   "execution_count": null,
   "metadata": {},
   "outputs": [],
   "source": [
    "plt.scatter(projectionOutlier[:,0], projectionOutlier[:,1], c = out_gt, alpha =0.1)"
   ]
  },
  {
   "cell_type": "code",
   "execution_count": null,
   "metadata": {},
   "outputs": [],
   "source": [
    "k_feat = feat.copy()\n",
    "k_m = np.mean(k_feat[::2], axis=0)\n",
    "k_feat = k_feat - k_m\n",
    "k_feat = k_feat/np.linalg.norm(k_feat, axis=1, keepdims=True)\n",
    "\n",
    "kmeans = KMeans(n_clusters=6, random_state=0).fit(k_feat[::2])\n"
   ]
  },
  {
   "cell_type": "code",
   "execution_count": null,
   "metadata": {},
   "outputs": [],
   "source": [
    "k_f = kmeans.transform(k_feat)\n",
    "err = test_feat(k_f, gt, nBest=10)\n",
    "print(np.mean(err))\n"
   ]
  },
  {
   "cell_type": "code",
   "execution_count": null,
   "metadata": {},
   "outputs": [],
   "source": [
    "plt.scatter(k_f[:,0], k_f[:,1], c = gt, alpha =0.01)"
   ]
  },
  {
   "cell_type": "code",
   "execution_count": null,
   "metadata": {},
   "outputs": [],
   "source": [
    "outlier_feat = allFeat[gtAll==9,:].copy()\n",
    "outlier_feat = outlier_feat -k_m\n",
    "outlier_feat = outlier_feat/np.linalg.norm(outlier_feat, axis=1, keepdims=True)\n",
    "\n",
    "k_out = np.concatenate([k_feat,outlier_feat], axis = 0)\n",
    "k_gt = np.concatenate([gt, -1*np.ones(outlier_feat.shape[0])])\n",
    "\n",
    "k_f = kmeans.transform(k_out)\n",
    "err = test_feat(k_out, k_gt, nBest=10)\n",
    "print(np.mean(err))\n"
   ]
  }
 ],
 "metadata": {
  "kernelspec": {
   "display_name": "Python 3",
   "language": "python",
   "name": "python3"
  },
  "language_info": {
   "codemirror_mode": {
    "name": "ipython",
    "version": 3
   },
   "file_extension": ".py",
   "mimetype": "text/x-python",
   "name": "python",
   "nbconvert_exporter": "python",
   "pygments_lexer": "ipython3",
   "version": "3.6.9"
  }
 },
 "nbformat": 4,
 "nbformat_minor": 4
}
