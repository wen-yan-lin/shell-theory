{
 "cells": [
  {
   "cell_type": "code",
   "execution_count": 1,
   "metadata": {},
   "outputs": [],
   "source": [
    "import numpy as np\n",
    "rand_mat = np.random.normal(size=(500,1000))\n",
    "\n",
    "feat = rand_mat/np.linalg.norm(rand_mat, axis =1, keepdims=True)"
   ]
  },
  {
   "cell_type": "code",
   "execution_count": null,
   "metadata": {},
   "outputs": [],
   "source": [
    "numIter =100\n",
    "pca = PCA(n_components=numIter)\n",
    "pca.fit(feat)\n",
    "m = pca.components_\n",
    "sig = np.mean(np.matmul(train_feat, np.transpose(m)), axis=0)\n",
    "w, sig = estModel22(train_feat, np.transpose(m), sig, numShells=numIter, weight=0.1)\n"
   ]
  }
 ],
 "metadata": {
  "kernelspec": {
   "display_name": "Python 3",
   "language": "python",
   "name": "python3"
  },
  "language_info": {
   "codemirror_mode": {
    "name": "ipython",
    "version": 3
   },
   "file_extension": ".py",
   "mimetype": "text/x-python",
   "name": "python",
   "nbconvert_exporter": "python",
   "pygments_lexer": "ipython3",
   "version": "3.6.8"
  }
 },
 "nbformat": 4,
 "nbformat_minor": 4
}
