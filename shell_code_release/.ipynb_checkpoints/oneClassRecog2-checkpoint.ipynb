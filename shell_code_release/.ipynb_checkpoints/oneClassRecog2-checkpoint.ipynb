{
 "cells": [
  {
   "cell_type": "code",
   "execution_count": 1,
   "metadata": {},
   "outputs": [],
   "source": [
    "import numpy as np\n",
    "import tensorflow as tf\n",
    "import matplotlib.pyplot as plt\n",
    "import random\n",
    "import copy\n"
   ]
  },
  {
   "cell_type": "code",
   "execution_count": 2,
   "metadata": {},
   "outputs": [],
   "source": [
    " from sklearn.metrics import roc_auc_score\n",
    "\n",
    "# allFeat = np.load('/tf/notebooks/STL-10/danielFeat.npy')\n",
    "# gtAll = np.load('/tf/notebooks/STL-10/danielGt.npy')\n",
    "\n",
    "# allFeat = np.load('../MIT-Places/quickTest/resNet50.npy')\n",
    "# gtAll = np.load('../MIT-Places/quickTest/gt.npy')\n",
    "\n",
    "# allFeat = np.load('../fake-stl10/resNet50.npy')\n",
    "# gtAll = np.load('../fake-stl10/gt.npy')\n",
    "\n",
    "allFeat = np.load('../internetData/resNet50.npy')\n",
    "gtAll = np.load('../internetData/gt.npy')\n",
    "\n",
    "\n",
    "# mask = gtAll<5\n",
    "# allFeat = allFeat[mask]\n",
    "# gtAll = gtAll[mask]\n",
    "\n",
    "\n",
    "# allFeat = np.load('/tf/notebooks/clusteringTree/stl_feat/feats_2048.npy')\n",
    "# gtAll = np.load('/tf/notebooks/clusteringTree/stl_feat/labels_2048.npy')-1\n",
    "\n",
    "\n",
    "\n",
    "#m = np.load('/tf/notebooks/Flickr11K/resNet50Mean.npy')\n"
   ]
  },
  {
   "cell_type": "code",
   "execution_count": 3,
   "metadata": {},
   "outputs": [],
   "source": [
    "from sklearn.svm import OneClassSVM\n",
    "from clusteringX2 import normIt\n",
    "\n",
    "#allFeat = allFeat/np.linalg.norm(allFeat, axis =1, keepdims=True)\n",
    "allFeat, _ = normIt(allFeat)\n",
    "\n",
    "\n",
    "numClass = max(gtAll)+1\n",
    "allMeans = np.zeros([numClass, allFeat.shape[1]])\n",
    "for i in range(numClass):\n",
    "    allMeans[i,:] = np.mean(allFeat[gtAll==i], axis =0)"
   ]
  },
  {
   "cell_type": "code",
   "execution_count": null,
   "metadata": {},
   "outputs": [],
   "source": []
  },
  {
   "cell_type": "code",
   "execution_count": 4,
   "metadata": {},
   "outputs": [],
   "source": [
    "def trainTestSplit_oneClass(allFeat, allGt, target, numSamples=300):\n",
    "    mask = np.where(allGt ==target)[0]\n",
    "    trainInd = random.sample(list(mask), numSamples)    \n",
    "    trainFeat = np.copy(allFeat[trainInd])\n",
    "    testFeat = allFeat.copy()\n",
    "    testFeat = np.delete(testFeat, trainInd, axis =0)\n",
    "    testGt = allGt.copy()\n",
    "    testGt = np.delete(testGt, trainInd, axis =0)\n",
    "    return trainFeat, testFeat, testGt\n",
    "\n",
    "def trainTestSplit_multiClass(allFeat, allGt, numSamples=300):\n",
    "    numClass = int(np.max(allGt)+1)\n",
    "    trainFeat = []\n",
    "    testFeat = allFeat.copy()\n",
    "    testGt = allGt.copy()\n",
    "    for i in range(numClass):\n",
    "        trainF, testFeat, testGt = trainTestSplit_oneClass(testFeat, testGt, i, numSamples=numSamples)\n",
    "        trainFeat.append(trainF)\n",
    "        \n",
    "    \n",
    "    return trainFeat, testFeat, testGt\n",
    "        \n",
    "\n",
    "trainFeat, testFeat, testGt = trainTestSplit_multiClass(allFeat, gtAll)"
   ]
  },
  {
   "cell_type": "code",
   "execution_count": null,
   "metadata": {},
   "outputs": [],
   "source": [
    "%load_ext autoreload\n",
    "%autoreload 0\n",
    "\n",
    "from stackedOneClassSVM import sorted_neighbors_of_i\n",
    "from stackedOneClassSVM import Shark\n",
    "\n",
    "from stackedOneClassSVM import StackedOneClassSVM\n",
    "\n",
    "\n",
    "sOCS = StackedOneClassSVM(trainFeat)\n"
   ]
  },
  {
   "cell_type": "code",
   "execution_count": 5,
   "metadata": {},
   "outputs": [],
   "source": [
    "def sorted_neighbors_of_i(m_all, i):\n",
    "    neighbors = np.zeros(m_all.shape[0])\n",
    "    for j in range(m_all.shape[0]):\n",
    "        neighbors[j] = np.linalg.norm(m_all[i,:]-m_all[j,:])\n",
    "    return neighbors, np.argsort(neighbors)\n",
    "   \n",
    "    \n",
    "\n",
    "def stacked_classifer(train_feat, target, m_all):\n",
    "    _, neighs = sorted_neighbors_of_i(m_all, target)\n",
    "    classifers = []\n",
    "    current_shell = []\n",
    "    for i in neighs:\n",
    "        current_shell.append(i)\n",
    "        if len(current_shell)> 1:\n",
    "            m1 = np.mean(m_all[current_shell,:], axis =0, keepdims=True)\n",
    "            tf = train_feat-m1\n",
    "            tf = tf/np.linalg.norm(tf, axis =1, keepdims=True)\n",
    "            clf1 = OneClassSVM(gamma='auto').fit(tf)\n",
    "            classifers.append({'mean': m1, 'classifer': clf1})\n",
    "    return classifers\n",
    "\n",
    "def basic_classifer(train_feat):\n",
    "    classifers = []\n",
    "    m1 = 0\n",
    "    clf1 = OneClassSVM(gamma='auto').fit(train_feat)\n",
    "    classifers.append({'mean': m1, 'classifer': clf1})\n",
    "    return classifers\n",
    "\n"
   ]
  },
  {
   "cell_type": "code",
   "execution_count": 6,
   "metadata": {},
   "outputs": [
    {
     "name": "stdout",
     "output_type": "stream",
     "text": [
      "{'clusMean': 1, 'numInstance': 1, 'var': 0, 'asdsa': 4}\n"
     ]
    }
   ],
   "source": [
    "d  = {'clusMean': 1, 'numInstance': 1, 'var': 0 }\n",
    "d['asdsa'] = 4\n",
    "print(d)"
   ]
  },
  {
   "cell_type": "code",
   "execution_count": 7,
   "metadata": {},
   "outputs": [
    {
     "name": "stdout",
     "output_type": "stream",
     "text": [
      "0.9928062569148984\n"
     ]
    },
    {
     "data": {
      "text/plain": [
       "(array([241.,  30.,  48.,  30.,  31.,  15.,  13.,  12.,   4.,   4.]),\n",
       " array([0.        , 0.38316852, 0.76633704, 1.1495055 , 1.5326741 ,\n",
       "        1.9158425 , 2.299011  , 2.6821795 , 3.0653481 , 3.4485166 ,\n",
       "        3.831685  ], dtype=float32),\n",
       " <a list of 10 Patch objects>)"
      ]
     },
     "execution_count": 7,
     "metadata": {},
     "output_type": "execute_result"
    },
    {
     "data": {
      "image/png": "[encoded data removed]",
      "text/plain": [
       "<Figure size 432x288 with 1 Axes>"
      ]
     },
     "metadata": {
      "needs_background": "light"
     },
     "output_type": "display_data"
    }
   ],
   "source": [
    "from sklearn.metrics import roc_auc_score\n",
    "\n",
    "\n",
    "\n",
    "def ocMean(feat):\n",
    "    m_ = np.mean(feat, axis=0, keepdims=True)\n",
    "    d = feat - m_\n",
    "    d = np.linalg.norm(d, axis=1)\n",
    "    \n",
    "    model ={'clusMean': m_, 'numInstance': feat.shape[0], \n",
    "            'noiseMean': np.median(d), 'noiseStd':np.median(np.absolute(d-np.mean(d))), \n",
    "            'mean_norm': 0}\n",
    "    return model\n",
    "\n",
    "\n",
    "def stackedMean(train_feat, target, m_all):\n",
    "    _, neighs = sorted_neighbors_of_i(m_all, target)\n",
    "    classifers = []\n",
    "    current_shell = []\n",
    "    for i in neighs:\n",
    "        current_shell.append(i)\n",
    "        if len(current_shell)> 1:\n",
    "            m1 = np.mean(m_all[current_shell,:], axis =0, keepdims=True)\n",
    "            tf = train_feat-m1\n",
    "            tf = tf/np.linalg.norm(tf, axis =1, keepdims=True)\n",
    "            model = ocMean(tf)\n",
    "            model['mean_norm'] = m1\n",
    "            classifers.append(model)\n",
    "    return classifers\n",
    "\n",
    "def ocMeanScore(feat, model, sig =0.01):\n",
    "    feat_, _ = normIt(feat, model['mean_norm'])\n",
    "    feat_ = feat_ -  model['clusMean']\n",
    "    feat_ = np.linalg.norm(feat_, axis=1)\n",
    "    ss = (feat_ - model['noiseMean'])/model['noiseStd']\n",
    "    ss[ss<0] = 0\n",
    "    #ss = np.exp(-(ss*ss)/1)\n",
    "    \n",
    "    return ss\n",
    "\n",
    "\n",
    "def stackedMeanScore(classifers, test_feat, sig =0.1):\n",
    "    score = np.zeros([test_feat.shape[0], len(classifers)])\n",
    "    for i in range(len(classifers)):\n",
    "        score[:,i] = ocMeanScore(test_feat, classifers[i], sig =sig)\n",
    "    return score\n",
    "\n",
    "\n",
    "\n",
    "\n",
    "\n",
    "i = 0\n",
    "model = ocMean(trainFeat[i])\n",
    "ss = ocMeanScore(testFeat, model, sig=0.1)\n",
    "lr_auc = roc_auc_score(testGt==i, ss)\n",
    "print(1-lr_auc)\n",
    "# print(ss)\n",
    "plt.figure(0)\n",
    "plt.hist(ss)\n",
    "\n",
    "plt.figure(0)\n",
    "plt.hist(ss[testGt==i])"
   ]
  },
  {
   "cell_type": "code",
   "execution_count": 8,
   "metadata": {},
   "outputs": [
    {
     "name": "stdout",
     "output_type": "stream",
     "text": [
      "0.9914457647090571\n"
     ]
    }
   ],
   "source": [
    "target = i\n",
    "classifers = stackedMean(trainFeat[target], target, allMeans)\n",
    "scoreM = stackedMeanScore(classifers, testFeat, sig=0.1)\n",
    "lr_auc = roc_auc_score(testGt==target, np.mean(scoreM, axis=1))\n",
    "print(1-lr_auc)\n"
   ]
  },
  {
   "cell_type": "code",
   "execution_count": 9,
   "metadata": {},
   "outputs": [
    {
     "name": "stdout",
     "output_type": "stream",
     "text": [
      "0.9952326554109361\n"
     ]
    }
   ],
   "source": [
    "clf1 = OneClassSVM(gamma='auto').fit(trainFeat[i])\n",
    "ss = clf1.score_samples(testFeat)\n",
    "lr_auc = roc_auc_score(testGt==i, ss)\n",
    "print(lr_auc)\n"
   ]
  },
  {
   "cell_type": "code",
   "execution_count": 10,
   "metadata": {},
   "outputs": [],
   "source": [
    "allClassifiers = []\n",
    "for i in range(numClass):\n",
    "    target = i\n",
    "    classifers = stackedMean(trainFeat[target], target, allMeans)\n",
    "    allClassifiers.append(classifers)\n"
   ]
  },
  {
   "cell_type": "code",
   "execution_count": 11,
   "metadata": {},
   "outputs": [],
   "source": [
    "scores = np.zeros([testFeat.shape[0], numClass])\n",
    "\n",
    "for i in range(numClass):\n",
    "    s = stackedMeanScore(allClassifiers[i], testFeat, sig=1)\n",
    "    s = np.mean(s, axis =1)\n",
    "    scores[:,i] = s\n",
    "\n"
   ]
  },
  {
   "cell_type": "code",
   "execution_count": 12,
   "metadata": {},
   "outputs": [
    {
     "name": "stdout",
     "output_type": "stream",
     "text": [
      "stacked\n",
      "mean: 0.9488752556237219\n",
      "map: 0.994256578662172\n"
     ]
    }
   ],
   "source": [
    "from sklearn.metrics import average_precision_score\n",
    "\n",
    "print('stacked')\n",
    "labelEst = np.argmin(scores, axis=1)\n",
    "print('mean:', np.mean(labelEst==testGt))\n",
    "print('map:', average_precision_score(labelEst==testGt, -np.min(scores, axis=1)))"
   ]
  },
  {
   "cell_type": "code",
   "execution_count": 13,
   "metadata": {},
   "outputs": [
    {
     "ename": "NameError",
     "evalue": "name 'donk' is not defined",
     "output_type": "error",
     "traceback": [
      "\u001b[0;31m---------------------------------------------------------------------------\u001b[0m",
      "\u001b[0;31mNameError\u001b[0m                                 Traceback (most recent call last)",
      "\u001b[0;32m<ipython-input-13-cfd52543731e>\u001b[0m in \u001b[0;36m<module>\u001b[0;34m\u001b[0m\n\u001b[0;32m----> 1\u001b[0;31m \u001b[0mk\u001b[0m \u001b[0;34m=\u001b[0m \u001b[0mdonk\u001b[0m\u001b[0;34m\u001b[0m\u001b[0;34m\u001b[0m\u001b[0m\n\u001b[0m",
      "\u001b[0;31mNameError\u001b[0m: name 'donk' is not defined"
     ]
    }
   ],
   "source": [
    "k = donk"
   ]
  },
  {
   "cell_type": "code",
   "execution_count": 26,
   "metadata": {},
   "outputs": [
    {
     "name": "stdout",
     "output_type": "stream",
     "text": [
      "True\n"
     ]
    }
   ],
   "source": [
    "print(type(trainFeat) is list)"
   ]
  },
  {
   "cell_type": "code",
   "execution_count": 14,
   "metadata": {},
   "outputs": [],
   "source": [
    "allClassifiers = []\n",
    "for i in range(numClass):\n",
    "    target = i\n",
    "    classifers = stacked_classifer(trainFeat[target], target, allMeans)\n",
    "    allClassifiers.append(classifers)\n"
   ]
  },
  {
   "cell_type": "code",
   "execution_count": 15,
   "metadata": {},
   "outputs": [],
   "source": [
    "def score_samples(classifers, test_feat):\n",
    "    score = np.zeros([test_feat.shape[0], len(classifers)])\n",
    "    for i in range(len(classifers)):\n",
    "        m = classifers[i]['mean']\n",
    "        tsf = test_feat-m\n",
    "        tsf = tsf/np.linalg.norm(tsf, keepdims=True, axis =1)\n",
    "        s = classifers[i]['classifer'].score_samples(tsf)   \n",
    "        score[:,i] = s\n",
    "    return score\n",
    "\n"
   ]
  },
  {
   "cell_type": "code",
   "execution_count": 16,
   "metadata": {},
   "outputs": [],
   "source": [
    "scores = np.zeros([testFeat.shape[0], numClass])\n",
    "\n",
    "for i in range(numClass):\n",
    "    s = score_samples(allClassifiers[i], testFeat)\n",
    "    s = np.mean(s, axis =1)\n",
    "    scores[:,i] = s\n",
    "\n",
    "    "
   ]
  },
  {
   "cell_type": "code",
   "execution_count": 17,
   "metadata": {},
   "outputs": [
    {
     "name": "stdout",
     "output_type": "stream",
     "text": [
      "stacked\n",
      "mean: 0.9625085207907293\n",
      "map: 0.9939159064255382\n"
     ]
    }
   ],
   "source": [
    "from sklearn.metrics import average_precision_score\n",
    "\n",
    "print('stacked')\n",
    "labelEst = np.argmax(scores, axis=1)\n",
    "print('mean:', np.mean(labelEst==testGt))\n",
    "print('map:', average_precision_score(labelEst==testGt, np.max(scores, axis=1)))"
   ]
  },
  {
   "cell_type": "code",
   "execution_count": 18,
   "metadata": {},
   "outputs": [],
   "source": [
    "allClassifiersTrad = []\n",
    "for i in range(numClass):\n",
    "    target = i\n",
    "    classifers = basic_classifer(trainFeat[target])\n",
    "    allClassifiersTrad.append(classifers)\n",
    "    \n",
    "scoresTrad = np.zeros([testFeat.shape[0], numClass])\n",
    "\n",
    "for i in range(numClass):\n",
    "    s = score_samples(allClassifiersTrad[i], testFeat)\n",
    "    s = np.mean(s, axis =1)\n",
    "    scoresTrad[:,i] = s\n",
    "\n"
   ]
  },
  {
   "cell_type": "code",
   "execution_count": 19,
   "metadata": {},
   "outputs": [
    {
     "name": "stdout",
     "output_type": "stream",
     "text": [
      "basic\n",
      "mean: 0.9366053169734151\n",
      "map: 0.9813697879125869\n"
     ]
    }
   ],
   "source": [
    "print('basic')\n",
    "labelEst = np.argmax(scoresTrad, axis=1)\n",
    "print('mean:', np.mean(labelEst==testGt))\n",
    "print('map:', average_precision_score(labelEst==testGt, np.max(scoresTrad, axis=1)))"
   ]
  },
  {
   "cell_type": "code",
   "execution_count": 20,
   "metadata": {},
   "outputs": [
    {
     "name": "stdout",
     "output_type": "stream",
     "text": [
      "single test\n",
      "1.0\n",
      "1.0\n"
     ]
    }
   ],
   "source": [
    "from sklearn.metrics import roc_auc_score\n",
    "\n",
    "print('single test')\n",
    "i = 3\n",
    "j = 1\n",
    "mask = np.logical_or(testGt==i, testGt==j)\n",
    "sOurs = scores[mask,i]\n",
    "lr_auc = roc_auc_score(testGt[mask]==i, sOurs)\n",
    "print(lr_auc)\n",
    "\n",
    "sTrad = scoresTrad[mask,i]\n",
    "lr_auc = roc_auc_score(testGt[mask]==i, sTrad)\n",
    "print(lr_auc)"
   ]
  },
  {
   "cell_type": "code",
   "execution_count": null,
   "metadata": {},
   "outputs": [],
   "source": [
    "\n",
    "k = donk"
   ]
  },
  {
   "cell_type": "code",
   "execution_count": null,
   "metadata": {},
   "outputs": [],
   "source": [
    "from sklearn.svm import LinearSVC\n",
    "\n",
    "def listToFeat(feat):\n",
    "    newFeat = np.concatenate(feat, axis =0)\n",
    "    newGt = np.zeros(newFeat.shape[0], dtype = int)\n",
    "    cur = 0\n",
    "    for i in range(len(feat)):\n",
    "        newGt[cur:cur+feat[i].shape[0]] = i\n",
    "        cur = cur + feat[i].shape[0]\n",
    "    return newFeat, newGt\n",
    "\n",
    "trainFeat_, trainGt_ = listToFeat(trainFeat)\n",
    "clf = LinearSVC(random_state=0, tol=1e-5)\n",
    "clf.fit(trainFeat_, trainGt_)\n"
   ]
  },
  {
   "cell_type": "code",
   "execution_count": null,
   "metadata": {},
   "outputs": [],
   "source": [
    "print('svm')\n",
    "labelEst = clf.predict(testFeat)\n",
    "scoreSVM = clf.decision_function(testFeat)\n",
    "print('mean:', np.mean(labelEst==testGt))\n",
    "print('map:', average_precision_score(labelEst==testGt, np.max(scoreSVM, axis=1)))"
   ]
  },
  {
   "cell_type": "code",
   "execution_count": null,
   "metadata": {},
   "outputs": [],
   "source": []
  }
 ],
 "metadata": {
  "kernelspec": {
   "display_name": "Python 3",
   "language": "python",
   "name": "python3"
  },
  "language_info": {
   "codemirror_mode": {
    "name": "ipython",
    "version": 3
   },
   "file_extension": ".py",
   "mimetype": "text/x-python",
   "name": "python",
   "nbconvert_exporter": "python",
   "pygments_lexer": "ipython3",
   "version": "3.6.9"
  }
 },
 "nbformat": 4,
 "nbformat_minor": 4
}
