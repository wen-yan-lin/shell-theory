{
 "cells": [
  {
   "cell_type": "code",
   "execution_count": 74,
   "metadata": {},
   "outputs": [
    {
     "name": "stdout",
     "output_type": "stream",
     "text": [
      "2021-06-03 00:18:07.537426: I tensorflow/stream_executor/platform/default/dso_loader.cc:48] Successfully opened dynamic library libcudart.so.10.1\n",
      "\n",
      "Loading data-set STL-10\n",
      "outlier percentage: 0.4\n",
      "\n",
      "Shell auroc, normalization with true test mean: 0.9926540710751237\n",
      "\n",
      "Shell auroc, normalization with Flickr11k mean: 0.9926540710751237\n"
     ]
    }
   ],
   "source": [
    "! python3 anomalyDetectionMeanShell.py"
   ]
  },
  {
   "cell_type": "code",
   "execution_count": 67,
   "metadata": {},
   "outputs": [
    {
     "name": "stdout",
     "output_type": "stream",
     "text": [
      "2021-06-03 00:14:37.425028: I tensorflow/stream_executor/platform/default/dso_loader.cc:48] Successfully opened dynamic library libcudart.so.10.1\n",
      "\n",
      "Loading data-set STL-10\n",
      "outlier percentage: 0.3\n",
      "\n",
      "OCSVM auroc,  normalization with true test mean: 0.9944106539455376\n",
      "\n",
      "OCSVM auroc, normalization with Flickr11k mean: 0.9520194792287816\n"
     ]
    }
   ],
   "source": [
    "! python3 anomalyDetectionOCSVM.py"
   ]
  }
 ],
 "metadata": {
  "kernelspec": {
   "display_name": "Python 3",
   "language": "python",
   "name": "python3"
  },
  "language_info": {
   "codemirror_mode": {
    "name": "ipython",
    "version": 3
   },
   "file_extension": ".py",
   "mimetype": "text/x-python",
   "name": "python",
   "nbconvert_exporter": "python",
   "pygments_lexer": "ipython3",
   "version": "3.8.5"
  }
 },
 "nbformat": 4,
 "nbformat_minor": 4
}
