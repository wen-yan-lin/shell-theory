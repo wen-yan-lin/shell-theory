{
 "cells": [
  {
   "cell_type": "code",
   "execution_count": 1,
   "metadata": {},
   "outputs": [],
   "source": [
    "import numpy as np\n",
    "import tensorflow as tf\n",
    "import matplotlib.pyplot as plt\n",
    "\n",
    "allFeat = np.load('/tf/notebooks/clusteringTree/stl_feat/feats_2048.npy')\n",
    "gtAll = np.load('/tf/notebooks/clusteringTree/stl_feat/labels_2048.npy')-1\n",
    "\n"
   ]
  },
  {
   "cell_type": "code",
   "execution_count": 3,
   "metadata": {},
   "outputs": [],
   "source": [
    "%load_ext autoreload\n",
    "%autoreload\n",
    "\n",
    "from sklearn.cluster import KMeans\n",
    "from clusteringX2 import normIt\n",
    "from clusteringX2 import clusterModel\n",
    "from clusteringX2 import train_step3\n",
    "\n",
    "\n",
    "def clustering(feat, numClass=60, thres=0.1):\n",
    "    feat, m = normIt(feat)\n",
    "    \n",
    "    # initilization\n",
    "    kmeans = KMeans(n_clusters=numClass, random_state=0).fit(feat)\n",
    "    labelK = kmeans.predict(feat)\n",
    "    means =np.zeros([numClass, feat.shape[1]])\n",
    "\n",
    "    for i in range(numClass):\n",
    "        mask = labelK == i\n",
    "        means[i,:] = np.mean(feat[mask,:], axis =0)\n",
    "\n",
    "    sigInit = np.zeros([numClass])\n",
    "    for i in range(numClass):\n",
    "        mask = np.logical_not(labelK == i)\n",
    "        sigInit[i] = np.mean(np.matmul(feat[mask,:], np.transpose(means[i,:])))\n",
    "    model = clusterModel(means.transpose(), sigInit)\n",
    "    train_step3(model, feat.astype(\"float32\"), iter =100)\n",
    "    \n",
    "    \n",
    "    \n",
    "    c = model(feat.astype(\"float32\"))\n",
    "    s = np.max(c, axis=1)\n",
    "    t = mean(s)\n",
    "    mask = s > t*0.5\n",
    "    train_step3(model, feat[mask,:].astype(\"float32\"), iter =100)\n",
    " \n",
    "    c = model(feat.astype(\"float32\"))\n",
    "    labels = np.argmax(c, axis =1)\n",
    "    mask = np.zeros(numClass, dtype=bool)\n",
    "        \n",
    "    for i in range(numClass):\n",
    "        if np.sum(labels==i)>0:\n",
    "            mask[i] = 1\n",
    "    w = model.w.numpy()\n",
    "    sig = model.sig.numpy()\n",
    "    w = w[:,mask]\n",
    "    sig = sig[mask]\n",
    "            \n",
    "\n",
    "    return w, sig, m \n",
    "\n"
   ]
  },
  {
   "cell_type": "code",
   "execution_count": 4,
   "metadata": {},
   "outputs": [],
   "source": [
    "class Node:\n",
    "    def __init__(self, mask=None, w=None, sig=None, m=None):\n",
    "        self.mask = mask\n",
    "        self.w = w\n",
    "        self.sig = sig\n",
    "        self.m = m\n",
    "            \n",
    "class Layer:\n",
    "    def __init__(self):\n",
    "        self.nodeList = []\n",
    "        \n",
    "class Tree:\n",
    "    def __init__(self):\n",
    "        self.numLayers = 0\n",
    "        self.listOfLayers = []\n",
    "        self.numNodes = 0\n",
    "        self.listOfNodes = []\n",
    "        \n",
    "    def addNode(self, c):\n",
    "        self.listOfNodes.append(c)\n",
    "        self.numNodes = self.numNodes + 1\n",
    "        \n",
    "    def addLayer(self, c):\n",
    "        self.listOfLayers.append(c)\n",
    "        self.numLayers = self.numLayers + 1\n",
    "\n",
    "    \n",
    "def startTree(allFeat, numClass=2):\n",
    "    tree = Tree()    \n",
    "    w, sig, m = clustering(allFeat, numClass)\n",
    "    mask = np.ones(allFeat.shape[0], dtype=bool)\n",
    "    n = Node(mask, w, sig, m)\n",
    "\n",
    "    tree.addNode(n)\n",
    "    newLayer = Layer()\n",
    "    newLayer.nodeList.append(tree.numNodes-1)\n",
    "    tree.addLayer(newLayer)\n",
    "    \n",
    "    return tree\n",
    "\n",
    "    \n",
    "#mask = np.logical_or(gtAll==0,  gtAll==2)\n",
    "mask = gtAll<5\n",
    "\n",
    "feat = allFeat[mask,:]\n",
    "gt = gtAll[mask]    \n",
    "gtCoarseAll = np.logical_or.reduce( [gtAll == 0, gtAll == 2, gtAll == 8, gtAll == 9]).astype(int)   \n",
    "gtCoarse = gtCoarseAll[mask]\n",
    "\n",
    "tree = startTree(feat[::2])\n"
   ]
  },
  {
   "cell_type": "code",
   "execution_count": 11,
   "metadata": {},
   "outputs": [],
   "source": [
    "def dataProjection(feat, node):\n",
    "    x, _ = normIt(feat, node.m) \n",
    "    return np.matmul(x, node.w) - node.sig\n",
    "\n",
    "\n",
    "    \n",
    "\n",
    "def extendTree(tree, allFeat, numClass=2, clusteringThreshold=100):\n",
    "    newLayer = Layer()\n",
    "    lastLayer = tree.listOfLayers[-1]\n",
    "    for nodeIndex in lastLayer.nodeList:\n",
    "        node = tree.listOfNodes[nodeIndex]\n",
    "        curFeat = allFeat[node.mask,:]\n",
    "        score = dataProjection(curFeat, node)\n",
    "        plt.scatter(score[:,0], score[:,1], alpha=0.1)\n",
    "        \n",
    "        clusterInd = np.argmax(score, axis =1)\n",
    "        curInd = np.where(node.mask)[0]\n",
    "\n",
    "        for i in range(score.shape[1]):\n",
    "            subMask = clusterInd == i\n",
    "            if sum(subMask) > clusteringThreshold:\n",
    "                \n",
    "                newMask =  np.zeros(allFeat.shape[0], dtype=bool)\n",
    "                newMask[curInd[subMask]] = 1\n",
    "                \n",
    "\n",
    "                w, sig, m = clustering(allFeat[newMask,:], numClass)\n",
    "                \n",
    "                if w.shape[1]>=2:\n",
    "                    n = Node(newMask, w, sig, m)\n",
    "                    tree.addNode(n)\n",
    "                    newLayer.nodeList.append(tree.numNodes-1)\n",
    "    tree.addLayer(newLayer)\n",
    "\n",
    "\n",
    "        \n",
    "\n",
    "# extendTree(tree, feat)\n",
    "extendTree(tree, feat[::2])\n",
    "\n",
    "# something seems wrong with the hierachy, the error increases too sharply"
   ]
  },
  {
   "cell_type": "code",
   "execution_count": 12,
   "metadata": {},
   "outputs": [
    {
     "name": "stdout",
     "output_type": "stream",
     "text": [
      "0 <__main__.Node object at 0x7fe26985e7f0>\n",
      "1 <__main__.Node object at 0x7fe1b45e9a90>\n",
      "2 <__main__.Node object at 0x7fe1b4605f28>\n",
      "3 <__main__.Node object at 0x7fe1ba3238d0>\n",
      "4 <__main__.Node object at 0x7fe1ba302ef0>\n",
      "5 <__main__.Node object at 0x7fe1ba36cc88>\n",
      "6 <__main__.Node object at 0x7fe1ba36cc50>\n",
      "7 <__main__.Node object at 0x7fe1ba267e48>\n",
      "8 <__main__.Node object at 0x7fe1ba201f28>\n",
      "9 <__main__.Node object at 0x7fe1ba20e710>\n",
      "10 <__main__.Node object at 0x7fe1ba220cf8>\n",
      "11 <__main__.Node object at 0x7fe1ba18bcf8>\n",
      "12 <__main__.Node object at 0x7fe1ba1a0da0>\n",
      "13 <__main__.Node object at 0x7fe1ba14deb8>\n",
      "14 <__main__.Node object at 0x7fe1ba110048>\n",
      "15 <__main__.Node object at 0x7fe1b9fcd9e8>\n",
      "16 <__main__.Node object at 0x7fe1ba029f98>\n",
      "17 <__main__.Node object at 0x7fe1ba016c88>\n",
      "18 <__main__.Node object at 0x7fe1b9f9a828>\n",
      "19 <__main__.Node object at 0x7fe1b9fecc88>\n",
      "20 <__main__.Node object at 0x7fe1ba016f28>\n",
      "21 <__main__.Node object at 0x7fe1b9fecb38>\n",
      "22 <__main__.Node object at 0x7fe1b9ebf5f8>\n",
      "23 <__main__.Node object at 0x7fe1b9ed59b0>\n",
      "24 <__main__.Node object at 0x7fe1b9f652b0>\n",
      "25 <__main__.Node object at 0x7fe1b9e74f98>\n",
      "26 <__main__.Node object at 0x7fe1b9e31128>\n",
      "27 <__main__.Node object at 0x7fe1b9db9400>\n",
      "28 <__main__.Node object at 0x7fe1b9dac940>\n",
      "29 <__main__.Node object at 0x7fe1b9d21f28>\n",
      "30 <__main__.Node object at 0x7fe1b9cd56d8>\n",
      "31 <__main__.Node object at 0x7fe1b9c27e80>\n",
      "32 <__main__.Node object at 0x7fe1b9b86208>\n",
      "33 <__main__.Node object at 0x7fe1b9bf5cc0>\n",
      "34 <__main__.Node object at 0x7fe1b9b53a20>\n",
      "35 <__main__.Node object at 0x7fe1b9afb7b8>\n",
      "36 <__main__.Node object at 0x7fe1b9b31a90>\n",
      "37 <__main__.Node object at 0x7fe1b9b09940>\n",
      "38 <__main__.Node object at 0x7fe1b9b3c940>\n",
      "39 <__main__.Node object at 0x7fe1b9a64048>\n",
      "40 <__main__.Node object at 0x7fe1b9a292b0>\n",
      "41 <__main__.Node object at 0x7fe1b99dfda0>\n",
      "42 <__main__.Node object at 0x7fe1b99eee80>\n",
      "43 <__main__.Node object at 0x7fe1b9996f60>\n",
      "44 <__main__.Node object at 0x7fe1b99530b8>\n"
     ]
    }
   ],
   "source": [
    "def projectTree(feat, tree, maxClus=2, unit_vector=True, scale2data=True, verboise=True):\n",
    "    \n",
    "    projectionSpace = np.zeros([feat.shape[0], tree.numNodes*maxClus])\n",
    "    \n",
    "    cur = 0\n",
    "    \n",
    "    for i, n in enumerate(tree.listOfNodes):\n",
    "        \n",
    "        f = dataProjection(feat, n)\n",
    "        numDim = f.shape[1]\n",
    "        if unit_vector:\n",
    "            f = f/np.linalg.norm(f, axis =1, keepdims=True)\n",
    "        if scale2data:\n",
    "            f = f*np.sum(n.mask)/n.mask.size \n",
    "        projectionSpace[:, cur:cur+numDim] = f\n",
    "        cur = cur+numDim\n",
    "        \n",
    "        if verboise == True:\n",
    "            print(i, n)\n",
    "    projectionSpace = projectionSpace[:,:cur]\n",
    "    return projectionSpace\n",
    "        \n",
    "#projectionSpace = projectTree(feat, tree, unit_vector=False)\n",
    "    "
   ]
  },
  {
   "cell_type": "code",
   "execution_count": 33,
   "metadata": {},
   "outputs": [
    {
     "name": "stdout",
     "output_type": "stream",
     "text": [
      "0 <__main__.Node object at 0x7fe26985e7f0>\n",
      "1 <__main__.Node object at 0x7fe1b45e9a90>\n",
      "2 <__main__.Node object at 0x7fe1b4605f28>\n",
      "3 <__main__.Node object at 0x7fe1ba3238d0>\n",
      "4 <__main__.Node object at 0x7fe1ba302ef0>\n",
      "5 <__main__.Node object at 0x7fe1ba36cc88>\n",
      "6 <__main__.Node object at 0x7fe1ba36cc50>\n",
      "7 <__main__.Node object at 0x7fe1ba267e48>\n",
      "8 <__main__.Node object at 0x7fe1ba201f28>\n",
      "9 <__main__.Node object at 0x7fe1ba20e710>\n",
      "10 <__main__.Node object at 0x7fe1ba220cf8>\n",
      "11 <__main__.Node object at 0x7fe1ba18bcf8>\n",
      "12 <__main__.Node object at 0x7fe1ba1a0da0>\n",
      "13 <__main__.Node object at 0x7fe1ba14deb8>\n",
      "14 <__main__.Node object at 0x7fe1ba110048>\n",
      "15 <__main__.Node object at 0x7fe1b9fcd9e8>\n",
      "16 <__main__.Node object at 0x7fe1ba029f98>\n",
      "17 <__main__.Node object at 0x7fe1ba016c88>\n",
      "18 <__main__.Node object at 0x7fe1b9f9a828>\n",
      "19 <__main__.Node object at 0x7fe1b9fecc88>\n",
      "20 <__main__.Node object at 0x7fe1ba016f28>\n",
      "21 <__main__.Node object at 0x7fe1b9fecb38>\n",
      "22 <__main__.Node object at 0x7fe1b9ebf5f8>\n",
      "23 <__main__.Node object at 0x7fe1b9ed59b0>\n",
      "24 <__main__.Node object at 0x7fe1b9f652b0>\n",
      "25 <__main__.Node object at 0x7fe1b9e74f98>\n",
      "26 <__main__.Node object at 0x7fe1b9e31128>\n",
      "27 <__main__.Node object at 0x7fe1b9db9400>\n",
      "28 <__main__.Node object at 0x7fe1b9dac940>\n",
      "29 <__main__.Node object at 0x7fe1b9d21f28>\n",
      "30 <__main__.Node object at 0x7fe1b9cd56d8>\n",
      "31 <__main__.Node object at 0x7fe1b9c27e80>\n",
      "32 <__main__.Node object at 0x7fe1b9b86208>\n",
      "33 <__main__.Node object at 0x7fe1b9bf5cc0>\n",
      "34 <__main__.Node object at 0x7fe1b9b53a20>\n",
      "35 <__main__.Node object at 0x7fe1b9afb7b8>\n",
      "36 <__main__.Node object at 0x7fe1b9b31a90>\n",
      "37 <__main__.Node object at 0x7fe1b9b09940>\n",
      "38 <__main__.Node object at 0x7fe1b9b3c940>\n",
      "39 <__main__.Node object at 0x7fe1b9a64048>\n",
      "40 <__main__.Node object at 0x7fe1b9a292b0>\n",
      "41 <__main__.Node object at 0x7fe1b99dfda0>\n",
      "42 <__main__.Node object at 0x7fe1b99eee80>\n",
      "43 <__main__.Node object at 0x7fe1b9996f60>\n",
      "44 <__main__.Node object at 0x7fe1b99530b8>\n"
     ]
    }
   ],
   "source": [
    "def projectTree2(feat, tree, maxClus=2, unit_vector=True, scale2data=True, verboise=True):\n",
    "    \n",
    "    projectionSpace = np.zeros([feat.shape[0], tree.numNodes*maxClus])\n",
    "    \n",
    "    cur = 0\n",
    "    \n",
    "    for i, n in enumerate(tree.listOfNodes):\n",
    "        \n",
    "        f = dataProjection(feat, n)\n",
    "        numDim = f.shape[1]\n",
    "        if unit_vector:\n",
    "            f_ = np.concatenate([f, 3*np.ones([f.shape[0],1])], axis =1)\n",
    "            f_ = f_/np.linalg.norm(f_, axis =1, keepdims=True)\n",
    "            f = f_[:,:numDim]\n",
    "        if scale2data:\n",
    "            f = f*np.sum(n.mask)/n.mask.size \n",
    "        projectionSpace[:, cur:cur+numDim] = f\n",
    "        cur = cur+numDim\n",
    "        \n",
    "        if verboise == True:\n",
    "            print(i, n)\n",
    "    projectionSpace = projectionSpace[:,:cur]\n",
    "    return projectionSpace\n",
    "        \n",
    "projectionSpace = projectTree2(feat, tree, unit_vector=False)\n",
    "    "
   ]
  },
  {
   "cell_type": "code",
   "execution_count": 34,
   "metadata": {},
   "outputs": [
    {
     "name": "stdout",
     "output_type": "stream",
     "text": [
      "0 <__main__.Node object at 0x7fe26985e7f0>\n",
      "1 <__main__.Node object at 0x7fe1b45e9a90>\n",
      "2 <__main__.Node object at 0x7fe1b4605f28>\n",
      "3 <__main__.Node object at 0x7fe1ba3238d0>\n",
      "4 <__main__.Node object at 0x7fe1ba302ef0>\n",
      "5 <__main__.Node object at 0x7fe1ba36cc88>\n",
      "6 <__main__.Node object at 0x7fe1ba36cc50>\n",
      "7 <__main__.Node object at 0x7fe1ba267e48>\n",
      "8 <__main__.Node object at 0x7fe1ba201f28>\n",
      "9 <__main__.Node object at 0x7fe1ba20e710>\n",
      "10 <__main__.Node object at 0x7fe1ba220cf8>\n",
      "11 <__main__.Node object at 0x7fe1ba18bcf8>\n",
      "12 <__main__.Node object at 0x7fe1ba1a0da0>\n",
      "13 <__main__.Node object at 0x7fe1ba14deb8>\n",
      "14 <__main__.Node object at 0x7fe1ba110048>\n",
      "15 <__main__.Node object at 0x7fe1b9fcd9e8>\n",
      "16 <__main__.Node object at 0x7fe1ba029f98>\n",
      "17 <__main__.Node object at 0x7fe1ba016c88>\n",
      "18 <__main__.Node object at 0x7fe1b9f9a828>\n",
      "19 <__main__.Node object at 0x7fe1b9fecc88>\n",
      "20 <__main__.Node object at 0x7fe1ba016f28>\n",
      "21 <__main__.Node object at 0x7fe1b9fecb38>\n",
      "22 <__main__.Node object at 0x7fe1b9ebf5f8>\n",
      "23 <__main__.Node object at 0x7fe1b9ed59b0>\n",
      "24 <__main__.Node object at 0x7fe1b9f652b0>\n",
      "25 <__main__.Node object at 0x7fe1b9e74f98>\n",
      "26 <__main__.Node object at 0x7fe1b9e31128>\n",
      "27 <__main__.Node object at 0x7fe1b9db9400>\n",
      "28 <__main__.Node object at 0x7fe1b9dac940>\n",
      "29 <__main__.Node object at 0x7fe1b9d21f28>\n",
      "30 <__main__.Node object at 0x7fe1b9cd56d8>\n",
      "31 <__main__.Node object at 0x7fe1b9c27e80>\n",
      "32 <__main__.Node object at 0x7fe1b9b86208>\n",
      "33 <__main__.Node object at 0x7fe1b9bf5cc0>\n",
      "34 <__main__.Node object at 0x7fe1b9b53a20>\n",
      "35 <__main__.Node object at 0x7fe1b9afb7b8>\n",
      "36 <__main__.Node object at 0x7fe1b9b31a90>\n",
      "37 <__main__.Node object at 0x7fe1b9b09940>\n",
      "38 <__main__.Node object at 0x7fe1b9b3c940>\n",
      "39 <__main__.Node object at 0x7fe1b9a64048>\n",
      "40 <__main__.Node object at 0x7fe1b9a292b0>\n",
      "41 <__main__.Node object at 0x7fe1b99dfda0>\n",
      "42 <__main__.Node object at 0x7fe1b99eee80>\n",
      "43 <__main__.Node object at 0x7fe1b9996f60>\n",
      "44 <__main__.Node object at 0x7fe1b99530b8>\n",
      "55.997692307692304\n",
      "num dimenions: 90\n"
     ]
    }
   ],
   "source": [
    "from sklearn.metrics import pairwise_distances\n",
    "\n",
    "def test_feat(feat, labels, nBest= 1000):\n",
    "    num_feat = feat.shape[0]\n",
    "    d = pairwise_distances(feat)\n",
    "    ind = np.argsort(d, axis =1)\n",
    "    \n",
    "    err = np.zeros(num_feat)\n",
    "    \n",
    "    for i in range(num_feat):\n",
    "        l = labels[ind[i,:nBest+1]]      \n",
    "        err[i] = nBest - (sum((l-l[0]) == 0))+1\n",
    "                          \n",
    "    return err\n",
    "\n",
    "\n",
    "\n",
    "projectionSpace = projectTree2(feat, tree, unit_vector=True, scale2data=True)\n",
    "pp = projectionSpace.copy()\n",
    "# pp[:,2:6] = pp[:,2:6]/(2)\n",
    "# pp[:,6:14] = pp[:,6:14]/(4)\n",
    "# pp[:,14:30] = pp[:,14:30]/(8)\n",
    "# pp[:,30:62] = pp[:,30:62]/(16)\n",
    "# pp[:,62:126] = pp[:,62:126]/(32)\n",
    "# pp[:,126:] = pp[:,126:]/(64)\n",
    "\n",
    "nBest = 500\n",
    "\n",
    "# err = test_feat(pp[:,:2], gt, nBest=nBest)\n",
    "# print(np.mean(err))\n",
    "err = test_feat(pp, gt, nBest=nBest)\n",
    "print(np.mean(err))\n",
    "print('num dimenions:', pp.shape[1])\n",
    "\n"
   ]
  },
  {
   "cell_type": "code",
   "execution_count": 44,
   "metadata": {},
   "outputs": [
    {
     "name": "stdout",
     "output_type": "stream",
     "text": [
      "5.8707692307692305\n"
     ]
    }
   ],
   "source": [
    "err = test_feat(pp, gtCoarse.astype(int), nBest=500)\n",
    "print(np.mean(err))"
   ]
  },
  {
   "cell_type": "code",
   "execution_count": 43,
   "metadata": {},
   "outputs": [
    {
     "data": {
      "text/plain": [
       "<matplotlib.collections.PathCollection at 0x7fe1b921aef0>"
      ]
     },
     "execution_count": 43,
     "metadata": {},
     "output_type": "execute_result"
    },
    {
     "data": {
      "image/png": "[encoded data removed]",
      "text/plain": [
       "<Figure size 432x288 with 1 Axes>"
      ]
     },
     "metadata": {
      "needs_background": "light"
     },
     "output_type": "display_data"
    }
   ],
   "source": [
    "i = 6\n",
    "plt.scatter(pp[:,i], pp[:,i+1], c=gt, alpha =0.01)"
   ]
  },
  {
   "cell_type": "code",
   "execution_count": null,
   "metadata": {},
   "outputs": [],
   "source": [
    "k = donk"
   ]
  },
  {
   "cell_type": "code",
   "execution_count": 25,
   "metadata": {
    "scrolled": true
   },
   "outputs": [
    {
     "name": "stdout",
     "output_type": "stream",
     "text": [
      "Collecting umap.learn\n",
      "\u001b[?25l  Downloading https://files.pythonhosted.org/packages/ad/92/36bac74962b424870026cb0b42cec3d5b6f4afa37d81818475d8762f9255/umap-learn-0.3.10.tar.gz (40kB)\n",
      "\u001b[K     |████████████████████████████████| 40kB 989kB/s eta 0:00:011\n",
      "\u001b[?25hRequirement already satisfied: numpy>=1.13 in /usr/local/lib/python3.6/dist-packages (from umap.learn) (1.17.2)\n",
      "Requirement already satisfied: scikit-learn>=0.16 in /usr/local/lib/python3.6/dist-packages (from umap.learn) (0.22.1)\n",
      "Requirement already satisfied: scipy>=0.19 in /usr/local/lib/python3.6/dist-packages (from umap.learn) (1.4.1)\n",
      "Collecting numba>=0.37 (from umap.learn)\n",
      "\u001b[?25l  Downloading https://files.pythonhosted.org/packages/ba/49/61522f34b1333aa4e9aa02005dc0774d25bd234400dff718b16615d6a744/numba-0.48.0-cp36-cp36m-manylinux1_x86_64.whl (2.5MB)\n",
      "\u001b[K     |████████████████████████████████| 2.5MB 2.6MB/s eta 0:00:01\n",
      "\u001b[?25hRequirement already satisfied: joblib>=0.11 in /usr/local/lib/python3.6/dist-packages (from scikit-learn>=0.16->umap.learn) (0.14.1)\n",
      "Requirement already satisfied: setuptools in /usr/local/lib/python3.6/dist-packages (from numba>=0.37->umap.learn) (41.2.0)\n",
      "Collecting llvmlite<0.32.0,>=0.31.0dev0 (from numba>=0.37->umap.learn)\n",
      "\u001b[?25l  Downloading https://files.pythonhosted.org/packages/ad/bb/60d4033d56c9da36490af19caa6c794b72b8aef6f792fdfa8cb95d11e419/llvmlite-0.31.0-cp36-cp36m-manylinux1_x86_64.whl (20.2MB)\n",
      "\u001b[K     |████████████████████████████████| 20.2MB 82.2MB/s eta 0:00:01\n",
      "\u001b[?25hBuilding wheels for collected packages: umap.learn\n",
      "  Building wheel for umap.learn (setup.py) ... \u001b[?25ldone\n",
      "\u001b[?25h  Created wheel for umap.learn: filename=umap_learn-0.3.10-cp36-none-any.whl size=44352 sha256=f90370c2dd552efae1cb70c099f4677db4dcf96068998bc682167d3665b86e24\n",
      "  Stored in directory: /root/.cache/pip/wheels/d0/f8/d5/8e3af3ee957feb9b403a060ebe72f7561887fef9dea658326e\n",
      "Successfully built umap.learn\n",
      "Installing collected packages: llvmlite, numba, umap.learn\n",
      "Successfully installed llvmlite-0.31.0 numba-0.48.0 umap.learn\n",
      "\u001b[33mWARNING: You are using pip version 19.2.3, however version 20.0.2 is available.\n",
      "You should consider upgrading via the 'pip install --upgrade pip' command.\u001b[0m\n"
     ]
    }
   ],
   "source": [
    "! pip3 install umap.learn"
   ]
  },
  {
   "cell_type": "code",
   "execution_count": 48,
   "metadata": {},
   "outputs": [
    {
     "name": "stdout",
     "output_type": "stream",
     "text": [
      "Uninstalling enum34-1.1.6:\n",
      "  Successfully uninstalled enum34-1.1.6\n",
      "Collecting hdbscan\n",
      "\u001b[?25l  Downloading https://files.pythonhosted.org/packages/8a/a6/2524f6cff01a2da18f07f6a2b04977297f8a094ef3a92aa6bfc6c3924687/hdbscan-0.8.25.tar.gz (4.4MB)\n",
      "\u001b[K     |████████████████████████████████| 4.4MB 903kB/s eta 0:00:01\n",
      "\u001b[?25h  Installing build dependencies ... \u001b[?25ldone\n",
      "\u001b[?25h  Getting requirements to build wheel ... \u001b[?25ldone\n",
      "\u001b[?25h    Preparing wheel metadata ... \u001b[?25ldone\n",
      "\u001b[?25hRequirement already satisfied: six in /usr/lib/python3/dist-packages (from hdbscan) (1.11.0)\n",
      "Requirement already satisfied: scipy>=0.9 in /usr/local/lib/python3.6/dist-packages (from hdbscan) (1.4.1)\n",
      "Requirement already satisfied: scikit-learn>=0.17 in /usr/local/lib/python3.6/dist-packages (from hdbscan) (0.22.1)\n",
      "Collecting cython>=0.27 (from hdbscan)\n",
      "  Using cached https://files.pythonhosted.org/packages/d1/54/9d66ee2180776dfe33c2b8cc2f2b67c343fd9d80de91ac0edc5bc346fb06/Cython-0.29.15-cp36-cp36m-manylinux1_x86_64.whl\n",
      "Requirement already satisfied: numpy>=1.16.0 in /usr/local/lib/python3.6/dist-packages (from hdbscan) (1.17.2)\n",
      "Requirement already satisfied: joblib in /usr/local/lib/python3.6/dist-packages (from hdbscan) (0.14.1)\n",
      "Building wheels for collected packages: hdbscan\n",
      "  Building wheel for hdbscan (PEP 517) ... \u001b[?25ldone\n",
      "\u001b[?25h  Created wheel for hdbscan: filename=hdbscan-0.8.25-cp36-cp36m-linux_x86_64.whl size=2361063 sha256=0ef6ddc0a4dedb34681aa949a75671154baf85df5f8c3b705ebd8a2f21adc14a\n",
      "  Stored in directory: /root/.cache/pip/wheels/9c/c0/c3/233f1760ffcf845291955c8aa53e0a81b695bec07780ee5935\n",
      "Successfully built hdbscan\n",
      "Installing collected packages: cython, hdbscan\n",
      "Successfully installed cython-0.29.15 hdbscan-0.8.25\n",
      "\u001b[33mWARNING: You are using pip version 19.2.3, however version 20.0.2 is available.\n",
      "You should consider upgrading via the 'pip install --upgrade pip' command.\u001b[0m\n"
     ]
    }
   ],
   "source": [
    "!pip uninstall -y enum34\n",
    "\n",
    "! pip3 install hdbscan"
   ]
  },
  {
   "cell_type": "code",
   "execution_count": 43,
   "metadata": {},
   "outputs": [
    {
     "name": "stderr",
     "output_type": "stream",
     "text": [
      "/usr/local/lib/python3.6/dist-packages/numba/typed_passes.py:293: NumbaPerformanceWarning: \n",
      "The keyword argument 'parallel=True' was specified but no transformation for parallel execution was possible.\n",
      "\n",
      "To find out why, try turning on parallel diagnostics, see http://numba.pydata.org/numba-doc/latest/user/parallel.html#diagnostics for help.\n",
      "\n",
      "File \"../../../usr/local/lib/python3.6/dist-packages/umap/nndescent.py\", line 47:\n",
      "    @numba.njit(parallel=True)\n",
      "    def nn_descent(\n",
      "    ^\n",
      "\n",
      "  state.func_ir.loc))\n"
     ]
    }
   ],
   "source": [
    "import umap\n",
    "\n",
    "\n",
    "embedding = umap.UMAP()\n",
    "ump_pp = embedding.fit_transform(projectionSpace)\n"
   ]
  },
  {
   "cell_type": "code",
   "execution_count": 46,
   "metadata": {},
   "outputs": [
    {
     "data": {
      "text/plain": [
       "<matplotlib.collections.PathCollection at 0x7f1e6c35d6d8>"
      ]
     },
     "execution_count": 46,
     "metadata": {},
     "output_type": "execute_result"
    },
    {
     "data": {
      "image/png": "[encoded data removed]",
      "text/plain": [
       "<Figure size 432x288 with 1 Axes>"
      ]
     },
     "metadata": {
      "needs_background": "light"
     },
     "output_type": "display_data"
    }
   ],
   "source": [
    "plt.scatter(ump_pp[:,0], ump_pp[:,1], c=gt, alpha =0.1)"
   ]
  },
  {
   "cell_type": "code",
   "execution_count": 51,
   "metadata": {},
   "outputs": [
    {
     "data": {
      "text/plain": [
       "HDBSCAN(algorithm='best', allow_single_cluster=False, alpha=1.0,\n",
       "        approx_min_span_tree=True, cluster_selection_epsilon=0.0,\n",
       "        cluster_selection_method='eom', core_dist_n_jobs=4,\n",
       "        gen_min_span_tree=False, leaf_size=40,\n",
       "        match_reference_implementation=False, memory=Memory(location=None),\n",
       "        metric='euclidean', min_cluster_size=5, min_samples=None, p=None,\n",
       "        prediction_data=False)"
      ]
     },
     "execution_count": 51,
     "metadata": {},
     "output_type": "execute_result"
    }
   ],
   "source": [
    "import hdbscan\n",
    "\n",
    "clusterer = hdbscan.HDBSCAN()\n",
    "clusterer.fit(ump_pp)\n",
    "\n"
   ]
  },
  {
   "cell_type": "code",
   "execution_count": 52,
   "metadata": {},
   "outputs": [
    {
     "data": {
      "text/plain": [
       "<matplotlib.collections.PathCollection at 0x7f1f3e58edd8>"
      ]
     },
     "execution_count": 52,
     "metadata": {},
     "output_type": "execute_result"
    },
    {
     "data": {
      "image/png": "[encoded data removed]",
      "text/plain": [
       "<Figure size 432x288 with 1 Axes>"
      ]
     },
     "metadata": {
      "needs_background": "light"
     },
     "output_type": "display_data"
    }
   ],
   "source": [
    "plt.scatter(ump_pp[:,0], ump_pp[:,1], c=clusterer.labels_, alpha =0.01)"
   ]
  },
  {
   "cell_type": "code",
   "execution_count": null,
   "metadata": {},
   "outputs": [],
   "source": [
    "err = test_feat(pp, gt, nBest=1000)\n",
    "print(np.mean(err))"
   ]
  },
  {
   "cell_type": "code",
   "execution_count": null,
   "metadata": {},
   "outputs": [],
   "source": [
    "plt.hist(err)"
   ]
  },
  {
   "cell_type": "code",
   "execution_count": null,
   "metadata": {},
   "outputs": [],
   "source": [
    "k= donk"
   ]
  },
  {
   "cell_type": "code",
   "execution_count": null,
   "metadata": {},
   "outputs": [],
   "source": [
    "feat_ = allFeat[gtAll==0,:]\n",
    "tree2 = startTree(feat_[::2])\n",
    "pp2 = projectTree(feat_, tree2, unit_vector=False)\n",
    "pp2a = projectTree(allFeat[gtAll==1,:], tree2, unit_vector=False)\n"
   ]
  },
  {
   "cell_type": "code",
   "execution_count": null,
   "metadata": {},
   "outputs": [],
   "source": [
    "plt.scatter(pp2[:,0], pp2[:,1], alpha =0.1)\n",
    "\n",
    "plt.scatter(pp2a[:,0], pp2a[:,1], alpha =0.1)"
   ]
  },
  {
   "cell_type": "code",
   "execution_count": null,
   "metadata": {},
   "outputs": [],
   "source": []
  },
  {
   "cell_type": "code",
   "execution_count": null,
   "metadata": {},
   "outputs": [],
   "source": []
  },
  {
   "cell_type": "code",
   "execution_count": null,
   "metadata": {},
   "outputs": [],
   "source": []
  },
  {
   "cell_type": "code",
   "execution_count": null,
   "metadata": {},
   "outputs": [],
   "source": []
  },
  {
   "cell_type": "code",
   "execution_count": null,
   "metadata": {},
   "outputs": [],
   "source": []
  },
  {
   "cell_type": "code",
   "execution_count": null,
   "metadata": {},
   "outputs": [],
   "source": [
    "k = dnk"
   ]
  },
  {
   "cell_type": "code",
   "execution_count": null,
   "metadata": {},
   "outputs": [],
   "source": [
    "\n",
    "\n",
    "\n",
    "outlier_feat = allFeat[gtAll==9,:]\n",
    "\n",
    "\n",
    "ff_out = np.concatenate([feat,outlier_feat], axis = 0)\n",
    "out_gt = np.concatenate([gt, -1*np.ones(outlier_feat.shape[0])])\n"
   ]
  },
  {
   "cell_type": "code",
   "execution_count": null,
   "metadata": {},
   "outputs": [],
   "source": [
    "def test_feat(feat, labels, nBest= 1000):\n",
    "    num_feat = feat.shape[0]\n",
    "    d = pairwise_distances(feat)\n",
    "    ind = np.argsort(d, axis =1)\n",
    "    \n",
    "    err = np.zeros(num_feat)\n",
    "    \n",
    "    for i in range(num_feat):\n",
    "        l = labels[ind[i,:nBest+1]]      \n",
    "        #print(l)\n",
    "        err[i] = nBest - (sum((l-l[0]) == 0))+1\n",
    "                          \n",
    "    return err\n",
    "\n",
    "\n",
    "\n",
    "\n",
    "projectionOutlier = projectTree(ff_out, tree);\n",
    "projectionOutlier = projectionOutlier/np.linalg.norm(projectionOutlier, axis =1, keepdims=True)\n",
    "\n",
    "err = test_feat(projectionOutlier[:,:], out_gt, nBest=10)\n",
    "print(np.mean(err))\n"
   ]
  },
  {
   "cell_type": "code",
   "execution_count": null,
   "metadata": {},
   "outputs": [],
   "source": [
    "print(err)"
   ]
  },
  {
   "cell_type": "code",
   "execution_count": null,
   "metadata": {},
   "outputs": [],
   "source": [
    "print(projectionOutlier.shape)"
   ]
  },
  {
   "cell_type": "code",
   "execution_count": null,
   "metadata": {},
   "outputs": [],
   "source": [
    "plt.scatter(projectionOutlier[:,0], projectionOutlier[:,1], c = out_gt, alpha =0.01)"
   ]
  },
  {
   "cell_type": "code",
   "execution_count": null,
   "metadata": {},
   "outputs": [],
   "source": [
    "def projectTreeTmp(feat, tree, numClus=2):\n",
    "    \n",
    "    projectionSpace = np.zeros([feat.shape[0], tree.numNodes*numClus])\n",
    "    \n",
    "    for i, n in enumerate(tree.listOfNodes):\n",
    "        f = dataProjection(feat, n)\n",
    "        f = f/np.linalg.norm(f, axis =1, keepdims=True)\n",
    "        projectionSpace[:, i*2:i*2+2] = f\n",
    "        print(i, n)\n",
    "    return projectionSpace\n",
    "\n",
    "projectionOutlier = projectTreeTmp(ff_out, tree);\n",
    "err = test_feat(projectionOutlier[:,:], out_gt, nBest=10)\n",
    "print(np.mean(err))\n"
   ]
  },
  {
   "cell_type": "code",
   "execution_count": null,
   "metadata": {},
   "outputs": [],
   "source": [
    "print(np.exp(1))"
   ]
  },
  {
   "cell_type": "code",
   "execution_count": null,
   "metadata": {},
   "outputs": [],
   "source": [
    "plt.scatter(projectionOutlier[:,0], projectionOutlier[:,1], c = out_gt, alpha =0.1)"
   ]
  },
  {
   "cell_type": "code",
   "execution_count": null,
   "metadata": {},
   "outputs": [],
   "source": [
    "k_feat = feat.copy()\n",
    "k_m = np.mean(k_feat[::2], axis=0)\n",
    "k_feat = k_feat - k_m\n",
    "k_feat = k_feat/np.linalg.norm(k_feat, axis=1, keepdims=True)\n",
    "\n",
    "kmeans = KMeans(n_clusters=6, random_state=0).fit(k_feat[::2])\n"
   ]
  },
  {
   "cell_type": "code",
   "execution_count": null,
   "metadata": {},
   "outputs": [],
   "source": [
    "k_f = kmeans.transform(k_feat)\n",
    "err = test_feat(k_f, gt, nBest=10)\n",
    "print(np.mean(err))\n"
   ]
  },
  {
   "cell_type": "code",
   "execution_count": null,
   "metadata": {},
   "outputs": [],
   "source": [
    "plt.scatter(k_f[:,0], k_f[:,1], c = gt, alpha =0.01)"
   ]
  },
  {
   "cell_type": "code",
   "execution_count": null,
   "metadata": {},
   "outputs": [],
   "source": [
    "outlier_feat = allFeat[gtAll==9,:].copy()\n",
    "outlier_feat = outlier_feat -k_m\n",
    "outlier_feat = outlier_feat/np.linalg.norm(outlier_feat, axis=1, keepdims=True)\n",
    "\n",
    "k_out = np.concatenate([k_feat,outlier_feat], axis = 0)\n",
    "k_gt = np.concatenate([gt, -1*np.ones(outlier_feat.shape[0])])\n",
    "\n",
    "k_f = kmeans.transform(k_out)\n",
    "err = test_feat(k_out, k_gt, nBest=10)\n",
    "print(np.mean(err))\n"
   ]
  }
 ],
 "metadata": {
  "kernelspec": {
   "display_name": "Python 3",
   "language": "python",
   "name": "python3"
  },
  "language_info": {
   "codemirror_mode": {
    "name": "ipython",
    "version": 3
   },
   "file_extension": ".py",
   "mimetype": "text/x-python",
   "name": "python",
   "nbconvert_exporter": "python",
   "pygments_lexer": "ipython3",
   "version": "3.6.9"
  }
 },
 "nbformat": 4,
 "nbformat_minor": 4
}
