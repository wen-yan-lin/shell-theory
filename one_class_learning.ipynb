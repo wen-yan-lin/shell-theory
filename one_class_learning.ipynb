{
 "cells": [
  {
   "cell_type": "code",
   "execution_count": 13,
   "metadata": {},
   "outputs": [
    {
     "name": "stdout",
     "output_type": "stream",
     "text": [
      "Data-set: dogvscat\n",
      "\n",
      "Shell Learning  with Raw Features\n",
      "\n",
      "Train time per class:  0.058065128498128615\n",
      "Test time per class:  0.03371980400152097\n",
      "Mean Accuracy: 0.9526\n",
      "MAP: 0.9856635237996221\n",
      "AUROC: 0.8148916\n",
      "\n",
      "Shell Learning  with Shell Normalization\n",
      "\n",
      "Train time per class:  0.053528926999206305\n",
      "Test time per class:  0.03498422450138605\n",
      "Mean Accuracy: 0.9852\n",
      "MAP: 0.9994332565527951\n",
      "AUROC: 0.99862088\n",
      "\n",
      "Shell normalization significantly increases accuracy.\n",
      "Shell learning significantly faster than ocsvm (see ocsvm_basic).\n",
      "Shell normalization uses the mean of the test-data; this differs from traditional normalization that uses the mean of the training data).\n"
     ]
    }
   ],
   "source": [
    "! python3 shell_code_release/shell_one_class.py"
   ]
  },
  {
   "cell_type": "code",
   "execution_count": 8,
   "metadata": {},
   "outputs": [
    {
     "name": "stdout",
     "output_type": "stream",
     "text": [
      "Data-set: STL-10\n",
      "\n",
      "Traditional One Class SVM (no normalization)\n",
      "\n",
      "Train Time:  0.3363502353993681\n",
      "Test Time:  3.321644930599723\n",
      "Mean Accuracy: 0.719625\n",
      "MAP: 0.8220888222621847\n",
      "AUROC: 0.8892618055555556\n",
      "\n",
      "One Class SVM with Shell Normalization and scaling by number of features\n",
      "\n",
      "Train Time:  0.3293365117002395\n",
      "Test Time:  3.3248105402995862\n",
      "Mean Accuracy: 0.9225\n",
      "MAP: 0.9683651259661217\n",
      "AUROC: 0.9932231944444444\n",
      "\n",
      "Shell normalization significantly increases accuracy.\n",
      "\n"
     ]
    }
   ],
   "source": [
    "! python3 shell_code_release/ocsvm_one_class.py"
   ]
  }
 ],
 "metadata": {
  "kernelspec": {
   "display_name": "Python 3",
   "language": "python",
   "name": "python3"
  },
  "language_info": {
   "codemirror_mode": {
    "name": "ipython",
    "version": 3
   },
   "file_extension": ".py",
   "mimetype": "text/x-python",
   "name": "python",
   "nbconvert_exporter": "python",
   "pygments_lexer": "ipython3",
   "version": "3.8.5"
  }
 },
 "nbformat": 4,
 "nbformat_minor": 4
}
